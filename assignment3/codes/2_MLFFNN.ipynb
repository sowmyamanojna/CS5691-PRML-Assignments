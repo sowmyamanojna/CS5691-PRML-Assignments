{
 "cells": [
  {
   "cell_type": "markdown",
   "metadata": {},
   "source": [
    "# Assignment 3 - 2 (MLFFNN)\n",
    "\n",
    "Team members:\n",
    "- N Sowmya Manojna (BE17B007)\n",
    "- Thakkar Riya Anandbhai (PH17B010)\n",
    "- Chaithanya Krishna Moorthy (PH17B011)"
   ]
  },
  {
   "cell_type": "markdown",
   "metadata": {},
   "source": [
    "## Import Essential Libraries"
   ]
  },
  {
   "cell_type": "code",
   "execution_count": 1,
   "metadata": {},
   "outputs": [],
   "source": [
    "import wandb\n",
    "import numpy as np\n",
    "import pandas as pd\n",
    "import seaborn as sns\n",
    "from sklearn.pipeline import Pipeline\n",
    "from sklearn.metrics import confusion_matrix\n",
    "from sklearn.neural_network import MLPClassifier\n",
    "from sklearn.preprocessing import StandardScaler\n",
    "from sklearn.model_selection import GridSearchCV\n",
    "from sklearn.model_selection import train_test_split\n",
    "from sklearn.model_selection import StratifiedShuffleSplit\n",
    "\n",
    "import matplotlib.pyplot as plt\n",
    "plt.rcParams[\"font.size\"] = 18\n",
    "plt.rcParams[\"axes.grid\"] = True\n",
    "plt.rcParams[\"figure.figsize\"] = 12,8\n",
    "plt.rcParams['font.serif'] = \"Cambria\"\n",
    "plt.rcParams['font.family'] = \"serif\"\n",
    "\n",
    "get_ipython().run_line_magic('load_ext', 'autoreload')\n",
    "get_ipython().run_line_magic('autoreload', '2')\n",
    "\n",
    "import warnings\n",
    "warnings.filterwarnings(\"ignore\")"
   ]
  },
  {
   "cell_type": "markdown",
   "metadata": {},
   "source": [
    "## Reading the data, Splitting it"
   ]
  },
  {
   "cell_type": "code",
   "execution_count": 2,
   "metadata": {},
   "outputs": [
    {
     "data": {
      "text/html": [
       "<div>\n",
       "<style scoped>\n",
       "    .dataframe tbody tr th:only-of-type {\n",
       "        vertical-align: middle;\n",
       "    }\n",
       "\n",
       "    .dataframe tbody tr th {\n",
       "        vertical-align: top;\n",
       "    }\n",
       "\n",
       "    .dataframe thead th {\n",
       "        text-align: right;\n",
       "    }\n",
       "</style>\n",
       "<table border=\"1\" class=\"dataframe\">\n",
       "  <thead>\n",
       "    <tr style=\"text-align: right;\">\n",
       "      <th></th>\n",
       "      <th>class</th>\n",
       "      <th>0</th>\n",
       "      <th>1</th>\n",
       "      <th>2</th>\n",
       "      <th>3</th>\n",
       "      <th>4</th>\n",
       "      <th>5</th>\n",
       "      <th>6</th>\n",
       "      <th>7</th>\n",
       "      <th>8</th>\n",
       "      <th>...</th>\n",
       "      <th>14</th>\n",
       "      <th>15</th>\n",
       "      <th>16</th>\n",
       "      <th>17</th>\n",
       "      <th>18</th>\n",
       "      <th>19</th>\n",
       "      <th>20</th>\n",
       "      <th>21</th>\n",
       "      <th>22</th>\n",
       "      <th>23</th>\n",
       "    </tr>\n",
       "  </thead>\n",
       "  <tbody>\n",
       "    <tr>\n",
       "      <th>0</th>\n",
       "      <td>0</td>\n",
       "      <td>0.301071</td>\n",
       "      <td>0.207291</td>\n",
       "      <td>0.163574</td>\n",
       "      <td>0.080124</td>\n",
       "      <td>0.054138</td>\n",
       "      <td>0.041107</td>\n",
       "      <td>0.048340</td>\n",
       "      <td>0.104355</td>\n",
       "      <td>0.028275</td>\n",
       "      <td>...</td>\n",
       "      <td>0.211029</td>\n",
       "      <td>0.176437</td>\n",
       "      <td>0.016968</td>\n",
       "      <td>0.029282</td>\n",
       "      <td>0.108093</td>\n",
       "      <td>0.173035</td>\n",
       "      <td>0.205368</td>\n",
       "      <td>0.192215</td>\n",
       "      <td>0.143951</td>\n",
       "      <td>0.131088</td>\n",
       "    </tr>\n",
       "    <tr>\n",
       "      <th>1</th>\n",
       "      <td>0</td>\n",
       "      <td>0.149094</td>\n",
       "      <td>0.178650</td>\n",
       "      <td>0.383118</td>\n",
       "      <td>0.217911</td>\n",
       "      <td>0.069717</td>\n",
       "      <td>0.001373</td>\n",
       "      <td>0.000122</td>\n",
       "      <td>0.000015</td>\n",
       "      <td>0.127670</td>\n",
       "      <td>...</td>\n",
       "      <td>0.003387</td>\n",
       "      <td>0.000168</td>\n",
       "      <td>0.121246</td>\n",
       "      <td>0.041306</td>\n",
       "      <td>0.045090</td>\n",
       "      <td>0.160141</td>\n",
       "      <td>0.290756</td>\n",
       "      <td>0.318909</td>\n",
       "      <td>0.022049</td>\n",
       "      <td>0.000504</td>\n",
       "    </tr>\n",
       "    <tr>\n",
       "      <th>2</th>\n",
       "      <td>0</td>\n",
       "      <td>0.033218</td>\n",
       "      <td>0.092514</td>\n",
       "      <td>0.107178</td>\n",
       "      <td>0.058289</td>\n",
       "      <td>0.397430</td>\n",
       "      <td>0.066330</td>\n",
       "      <td>0.238052</td>\n",
       "      <td>0.006989</td>\n",
       "      <td>0.000793</td>\n",
       "      <td>...</td>\n",
       "      <td>0.231079</td>\n",
       "      <td>0.003769</td>\n",
       "      <td>0.001465</td>\n",
       "      <td>0.004150</td>\n",
       "      <td>0.006897</td>\n",
       "      <td>0.028931</td>\n",
       "      <td>0.283752</td>\n",
       "      <td>0.127716</td>\n",
       "      <td>0.543488</td>\n",
       "      <td>0.003601</td>\n",
       "    </tr>\n",
       "    <tr>\n",
       "      <th>3</th>\n",
       "      <td>0</td>\n",
       "      <td>0.009476</td>\n",
       "      <td>0.132507</td>\n",
       "      <td>0.375351</td>\n",
       "      <td>0.090302</td>\n",
       "      <td>0.271347</td>\n",
       "      <td>0.112000</td>\n",
       "      <td>0.008942</td>\n",
       "      <td>0.000076</td>\n",
       "      <td>0.007553</td>\n",
       "      <td>...</td>\n",
       "      <td>0.096375</td>\n",
       "      <td>0.010620</td>\n",
       "      <td>0.007843</td>\n",
       "      <td>0.000443</td>\n",
       "      <td>0.030304</td>\n",
       "      <td>0.102646</td>\n",
       "      <td>0.246140</td>\n",
       "      <td>0.513321</td>\n",
       "      <td>0.088379</td>\n",
       "      <td>0.010925</td>\n",
       "    </tr>\n",
       "    <tr>\n",
       "      <th>4</th>\n",
       "      <td>0</td>\n",
       "      <td>0.169357</td>\n",
       "      <td>0.262299</td>\n",
       "      <td>0.253281</td>\n",
       "      <td>0.152527</td>\n",
       "      <td>0.092209</td>\n",
       "      <td>0.038757</td>\n",
       "      <td>0.016174</td>\n",
       "      <td>0.015396</td>\n",
       "      <td>0.082397</td>\n",
       "      <td>...</td>\n",
       "      <td>0.020676</td>\n",
       "      <td>0.015976</td>\n",
       "      <td>0.072647</td>\n",
       "      <td>0.077484</td>\n",
       "      <td>0.163315</td>\n",
       "      <td>0.186646</td>\n",
       "      <td>0.181931</td>\n",
       "      <td>0.196167</td>\n",
       "      <td>0.090378</td>\n",
       "      <td>0.031433</td>\n",
       "    </tr>\n",
       "  </tbody>\n",
       "</table>\n",
       "<p>5 rows × 25 columns</p>\n",
       "</div>"
      ],
      "text/plain": [
       "   class         0         1         2         3         4         5  \\\n",
       "0      0  0.301071  0.207291  0.163574  0.080124  0.054138  0.041107   \n",
       "1      0  0.149094  0.178650  0.383118  0.217911  0.069717  0.001373   \n",
       "2      0  0.033218  0.092514  0.107178  0.058289  0.397430  0.066330   \n",
       "3      0  0.009476  0.132507  0.375351  0.090302  0.271347  0.112000   \n",
       "4      0  0.169357  0.262299  0.253281  0.152527  0.092209  0.038757   \n",
       "\n",
       "          6         7         8  ...        14        15        16        17  \\\n",
       "0  0.048340  0.104355  0.028275  ...  0.211029  0.176437  0.016968  0.029282   \n",
       "1  0.000122  0.000015  0.127670  ...  0.003387  0.000168  0.121246  0.041306   \n",
       "2  0.238052  0.006989  0.000793  ...  0.231079  0.003769  0.001465  0.004150   \n",
       "3  0.008942  0.000076  0.007553  ...  0.096375  0.010620  0.007843  0.000443   \n",
       "4  0.016174  0.015396  0.082397  ...  0.020676  0.015976  0.072647  0.077484   \n",
       "\n",
       "         18        19        20        21        22        23  \n",
       "0  0.108093  0.173035  0.205368  0.192215  0.143951  0.131088  \n",
       "1  0.045090  0.160141  0.290756  0.318909  0.022049  0.000504  \n",
       "2  0.006897  0.028931  0.283752  0.127716  0.543488  0.003601  \n",
       "3  0.030304  0.102646  0.246140  0.513321  0.088379  0.010925  \n",
       "4  0.163315  0.186646  0.181931  0.196167  0.090378  0.031433  \n",
       "\n",
       "[5 rows x 25 columns]"
      ]
     },
     "metadata": {},
     "output_type": "display_data"
    },
    {
     "data": {
      "text/html": [
       "<div>\n",
       "<style scoped>\n",
       "    .dataframe tbody tr th:only-of-type {\n",
       "        vertical-align: middle;\n",
       "    }\n",
       "\n",
       "    .dataframe tbody tr th {\n",
       "        vertical-align: top;\n",
       "    }\n",
       "\n",
       "    .dataframe thead th {\n",
       "        text-align: right;\n",
       "    }\n",
       "</style>\n",
       "<table border=\"1\" class=\"dataframe\">\n",
       "  <thead>\n",
       "    <tr style=\"text-align: right;\">\n",
       "      <th></th>\n",
       "      <th>class</th>\n",
       "      <th>0</th>\n",
       "      <th>1</th>\n",
       "      <th>2</th>\n",
       "      <th>3</th>\n",
       "      <th>4</th>\n",
       "      <th>5</th>\n",
       "      <th>6</th>\n",
       "      <th>7</th>\n",
       "      <th>8</th>\n",
       "      <th>...</th>\n",
       "      <th>14</th>\n",
       "      <th>15</th>\n",
       "      <th>16</th>\n",
       "      <th>17</th>\n",
       "      <th>18</th>\n",
       "      <th>19</th>\n",
       "      <th>20</th>\n",
       "      <th>21</th>\n",
       "      <th>22</th>\n",
       "      <th>23</th>\n",
       "    </tr>\n",
       "  </thead>\n",
       "  <tbody>\n",
       "    <tr>\n",
       "      <th>266</th>\n",
       "      <td>3</td>\n",
       "      <td>0.207474</td>\n",
       "      <td>0.264450</td>\n",
       "      <td>0.094421</td>\n",
       "      <td>0.057404</td>\n",
       "      <td>0.023254</td>\n",
       "      <td>0.015213</td>\n",
       "      <td>0.019867</td>\n",
       "      <td>0.317917</td>\n",
       "      <td>0.126999</td>\n",
       "      <td>...</td>\n",
       "      <td>0.015518</td>\n",
       "      <td>0.348007</td>\n",
       "      <td>0.261932</td>\n",
       "      <td>0.197449</td>\n",
       "      <td>0.042343</td>\n",
       "      <td>0.037567</td>\n",
       "      <td>0.049713</td>\n",
       "      <td>0.029388</td>\n",
       "      <td>0.015289</td>\n",
       "      <td>0.366318</td>\n",
       "    </tr>\n",
       "    <tr>\n",
       "      <th>163</th>\n",
       "      <td>2</td>\n",
       "      <td>0.456207</td>\n",
       "      <td>0.072144</td>\n",
       "      <td>0.071976</td>\n",
       "      <td>0.078415</td>\n",
       "      <td>0.068756</td>\n",
       "      <td>0.058701</td>\n",
       "      <td>0.050797</td>\n",
       "      <td>0.143005</td>\n",
       "      <td>0.409531</td>\n",
       "      <td>...</td>\n",
       "      <td>0.063812</td>\n",
       "      <td>0.129852</td>\n",
       "      <td>0.376389</td>\n",
       "      <td>0.070969</td>\n",
       "      <td>0.031128</td>\n",
       "      <td>0.033157</td>\n",
       "      <td>0.049011</td>\n",
       "      <td>0.124374</td>\n",
       "      <td>0.134033</td>\n",
       "      <td>0.180939</td>\n",
       "    </tr>\n",
       "    <tr>\n",
       "      <th>152</th>\n",
       "      <td>2</td>\n",
       "      <td>0.696671</td>\n",
       "      <td>0.075043</td>\n",
       "      <td>0.042969</td>\n",
       "      <td>0.032593</td>\n",
       "      <td>0.024460</td>\n",
       "      <td>0.023254</td>\n",
       "      <td>0.031128</td>\n",
       "      <td>0.073883</td>\n",
       "      <td>0.671646</td>\n",
       "      <td>...</td>\n",
       "      <td>0.030426</td>\n",
       "      <td>0.074997</td>\n",
       "      <td>0.655106</td>\n",
       "      <td>0.072983</td>\n",
       "      <td>0.058853</td>\n",
       "      <td>0.044220</td>\n",
       "      <td>0.029526</td>\n",
       "      <td>0.026093</td>\n",
       "      <td>0.034698</td>\n",
       "      <td>0.078522</td>\n",
       "    </tr>\n",
       "    <tr>\n",
       "      <th>19</th>\n",
       "      <td>0</td>\n",
       "      <td>0.016556</td>\n",
       "      <td>0.238937</td>\n",
       "      <td>0.138321</td>\n",
       "      <td>0.069473</td>\n",
       "      <td>0.048096</td>\n",
       "      <td>0.048523</td>\n",
       "      <td>0.096878</td>\n",
       "      <td>0.343216</td>\n",
       "      <td>0.206787</td>\n",
       "      <td>...</td>\n",
       "      <td>0.040695</td>\n",
       "      <td>0.025192</td>\n",
       "      <td>0.937653</td>\n",
       "      <td>0.047638</td>\n",
       "      <td>0.010376</td>\n",
       "      <td>0.002518</td>\n",
       "      <td>0.000748</td>\n",
       "      <td>0.000732</td>\n",
       "      <td>0.000336</td>\n",
       "      <td>0.000000</td>\n",
       "    </tr>\n",
       "    <tr>\n",
       "      <th>223</th>\n",
       "      <td>3</td>\n",
       "      <td>0.339432</td>\n",
       "      <td>0.325745</td>\n",
       "      <td>0.071228</td>\n",
       "      <td>0.062363</td>\n",
       "      <td>0.028564</td>\n",
       "      <td>0.019608</td>\n",
       "      <td>0.009705</td>\n",
       "      <td>0.143356</td>\n",
       "      <td>0.230927</td>\n",
       "      <td>...</td>\n",
       "      <td>0.027664</td>\n",
       "      <td>0.162735</td>\n",
       "      <td>0.462479</td>\n",
       "      <td>0.205551</td>\n",
       "      <td>0.033432</td>\n",
       "      <td>0.008896</td>\n",
       "      <td>0.013138</td>\n",
       "      <td>0.028839</td>\n",
       "      <td>0.045441</td>\n",
       "      <td>0.202225</td>\n",
       "    </tr>\n",
       "  </tbody>\n",
       "</table>\n",
       "<p>5 rows × 25 columns</p>\n",
       "</div>"
      ],
      "text/plain": [
       "     class         0         1         2         3         4         5  \\\n",
       "266      3  0.207474  0.264450  0.094421  0.057404  0.023254  0.015213   \n",
       "163      2  0.456207  0.072144  0.071976  0.078415  0.068756  0.058701   \n",
       "152      2  0.696671  0.075043  0.042969  0.032593  0.024460  0.023254   \n",
       "19       0  0.016556  0.238937  0.138321  0.069473  0.048096  0.048523   \n",
       "223      3  0.339432  0.325745  0.071228  0.062363  0.028564  0.019608   \n",
       "\n",
       "            6         7         8  ...        14        15        16  \\\n",
       "266  0.019867  0.317917  0.126999  ...  0.015518  0.348007  0.261932   \n",
       "163  0.050797  0.143005  0.409531  ...  0.063812  0.129852  0.376389   \n",
       "152  0.031128  0.073883  0.671646  ...  0.030426  0.074997  0.655106   \n",
       "19   0.096878  0.343216  0.206787  ...  0.040695  0.025192  0.937653   \n",
       "223  0.009705  0.143356  0.230927  ...  0.027664  0.162735  0.462479   \n",
       "\n",
       "           17        18        19        20        21        22        23  \n",
       "266  0.197449  0.042343  0.037567  0.049713  0.029388  0.015289  0.366318  \n",
       "163  0.070969  0.031128  0.033157  0.049011  0.124374  0.134033  0.180939  \n",
       "152  0.072983  0.058853  0.044220  0.029526  0.026093  0.034698  0.078522  \n",
       "19   0.047638  0.010376  0.002518  0.000748  0.000732  0.000336  0.000000  \n",
       "223  0.205551  0.033432  0.008896  0.013138  0.028839  0.045441  0.202225  \n",
       "\n",
       "[5 rows x 25 columns]"
      ]
     },
     "metadata": {},
     "output_type": "display_data"
    },
    {
     "data": {
      "text/html": [
       "<div>\n",
       "<style scoped>\n",
       "    .dataframe tbody tr th:only-of-type {\n",
       "        vertical-align: middle;\n",
       "    }\n",
       "\n",
       "    .dataframe tbody tr th {\n",
       "        vertical-align: top;\n",
       "    }\n",
       "\n",
       "    .dataframe thead th {\n",
       "        text-align: right;\n",
       "    }\n",
       "</style>\n",
       "<table border=\"1\" class=\"dataframe\">\n",
       "  <thead>\n",
       "    <tr style=\"text-align: right;\">\n",
       "      <th></th>\n",
       "      <th>class</th>\n",
       "      <th>0</th>\n",
       "      <th>1</th>\n",
       "      <th>2</th>\n",
       "      <th>3</th>\n",
       "      <th>4</th>\n",
       "      <th>5</th>\n",
       "      <th>6</th>\n",
       "      <th>7</th>\n",
       "      <th>8</th>\n",
       "      <th>...</th>\n",
       "      <th>14</th>\n",
       "      <th>15</th>\n",
       "      <th>16</th>\n",
       "      <th>17</th>\n",
       "      <th>18</th>\n",
       "      <th>19</th>\n",
       "      <th>20</th>\n",
       "      <th>21</th>\n",
       "      <th>22</th>\n",
       "      <th>23</th>\n",
       "    </tr>\n",
       "  </thead>\n",
       "  <tbody>\n",
       "    <tr>\n",
       "      <th>219</th>\n",
       "      <td>3</td>\n",
       "      <td>0.158585</td>\n",
       "      <td>0.134903</td>\n",
       "      <td>0.102386</td>\n",
       "      <td>0.100128</td>\n",
       "      <td>0.078690</td>\n",
       "      <td>0.071960</td>\n",
       "      <td>0.087524</td>\n",
       "      <td>0.265823</td>\n",
       "      <td>0.155670</td>\n",
       "      <td>...</td>\n",
       "      <td>0.079834</td>\n",
       "      <td>0.239807</td>\n",
       "      <td>0.272598</td>\n",
       "      <td>0.156586</td>\n",
       "      <td>0.097137</td>\n",
       "      <td>0.072281</td>\n",
       "      <td>0.082184</td>\n",
       "      <td>0.072418</td>\n",
       "      <td>0.020569</td>\n",
       "      <td>0.226227</td>\n",
       "    </tr>\n",
       "    <tr>\n",
       "      <th>42</th>\n",
       "      <td>0</td>\n",
       "      <td>0.276459</td>\n",
       "      <td>0.036407</td>\n",
       "      <td>0.025345</td>\n",
       "      <td>0.107635</td>\n",
       "      <td>0.167801</td>\n",
       "      <td>0.138336</td>\n",
       "      <td>0.171936</td>\n",
       "      <td>0.076080</td>\n",
       "      <td>0.211014</td>\n",
       "      <td>...</td>\n",
       "      <td>0.167389</td>\n",
       "      <td>0.142151</td>\n",
       "      <td>0.187576</td>\n",
       "      <td>0.102997</td>\n",
       "      <td>0.024231</td>\n",
       "      <td>0.024338</td>\n",
       "      <td>0.070267</td>\n",
       "      <td>0.221176</td>\n",
       "      <td>0.156128</td>\n",
       "      <td>0.213287</td>\n",
       "    </tr>\n",
       "    <tr>\n",
       "      <th>211</th>\n",
       "      <td>3</td>\n",
       "      <td>0.027817</td>\n",
       "      <td>0.083313</td>\n",
       "      <td>0.217896</td>\n",
       "      <td>0.301102</td>\n",
       "      <td>0.243546</td>\n",
       "      <td>0.121887</td>\n",
       "      <td>0.003296</td>\n",
       "      <td>0.001144</td>\n",
       "      <td>0.001831</td>\n",
       "      <td>...</td>\n",
       "      <td>0.032196</td>\n",
       "      <td>0.001541</td>\n",
       "      <td>0.066345</td>\n",
       "      <td>0.129166</td>\n",
       "      <td>0.154922</td>\n",
       "      <td>0.081436</td>\n",
       "      <td>0.049789</td>\n",
       "      <td>0.040573</td>\n",
       "      <td>0.117401</td>\n",
       "      <td>0.360367</td>\n",
       "    </tr>\n",
       "    <tr>\n",
       "      <th>193</th>\n",
       "      <td>2</td>\n",
       "      <td>0.116089</td>\n",
       "      <td>0.124466</td>\n",
       "      <td>0.351288</td>\n",
       "      <td>0.126297</td>\n",
       "      <td>0.199615</td>\n",
       "      <td>0.081238</td>\n",
       "      <td>0.000748</td>\n",
       "      <td>0.000259</td>\n",
       "      <td>0.104462</td>\n",
       "      <td>...</td>\n",
       "      <td>0.133316</td>\n",
       "      <td>0.000885</td>\n",
       "      <td>0.094650</td>\n",
       "      <td>0.044830</td>\n",
       "      <td>0.315262</td>\n",
       "      <td>0.238190</td>\n",
       "      <td>0.034134</td>\n",
       "      <td>0.007690</td>\n",
       "      <td>0.033722</td>\n",
       "      <td>0.231522</td>\n",
       "    </tr>\n",
       "    <tr>\n",
       "      <th>56</th>\n",
       "      <td>0</td>\n",
       "      <td>0.128036</td>\n",
       "      <td>0.056778</td>\n",
       "      <td>0.075409</td>\n",
       "      <td>0.073059</td>\n",
       "      <td>0.085754</td>\n",
       "      <td>0.132904</td>\n",
       "      <td>0.143372</td>\n",
       "      <td>0.304688</td>\n",
       "      <td>0.147095</td>\n",
       "      <td>...</td>\n",
       "      <td>0.156586</td>\n",
       "      <td>0.266907</td>\n",
       "      <td>0.145401</td>\n",
       "      <td>0.037704</td>\n",
       "      <td>0.066437</td>\n",
       "      <td>0.096207</td>\n",
       "      <td>0.109009</td>\n",
       "      <td>0.115204</td>\n",
       "      <td>0.139206</td>\n",
       "      <td>0.290833</td>\n",
       "    </tr>\n",
       "  </tbody>\n",
       "</table>\n",
       "<p>5 rows × 25 columns</p>\n",
       "</div>"
      ],
      "text/plain": [
       "     class         0         1         2         3         4         5  \\\n",
       "219      3  0.158585  0.134903  0.102386  0.100128  0.078690  0.071960   \n",
       "42       0  0.276459  0.036407  0.025345  0.107635  0.167801  0.138336   \n",
       "211      3  0.027817  0.083313  0.217896  0.301102  0.243546  0.121887   \n",
       "193      2  0.116089  0.124466  0.351288  0.126297  0.199615  0.081238   \n",
       "56       0  0.128036  0.056778  0.075409  0.073059  0.085754  0.132904   \n",
       "\n",
       "            6         7         8  ...        14        15        16  \\\n",
       "219  0.087524  0.265823  0.155670  ...  0.079834  0.239807  0.272598   \n",
       "42   0.171936  0.076080  0.211014  ...  0.167389  0.142151  0.187576   \n",
       "211  0.003296  0.001144  0.001831  ...  0.032196  0.001541  0.066345   \n",
       "193  0.000748  0.000259  0.104462  ...  0.133316  0.000885  0.094650   \n",
       "56   0.143372  0.304688  0.147095  ...  0.156586  0.266907  0.145401   \n",
       "\n",
       "           17        18        19        20        21        22        23  \n",
       "219  0.156586  0.097137  0.072281  0.082184  0.072418  0.020569  0.226227  \n",
       "42   0.102997  0.024231  0.024338  0.070267  0.221176  0.156128  0.213287  \n",
       "211  0.129166  0.154922  0.081436  0.049789  0.040573  0.117401  0.360367  \n",
       "193  0.044830  0.315262  0.238190  0.034134  0.007690  0.033722  0.231522  \n",
       "56   0.037704  0.066437  0.096207  0.109009  0.115204  0.139206  0.290833  \n",
       "\n",
       "[5 rows x 25 columns]"
      ]
     },
     "metadata": {},
     "output_type": "display_data"
    }
   ],
   "source": [
    "# Get the data\n",
    "df = pd.read_csv(\"../datasets/2A/train_new.csv\")\n",
    "df_test = pd.read_csv(\"../datasets/2A/dev_new.csv\")\n",
    "display(df.head())\n",
    "\n",
    "# Split dev into test and validation\n",
    "df_val, df_test = train_test_split(df_test, test_size=0.3, random_state=42)\n",
    "display(df_val.head())\n",
    "display(df_test.head())"
   ]
  },
  {
   "cell_type": "code",
   "execution_count": 3,
   "metadata": {},
   "outputs": [],
   "source": [
    "X_train = df.drop(\"class\", axis=1)\n",
    "y_train = df[\"class\"].to_numpy().astype(\"int\")\n",
    "\n",
    "X_val = df_val.drop(\"class\", axis=1)\n",
    "y_val = df_val[\"class\"].to_numpy().astype(\"int\")\n",
    "\n",
    "X_test = df_test.drop(\"class\", axis=1)\n",
    "y_test = df_test[\"class\"].to_numpy().astype(\"int\")"
   ]
  },
  {
   "cell_type": "markdown",
   "metadata": {},
   "source": [
    "## Training the Model"
   ]
  },
  {
   "cell_type": "code",
   "execution_count": 4,
   "metadata": {},
   "outputs": [],
   "source": [
    "# # parameters = {\"hidden_layer_sizes\":[(10,10),(15,5),(15,15),(25,25),(50,50),(100,100),(200,200)], \\\n",
    "# #               \"activation\":[\"logistic\", \"tanh\", \"relu\"], \"batch_size\":[100, \"auto\"], \\\n",
    "# #               \"alpha\":[0.01, 0.0001], \"learning_rate\":[\"constant\", \"adaptive\", \"invscaling\"], \\\n",
    "# #              }\n",
    "# # parameters = {\"hidden_layer_sizes\":[(10,10),(25,25),(50,50),(100,100),(200,200),(256,256)], \\\n",
    "# #               \"activation\":[\"logistic\", \"tanh\", \"relu\"], \"batch_size\":[50, 100, \"auto\"], \\\n",
    "# #               \"alpha\":[0.01, 0.0001], \"learning_rate\":[\"constant\", \"adaptive\", \"invscaling\"], \\\n",
    "# #               \"solver\":[\"lbfgs\", \"sgd\", \"adam\"]\n",
    "# #              }\n",
    "\n",
    "\n",
    "# parameters = {\n",
    "#               \"mlp__hidden_layer_sizes\":[(25,25), (50,50), (75,75)], \\\n",
    "#               \"mlp__batch_size\":[50, 100, \"auto\"], \"mlp__alpha\":[0.01, 0.001], \\\n",
    "#               \"mlp__learning_rate\":[\"constant\", \"adaptive\", \"invscaling\"], \\\n",
    "#               \"mlp__early_stopping\":[True, False]\n",
    "#              }\n",
    "\n",
    "# model = Pipeline([('scaler', StandardScaler()), ('mlp', MLPClassifier(max_iter=500, random_state=1))])\n",
    "\n",
    "# clf = GridSearchCV(model, parameters, verbose=1, n_jobs=8)\n",
    "# clf.fit(X_train, y_train)\n",
    "# result_df = pd.DataFrame(clf.cv_results_)\n",
    "# result_df.to_csv(\"../parameter_search/2A_MLFFNN_norm.csv\")\n",
    "# result_df = result_df.sort_values(by=[\"rank_test_score\", \"mean_fit_time\"])\n",
    "# display(result_df.head(10))\n",
    "\n",
    "# best_mlp = clf.best_estimator_\n",
    "# print(\"Best Parameters Choosen:\")\n",
    "# for i in clf.best_params_:\n",
    "#     print(\"  - \", i, \": \", clf.best_params_[i], sep=\"\")\n",
    "\n",
    "# y_pred = best_mlp.predict(X_train)\n",
    "# print(\"Accuracy:\", 100*np.sum(y_pred==y_train)/y_train.size)\n",
    "# conf_mat = confusion_matrix(y_train, y_pred)\n",
    "# plt.figure()\n",
    "# sns.heatmap(conf_mat, annot=True)\n",
    "# plt.title(\"2A - Train Confusion Matrix (MLFFNN)\")\n",
    "# plt.xlabel(\"Predicted Class\")\n",
    "# plt.ylabel(\"Actual Class\")\n",
    "# plt.savefig(\"images/2A_MLFFNN_train_confmat.png\")\n",
    "# plt.show()\n",
    "\n",
    "# y_val_pred = best_mlp.predict(X_val)\n",
    "# print(\"Validation Accuracy:\", 100*np.sum(y_val_pred==y_val)/y_val.size)\n",
    "# val_conf_mat = confusion_matrix(y_val, y_val_pred)\n",
    "# plt.figure()\n",
    "# sns.heatmap(val_conf_mat, annot=True)\n",
    "# plt.title(\"2A - Validation Confusion Matrix (MLFFNN)\")\n",
    "# plt.xlabel(\"Predicted Class\")\n",
    "# plt.ylabel(\"Actual Class\")\n",
    "# plt.savefig(\"images/2A_MLFFNN_val_confmat.png\")\n",
    "# plt.show()\n",
    "\n",
    "# y_test_pred = best_mlp.predict(X_test)\n",
    "# print(\"Validation Accuracy:\", 100*np.sum(y_test_pred==y_test)/y_test.size)\n",
    "# test_conf_mat = confusion_matrix(y_test, y_test_pred)\n",
    "# plt.figure()\n",
    "# sns.heatmap(test_conf_mat, annot=True)\n",
    "# plt.title(\"2A - Test Confusion Matrix (MLFFNN)\")\n",
    "# plt.xlabel(\"Predicted Class\")\n",
    "# plt.ylabel(\"Actual Class\")\n",
    "# plt.savefig(\"images/2A_MLFFNN_test_confmat.png\")\n",
    "# plt.show()"
   ]
  },
  {
   "cell_type": "code",
   "execution_count": 5,
   "metadata": {},
   "outputs": [],
   "source": [
    "# # parameters = {\"hidden_layer_sizes\":[(10,10),(15,5),(15,15),(25,25),(50,50),(100,100),(200,200)], \\\n",
    "# #               \"activation\":[\"logistic\", \"tanh\", \"relu\"], \"batch_size\":[100, \"auto\"], \\\n",
    "# #               \"alpha\":[0.01, 0.0001], \"learning_rate\":[\"constant\", \"adaptive\", \"invscaling\"], \\\n",
    "# #              }\n",
    "# # parameters = {\"hidden_layer_sizes\":[(10,10),(25,25),(50,50),(100,100),(200,200),(256,256)], \\\n",
    "# #               \"activation\":[\"logistic\", \"tanh\", \"relu\"], \"batch_size\":[50, 100, \"auto\"], \\\n",
    "# #               \"alpha\":[0.01, 0.0001], \"learning_rate\":[\"constant\", \"adaptive\", \"invscaling\"], \\\n",
    "# #               \"solver\":[\"lbfgs\", \"sgd\", \"adam\"]\n",
    "# #              }\n",
    "\n",
    "\n",
    "# parameters = {\n",
    "#               \"hidden_layer_sizes\":[(25,25), (50,50), (75,75)], \\\n",
    "#               \"batch_size\":[50, 100, \"auto\"], \"alpha\":[0.01, 0.001], \\\n",
    "#               \"learning_rate\":[\"constant\", \"adaptive\", \"invscaling\"], \\\n",
    "#               \"early_stopping\":[True, False]\n",
    "#              }\n",
    "\n",
    "# model = MLPClassifier(max_iter=500, random_state=1)\n",
    "\n",
    "# clf = GridSearchCV(model, parameters, verbose=1, n_jobs=8)\n",
    "# clf.fit(X_train, y_train)\n",
    "# result_df = pd.DataFrame(clf.cv_results_)\n",
    "# result_df.to_csv(\"../parameter_search/2A_MLFFNN.csv\")\n",
    "# result_df = result_df.sort_values(by=[\"rank_test_score\", \"mean_fit_time\"])\n",
    "# result_df.head()\n",
    "\n",
    "# best_mlp = clf.best_estimator_\n",
    "# print(\"Best Parameters Choosen:\")\n",
    "# for i in clf.best_params_:\n",
    "#     print(\"  - \", i, \": \", clf.best_params_[i], sep=\"\")\n",
    "\n",
    "# y_pred = best_mlp.predict(X_train)\n",
    "# print(\"Accuracy:\", 100*np.sum(y_pred==y_train)/y_train.size)\n",
    "# conf_mat = confusion_matrix(y_train, y_pred)\n",
    "# plt.figure()\n",
    "# sns.heatmap(conf_mat, annot=True)\n",
    "# plt.title(\"2A - Train Confusion Matrix (MLFFNN)\")\n",
    "# plt.xlabel(\"Predicted Class\")\n",
    "# plt.ylabel(\"Actual Class\")\n",
    "# plt.savefig(\"images/2A_MLFFNN_train_confmat.png\")\n",
    "# plt.show()\n",
    "\n",
    "# y_val_pred = best_mlp.predict(X_val)\n",
    "# print(\"Validation Accuracy:\", 100*np.sum(y_val_pred==y_val)/y_val.size)\n",
    "# val_conf_mat = confusion_matrix(y_val, y_val_pred)\n",
    "# plt.figure()\n",
    "# sns.heatmap(val_conf_mat, annot=True)\n",
    "# plt.title(\"2A - Validation Confusion Matrix (MLFFNN)\")\n",
    "# plt.xlabel(\"Predicted Class\")\n",
    "# plt.ylabel(\"Actual Class\")\n",
    "# plt.savefig(\"images/2A_MLFFNN_val_confmat.png\")\n",
    "# plt.show()\n",
    "\n",
    "# y_test_pred = best_mlp.predict(X_test)\n",
    "# print(\"Validation Accuracy:\", 100*np.sum(y_test_pred==y_test)/y_test.size)\n",
    "# test_conf_mat = confusion_matrix(y_test, y_test_pred)\n",
    "# plt.figure()\n",
    "# sns.heatmap(test_conf_mat, annot=True)\n",
    "# plt.title(\"2A - Test Confusion Matrix (MLFFNN)\")\n",
    "# plt.xlabel(\"Predicted Class\")\n",
    "# plt.ylabel(\"Actual Class\")\n",
    "# plt.savefig(\"images/2A_MLFFNN_test_confmat.png\")\n",
    "# plt.show()"
   ]
  },
  {
   "cell_type": "markdown",
   "metadata": {},
   "source": [
    "## Wandb"
   ]
  },
  {
   "cell_type": "code",
   "execution_count": 6,
   "metadata": {},
   "outputs": [],
   "source": [
    "sweep_config = {'name': 'test-sweep', 'method': 'grid'}\n",
    "sweep_config['metric'] = {'name': 'val_accuracy', 'goal': 'maximize'}\n",
    "parameters_dict = {\n",
    "                   \"hidden_layer_sizes\": {\"values\": [(25,25), (50,50), (75,75)]},\n",
    "                   \"batch_size\": {\"values\": [50, 100, \"auto\"]},\n",
    "                   \"alpha\": {\"values\": [0.01, 0.001]},\n",
    "                   \"learning_rate\": {\"values\": [\"constant\", \"adaptive\", \"invscaling\"]},\n",
    "                   \"early_stopping\":{\"values\":[True, False]}\n",
    "                  }\n",
    "sweep_config['parameters'] = parameters_dict"
   ]
  },
  {
   "cell_type": "code",
   "execution_count": 7,
   "metadata": {},
   "outputs": [],
   "source": [
    "def mlp_2a_sweep(config=sweep_config):\n",
    "    with wandb.init(config=config):\n",
    "        config = wandb.init().config\n",
    "        wandb.run.name = 'hls_{}_bs_{}_a_{}_lr_{}_es_{}'.format(config.hidden_layer_sizes, config.batch_size, \\\n",
    "                                                                config.alpha, config.learning_rate, \\\n",
    "                                                                config.early_stopping)\n",
    "        \n",
    "\n",
    "        mlp = MLPClassifier(random_state=1, activation=\"relu\", alpha=config.alpha, \\\n",
    "                            batch_size=config.batch_size, early_stopping=config.early_stopping, \\\n",
    "                            max_iter=500, hidden_layer_sizes=config.hidden_layer_sizes, \\\n",
    "                            learning_rate=config.learning_rate)\n",
    "\n",
    "        mlp.fit(X_train, y_train)\n",
    "        \n",
    "        y_pred = mlp.predict(X_train)\n",
    "        acc = 100*np.sum(y_pred==y_train)/y_train.size\n",
    "        y_val_pred = mlp.predict(X_val)\n",
    "        val_acc = 100*np.sum(y_val_pred==y_val)/y_val.size\n",
    "        y_test_pred = mlp.predict(X_test)\n",
    "        test_acc = 100*np.sum(y_test_pred==y_test)/y_test.size\n",
    "        \n",
    "        wandb.log({\"accuracy\":acc, \"val_accuracy\":val_acc, \"test_accuracy\":test_acc})"
   ]
  },
  {
   "cell_type": "code",
   "execution_count": null,
   "metadata": {},
   "outputs": [
    {
     "name": "stdout",
     "output_type": "stream",
     "text": [
      "Create sweep with ID: gs0l7xqc\n",
      "Sweep URL: https://wandb.ai/sowmyamanojna/PRML-A3/sweeps/gs0l7xqc\n"
     ]
    },
    {
     "name": "stderr",
     "output_type": "stream",
     "text": [
      "\u001b[34m\u001b[1mwandb\u001b[0m: Agent Starting Run: 21a97ugv with config:\n",
      "\u001b[34m\u001b[1mwandb\u001b[0m: \talpha: 0.01\n",
      "\u001b[34m\u001b[1mwandb\u001b[0m: \tbatch_size: 50\n",
      "\u001b[34m\u001b[1mwandb\u001b[0m: \tearly_stopping: True\n",
      "\u001b[34m\u001b[1mwandb\u001b[0m: \thidden_layer_sizes: [25, 25]\n",
      "\u001b[34m\u001b[1mwandb\u001b[0m: \tlearning_rate: constant\n",
      "\u001b[34m\u001b[1mwandb\u001b[0m: Currently logged in as: \u001b[33msowmyamanojna\u001b[0m (use `wandb login --relogin` to force relogin)\n"
     ]
    },
    {
     "data": {
      "text/html": [
       "\n",
       "                Tracking run with wandb version 0.10.29<br/>\n",
       "                Syncing run <strong style=\"color:#cdcd00\">visionary-sweep-1</strong> to <a href=\"https://wandb.ai\" target=\"_blank\">Weights & Biases</a> <a href=\"https://docs.wandb.com/integrations/jupyter.html\" target=\"_blank\">(Documentation)</a>.<br/>\n",
       "                Project page: <a href=\"https://wandb.ai/sowmyamanojna/PRML-A3\" target=\"_blank\">https://wandb.ai/sowmyamanojna/PRML-A3</a><br/>\n",
       "                Sweep page: <a href=\"https://wandb.ai/sowmyamanojna/PRML-A3/sweeps/gs0l7xqc\" target=\"_blank\">https://wandb.ai/sowmyamanojna/PRML-A3/sweeps/gs0l7xqc</a><br/>\n",
       "Run page: <a href=\"https://wandb.ai/sowmyamanojna/PRML-A3/runs/21a97ugv\" target=\"_blank\">https://wandb.ai/sowmyamanojna/PRML-A3/runs/21a97ugv</a><br/>\n",
       "                Run data is saved locally in <code>/home/sowmya/Desktop/cs5691/assignment/assignment3/codes/wandb/run-20210507_202450-21a97ugv</code><br/><br/>\n",
       "            "
      ],
      "text/plain": [
       "<IPython.core.display.HTML object>"
      ]
     },
     "metadata": {},
     "output_type": "display_data"
    },
    {
     "data": {
      "text/html": [
       "Finishing last run (ID:21a97ugv) before initializing another..."
      ],
      "text/plain": [
       "<IPython.core.display.HTML object>"
      ]
     },
     "metadata": {},
     "output_type": "display_data"
    },
    {
     "data": {
      "text/html": [
       "<br/>Waiting for W&B process to finish, PID 33527<br/>Program ended successfully."
      ],
      "text/plain": [
       "<IPython.core.display.HTML object>"
      ]
     },
     "metadata": {},
     "output_type": "display_data"
    },
    {
     "data": {
      "application/vnd.jupyter.widget-view+json": {
       "model_id": "",
       "version_major": 2,
       "version_minor": 0
      },
      "text/plain": [
       "VBox(children=(Label(value=' 0.00MB of 0.00MB uploaded (0.00MB deduped)\\r'), FloatProgress(value=1.0, max=1.0)…"
      ]
     },
     "metadata": {},
     "output_type": "display_data"
    },
    {
     "data": {
      "text/html": [
       "Find user logs for this run at: <code>/home/sowmya/Desktop/cs5691/assignment/assignment3/codes/wandb/run-20210507_202450-21a97ugv/logs/debug.log</code>"
      ],
      "text/plain": [
       "<IPython.core.display.HTML object>"
      ]
     },
     "metadata": {},
     "output_type": "display_data"
    },
    {
     "data": {
      "text/html": [
       "Find internal logs for this run at: <code>/home/sowmya/Desktop/cs5691/assignment/assignment3/codes/wandb/run-20210507_202450-21a97ugv/logs/debug-internal.log</code>"
      ],
      "text/plain": [
       "<IPython.core.display.HTML object>"
      ]
     },
     "metadata": {},
     "output_type": "display_data"
    },
    {
     "data": {
      "text/html": [
       "Synced 4 W&B file(s), 0 media file(s), 0 artifact file(s) and 0 other file(s)"
      ],
      "text/plain": [
       "<IPython.core.display.HTML object>"
      ]
     },
     "metadata": {},
     "output_type": "display_data"
    },
    {
     "data": {
      "text/html": [
       "\n",
       "                    <br/>Synced <strong style=\"color:#cdcd00\">visionary-sweep-1</strong>: <a href=\"https://wandb.ai/sowmyamanojna/PRML-A3/runs/21a97ugv\" target=\"_blank\">https://wandb.ai/sowmyamanojna/PRML-A3/runs/21a97ugv</a><br/>\n",
       "                "
      ],
      "text/plain": [
       "<IPython.core.display.HTML object>"
      ]
     },
     "metadata": {},
     "output_type": "display_data"
    },
    {
     "data": {
      "text/html": [
       "...Successfully finished last run (ID:21a97ugv). Initializing new run:<br/><br/>"
      ],
      "text/plain": [
       "<IPython.core.display.HTML object>"
      ]
     },
     "metadata": {},
     "output_type": "display_data"
    },
    {
     "data": {
      "text/html": [
       "\n",
       "                Tracking run with wandb version 0.10.29<br/>\n",
       "                Syncing run <strong style=\"color:#cdcd00\">visionary-sweep-1</strong> to <a href=\"https://wandb.ai\" target=\"_blank\">Weights & Biases</a> <a href=\"https://docs.wandb.com/integrations/jupyter.html\" target=\"_blank\">(Documentation)</a>.<br/>\n",
       "                Project page: <a href=\"https://wandb.ai/sowmyamanojna/PRML-A3\" target=\"_blank\">https://wandb.ai/sowmyamanojna/PRML-A3</a><br/>\n",
       "                Sweep page: <a href=\"https://wandb.ai/sowmyamanojna/PRML-A3/sweeps/gs0l7xqc\" target=\"_blank\">https://wandb.ai/sowmyamanojna/PRML-A3/sweeps/gs0l7xqc</a><br/>\n",
       "Run page: <a href=\"https://wandb.ai/sowmyamanojna/PRML-A3/runs/21a97ugv\" target=\"_blank\">https://wandb.ai/sowmyamanojna/PRML-A3/runs/21a97ugv</a><br/>\n",
       "                Run data is saved locally in <code>/home/sowmya/Desktop/cs5691/assignment/assignment3/codes/wandb/run-20210507_202453-21a97ugv</code><br/><br/>\n",
       "            "
      ],
      "text/plain": [
       "<IPython.core.display.HTML object>"
      ]
     },
     "metadata": {},
     "output_type": "display_data"
    },
    {
     "name": "stderr",
     "output_type": "stream",
     "text": [
      "\u001b[34m\u001b[1mwandb\u001b[0m: Agent Starting Run: bq0nt78i with config:\n",
      "\u001b[34m\u001b[1mwandb\u001b[0m: \talpha: 0.01\n",
      "\u001b[34m\u001b[1mwandb\u001b[0m: \tbatch_size: 50\n",
      "\u001b[34m\u001b[1mwandb\u001b[0m: \tearly_stopping: True\n",
      "\u001b[34m\u001b[1mwandb\u001b[0m: \thidden_layer_sizes: [25, 25]\n",
      "\u001b[34m\u001b[1mwandb\u001b[0m: \tlearning_rate: adaptive\n"
     ]
    },
    {
     "data": {
      "text/html": [
       "\n",
       "                Tracking run with wandb version 0.10.29<br/>\n",
       "                Syncing run <strong style=\"color:#cdcd00\">wandering-sweep-2</strong> to <a href=\"https://wandb.ai\" target=\"_blank\">Weights & Biases</a> <a href=\"https://docs.wandb.com/integrations/jupyter.html\" target=\"_blank\">(Documentation)</a>.<br/>\n",
       "                Project page: <a href=\"https://wandb.ai/sowmyamanojna/PRML-A3\" target=\"_blank\">https://wandb.ai/sowmyamanojna/PRML-A3</a><br/>\n",
       "                Sweep page: <a href=\"https://wandb.ai/sowmyamanojna/PRML-A3/sweeps/gs0l7xqc\" target=\"_blank\">https://wandb.ai/sowmyamanojna/PRML-A3/sweeps/gs0l7xqc</a><br/>\n",
       "Run page: <a href=\"https://wandb.ai/sowmyamanojna/PRML-A3/runs/bq0nt78i\" target=\"_blank\">https://wandb.ai/sowmyamanojna/PRML-A3/runs/bq0nt78i</a><br/>\n",
       "                Run data is saved locally in <code>/home/sowmya/Desktop/cs5691/assignment/assignment3/codes/wandb/run-20210507_202501-bq0nt78i</code><br/><br/>\n",
       "            "
      ],
      "text/plain": [
       "<IPython.core.display.HTML object>"
      ]
     },
     "metadata": {},
     "output_type": "display_data"
    },
    {
     "data": {
      "text/html": [
       "Finishing last run (ID:bq0nt78i) before initializing another..."
      ],
      "text/plain": [
       "<IPython.core.display.HTML object>"
      ]
     },
     "metadata": {},
     "output_type": "display_data"
    },
    {
     "data": {
      "text/html": [
       "<br/>Waiting for W&B process to finish, PID 33705<br/>Program ended successfully."
      ],
      "text/plain": [
       "<IPython.core.display.HTML object>"
      ]
     },
     "metadata": {},
     "output_type": "display_data"
    },
    {
     "data": {
      "application/vnd.jupyter.widget-view+json": {
       "model_id": "",
       "version_major": 2,
       "version_minor": 0
      },
      "text/plain": [
       "VBox(children=(Label(value=' 0.00MB of 0.00MB uploaded (0.00MB deduped)\\r'), FloatProgress(value=1.0, max=1.0)…"
      ]
     },
     "metadata": {},
     "output_type": "display_data"
    },
    {
     "data": {
      "text/html": [
       "Find user logs for this run at: <code>/home/sowmya/Desktop/cs5691/assignment/assignment3/codes/wandb/run-20210507_202501-bq0nt78i/logs/debug.log</code>"
      ],
      "text/plain": [
       "<IPython.core.display.HTML object>"
      ]
     },
     "metadata": {},
     "output_type": "display_data"
    },
    {
     "data": {
      "text/html": [
       "Find internal logs for this run at: <code>/home/sowmya/Desktop/cs5691/assignment/assignment3/codes/wandb/run-20210507_202501-bq0nt78i/logs/debug-internal.log</code>"
      ],
      "text/plain": [
       "<IPython.core.display.HTML object>"
      ]
     },
     "metadata": {},
     "output_type": "display_data"
    },
    {
     "data": {
      "text/html": [
       "Synced 4 W&B file(s), 0 media file(s), 0 artifact file(s) and 0 other file(s)"
      ],
      "text/plain": [
       "<IPython.core.display.HTML object>"
      ]
     },
     "metadata": {},
     "output_type": "display_data"
    },
    {
     "data": {
      "text/html": [
       "\n",
       "                    <br/>Synced <strong style=\"color:#cdcd00\">wandering-sweep-2</strong>: <a href=\"https://wandb.ai/sowmyamanojna/PRML-A3/runs/bq0nt78i\" target=\"_blank\">https://wandb.ai/sowmyamanojna/PRML-A3/runs/bq0nt78i</a><br/>\n",
       "                "
      ],
      "text/plain": [
       "<IPython.core.display.HTML object>"
      ]
     },
     "metadata": {},
     "output_type": "display_data"
    },
    {
     "data": {
      "text/html": [
       "...Successfully finished last run (ID:bq0nt78i). Initializing new run:<br/><br/>"
      ],
      "text/plain": [
       "<IPython.core.display.HTML object>"
      ]
     },
     "metadata": {},
     "output_type": "display_data"
    },
    {
     "data": {
      "text/html": [
       "\n",
       "                Tracking run with wandb version 0.10.29<br/>\n",
       "                Syncing run <strong style=\"color:#cdcd00\">wandering-sweep-2</strong> to <a href=\"https://wandb.ai\" target=\"_blank\">Weights & Biases</a> <a href=\"https://docs.wandb.com/integrations/jupyter.html\" target=\"_blank\">(Documentation)</a>.<br/>\n",
       "                Project page: <a href=\"https://wandb.ai/sowmyamanojna/PRML-A3\" target=\"_blank\">https://wandb.ai/sowmyamanojna/PRML-A3</a><br/>\n",
       "                Sweep page: <a href=\"https://wandb.ai/sowmyamanojna/PRML-A3/sweeps/gs0l7xqc\" target=\"_blank\">https://wandb.ai/sowmyamanojna/PRML-A3/sweeps/gs0l7xqc</a><br/>\n",
       "Run page: <a href=\"https://wandb.ai/sowmyamanojna/PRML-A3/runs/bq0nt78i\" target=\"_blank\">https://wandb.ai/sowmyamanojna/PRML-A3/runs/bq0nt78i</a><br/>\n",
       "                Run data is saved locally in <code>/home/sowmya/Desktop/cs5691/assignment/assignment3/codes/wandb/run-20210507_202504-bq0nt78i</code><br/><br/>\n",
       "            "
      ],
      "text/plain": [
       "<IPython.core.display.HTML object>"
      ]
     },
     "metadata": {},
     "output_type": "display_data"
    },
    {
     "name": "stderr",
     "output_type": "stream",
     "text": [
      "\u001b[34m\u001b[1mwandb\u001b[0m: Agent Starting Run: khazkoom with config:\n",
      "\u001b[34m\u001b[1mwandb\u001b[0m: \talpha: 0.01\n",
      "\u001b[34m\u001b[1mwandb\u001b[0m: \tbatch_size: 50\n",
      "\u001b[34m\u001b[1mwandb\u001b[0m: \tearly_stopping: True\n",
      "\u001b[34m\u001b[1mwandb\u001b[0m: \thidden_layer_sizes: [25, 25]\n",
      "\u001b[34m\u001b[1mwandb\u001b[0m: \tlearning_rate: invscaling\n"
     ]
    },
    {
     "data": {
      "text/html": [
       "\n",
       "                Tracking run with wandb version 0.10.29<br/>\n",
       "                Syncing run <strong style=\"color:#cdcd00\">atomic-sweep-3</strong> to <a href=\"https://wandb.ai\" target=\"_blank\">Weights & Biases</a> <a href=\"https://docs.wandb.com/integrations/jupyter.html\" target=\"_blank\">(Documentation)</a>.<br/>\n",
       "                Project page: <a href=\"https://wandb.ai/sowmyamanojna/PRML-A3\" target=\"_blank\">https://wandb.ai/sowmyamanojna/PRML-A3</a><br/>\n",
       "                Sweep page: <a href=\"https://wandb.ai/sowmyamanojna/PRML-A3/sweeps/gs0l7xqc\" target=\"_blank\">https://wandb.ai/sowmyamanojna/PRML-A3/sweeps/gs0l7xqc</a><br/>\n",
       "Run page: <a href=\"https://wandb.ai/sowmyamanojna/PRML-A3/runs/khazkoom\" target=\"_blank\">https://wandb.ai/sowmyamanojna/PRML-A3/runs/khazkoom</a><br/>\n",
       "                Run data is saved locally in <code>/home/sowmya/Desktop/cs5691/assignment/assignment3/codes/wandb/run-20210507_202513-khazkoom</code><br/><br/>\n",
       "            "
      ],
      "text/plain": [
       "<IPython.core.display.HTML object>"
      ]
     },
     "metadata": {},
     "output_type": "display_data"
    },
    {
     "data": {
      "text/html": [
       "Finishing last run (ID:khazkoom) before initializing another..."
      ],
      "text/plain": [
       "<IPython.core.display.HTML object>"
      ]
     },
     "metadata": {},
     "output_type": "display_data"
    },
    {
     "data": {
      "text/html": [
       "<br/>Waiting for W&B process to finish, PID 33796<br/>Program ended successfully."
      ],
      "text/plain": [
       "<IPython.core.display.HTML object>"
      ]
     },
     "metadata": {},
     "output_type": "display_data"
    },
    {
     "data": {
      "application/vnd.jupyter.widget-view+json": {
       "model_id": "",
       "version_major": 2,
       "version_minor": 0
      },
      "text/plain": [
       "VBox(children=(Label(value=' 0.00MB of 0.00MB uploaded (0.00MB deduped)\\r'), FloatProgress(value=1.0, max=1.0)…"
      ]
     },
     "metadata": {},
     "output_type": "display_data"
    },
    {
     "data": {
      "text/html": [
       "Find user logs for this run at: <code>/home/sowmya/Desktop/cs5691/assignment/assignment3/codes/wandb/run-20210507_202513-khazkoom/logs/debug.log</code>"
      ],
      "text/plain": [
       "<IPython.core.display.HTML object>"
      ]
     },
     "metadata": {},
     "output_type": "display_data"
    },
    {
     "data": {
      "text/html": [
       "Find internal logs for this run at: <code>/home/sowmya/Desktop/cs5691/assignment/assignment3/codes/wandb/run-20210507_202513-khazkoom/logs/debug-internal.log</code>"
      ],
      "text/plain": [
       "<IPython.core.display.HTML object>"
      ]
     },
     "metadata": {},
     "output_type": "display_data"
    },
    {
     "data": {
      "text/html": [
       "Synced 4 W&B file(s), 0 media file(s), 0 artifact file(s) and 0 other file(s)"
      ],
      "text/plain": [
       "<IPython.core.display.HTML object>"
      ]
     },
     "metadata": {},
     "output_type": "display_data"
    },
    {
     "data": {
      "text/html": [
       "\n",
       "                    <br/>Synced <strong style=\"color:#cdcd00\">atomic-sweep-3</strong>: <a href=\"https://wandb.ai/sowmyamanojna/PRML-A3/runs/khazkoom\" target=\"_blank\">https://wandb.ai/sowmyamanojna/PRML-A3/runs/khazkoom</a><br/>\n",
       "                "
      ],
      "text/plain": [
       "<IPython.core.display.HTML object>"
      ]
     },
     "metadata": {},
     "output_type": "display_data"
    },
    {
     "data": {
      "text/html": [
       "...Successfully finished last run (ID:khazkoom). Initializing new run:<br/><br/>"
      ],
      "text/plain": [
       "<IPython.core.display.HTML object>"
      ]
     },
     "metadata": {},
     "output_type": "display_data"
    },
    {
     "data": {
      "text/html": [
       "\n",
       "                Tracking run with wandb version 0.10.29<br/>\n",
       "                Syncing run <strong style=\"color:#cdcd00\">atomic-sweep-3</strong> to <a href=\"https://wandb.ai\" target=\"_blank\">Weights & Biases</a> <a href=\"https://docs.wandb.com/integrations/jupyter.html\" target=\"_blank\">(Documentation)</a>.<br/>\n",
       "                Project page: <a href=\"https://wandb.ai/sowmyamanojna/PRML-A3\" target=\"_blank\">https://wandb.ai/sowmyamanojna/PRML-A3</a><br/>\n",
       "                Sweep page: <a href=\"https://wandb.ai/sowmyamanojna/PRML-A3/sweeps/gs0l7xqc\" target=\"_blank\">https://wandb.ai/sowmyamanojna/PRML-A3/sweeps/gs0l7xqc</a><br/>\n",
       "Run page: <a href=\"https://wandb.ai/sowmyamanojna/PRML-A3/runs/khazkoom\" target=\"_blank\">https://wandb.ai/sowmyamanojna/PRML-A3/runs/khazkoom</a><br/>\n",
       "                Run data is saved locally in <code>/home/sowmya/Desktop/cs5691/assignment/assignment3/codes/wandb/run-20210507_202516-khazkoom</code><br/><br/>\n",
       "            "
      ],
      "text/plain": [
       "<IPython.core.display.HTML object>"
      ]
     },
     "metadata": {},
     "output_type": "display_data"
    },
    {
     "name": "stderr",
     "output_type": "stream",
     "text": [
      "\u001b[34m\u001b[1mwandb\u001b[0m: Agent Starting Run: cp8mcl4k with config:\n",
      "\u001b[34m\u001b[1mwandb\u001b[0m: \talpha: 0.01\n",
      "\u001b[34m\u001b[1mwandb\u001b[0m: \tbatch_size: 50\n",
      "\u001b[34m\u001b[1mwandb\u001b[0m: \tearly_stopping: True\n",
      "\u001b[34m\u001b[1mwandb\u001b[0m: \thidden_layer_sizes: [50, 50]\n",
      "\u001b[34m\u001b[1mwandb\u001b[0m: \tlearning_rate: constant\n"
     ]
    },
    {
     "data": {
      "text/html": [
       "\n",
       "                Tracking run with wandb version 0.10.29<br/>\n",
       "                Syncing run <strong style=\"color:#cdcd00\">daily-sweep-4</strong> to <a href=\"https://wandb.ai\" target=\"_blank\">Weights & Biases</a> <a href=\"https://docs.wandb.com/integrations/jupyter.html\" target=\"_blank\">(Documentation)</a>.<br/>\n",
       "                Project page: <a href=\"https://wandb.ai/sowmyamanojna/PRML-A3\" target=\"_blank\">https://wandb.ai/sowmyamanojna/PRML-A3</a><br/>\n",
       "                Sweep page: <a href=\"https://wandb.ai/sowmyamanojna/PRML-A3/sweeps/gs0l7xqc\" target=\"_blank\">https://wandb.ai/sowmyamanojna/PRML-A3/sweeps/gs0l7xqc</a><br/>\n",
       "Run page: <a href=\"https://wandb.ai/sowmyamanojna/PRML-A3/runs/cp8mcl4k\" target=\"_blank\">https://wandb.ai/sowmyamanojna/PRML-A3/runs/cp8mcl4k</a><br/>\n",
       "                Run data is saved locally in <code>/home/sowmya/Desktop/cs5691/assignment/assignment3/codes/wandb/run-20210507_202525-cp8mcl4k</code><br/><br/>\n",
       "            "
      ],
      "text/plain": [
       "<IPython.core.display.HTML object>"
      ]
     },
     "metadata": {},
     "output_type": "display_data"
    },
    {
     "data": {
      "text/html": [
       "Finishing last run (ID:cp8mcl4k) before initializing another..."
      ],
      "text/plain": [
       "<IPython.core.display.HTML object>"
      ]
     },
     "metadata": {},
     "output_type": "display_data"
    },
    {
     "data": {
      "text/html": [
       "<br/>Waiting for W&B process to finish, PID 33892<br/>Program ended successfully."
      ],
      "text/plain": [
       "<IPython.core.display.HTML object>"
      ]
     },
     "metadata": {},
     "output_type": "display_data"
    },
    {
     "data": {
      "application/vnd.jupyter.widget-view+json": {
       "model_id": "",
       "version_major": 2,
       "version_minor": 0
      },
      "text/plain": [
       "VBox(children=(Label(value=' 0.00MB of 0.00MB uploaded (0.00MB deduped)\\r'), FloatProgress(value=1.0, max=1.0)…"
      ]
     },
     "metadata": {},
     "output_type": "display_data"
    },
    {
     "data": {
      "text/html": [
       "Find user logs for this run at: <code>/home/sowmya/Desktop/cs5691/assignment/assignment3/codes/wandb/run-20210507_202525-cp8mcl4k/logs/debug.log</code>"
      ],
      "text/plain": [
       "<IPython.core.display.HTML object>"
      ]
     },
     "metadata": {},
     "output_type": "display_data"
    },
    {
     "data": {
      "text/html": [
       "Find internal logs for this run at: <code>/home/sowmya/Desktop/cs5691/assignment/assignment3/codes/wandb/run-20210507_202525-cp8mcl4k/logs/debug-internal.log</code>"
      ],
      "text/plain": [
       "<IPython.core.display.HTML object>"
      ]
     },
     "metadata": {},
     "output_type": "display_data"
    },
    {
     "data": {
      "text/html": [
       "Synced 4 W&B file(s), 0 media file(s), 0 artifact file(s) and 0 other file(s)"
      ],
      "text/plain": [
       "<IPython.core.display.HTML object>"
      ]
     },
     "metadata": {},
     "output_type": "display_data"
    },
    {
     "data": {
      "text/html": [
       "\n",
       "                    <br/>Synced <strong style=\"color:#cdcd00\">daily-sweep-4</strong>: <a href=\"https://wandb.ai/sowmyamanojna/PRML-A3/runs/cp8mcl4k\" target=\"_blank\">https://wandb.ai/sowmyamanojna/PRML-A3/runs/cp8mcl4k</a><br/>\n",
       "                "
      ],
      "text/plain": [
       "<IPython.core.display.HTML object>"
      ]
     },
     "metadata": {},
     "output_type": "display_data"
    },
    {
     "data": {
      "text/html": [
       "...Successfully finished last run (ID:cp8mcl4k). Initializing new run:<br/><br/>"
      ],
      "text/plain": [
       "<IPython.core.display.HTML object>"
      ]
     },
     "metadata": {},
     "output_type": "display_data"
    },
    {
     "data": {
      "text/html": [
       "\n",
       "                Tracking run with wandb version 0.10.29<br/>\n",
       "                Syncing run <strong style=\"color:#cdcd00\">daily-sweep-4</strong> to <a href=\"https://wandb.ai\" target=\"_blank\">Weights & Biases</a> <a href=\"https://docs.wandb.com/integrations/jupyter.html\" target=\"_blank\">(Documentation)</a>.<br/>\n",
       "                Project page: <a href=\"https://wandb.ai/sowmyamanojna/PRML-A3\" target=\"_blank\">https://wandb.ai/sowmyamanojna/PRML-A3</a><br/>\n",
       "                Sweep page: <a href=\"https://wandb.ai/sowmyamanojna/PRML-A3/sweeps/gs0l7xqc\" target=\"_blank\">https://wandb.ai/sowmyamanojna/PRML-A3/sweeps/gs0l7xqc</a><br/>\n",
       "Run page: <a href=\"https://wandb.ai/sowmyamanojna/PRML-A3/runs/cp8mcl4k\" target=\"_blank\">https://wandb.ai/sowmyamanojna/PRML-A3/runs/cp8mcl4k</a><br/>\n",
       "                Run data is saved locally in <code>/home/sowmya/Desktop/cs5691/assignment/assignment3/codes/wandb/run-20210507_202528-cp8mcl4k</code><br/><br/>\n",
       "            "
      ],
      "text/plain": [
       "<IPython.core.display.HTML object>"
      ]
     },
     "metadata": {},
     "output_type": "display_data"
    },
    {
     "name": "stderr",
     "output_type": "stream",
     "text": [
      "\u001b[34m\u001b[1mwandb\u001b[0m: Agent Starting Run: ua3er4hq with config:\n",
      "\u001b[34m\u001b[1mwandb\u001b[0m: \talpha: 0.01\n",
      "\u001b[34m\u001b[1mwandb\u001b[0m: \tbatch_size: 50\n",
      "\u001b[34m\u001b[1mwandb\u001b[0m: \tearly_stopping: True\n",
      "\u001b[34m\u001b[1mwandb\u001b[0m: \thidden_layer_sizes: [50, 50]\n",
      "\u001b[34m\u001b[1mwandb\u001b[0m: \tlearning_rate: adaptive\n"
     ]
    },
    {
     "data": {
      "text/html": [
       "\n",
       "                Tracking run with wandb version 0.10.29<br/>\n",
       "                Syncing run <strong style=\"color:#cdcd00\">cool-sweep-5</strong> to <a href=\"https://wandb.ai\" target=\"_blank\">Weights & Biases</a> <a href=\"https://docs.wandb.com/integrations/jupyter.html\" target=\"_blank\">(Documentation)</a>.<br/>\n",
       "                Project page: <a href=\"https://wandb.ai/sowmyamanojna/PRML-A3\" target=\"_blank\">https://wandb.ai/sowmyamanojna/PRML-A3</a><br/>\n",
       "                Sweep page: <a href=\"https://wandb.ai/sowmyamanojna/PRML-A3/sweeps/gs0l7xqc\" target=\"_blank\">https://wandb.ai/sowmyamanojna/PRML-A3/sweeps/gs0l7xqc</a><br/>\n",
       "Run page: <a href=\"https://wandb.ai/sowmyamanojna/PRML-A3/runs/ua3er4hq\" target=\"_blank\">https://wandb.ai/sowmyamanojna/PRML-A3/runs/ua3er4hq</a><br/>\n",
       "                Run data is saved locally in <code>/home/sowmya/Desktop/cs5691/assignment/assignment3/codes/wandb/run-20210507_202537-ua3er4hq</code><br/><br/>\n",
       "            "
      ],
      "text/plain": [
       "<IPython.core.display.HTML object>"
      ]
     },
     "metadata": {},
     "output_type": "display_data"
    },
    {
     "data": {
      "text/html": [
       "Finishing last run (ID:ua3er4hq) before initializing another..."
      ],
      "text/plain": [
       "<IPython.core.display.HTML object>"
      ]
     },
     "metadata": {},
     "output_type": "display_data"
    },
    {
     "data": {
      "text/html": [
       "<br/>Waiting for W&B process to finish, PID 33985<br/>Program ended successfully."
      ],
      "text/plain": [
       "<IPython.core.display.HTML object>"
      ]
     },
     "metadata": {},
     "output_type": "display_data"
    },
    {
     "data": {
      "application/vnd.jupyter.widget-view+json": {
       "model_id": "",
       "version_major": 2,
       "version_minor": 0
      },
      "text/plain": [
       "VBox(children=(Label(value=' 0.00MB of 0.00MB uploaded (0.00MB deduped)\\r'), FloatProgress(value=1.0, max=1.0)…"
      ]
     },
     "metadata": {},
     "output_type": "display_data"
    },
    {
     "data": {
      "text/html": [
       "Find user logs for this run at: <code>/home/sowmya/Desktop/cs5691/assignment/assignment3/codes/wandb/run-20210507_202537-ua3er4hq/logs/debug.log</code>"
      ],
      "text/plain": [
       "<IPython.core.display.HTML object>"
      ]
     },
     "metadata": {},
     "output_type": "display_data"
    },
    {
     "data": {
      "text/html": [
       "Find internal logs for this run at: <code>/home/sowmya/Desktop/cs5691/assignment/assignment3/codes/wandb/run-20210507_202537-ua3er4hq/logs/debug-internal.log</code>"
      ],
      "text/plain": [
       "<IPython.core.display.HTML object>"
      ]
     },
     "metadata": {},
     "output_type": "display_data"
    },
    {
     "data": {
      "text/html": [
       "Synced 4 W&B file(s), 0 media file(s), 0 artifact file(s) and 0 other file(s)"
      ],
      "text/plain": [
       "<IPython.core.display.HTML object>"
      ]
     },
     "metadata": {},
     "output_type": "display_data"
    },
    {
     "data": {
      "text/html": [
       "\n",
       "                    <br/>Synced <strong style=\"color:#cdcd00\">cool-sweep-5</strong>: <a href=\"https://wandb.ai/sowmyamanojna/PRML-A3/runs/ua3er4hq\" target=\"_blank\">https://wandb.ai/sowmyamanojna/PRML-A3/runs/ua3er4hq</a><br/>\n",
       "                "
      ],
      "text/plain": [
       "<IPython.core.display.HTML object>"
      ]
     },
     "metadata": {},
     "output_type": "display_data"
    },
    {
     "data": {
      "text/html": [
       "...Successfully finished last run (ID:ua3er4hq). Initializing new run:<br/><br/>"
      ],
      "text/plain": [
       "<IPython.core.display.HTML object>"
      ]
     },
     "metadata": {},
     "output_type": "display_data"
    },
    {
     "data": {
      "text/html": [
       "\n",
       "                Tracking run with wandb version 0.10.29<br/>\n",
       "                Syncing run <strong style=\"color:#cdcd00\">cool-sweep-5</strong> to <a href=\"https://wandb.ai\" target=\"_blank\">Weights & Biases</a> <a href=\"https://docs.wandb.com/integrations/jupyter.html\" target=\"_blank\">(Documentation)</a>.<br/>\n",
       "                Project page: <a href=\"https://wandb.ai/sowmyamanojna/PRML-A3\" target=\"_blank\">https://wandb.ai/sowmyamanojna/PRML-A3</a><br/>\n",
       "                Sweep page: <a href=\"https://wandb.ai/sowmyamanojna/PRML-A3/sweeps/gs0l7xqc\" target=\"_blank\">https://wandb.ai/sowmyamanojna/PRML-A3/sweeps/gs0l7xqc</a><br/>\n",
       "Run page: <a href=\"https://wandb.ai/sowmyamanojna/PRML-A3/runs/ua3er4hq\" target=\"_blank\">https://wandb.ai/sowmyamanojna/PRML-A3/runs/ua3er4hq</a><br/>\n",
       "                Run data is saved locally in <code>/home/sowmya/Desktop/cs5691/assignment/assignment3/codes/wandb/run-20210507_202540-ua3er4hq</code><br/><br/>\n",
       "            "
      ],
      "text/plain": [
       "<IPython.core.display.HTML object>"
      ]
     },
     "metadata": {},
     "output_type": "display_data"
    },
    {
     "name": "stderr",
     "output_type": "stream",
     "text": [
      "\u001b[34m\u001b[1mwandb\u001b[0m: Agent Starting Run: 1ca9vce8 with config:\n",
      "\u001b[34m\u001b[1mwandb\u001b[0m: \talpha: 0.01\n",
      "\u001b[34m\u001b[1mwandb\u001b[0m: \tbatch_size: 50\n",
      "\u001b[34m\u001b[1mwandb\u001b[0m: \tearly_stopping: True\n",
      "\u001b[34m\u001b[1mwandb\u001b[0m: \thidden_layer_sizes: [50, 50]\n",
      "\u001b[34m\u001b[1mwandb\u001b[0m: \tlearning_rate: invscaling\n"
     ]
    },
    {
     "data": {
      "text/html": [
       "\n",
       "                Tracking run with wandb version 0.10.29<br/>\n",
       "                Syncing run <strong style=\"color:#cdcd00\">apricot-sweep-6</strong> to <a href=\"https://wandb.ai\" target=\"_blank\">Weights & Biases</a> <a href=\"https://docs.wandb.com/integrations/jupyter.html\" target=\"_blank\">(Documentation)</a>.<br/>\n",
       "                Project page: <a href=\"https://wandb.ai/sowmyamanojna/PRML-A3\" target=\"_blank\">https://wandb.ai/sowmyamanojna/PRML-A3</a><br/>\n",
       "                Sweep page: <a href=\"https://wandb.ai/sowmyamanojna/PRML-A3/sweeps/gs0l7xqc\" target=\"_blank\">https://wandb.ai/sowmyamanojna/PRML-A3/sweeps/gs0l7xqc</a><br/>\n",
       "Run page: <a href=\"https://wandb.ai/sowmyamanojna/PRML-A3/runs/1ca9vce8\" target=\"_blank\">https://wandb.ai/sowmyamanojna/PRML-A3/runs/1ca9vce8</a><br/>\n",
       "                Run data is saved locally in <code>/home/sowmya/Desktop/cs5691/assignment/assignment3/codes/wandb/run-20210507_202549-1ca9vce8</code><br/><br/>\n",
       "            "
      ],
      "text/plain": [
       "<IPython.core.display.HTML object>"
      ]
     },
     "metadata": {},
     "output_type": "display_data"
    },
    {
     "data": {
      "text/html": [
       "Finishing last run (ID:1ca9vce8) before initializing another..."
      ],
      "text/plain": [
       "<IPython.core.display.HTML object>"
      ]
     },
     "metadata": {},
     "output_type": "display_data"
    },
    {
     "data": {
      "text/html": [
       "<br/>Waiting for W&B process to finish, PID 34078<br/>Program ended successfully."
      ],
      "text/plain": [
       "<IPython.core.display.HTML object>"
      ]
     },
     "metadata": {},
     "output_type": "display_data"
    },
    {
     "data": {
      "application/vnd.jupyter.widget-view+json": {
       "model_id": "",
       "version_major": 2,
       "version_minor": 0
      },
      "text/plain": [
       "VBox(children=(Label(value=' 0.00MB of 0.00MB uploaded (0.00MB deduped)\\r'), FloatProgress(value=1.0, max=1.0)…"
      ]
     },
     "metadata": {},
     "output_type": "display_data"
    },
    {
     "data": {
      "text/html": [
       "Find user logs for this run at: <code>/home/sowmya/Desktop/cs5691/assignment/assignment3/codes/wandb/run-20210507_202549-1ca9vce8/logs/debug.log</code>"
      ],
      "text/plain": [
       "<IPython.core.display.HTML object>"
      ]
     },
     "metadata": {},
     "output_type": "display_data"
    },
    {
     "data": {
      "text/html": [
       "Find internal logs for this run at: <code>/home/sowmya/Desktop/cs5691/assignment/assignment3/codes/wandb/run-20210507_202549-1ca9vce8/logs/debug-internal.log</code>"
      ],
      "text/plain": [
       "<IPython.core.display.HTML object>"
      ]
     },
     "metadata": {},
     "output_type": "display_data"
    },
    {
     "data": {
      "text/html": [
       "Synced 4 W&B file(s), 0 media file(s), 0 artifact file(s) and 0 other file(s)"
      ],
      "text/plain": [
       "<IPython.core.display.HTML object>"
      ]
     },
     "metadata": {},
     "output_type": "display_data"
    },
    {
     "data": {
      "text/html": [
       "\n",
       "                    <br/>Synced <strong style=\"color:#cdcd00\">apricot-sweep-6</strong>: <a href=\"https://wandb.ai/sowmyamanojna/PRML-A3/runs/1ca9vce8\" target=\"_blank\">https://wandb.ai/sowmyamanojna/PRML-A3/runs/1ca9vce8</a><br/>\n",
       "                "
      ],
      "text/plain": [
       "<IPython.core.display.HTML object>"
      ]
     },
     "metadata": {},
     "output_type": "display_data"
    },
    {
     "data": {
      "text/html": [
       "...Successfully finished last run (ID:1ca9vce8). Initializing new run:<br/><br/>"
      ],
      "text/plain": [
       "<IPython.core.display.HTML object>"
      ]
     },
     "metadata": {},
     "output_type": "display_data"
    },
    {
     "data": {
      "text/html": [
       "\n",
       "                Tracking run with wandb version 0.10.29<br/>\n",
       "                Syncing run <strong style=\"color:#cdcd00\">apricot-sweep-6</strong> to <a href=\"https://wandb.ai\" target=\"_blank\">Weights & Biases</a> <a href=\"https://docs.wandb.com/integrations/jupyter.html\" target=\"_blank\">(Documentation)</a>.<br/>\n",
       "                Project page: <a href=\"https://wandb.ai/sowmyamanojna/PRML-A3\" target=\"_blank\">https://wandb.ai/sowmyamanojna/PRML-A3</a><br/>\n",
       "                Sweep page: <a href=\"https://wandb.ai/sowmyamanojna/PRML-A3/sweeps/gs0l7xqc\" target=\"_blank\">https://wandb.ai/sowmyamanojna/PRML-A3/sweeps/gs0l7xqc</a><br/>\n",
       "Run page: <a href=\"https://wandb.ai/sowmyamanojna/PRML-A3/runs/1ca9vce8\" target=\"_blank\">https://wandb.ai/sowmyamanojna/PRML-A3/runs/1ca9vce8</a><br/>\n",
       "                Run data is saved locally in <code>/home/sowmya/Desktop/cs5691/assignment/assignment3/codes/wandb/run-20210507_202552-1ca9vce8</code><br/><br/>\n",
       "            "
      ],
      "text/plain": [
       "<IPython.core.display.HTML object>"
      ]
     },
     "metadata": {},
     "output_type": "display_data"
    },
    {
     "name": "stderr",
     "output_type": "stream",
     "text": [
      "\u001b[34m\u001b[1mwandb\u001b[0m: Agent Starting Run: ugatfjoe with config:\n",
      "\u001b[34m\u001b[1mwandb\u001b[0m: \talpha: 0.01\n",
      "\u001b[34m\u001b[1mwandb\u001b[0m: \tbatch_size: 50\n",
      "\u001b[34m\u001b[1mwandb\u001b[0m: \tearly_stopping: True\n",
      "\u001b[34m\u001b[1mwandb\u001b[0m: \thidden_layer_sizes: [75, 75]\n",
      "\u001b[34m\u001b[1mwandb\u001b[0m: \tlearning_rate: constant\n"
     ]
    },
    {
     "data": {
      "text/html": [
       "\n",
       "                Tracking run with wandb version 0.10.29<br/>\n",
       "                Syncing run <strong style=\"color:#cdcd00\">apricot-sweep-7</strong> to <a href=\"https://wandb.ai\" target=\"_blank\">Weights & Biases</a> <a href=\"https://docs.wandb.com/integrations/jupyter.html\" target=\"_blank\">(Documentation)</a>.<br/>\n",
       "                Project page: <a href=\"https://wandb.ai/sowmyamanojna/PRML-A3\" target=\"_blank\">https://wandb.ai/sowmyamanojna/PRML-A3</a><br/>\n",
       "                Sweep page: <a href=\"https://wandb.ai/sowmyamanojna/PRML-A3/sweeps/gs0l7xqc\" target=\"_blank\">https://wandb.ai/sowmyamanojna/PRML-A3/sweeps/gs0l7xqc</a><br/>\n",
       "Run page: <a href=\"https://wandb.ai/sowmyamanojna/PRML-A3/runs/ugatfjoe\" target=\"_blank\">https://wandb.ai/sowmyamanojna/PRML-A3/runs/ugatfjoe</a><br/>\n",
       "                Run data is saved locally in <code>/home/sowmya/Desktop/cs5691/assignment/assignment3/codes/wandb/run-20210507_202600-ugatfjoe</code><br/><br/>\n",
       "            "
      ],
      "text/plain": [
       "<IPython.core.display.HTML object>"
      ]
     },
     "metadata": {},
     "output_type": "display_data"
    },
    {
     "data": {
      "text/html": [
       "Finishing last run (ID:ugatfjoe) before initializing another..."
      ],
      "text/plain": [
       "<IPython.core.display.HTML object>"
      ]
     },
     "metadata": {},
     "output_type": "display_data"
    },
    {
     "data": {
      "text/html": [
       "<br/>Waiting for W&B process to finish, PID 34170<br/>Program ended successfully."
      ],
      "text/plain": [
       "<IPython.core.display.HTML object>"
      ]
     },
     "metadata": {},
     "output_type": "display_data"
    },
    {
     "data": {
      "application/vnd.jupyter.widget-view+json": {
       "model_id": "",
       "version_major": 2,
       "version_minor": 0
      },
      "text/plain": [
       "VBox(children=(Label(value=' 0.00MB of 0.00MB uploaded (0.00MB deduped)\\r'), FloatProgress(value=1.0, max=1.0)…"
      ]
     },
     "metadata": {},
     "output_type": "display_data"
    },
    {
     "data": {
      "text/html": [
       "Find user logs for this run at: <code>/home/sowmya/Desktop/cs5691/assignment/assignment3/codes/wandb/run-20210507_202600-ugatfjoe/logs/debug.log</code>"
      ],
      "text/plain": [
       "<IPython.core.display.HTML object>"
      ]
     },
     "metadata": {},
     "output_type": "display_data"
    },
    {
     "data": {
      "text/html": [
       "Find internal logs for this run at: <code>/home/sowmya/Desktop/cs5691/assignment/assignment3/codes/wandb/run-20210507_202600-ugatfjoe/logs/debug-internal.log</code>"
      ],
      "text/plain": [
       "<IPython.core.display.HTML object>"
      ]
     },
     "metadata": {},
     "output_type": "display_data"
    },
    {
     "data": {
      "text/html": [
       "Synced 4 W&B file(s), 0 media file(s), 0 artifact file(s) and 0 other file(s)"
      ],
      "text/plain": [
       "<IPython.core.display.HTML object>"
      ]
     },
     "metadata": {},
     "output_type": "display_data"
    },
    {
     "data": {
      "text/html": [
       "\n",
       "                    <br/>Synced <strong style=\"color:#cdcd00\">apricot-sweep-7</strong>: <a href=\"https://wandb.ai/sowmyamanojna/PRML-A3/runs/ugatfjoe\" target=\"_blank\">https://wandb.ai/sowmyamanojna/PRML-A3/runs/ugatfjoe</a><br/>\n",
       "                "
      ],
      "text/plain": [
       "<IPython.core.display.HTML object>"
      ]
     },
     "metadata": {},
     "output_type": "display_data"
    },
    {
     "data": {
      "text/html": [
       "...Successfully finished last run (ID:ugatfjoe). Initializing new run:<br/><br/>"
      ],
      "text/plain": [
       "<IPython.core.display.HTML object>"
      ]
     },
     "metadata": {},
     "output_type": "display_data"
    },
    {
     "data": {
      "text/html": [
       "\n",
       "                Tracking run with wandb version 0.10.29<br/>\n",
       "                Syncing run <strong style=\"color:#cdcd00\">apricot-sweep-7</strong> to <a href=\"https://wandb.ai\" target=\"_blank\">Weights & Biases</a> <a href=\"https://docs.wandb.com/integrations/jupyter.html\" target=\"_blank\">(Documentation)</a>.<br/>\n",
       "                Project page: <a href=\"https://wandb.ai/sowmyamanojna/PRML-A3\" target=\"_blank\">https://wandb.ai/sowmyamanojna/PRML-A3</a><br/>\n",
       "                Sweep page: <a href=\"https://wandb.ai/sowmyamanojna/PRML-A3/sweeps/gs0l7xqc\" target=\"_blank\">https://wandb.ai/sowmyamanojna/PRML-A3/sweeps/gs0l7xqc</a><br/>\n",
       "Run page: <a href=\"https://wandb.ai/sowmyamanojna/PRML-A3/runs/ugatfjoe\" target=\"_blank\">https://wandb.ai/sowmyamanojna/PRML-A3/runs/ugatfjoe</a><br/>\n",
       "                Run data is saved locally in <code>/home/sowmya/Desktop/cs5691/assignment/assignment3/codes/wandb/run-20210507_202603-ugatfjoe</code><br/><br/>\n",
       "            "
      ],
      "text/plain": [
       "<IPython.core.display.HTML object>"
      ]
     },
     "metadata": {},
     "output_type": "display_data"
    },
    {
     "name": "stderr",
     "output_type": "stream",
     "text": [
      "\u001b[34m\u001b[1mwandb\u001b[0m: Agent Starting Run: sfak3e67 with config:\n",
      "\u001b[34m\u001b[1mwandb\u001b[0m: \talpha: 0.01\n",
      "\u001b[34m\u001b[1mwandb\u001b[0m: \tbatch_size: 50\n",
      "\u001b[34m\u001b[1mwandb\u001b[0m: \tearly_stopping: True\n",
      "\u001b[34m\u001b[1mwandb\u001b[0m: \thidden_layer_sizes: [75, 75]\n",
      "\u001b[34m\u001b[1mwandb\u001b[0m: \tlearning_rate: adaptive\n"
     ]
    },
    {
     "data": {
      "text/html": [
       "\n",
       "                Tracking run with wandb version 0.10.29<br/>\n",
       "                Syncing run <strong style=\"color:#cdcd00\">eager-sweep-8</strong> to <a href=\"https://wandb.ai\" target=\"_blank\">Weights & Biases</a> <a href=\"https://docs.wandb.com/integrations/jupyter.html\" target=\"_blank\">(Documentation)</a>.<br/>\n",
       "                Project page: <a href=\"https://wandb.ai/sowmyamanojna/PRML-A3\" target=\"_blank\">https://wandb.ai/sowmyamanojna/PRML-A3</a><br/>\n",
       "                Sweep page: <a href=\"https://wandb.ai/sowmyamanojna/PRML-A3/sweeps/gs0l7xqc\" target=\"_blank\">https://wandb.ai/sowmyamanojna/PRML-A3/sweeps/gs0l7xqc</a><br/>\n",
       "Run page: <a href=\"https://wandb.ai/sowmyamanojna/PRML-A3/runs/sfak3e67\" target=\"_blank\">https://wandb.ai/sowmyamanojna/PRML-A3/runs/sfak3e67</a><br/>\n",
       "                Run data is saved locally in <code>/home/sowmya/Desktop/cs5691/assignment/assignment3/codes/wandb/run-20210507_202613-sfak3e67</code><br/><br/>\n",
       "            "
      ],
      "text/plain": [
       "<IPython.core.display.HTML object>"
      ]
     },
     "metadata": {},
     "output_type": "display_data"
    },
    {
     "data": {
      "text/html": [
       "Finishing last run (ID:sfak3e67) before initializing another..."
      ],
      "text/plain": [
       "<IPython.core.display.HTML object>"
      ]
     },
     "metadata": {},
     "output_type": "display_data"
    },
    {
     "data": {
      "text/html": [
       "<br/>Waiting for W&B process to finish, PID 34268<br/>Program ended successfully."
      ],
      "text/plain": [
       "<IPython.core.display.HTML object>"
      ]
     },
     "metadata": {},
     "output_type": "display_data"
    },
    {
     "data": {
      "application/vnd.jupyter.widget-view+json": {
       "model_id": "",
       "version_major": 2,
       "version_minor": 0
      },
      "text/plain": [
       "VBox(children=(Label(value=' 0.00MB of 0.00MB uploaded (0.00MB deduped)\\r'), FloatProgress(value=1.0, max=1.0)…"
      ]
     },
     "metadata": {},
     "output_type": "display_data"
    },
    {
     "data": {
      "text/html": [
       "Find user logs for this run at: <code>/home/sowmya/Desktop/cs5691/assignment/assignment3/codes/wandb/run-20210507_202613-sfak3e67/logs/debug.log</code>"
      ],
      "text/plain": [
       "<IPython.core.display.HTML object>"
      ]
     },
     "metadata": {},
     "output_type": "display_data"
    },
    {
     "data": {
      "text/html": [
       "Find internal logs for this run at: <code>/home/sowmya/Desktop/cs5691/assignment/assignment3/codes/wandb/run-20210507_202613-sfak3e67/logs/debug-internal.log</code>"
      ],
      "text/plain": [
       "<IPython.core.display.HTML object>"
      ]
     },
     "metadata": {},
     "output_type": "display_data"
    },
    {
     "data": {
      "text/html": [
       "Synced 4 W&B file(s), 0 media file(s), 0 artifact file(s) and 0 other file(s)"
      ],
      "text/plain": [
       "<IPython.core.display.HTML object>"
      ]
     },
     "metadata": {},
     "output_type": "display_data"
    },
    {
     "data": {
      "text/html": [
       "\n",
       "                    <br/>Synced <strong style=\"color:#cdcd00\">eager-sweep-8</strong>: <a href=\"https://wandb.ai/sowmyamanojna/PRML-A3/runs/sfak3e67\" target=\"_blank\">https://wandb.ai/sowmyamanojna/PRML-A3/runs/sfak3e67</a><br/>\n",
       "                "
      ],
      "text/plain": [
       "<IPython.core.display.HTML object>"
      ]
     },
     "metadata": {},
     "output_type": "display_data"
    },
    {
     "data": {
      "text/html": [
       "...Successfully finished last run (ID:sfak3e67). Initializing new run:<br/><br/>"
      ],
      "text/plain": [
       "<IPython.core.display.HTML object>"
      ]
     },
     "metadata": {},
     "output_type": "display_data"
    },
    {
     "data": {
      "text/html": [
       "\n",
       "                Tracking run with wandb version 0.10.29<br/>\n",
       "                Syncing run <strong style=\"color:#cdcd00\">eager-sweep-8</strong> to <a href=\"https://wandb.ai\" target=\"_blank\">Weights & Biases</a> <a href=\"https://docs.wandb.com/integrations/jupyter.html\" target=\"_blank\">(Documentation)</a>.<br/>\n",
       "                Project page: <a href=\"https://wandb.ai/sowmyamanojna/PRML-A3\" target=\"_blank\">https://wandb.ai/sowmyamanojna/PRML-A3</a><br/>\n",
       "                Sweep page: <a href=\"https://wandb.ai/sowmyamanojna/PRML-A3/sweeps/gs0l7xqc\" target=\"_blank\">https://wandb.ai/sowmyamanojna/PRML-A3/sweeps/gs0l7xqc</a><br/>\n",
       "Run page: <a href=\"https://wandb.ai/sowmyamanojna/PRML-A3/runs/sfak3e67\" target=\"_blank\">https://wandb.ai/sowmyamanojna/PRML-A3/runs/sfak3e67</a><br/>\n",
       "                Run data is saved locally in <code>/home/sowmya/Desktop/cs5691/assignment/assignment3/codes/wandb/run-20210507_202616-sfak3e67</code><br/><br/>\n",
       "            "
      ],
      "text/plain": [
       "<IPython.core.display.HTML object>"
      ]
     },
     "metadata": {},
     "output_type": "display_data"
    },
    {
     "name": "stderr",
     "output_type": "stream",
     "text": [
      "\u001b[34m\u001b[1mwandb\u001b[0m: Agent Starting Run: 0sthgdbd with config:\n",
      "\u001b[34m\u001b[1mwandb\u001b[0m: \talpha: 0.01\n",
      "\u001b[34m\u001b[1mwandb\u001b[0m: \tbatch_size: 50\n",
      "\u001b[34m\u001b[1mwandb\u001b[0m: \tearly_stopping: True\n",
      "\u001b[34m\u001b[1mwandb\u001b[0m: \thidden_layer_sizes: [75, 75]\n",
      "\u001b[34m\u001b[1mwandb\u001b[0m: \tlearning_rate: invscaling\n"
     ]
    },
    {
     "data": {
      "text/html": [
       "\n",
       "                Tracking run with wandb version 0.10.29<br/>\n",
       "                Syncing run <strong style=\"color:#cdcd00\">stoic-sweep-9</strong> to <a href=\"https://wandb.ai\" target=\"_blank\">Weights & Biases</a> <a href=\"https://docs.wandb.com/integrations/jupyter.html\" target=\"_blank\">(Documentation)</a>.<br/>\n",
       "                Project page: <a href=\"https://wandb.ai/sowmyamanojna/PRML-A3\" target=\"_blank\">https://wandb.ai/sowmyamanojna/PRML-A3</a><br/>\n",
       "                Sweep page: <a href=\"https://wandb.ai/sowmyamanojna/PRML-A3/sweeps/gs0l7xqc\" target=\"_blank\">https://wandb.ai/sowmyamanojna/PRML-A3/sweeps/gs0l7xqc</a><br/>\n",
       "Run page: <a href=\"https://wandb.ai/sowmyamanojna/PRML-A3/runs/0sthgdbd\" target=\"_blank\">https://wandb.ai/sowmyamanojna/PRML-A3/runs/0sthgdbd</a><br/>\n",
       "                Run data is saved locally in <code>/home/sowmya/Desktop/cs5691/assignment/assignment3/codes/wandb/run-20210507_202624-0sthgdbd</code><br/><br/>\n",
       "            "
      ],
      "text/plain": [
       "<IPython.core.display.HTML object>"
      ]
     },
     "metadata": {},
     "output_type": "display_data"
    },
    {
     "data": {
      "text/html": [
       "Finishing last run (ID:0sthgdbd) before initializing another..."
      ],
      "text/plain": [
       "<IPython.core.display.HTML object>"
      ]
     },
     "metadata": {},
     "output_type": "display_data"
    },
    {
     "data": {
      "text/html": [
       "<br/>Waiting for W&B process to finish, PID 34361<br/>Program ended successfully."
      ],
      "text/plain": [
       "<IPython.core.display.HTML object>"
      ]
     },
     "metadata": {},
     "output_type": "display_data"
    },
    {
     "data": {
      "application/vnd.jupyter.widget-view+json": {
       "model_id": "",
       "version_major": 2,
       "version_minor": 0
      },
      "text/plain": [
       "VBox(children=(Label(value=' 0.00MB of 0.00MB uploaded (0.00MB deduped)\\r'), FloatProgress(value=1.0, max=1.0)…"
      ]
     },
     "metadata": {},
     "output_type": "display_data"
    },
    {
     "data": {
      "text/html": [
       "Find user logs for this run at: <code>/home/sowmya/Desktop/cs5691/assignment/assignment3/codes/wandb/run-20210507_202624-0sthgdbd/logs/debug.log</code>"
      ],
      "text/plain": [
       "<IPython.core.display.HTML object>"
      ]
     },
     "metadata": {},
     "output_type": "display_data"
    },
    {
     "data": {
      "text/html": [
       "Find internal logs for this run at: <code>/home/sowmya/Desktop/cs5691/assignment/assignment3/codes/wandb/run-20210507_202624-0sthgdbd/logs/debug-internal.log</code>"
      ],
      "text/plain": [
       "<IPython.core.display.HTML object>"
      ]
     },
     "metadata": {},
     "output_type": "display_data"
    },
    {
     "data": {
      "text/html": [
       "Synced 4 W&B file(s), 0 media file(s), 0 artifact file(s) and 0 other file(s)"
      ],
      "text/plain": [
       "<IPython.core.display.HTML object>"
      ]
     },
     "metadata": {},
     "output_type": "display_data"
    },
    {
     "data": {
      "text/html": [
       "\n",
       "                    <br/>Synced <strong style=\"color:#cdcd00\">stoic-sweep-9</strong>: <a href=\"https://wandb.ai/sowmyamanojna/PRML-A3/runs/0sthgdbd\" target=\"_blank\">https://wandb.ai/sowmyamanojna/PRML-A3/runs/0sthgdbd</a><br/>\n",
       "                "
      ],
      "text/plain": [
       "<IPython.core.display.HTML object>"
      ]
     },
     "metadata": {},
     "output_type": "display_data"
    },
    {
     "data": {
      "text/html": [
       "...Successfully finished last run (ID:0sthgdbd). Initializing new run:<br/><br/>"
      ],
      "text/plain": [
       "<IPython.core.display.HTML object>"
      ]
     },
     "metadata": {},
     "output_type": "display_data"
    },
    {
     "data": {
      "text/html": [
       "\n",
       "                Tracking run with wandb version 0.10.29<br/>\n",
       "                Syncing run <strong style=\"color:#cdcd00\">stoic-sweep-9</strong> to <a href=\"https://wandb.ai\" target=\"_blank\">Weights & Biases</a> <a href=\"https://docs.wandb.com/integrations/jupyter.html\" target=\"_blank\">(Documentation)</a>.<br/>\n",
       "                Project page: <a href=\"https://wandb.ai/sowmyamanojna/PRML-A3\" target=\"_blank\">https://wandb.ai/sowmyamanojna/PRML-A3</a><br/>\n",
       "                Sweep page: <a href=\"https://wandb.ai/sowmyamanojna/PRML-A3/sweeps/gs0l7xqc\" target=\"_blank\">https://wandb.ai/sowmyamanojna/PRML-A3/sweeps/gs0l7xqc</a><br/>\n",
       "Run page: <a href=\"https://wandb.ai/sowmyamanojna/PRML-A3/runs/0sthgdbd\" target=\"_blank\">https://wandb.ai/sowmyamanojna/PRML-A3/runs/0sthgdbd</a><br/>\n",
       "                Run data is saved locally in <code>/home/sowmya/Desktop/cs5691/assignment/assignment3/codes/wandb/run-20210507_202627-0sthgdbd</code><br/><br/>\n",
       "            "
      ],
      "text/plain": [
       "<IPython.core.display.HTML object>"
      ]
     },
     "metadata": {},
     "output_type": "display_data"
    },
    {
     "name": "stderr",
     "output_type": "stream",
     "text": [
      "\u001b[34m\u001b[1mwandb\u001b[0m: Agent Starting Run: 0fg0ej9z with config:\n",
      "\u001b[34m\u001b[1mwandb\u001b[0m: \talpha: 0.01\n",
      "\u001b[34m\u001b[1mwandb\u001b[0m: \tbatch_size: 50\n",
      "\u001b[34m\u001b[1mwandb\u001b[0m: \tearly_stopping: False\n",
      "\u001b[34m\u001b[1mwandb\u001b[0m: \thidden_layer_sizes: [25, 25]\n",
      "\u001b[34m\u001b[1mwandb\u001b[0m: \tlearning_rate: constant\n"
     ]
    },
    {
     "data": {
      "text/html": [
       "\n",
       "                Tracking run with wandb version 0.10.29<br/>\n",
       "                Syncing run <strong style=\"color:#cdcd00\">ethereal-sweep-10</strong> to <a href=\"https://wandb.ai\" target=\"_blank\">Weights & Biases</a> <a href=\"https://docs.wandb.com/integrations/jupyter.html\" target=\"_blank\">(Documentation)</a>.<br/>\n",
       "                Project page: <a href=\"https://wandb.ai/sowmyamanojna/PRML-A3\" target=\"_blank\">https://wandb.ai/sowmyamanojna/PRML-A3</a><br/>\n",
       "                Sweep page: <a href=\"https://wandb.ai/sowmyamanojna/PRML-A3/sweeps/gs0l7xqc\" target=\"_blank\">https://wandb.ai/sowmyamanojna/PRML-A3/sweeps/gs0l7xqc</a><br/>\n",
       "Run page: <a href=\"https://wandb.ai/sowmyamanojna/PRML-A3/runs/0fg0ej9z\" target=\"_blank\">https://wandb.ai/sowmyamanojna/PRML-A3/runs/0fg0ej9z</a><br/>\n",
       "                Run data is saved locally in <code>/home/sowmya/Desktop/cs5691/assignment/assignment3/codes/wandb/run-20210507_202637-0fg0ej9z</code><br/><br/>\n",
       "            "
      ],
      "text/plain": [
       "<IPython.core.display.HTML object>"
      ]
     },
     "metadata": {},
     "output_type": "display_data"
    },
    {
     "data": {
      "text/html": [
       "Finishing last run (ID:0fg0ej9z) before initializing another..."
      ],
      "text/plain": [
       "<IPython.core.display.HTML object>"
      ]
     },
     "metadata": {},
     "output_type": "display_data"
    },
    {
     "data": {
      "text/html": [
       "<br/>Waiting for W&B process to finish, PID 34453<br/>Program ended successfully."
      ],
      "text/plain": [
       "<IPython.core.display.HTML object>"
      ]
     },
     "metadata": {},
     "output_type": "display_data"
    },
    {
     "data": {
      "application/vnd.jupyter.widget-view+json": {
       "model_id": "",
       "version_major": 2,
       "version_minor": 0
      },
      "text/plain": [
       "VBox(children=(Label(value=' 0.00MB of 0.00MB uploaded (0.00MB deduped)\\r'), FloatProgress(value=1.0, max=1.0)…"
      ]
     },
     "metadata": {},
     "output_type": "display_data"
    },
    {
     "data": {
      "text/html": [
       "Find user logs for this run at: <code>/home/sowmya/Desktop/cs5691/assignment/assignment3/codes/wandb/run-20210507_202637-0fg0ej9z/logs/debug.log</code>"
      ],
      "text/plain": [
       "<IPython.core.display.HTML object>"
      ]
     },
     "metadata": {},
     "output_type": "display_data"
    },
    {
     "data": {
      "text/html": [
       "Find internal logs for this run at: <code>/home/sowmya/Desktop/cs5691/assignment/assignment3/codes/wandb/run-20210507_202637-0fg0ej9z/logs/debug-internal.log</code>"
      ],
      "text/plain": [
       "<IPython.core.display.HTML object>"
      ]
     },
     "metadata": {},
     "output_type": "display_data"
    },
    {
     "data": {
      "text/html": [
       "Synced 4 W&B file(s), 0 media file(s), 0 artifact file(s) and 0 other file(s)"
      ],
      "text/plain": [
       "<IPython.core.display.HTML object>"
      ]
     },
     "metadata": {},
     "output_type": "display_data"
    },
    {
     "data": {
      "text/html": [
       "\n",
       "                    <br/>Synced <strong style=\"color:#cdcd00\">ethereal-sweep-10</strong>: <a href=\"https://wandb.ai/sowmyamanojna/PRML-A3/runs/0fg0ej9z\" target=\"_blank\">https://wandb.ai/sowmyamanojna/PRML-A3/runs/0fg0ej9z</a><br/>\n",
       "                "
      ],
      "text/plain": [
       "<IPython.core.display.HTML object>"
      ]
     },
     "metadata": {},
     "output_type": "display_data"
    },
    {
     "data": {
      "text/html": [
       "...Successfully finished last run (ID:0fg0ej9z). Initializing new run:<br/><br/>"
      ],
      "text/plain": [
       "<IPython.core.display.HTML object>"
      ]
     },
     "metadata": {},
     "output_type": "display_data"
    },
    {
     "data": {
      "text/html": [
       "\n",
       "                Tracking run with wandb version 0.10.29<br/>\n",
       "                Syncing run <strong style=\"color:#cdcd00\">ethereal-sweep-10</strong> to <a href=\"https://wandb.ai\" target=\"_blank\">Weights & Biases</a> <a href=\"https://docs.wandb.com/integrations/jupyter.html\" target=\"_blank\">(Documentation)</a>.<br/>\n",
       "                Project page: <a href=\"https://wandb.ai/sowmyamanojna/PRML-A3\" target=\"_blank\">https://wandb.ai/sowmyamanojna/PRML-A3</a><br/>\n",
       "                Sweep page: <a href=\"https://wandb.ai/sowmyamanojna/PRML-A3/sweeps/gs0l7xqc\" target=\"_blank\">https://wandb.ai/sowmyamanojna/PRML-A3/sweeps/gs0l7xqc</a><br/>\n",
       "Run page: <a href=\"https://wandb.ai/sowmyamanojna/PRML-A3/runs/0fg0ej9z\" target=\"_blank\">https://wandb.ai/sowmyamanojna/PRML-A3/runs/0fg0ej9z</a><br/>\n",
       "                Run data is saved locally in <code>/home/sowmya/Desktop/cs5691/assignment/assignment3/codes/wandb/run-20210507_202640-0fg0ej9z</code><br/><br/>\n",
       "            "
      ],
      "text/plain": [
       "<IPython.core.display.HTML object>"
      ]
     },
     "metadata": {},
     "output_type": "display_data"
    },
    {
     "name": "stderr",
     "output_type": "stream",
     "text": [
      "\u001b[34m\u001b[1mwandb\u001b[0m: Agent Starting Run: n9c5qy5t with config:\n",
      "\u001b[34m\u001b[1mwandb\u001b[0m: \talpha: 0.01\n",
      "\u001b[34m\u001b[1mwandb\u001b[0m: \tbatch_size: 50\n",
      "\u001b[34m\u001b[1mwandb\u001b[0m: \tearly_stopping: False\n",
      "\u001b[34m\u001b[1mwandb\u001b[0m: \thidden_layer_sizes: [25, 25]\n",
      "\u001b[34m\u001b[1mwandb\u001b[0m: \tlearning_rate: adaptive\n"
     ]
    },
    {
     "data": {
      "text/html": [
       "\n",
       "                Tracking run with wandb version 0.10.29<br/>\n",
       "                Syncing run <strong style=\"color:#cdcd00\">twilight-sweep-11</strong> to <a href=\"https://wandb.ai\" target=\"_blank\">Weights & Biases</a> <a href=\"https://docs.wandb.com/integrations/jupyter.html\" target=\"_blank\">(Documentation)</a>.<br/>\n",
       "                Project page: <a href=\"https://wandb.ai/sowmyamanojna/PRML-A3\" target=\"_blank\">https://wandb.ai/sowmyamanojna/PRML-A3</a><br/>\n",
       "                Sweep page: <a href=\"https://wandb.ai/sowmyamanojna/PRML-A3/sweeps/gs0l7xqc\" target=\"_blank\">https://wandb.ai/sowmyamanojna/PRML-A3/sweeps/gs0l7xqc</a><br/>\n",
       "Run page: <a href=\"https://wandb.ai/sowmyamanojna/PRML-A3/runs/n9c5qy5t\" target=\"_blank\">https://wandb.ai/sowmyamanojna/PRML-A3/runs/n9c5qy5t</a><br/>\n",
       "                Run data is saved locally in <code>/home/sowmya/Desktop/cs5691/assignment/assignment3/codes/wandb/run-20210507_202653-n9c5qy5t</code><br/><br/>\n",
       "            "
      ],
      "text/plain": [
       "<IPython.core.display.HTML object>"
      ]
     },
     "metadata": {},
     "output_type": "display_data"
    },
    {
     "data": {
      "text/html": [
       "Finishing last run (ID:n9c5qy5t) before initializing another..."
      ],
      "text/plain": [
       "<IPython.core.display.HTML object>"
      ]
     },
     "metadata": {},
     "output_type": "display_data"
    },
    {
     "data": {
      "text/html": [
       "<br/>Waiting for W&B process to finish, PID 34546<br/>Program ended successfully."
      ],
      "text/plain": [
       "<IPython.core.display.HTML object>"
      ]
     },
     "metadata": {},
     "output_type": "display_data"
    },
    {
     "data": {
      "application/vnd.jupyter.widget-view+json": {
       "model_id": "",
       "version_major": 2,
       "version_minor": 0
      },
      "text/plain": [
       "VBox(children=(Label(value=' 0.00MB of 0.00MB uploaded (0.00MB deduped)\\r'), FloatProgress(value=1.0, max=1.0)…"
      ]
     },
     "metadata": {},
     "output_type": "display_data"
    },
    {
     "data": {
      "text/html": [
       "Find user logs for this run at: <code>/home/sowmya/Desktop/cs5691/assignment/assignment3/codes/wandb/run-20210507_202653-n9c5qy5t/logs/debug.log</code>"
      ],
      "text/plain": [
       "<IPython.core.display.HTML object>"
      ]
     },
     "metadata": {},
     "output_type": "display_data"
    },
    {
     "data": {
      "text/html": [
       "Find internal logs for this run at: <code>/home/sowmya/Desktop/cs5691/assignment/assignment3/codes/wandb/run-20210507_202653-n9c5qy5t/logs/debug-internal.log</code>"
      ],
      "text/plain": [
       "<IPython.core.display.HTML object>"
      ]
     },
     "metadata": {},
     "output_type": "display_data"
    },
    {
     "data": {
      "text/html": [
       "Synced 4 W&B file(s), 0 media file(s), 0 artifact file(s) and 0 other file(s)"
      ],
      "text/plain": [
       "<IPython.core.display.HTML object>"
      ]
     },
     "metadata": {},
     "output_type": "display_data"
    },
    {
     "data": {
      "text/html": [
       "\n",
       "                    <br/>Synced <strong style=\"color:#cdcd00\">twilight-sweep-11</strong>: <a href=\"https://wandb.ai/sowmyamanojna/PRML-A3/runs/n9c5qy5t\" target=\"_blank\">https://wandb.ai/sowmyamanojna/PRML-A3/runs/n9c5qy5t</a><br/>\n",
       "                "
      ],
      "text/plain": [
       "<IPython.core.display.HTML object>"
      ]
     },
     "metadata": {},
     "output_type": "display_data"
    },
    {
     "data": {
      "text/html": [
       "...Successfully finished last run (ID:n9c5qy5t). Initializing new run:<br/><br/>"
      ],
      "text/plain": [
       "<IPython.core.display.HTML object>"
      ]
     },
     "metadata": {},
     "output_type": "display_data"
    },
    {
     "data": {
      "text/html": [
       "\n",
       "                Tracking run with wandb version 0.10.29<br/>\n",
       "                Syncing run <strong style=\"color:#cdcd00\">twilight-sweep-11</strong> to <a href=\"https://wandb.ai\" target=\"_blank\">Weights & Biases</a> <a href=\"https://docs.wandb.com/integrations/jupyter.html\" target=\"_blank\">(Documentation)</a>.<br/>\n",
       "                Project page: <a href=\"https://wandb.ai/sowmyamanojna/PRML-A3\" target=\"_blank\">https://wandb.ai/sowmyamanojna/PRML-A3</a><br/>\n",
       "                Sweep page: <a href=\"https://wandb.ai/sowmyamanojna/PRML-A3/sweeps/gs0l7xqc\" target=\"_blank\">https://wandb.ai/sowmyamanojna/PRML-A3/sweeps/gs0l7xqc</a><br/>\n",
       "Run page: <a href=\"https://wandb.ai/sowmyamanojna/PRML-A3/runs/n9c5qy5t\" target=\"_blank\">https://wandb.ai/sowmyamanojna/PRML-A3/runs/n9c5qy5t</a><br/>\n",
       "                Run data is saved locally in <code>/home/sowmya/Desktop/cs5691/assignment/assignment3/codes/wandb/run-20210507_202656-n9c5qy5t</code><br/><br/>\n",
       "            "
      ],
      "text/plain": [
       "<IPython.core.display.HTML object>"
      ]
     },
     "metadata": {},
     "output_type": "display_data"
    },
    {
     "name": "stderr",
     "output_type": "stream",
     "text": [
      "\u001b[34m\u001b[1mwandb\u001b[0m: Sweep Agent: Waiting for job.\n",
      "\u001b[34m\u001b[1mwandb\u001b[0m: Job received.\n",
      "\u001b[34m\u001b[1mwandb\u001b[0m: Agent Starting Run: 3zaaremy with config:\n",
      "\u001b[34m\u001b[1mwandb\u001b[0m: \talpha: 0.01\n",
      "\u001b[34m\u001b[1mwandb\u001b[0m: \tbatch_size: 50\n",
      "\u001b[34m\u001b[1mwandb\u001b[0m: \tearly_stopping: False\n",
      "\u001b[34m\u001b[1mwandb\u001b[0m: \thidden_layer_sizes: [25, 25]\n",
      "\u001b[34m\u001b[1mwandb\u001b[0m: \tlearning_rate: invscaling\n"
     ]
    },
    {
     "data": {
      "text/html": [
       "\n",
       "                Tracking run with wandb version 0.10.29<br/>\n",
       "                Syncing run <strong style=\"color:#cdcd00\">brisk-sweep-12</strong> to <a href=\"https://wandb.ai\" target=\"_blank\">Weights & Biases</a> <a href=\"https://docs.wandb.com/integrations/jupyter.html\" target=\"_blank\">(Documentation)</a>.<br/>\n",
       "                Project page: <a href=\"https://wandb.ai/sowmyamanojna/PRML-A3\" target=\"_blank\">https://wandb.ai/sowmyamanojna/PRML-A3</a><br/>\n",
       "                Sweep page: <a href=\"https://wandb.ai/sowmyamanojna/PRML-A3/sweeps/gs0l7xqc\" target=\"_blank\">https://wandb.ai/sowmyamanojna/PRML-A3/sweeps/gs0l7xqc</a><br/>\n",
       "Run page: <a href=\"https://wandb.ai/sowmyamanojna/PRML-A3/runs/3zaaremy\" target=\"_blank\">https://wandb.ai/sowmyamanojna/PRML-A3/runs/3zaaremy</a><br/>\n",
       "                Run data is saved locally in <code>/home/sowmya/Desktop/cs5691/assignment/assignment3/codes/wandb/run-20210507_202718-3zaaremy</code><br/><br/>\n",
       "            "
      ],
      "text/plain": [
       "<IPython.core.display.HTML object>"
      ]
     },
     "metadata": {},
     "output_type": "display_data"
    },
    {
     "data": {
      "text/html": [
       "Finishing last run (ID:3zaaremy) before initializing another..."
      ],
      "text/plain": [
       "<IPython.core.display.HTML object>"
      ]
     },
     "metadata": {},
     "output_type": "display_data"
    },
    {
     "data": {
      "text/html": [
       "<br/>Waiting for W&B process to finish, PID 34638<br/>Program ended successfully."
      ],
      "text/plain": [
       "<IPython.core.display.HTML object>"
      ]
     },
     "metadata": {},
     "output_type": "display_data"
    },
    {
     "data": {
      "application/vnd.jupyter.widget-view+json": {
       "model_id": "",
       "version_major": 2,
       "version_minor": 0
      },
      "text/plain": [
       "VBox(children=(Label(value=' 0.00MB of 0.00MB uploaded (0.00MB deduped)\\r'), FloatProgress(value=1.0, max=1.0)…"
      ]
     },
     "metadata": {},
     "output_type": "display_data"
    },
    {
     "data": {
      "text/html": [
       "Find user logs for this run at: <code>/home/sowmya/Desktop/cs5691/assignment/assignment3/codes/wandb/run-20210507_202718-3zaaremy/logs/debug.log</code>"
      ],
      "text/plain": [
       "<IPython.core.display.HTML object>"
      ]
     },
     "metadata": {},
     "output_type": "display_data"
    },
    {
     "data": {
      "text/html": [
       "Find internal logs for this run at: <code>/home/sowmya/Desktop/cs5691/assignment/assignment3/codes/wandb/run-20210507_202718-3zaaremy/logs/debug-internal.log</code>"
      ],
      "text/plain": [
       "<IPython.core.display.HTML object>"
      ]
     },
     "metadata": {},
     "output_type": "display_data"
    },
    {
     "data": {
      "text/html": [
       "Synced 4 W&B file(s), 0 media file(s), 0 artifact file(s) and 0 other file(s)"
      ],
      "text/plain": [
       "<IPython.core.display.HTML object>"
      ]
     },
     "metadata": {},
     "output_type": "display_data"
    },
    {
     "data": {
      "text/html": [
       "\n",
       "                    <br/>Synced <strong style=\"color:#cdcd00\">brisk-sweep-12</strong>: <a href=\"https://wandb.ai/sowmyamanojna/PRML-A3/runs/3zaaremy\" target=\"_blank\">https://wandb.ai/sowmyamanojna/PRML-A3/runs/3zaaremy</a><br/>\n",
       "                "
      ],
      "text/plain": [
       "<IPython.core.display.HTML object>"
      ]
     },
     "metadata": {},
     "output_type": "display_data"
    },
    {
     "data": {
      "text/html": [
       "...Successfully finished last run (ID:3zaaremy). Initializing new run:<br/><br/>"
      ],
      "text/plain": [
       "<IPython.core.display.HTML object>"
      ]
     },
     "metadata": {},
     "output_type": "display_data"
    },
    {
     "data": {
      "text/html": [
       "\n",
       "                Tracking run with wandb version 0.10.29<br/>\n",
       "                Syncing run <strong style=\"color:#cdcd00\">brisk-sweep-12</strong> to <a href=\"https://wandb.ai\" target=\"_blank\">Weights & Biases</a> <a href=\"https://docs.wandb.com/integrations/jupyter.html\" target=\"_blank\">(Documentation)</a>.<br/>\n",
       "                Project page: <a href=\"https://wandb.ai/sowmyamanojna/PRML-A3\" target=\"_blank\">https://wandb.ai/sowmyamanojna/PRML-A3</a><br/>\n",
       "                Sweep page: <a href=\"https://wandb.ai/sowmyamanojna/PRML-A3/sweeps/gs0l7xqc\" target=\"_blank\">https://wandb.ai/sowmyamanojna/PRML-A3/sweeps/gs0l7xqc</a><br/>\n",
       "Run page: <a href=\"https://wandb.ai/sowmyamanojna/PRML-A3/runs/3zaaremy\" target=\"_blank\">https://wandb.ai/sowmyamanojna/PRML-A3/runs/3zaaremy</a><br/>\n",
       "                Run data is saved locally in <code>/home/sowmya/Desktop/cs5691/assignment/assignment3/codes/wandb/run-20210507_202721-3zaaremy</code><br/><br/>\n",
       "            "
      ],
      "text/plain": [
       "<IPython.core.display.HTML object>"
      ]
     },
     "metadata": {},
     "output_type": "display_data"
    },
    {
     "name": "stderr",
     "output_type": "stream",
     "text": [
      "\u001b[34m\u001b[1mwandb\u001b[0m: Agent Starting Run: mcczy029 with config:\n",
      "\u001b[34m\u001b[1mwandb\u001b[0m: \talpha: 0.01\n",
      "\u001b[34m\u001b[1mwandb\u001b[0m: \tbatch_size: 50\n",
      "\u001b[34m\u001b[1mwandb\u001b[0m: \tearly_stopping: False\n",
      "\u001b[34m\u001b[1mwandb\u001b[0m: \thidden_layer_sizes: [50, 50]\n",
      "\u001b[34m\u001b[1mwandb\u001b[0m: \tlearning_rate: constant\n"
     ]
    },
    {
     "data": {
      "text/html": [
       "\n",
       "                Tracking run with wandb version 0.10.29<br/>\n",
       "                Syncing run <strong style=\"color:#cdcd00\">worthy-sweep-13</strong> to <a href=\"https://wandb.ai\" target=\"_blank\">Weights & Biases</a> <a href=\"https://docs.wandb.com/integrations/jupyter.html\" target=\"_blank\">(Documentation)</a>.<br/>\n",
       "                Project page: <a href=\"https://wandb.ai/sowmyamanojna/PRML-A3\" target=\"_blank\">https://wandb.ai/sowmyamanojna/PRML-A3</a><br/>\n",
       "                Sweep page: <a href=\"https://wandb.ai/sowmyamanojna/PRML-A3/sweeps/gs0l7xqc\" target=\"_blank\">https://wandb.ai/sowmyamanojna/PRML-A3/sweeps/gs0l7xqc</a><br/>\n",
       "Run page: <a href=\"https://wandb.ai/sowmyamanojna/PRML-A3/runs/mcczy029\" target=\"_blank\">https://wandb.ai/sowmyamanojna/PRML-A3/runs/mcczy029</a><br/>\n",
       "                Run data is saved locally in <code>/home/sowmya/Desktop/cs5691/assignment/assignment3/codes/wandb/run-20210507_202740-mcczy029</code><br/><br/>\n",
       "            "
      ],
      "text/plain": [
       "<IPython.core.display.HTML object>"
      ]
     },
     "metadata": {},
     "output_type": "display_data"
    },
    {
     "data": {
      "text/html": [
       "Finishing last run (ID:mcczy029) before initializing another..."
      ],
      "text/plain": [
       "<IPython.core.display.HTML object>"
      ]
     },
     "metadata": {},
     "output_type": "display_data"
    },
    {
     "data": {
      "text/html": [
       "<br/>Waiting for W&B process to finish, PID 34730<br/>Program ended successfully."
      ],
      "text/plain": [
       "<IPython.core.display.HTML object>"
      ]
     },
     "metadata": {},
     "output_type": "display_data"
    },
    {
     "data": {
      "application/vnd.jupyter.widget-view+json": {
       "model_id": "",
       "version_major": 2,
       "version_minor": 0
      },
      "text/plain": [
       "VBox(children=(Label(value=' 0.00MB of 0.00MB uploaded (0.00MB deduped)\\r'), FloatProgress(value=1.0, max=1.0)…"
      ]
     },
     "metadata": {},
     "output_type": "display_data"
    },
    {
     "data": {
      "text/html": [
       "Find user logs for this run at: <code>/home/sowmya/Desktop/cs5691/assignment/assignment3/codes/wandb/run-20210507_202740-mcczy029/logs/debug.log</code>"
      ],
      "text/plain": [
       "<IPython.core.display.HTML object>"
      ]
     },
     "metadata": {},
     "output_type": "display_data"
    },
    {
     "data": {
      "text/html": [
       "Find internal logs for this run at: <code>/home/sowmya/Desktop/cs5691/assignment/assignment3/codes/wandb/run-20210507_202740-mcczy029/logs/debug-internal.log</code>"
      ],
      "text/plain": [
       "<IPython.core.display.HTML object>"
      ]
     },
     "metadata": {},
     "output_type": "display_data"
    },
    {
     "data": {
      "text/html": [
       "Synced 4 W&B file(s), 0 media file(s), 0 artifact file(s) and 0 other file(s)"
      ],
      "text/plain": [
       "<IPython.core.display.HTML object>"
      ]
     },
     "metadata": {},
     "output_type": "display_data"
    },
    {
     "data": {
      "text/html": [
       "\n",
       "                    <br/>Synced <strong style=\"color:#cdcd00\">worthy-sweep-13</strong>: <a href=\"https://wandb.ai/sowmyamanojna/PRML-A3/runs/mcczy029\" target=\"_blank\">https://wandb.ai/sowmyamanojna/PRML-A3/runs/mcczy029</a><br/>\n",
       "                "
      ],
      "text/plain": [
       "<IPython.core.display.HTML object>"
      ]
     },
     "metadata": {},
     "output_type": "display_data"
    },
    {
     "data": {
      "text/html": [
       "...Successfully finished last run (ID:mcczy029). Initializing new run:<br/><br/>"
      ],
      "text/plain": [
       "<IPython.core.display.HTML object>"
      ]
     },
     "metadata": {},
     "output_type": "display_data"
    },
    {
     "data": {
      "text/html": [
       "\n",
       "                Tracking run with wandb version 0.10.29<br/>\n",
       "                Syncing run <strong style=\"color:#cdcd00\">worthy-sweep-13</strong> to <a href=\"https://wandb.ai\" target=\"_blank\">Weights & Biases</a> <a href=\"https://docs.wandb.com/integrations/jupyter.html\" target=\"_blank\">(Documentation)</a>.<br/>\n",
       "                Project page: <a href=\"https://wandb.ai/sowmyamanojna/PRML-A3\" target=\"_blank\">https://wandb.ai/sowmyamanojna/PRML-A3</a><br/>\n",
       "                Sweep page: <a href=\"https://wandb.ai/sowmyamanojna/PRML-A3/sweeps/gs0l7xqc\" target=\"_blank\">https://wandb.ai/sowmyamanojna/PRML-A3/sweeps/gs0l7xqc</a><br/>\n",
       "Run page: <a href=\"https://wandb.ai/sowmyamanojna/PRML-A3/runs/mcczy029\" target=\"_blank\">https://wandb.ai/sowmyamanojna/PRML-A3/runs/mcczy029</a><br/>\n",
       "                Run data is saved locally in <code>/home/sowmya/Desktop/cs5691/assignment/assignment3/codes/wandb/run-20210507_202744-mcczy029</code><br/><br/>\n",
       "            "
      ],
      "text/plain": [
       "<IPython.core.display.HTML object>"
      ]
     },
     "metadata": {},
     "output_type": "display_data"
    },
    {
     "name": "stderr",
     "output_type": "stream",
     "text": [
      "\u001b[34m\u001b[1mwandb\u001b[0m: Agent Starting Run: z2zchwbn with config:\n",
      "\u001b[34m\u001b[1mwandb\u001b[0m: \talpha: 0.01\n",
      "\u001b[34m\u001b[1mwandb\u001b[0m: \tbatch_size: 50\n",
      "\u001b[34m\u001b[1mwandb\u001b[0m: \tearly_stopping: False\n",
      "\u001b[34m\u001b[1mwandb\u001b[0m: \thidden_layer_sizes: [50, 50]\n",
      "\u001b[34m\u001b[1mwandb\u001b[0m: \tlearning_rate: adaptive\n"
     ]
    },
    {
     "data": {
      "text/html": [
       "\n",
       "                Tracking run with wandb version 0.10.29<br/>\n",
       "                Syncing run <strong style=\"color:#cdcd00\">crisp-sweep-14</strong> to <a href=\"https://wandb.ai\" target=\"_blank\">Weights & Biases</a> <a href=\"https://docs.wandb.com/integrations/jupyter.html\" target=\"_blank\">(Documentation)</a>.<br/>\n",
       "                Project page: <a href=\"https://wandb.ai/sowmyamanojna/PRML-A3\" target=\"_blank\">https://wandb.ai/sowmyamanojna/PRML-A3</a><br/>\n",
       "                Sweep page: <a href=\"https://wandb.ai/sowmyamanojna/PRML-A3/sweeps/gs0l7xqc\" target=\"_blank\">https://wandb.ai/sowmyamanojna/PRML-A3/sweeps/gs0l7xqc</a><br/>\n",
       "Run page: <a href=\"https://wandb.ai/sowmyamanojna/PRML-A3/runs/z2zchwbn\" target=\"_blank\">https://wandb.ai/sowmyamanojna/PRML-A3/runs/z2zchwbn</a><br/>\n",
       "                Run data is saved locally in <code>/home/sowmya/Desktop/cs5691/assignment/assignment3/codes/wandb/run-20210507_202759-z2zchwbn</code><br/><br/>\n",
       "            "
      ],
      "text/plain": [
       "<IPython.core.display.HTML object>"
      ]
     },
     "metadata": {},
     "output_type": "display_data"
    },
    {
     "data": {
      "text/html": [
       "Finishing last run (ID:z2zchwbn) before initializing another..."
      ],
      "text/plain": [
       "<IPython.core.display.HTML object>"
      ]
     },
     "metadata": {},
     "output_type": "display_data"
    },
    {
     "data": {
      "text/html": [
       "<br/>Waiting for W&B process to finish, PID 34821<br/>Program ended successfully."
      ],
      "text/plain": [
       "<IPython.core.display.HTML object>"
      ]
     },
     "metadata": {},
     "output_type": "display_data"
    },
    {
     "data": {
      "application/vnd.jupyter.widget-view+json": {
       "model_id": "",
       "version_major": 2,
       "version_minor": 0
      },
      "text/plain": [
       "VBox(children=(Label(value=' 0.00MB of 0.00MB uploaded (0.00MB deduped)\\r'), FloatProgress(value=1.0, max=1.0)…"
      ]
     },
     "metadata": {},
     "output_type": "display_data"
    },
    {
     "data": {
      "text/html": [
       "Find user logs for this run at: <code>/home/sowmya/Desktop/cs5691/assignment/assignment3/codes/wandb/run-20210507_202759-z2zchwbn/logs/debug.log</code>"
      ],
      "text/plain": [
       "<IPython.core.display.HTML object>"
      ]
     },
     "metadata": {},
     "output_type": "display_data"
    },
    {
     "data": {
      "text/html": [
       "Find internal logs for this run at: <code>/home/sowmya/Desktop/cs5691/assignment/assignment3/codes/wandb/run-20210507_202759-z2zchwbn/logs/debug-internal.log</code>"
      ],
      "text/plain": [
       "<IPython.core.display.HTML object>"
      ]
     },
     "metadata": {},
     "output_type": "display_data"
    },
    {
     "data": {
      "text/html": [
       "Synced 4 W&B file(s), 0 media file(s), 0 artifact file(s) and 0 other file(s)"
      ],
      "text/plain": [
       "<IPython.core.display.HTML object>"
      ]
     },
     "metadata": {},
     "output_type": "display_data"
    },
    {
     "data": {
      "text/html": [
       "\n",
       "                    <br/>Synced <strong style=\"color:#cdcd00\">crisp-sweep-14</strong>: <a href=\"https://wandb.ai/sowmyamanojna/PRML-A3/runs/z2zchwbn\" target=\"_blank\">https://wandb.ai/sowmyamanojna/PRML-A3/runs/z2zchwbn</a><br/>\n",
       "                "
      ],
      "text/plain": [
       "<IPython.core.display.HTML object>"
      ]
     },
     "metadata": {},
     "output_type": "display_data"
    },
    {
     "data": {
      "text/html": [
       "...Successfully finished last run (ID:z2zchwbn). Initializing new run:<br/><br/>"
      ],
      "text/plain": [
       "<IPython.core.display.HTML object>"
      ]
     },
     "metadata": {},
     "output_type": "display_data"
    },
    {
     "data": {
      "text/html": [
       "\n",
       "                Tracking run with wandb version 0.10.29<br/>\n",
       "                Syncing run <strong style=\"color:#cdcd00\">crisp-sweep-14</strong> to <a href=\"https://wandb.ai\" target=\"_blank\">Weights & Biases</a> <a href=\"https://docs.wandb.com/integrations/jupyter.html\" target=\"_blank\">(Documentation)</a>.<br/>\n",
       "                Project page: <a href=\"https://wandb.ai/sowmyamanojna/PRML-A3\" target=\"_blank\">https://wandb.ai/sowmyamanojna/PRML-A3</a><br/>\n",
       "                Sweep page: <a href=\"https://wandb.ai/sowmyamanojna/PRML-A3/sweeps/gs0l7xqc\" target=\"_blank\">https://wandb.ai/sowmyamanojna/PRML-A3/sweeps/gs0l7xqc</a><br/>\n",
       "Run page: <a href=\"https://wandb.ai/sowmyamanojna/PRML-A3/runs/z2zchwbn\" target=\"_blank\">https://wandb.ai/sowmyamanojna/PRML-A3/runs/z2zchwbn</a><br/>\n",
       "                Run data is saved locally in <code>/home/sowmya/Desktop/cs5691/assignment/assignment3/codes/wandb/run-20210507_202801-z2zchwbn</code><br/><br/>\n",
       "            "
      ],
      "text/plain": [
       "<IPython.core.display.HTML object>"
      ]
     },
     "metadata": {},
     "output_type": "display_data"
    },
    {
     "name": "stderr",
     "output_type": "stream",
     "text": [
      "\u001b[34m\u001b[1mwandb\u001b[0m: Agent Starting Run: dougsn1u with config:\n",
      "\u001b[34m\u001b[1mwandb\u001b[0m: \talpha: 0.01\n",
      "\u001b[34m\u001b[1mwandb\u001b[0m: \tbatch_size: 50\n",
      "\u001b[34m\u001b[1mwandb\u001b[0m: \tearly_stopping: False\n",
      "\u001b[34m\u001b[1mwandb\u001b[0m: \thidden_layer_sizes: [50, 50]\n",
      "\u001b[34m\u001b[1mwandb\u001b[0m: \tlearning_rate: invscaling\n"
     ]
    },
    {
     "data": {
      "text/html": [
       "\n",
       "                Tracking run with wandb version 0.10.29<br/>\n",
       "                Syncing run <strong style=\"color:#cdcd00\">comic-sweep-15</strong> to <a href=\"https://wandb.ai\" target=\"_blank\">Weights & Biases</a> <a href=\"https://docs.wandb.com/integrations/jupyter.html\" target=\"_blank\">(Documentation)</a>.<br/>\n",
       "                Project page: <a href=\"https://wandb.ai/sowmyamanojna/PRML-A3\" target=\"_blank\">https://wandb.ai/sowmyamanojna/PRML-A3</a><br/>\n",
       "                Sweep page: <a href=\"https://wandb.ai/sowmyamanojna/PRML-A3/sweeps/gs0l7xqc\" target=\"_blank\">https://wandb.ai/sowmyamanojna/PRML-A3/sweeps/gs0l7xqc</a><br/>\n",
       "Run page: <a href=\"https://wandb.ai/sowmyamanojna/PRML-A3/runs/dougsn1u\" target=\"_blank\">https://wandb.ai/sowmyamanojna/PRML-A3/runs/dougsn1u</a><br/>\n",
       "                Run data is saved locally in <code>/home/sowmya/Desktop/cs5691/assignment/assignment3/codes/wandb/run-20210507_202816-dougsn1u</code><br/><br/>\n",
       "            "
      ],
      "text/plain": [
       "<IPython.core.display.HTML object>"
      ]
     },
     "metadata": {},
     "output_type": "display_data"
    },
    {
     "data": {
      "text/html": [
       "Finishing last run (ID:dougsn1u) before initializing another..."
      ],
      "text/plain": [
       "<IPython.core.display.HTML object>"
      ]
     },
     "metadata": {},
     "output_type": "display_data"
    },
    {
     "data": {
      "text/html": [
       "<br/>Waiting for W&B process to finish, PID 34912<br/>Program ended successfully."
      ],
      "text/plain": [
       "<IPython.core.display.HTML object>"
      ]
     },
     "metadata": {},
     "output_type": "display_data"
    },
    {
     "data": {
      "application/vnd.jupyter.widget-view+json": {
       "model_id": "",
       "version_major": 2,
       "version_minor": 0
      },
      "text/plain": [
       "VBox(children=(Label(value=' 0.00MB of 0.00MB uploaded (0.00MB deduped)\\r'), FloatProgress(value=1.0, max=1.0)…"
      ]
     },
     "metadata": {},
     "output_type": "display_data"
    },
    {
     "data": {
      "text/html": [
       "Find user logs for this run at: <code>/home/sowmya/Desktop/cs5691/assignment/assignment3/codes/wandb/run-20210507_202816-dougsn1u/logs/debug.log</code>"
      ],
      "text/plain": [
       "<IPython.core.display.HTML object>"
      ]
     },
     "metadata": {},
     "output_type": "display_data"
    },
    {
     "data": {
      "text/html": [
       "Find internal logs for this run at: <code>/home/sowmya/Desktop/cs5691/assignment/assignment3/codes/wandb/run-20210507_202816-dougsn1u/logs/debug-internal.log</code>"
      ],
      "text/plain": [
       "<IPython.core.display.HTML object>"
      ]
     },
     "metadata": {},
     "output_type": "display_data"
    },
    {
     "data": {
      "text/html": [
       "Synced 4 W&B file(s), 0 media file(s), 0 artifact file(s) and 0 other file(s)"
      ],
      "text/plain": [
       "<IPython.core.display.HTML object>"
      ]
     },
     "metadata": {},
     "output_type": "display_data"
    },
    {
     "data": {
      "text/html": [
       "\n",
       "                    <br/>Synced <strong style=\"color:#cdcd00\">comic-sweep-15</strong>: <a href=\"https://wandb.ai/sowmyamanojna/PRML-A3/runs/dougsn1u\" target=\"_blank\">https://wandb.ai/sowmyamanojna/PRML-A3/runs/dougsn1u</a><br/>\n",
       "                "
      ],
      "text/plain": [
       "<IPython.core.display.HTML object>"
      ]
     },
     "metadata": {},
     "output_type": "display_data"
    },
    {
     "data": {
      "text/html": [
       "...Successfully finished last run (ID:dougsn1u). Initializing new run:<br/><br/>"
      ],
      "text/plain": [
       "<IPython.core.display.HTML object>"
      ]
     },
     "metadata": {},
     "output_type": "display_data"
    },
    {
     "data": {
      "text/html": [
       "\n",
       "                Tracking run with wandb version 0.10.29<br/>\n",
       "                Syncing run <strong style=\"color:#cdcd00\">comic-sweep-15</strong> to <a href=\"https://wandb.ai\" target=\"_blank\">Weights & Biases</a> <a href=\"https://docs.wandb.com/integrations/jupyter.html\" target=\"_blank\">(Documentation)</a>.<br/>\n",
       "                Project page: <a href=\"https://wandb.ai/sowmyamanojna/PRML-A3\" target=\"_blank\">https://wandb.ai/sowmyamanojna/PRML-A3</a><br/>\n",
       "                Sweep page: <a href=\"https://wandb.ai/sowmyamanojna/PRML-A3/sweeps/gs0l7xqc\" target=\"_blank\">https://wandb.ai/sowmyamanojna/PRML-A3/sweeps/gs0l7xqc</a><br/>\n",
       "Run page: <a href=\"https://wandb.ai/sowmyamanojna/PRML-A3/runs/dougsn1u\" target=\"_blank\">https://wandb.ai/sowmyamanojna/PRML-A3/runs/dougsn1u</a><br/>\n",
       "                Run data is saved locally in <code>/home/sowmya/Desktop/cs5691/assignment/assignment3/codes/wandb/run-20210507_202820-dougsn1u</code><br/><br/>\n",
       "            "
      ],
      "text/plain": [
       "<IPython.core.display.HTML object>"
      ]
     },
     "metadata": {},
     "output_type": "display_data"
    },
    {
     "name": "stderr",
     "output_type": "stream",
     "text": [
      "\u001b[34m\u001b[1mwandb\u001b[0m: Agent Starting Run: 090v2dbl with config:\n",
      "\u001b[34m\u001b[1mwandb\u001b[0m: \talpha: 0.01\n",
      "\u001b[34m\u001b[1mwandb\u001b[0m: \tbatch_size: 50\n",
      "\u001b[34m\u001b[1mwandb\u001b[0m: \tearly_stopping: False\n",
      "\u001b[34m\u001b[1mwandb\u001b[0m: \thidden_layer_sizes: [75, 75]\n",
      "\u001b[34m\u001b[1mwandb\u001b[0m: \tlearning_rate: constant\n"
     ]
    },
    {
     "data": {
      "text/html": [
       "\n",
       "                Tracking run with wandb version 0.10.29<br/>\n",
       "                Syncing run <strong style=\"color:#cdcd00\">fragrant-sweep-16</strong> to <a href=\"https://wandb.ai\" target=\"_blank\">Weights & Biases</a> <a href=\"https://docs.wandb.com/integrations/jupyter.html\" target=\"_blank\">(Documentation)</a>.<br/>\n",
       "                Project page: <a href=\"https://wandb.ai/sowmyamanojna/PRML-A3\" target=\"_blank\">https://wandb.ai/sowmyamanojna/PRML-A3</a><br/>\n",
       "                Sweep page: <a href=\"https://wandb.ai/sowmyamanojna/PRML-A3/sweeps/gs0l7xqc\" target=\"_blank\">https://wandb.ai/sowmyamanojna/PRML-A3/sweeps/gs0l7xqc</a><br/>\n",
       "Run page: <a href=\"https://wandb.ai/sowmyamanojna/PRML-A3/runs/090v2dbl\" target=\"_blank\">https://wandb.ai/sowmyamanojna/PRML-A3/runs/090v2dbl</a><br/>\n",
       "                Run data is saved locally in <code>/home/sowmya/Desktop/cs5691/assignment/assignment3/codes/wandb/run-20210507_202837-090v2dbl</code><br/><br/>\n",
       "            "
      ],
      "text/plain": [
       "<IPython.core.display.HTML object>"
      ]
     },
     "metadata": {},
     "output_type": "display_data"
    },
    {
     "data": {
      "text/html": [
       "Finishing last run (ID:090v2dbl) before initializing another..."
      ],
      "text/plain": [
       "<IPython.core.display.HTML object>"
      ]
     },
     "metadata": {},
     "output_type": "display_data"
    },
    {
     "data": {
      "text/html": [
       "<br/>Waiting for W&B process to finish, PID 35005<br/>Program ended successfully."
      ],
      "text/plain": [
       "<IPython.core.display.HTML object>"
      ]
     },
     "metadata": {},
     "output_type": "display_data"
    },
    {
     "data": {
      "application/vnd.jupyter.widget-view+json": {
       "model_id": "",
       "version_major": 2,
       "version_minor": 0
      },
      "text/plain": [
       "VBox(children=(Label(value=' 0.00MB of 0.00MB uploaded (0.00MB deduped)\\r'), FloatProgress(value=1.0, max=1.0)…"
      ]
     },
     "metadata": {},
     "output_type": "display_data"
    },
    {
     "data": {
      "text/html": [
       "Find user logs for this run at: <code>/home/sowmya/Desktop/cs5691/assignment/assignment3/codes/wandb/run-20210507_202837-090v2dbl/logs/debug.log</code>"
      ],
      "text/plain": [
       "<IPython.core.display.HTML object>"
      ]
     },
     "metadata": {},
     "output_type": "display_data"
    },
    {
     "data": {
      "text/html": [
       "Find internal logs for this run at: <code>/home/sowmya/Desktop/cs5691/assignment/assignment3/codes/wandb/run-20210507_202837-090v2dbl/logs/debug-internal.log</code>"
      ],
      "text/plain": [
       "<IPython.core.display.HTML object>"
      ]
     },
     "metadata": {},
     "output_type": "display_data"
    },
    {
     "data": {
      "text/html": [
       "Synced 4 W&B file(s), 0 media file(s), 0 artifact file(s) and 0 other file(s)"
      ],
      "text/plain": [
       "<IPython.core.display.HTML object>"
      ]
     },
     "metadata": {},
     "output_type": "display_data"
    },
    {
     "data": {
      "text/html": [
       "\n",
       "                    <br/>Synced <strong style=\"color:#cdcd00\">fragrant-sweep-16</strong>: <a href=\"https://wandb.ai/sowmyamanojna/PRML-A3/runs/090v2dbl\" target=\"_blank\">https://wandb.ai/sowmyamanojna/PRML-A3/runs/090v2dbl</a><br/>\n",
       "                "
      ],
      "text/plain": [
       "<IPython.core.display.HTML object>"
      ]
     },
     "metadata": {},
     "output_type": "display_data"
    },
    {
     "data": {
      "text/html": [
       "...Successfully finished last run (ID:090v2dbl). Initializing new run:<br/><br/>"
      ],
      "text/plain": [
       "<IPython.core.display.HTML object>"
      ]
     },
     "metadata": {},
     "output_type": "display_data"
    },
    {
     "data": {
      "text/html": [
       "\n",
       "                Tracking run with wandb version 0.10.29<br/>\n",
       "                Syncing run <strong style=\"color:#cdcd00\">fragrant-sweep-16</strong> to <a href=\"https://wandb.ai\" target=\"_blank\">Weights & Biases</a> <a href=\"https://docs.wandb.com/integrations/jupyter.html\" target=\"_blank\">(Documentation)</a>.<br/>\n",
       "                Project page: <a href=\"https://wandb.ai/sowmyamanojna/PRML-A3\" target=\"_blank\">https://wandb.ai/sowmyamanojna/PRML-A3</a><br/>\n",
       "                Sweep page: <a href=\"https://wandb.ai/sowmyamanojna/PRML-A3/sweeps/gs0l7xqc\" target=\"_blank\">https://wandb.ai/sowmyamanojna/PRML-A3/sweeps/gs0l7xqc</a><br/>\n",
       "Run page: <a href=\"https://wandb.ai/sowmyamanojna/PRML-A3/runs/090v2dbl\" target=\"_blank\">https://wandb.ai/sowmyamanojna/PRML-A3/runs/090v2dbl</a><br/>\n",
       "                Run data is saved locally in <code>/home/sowmya/Desktop/cs5691/assignment/assignment3/codes/wandb/run-20210507_202840-090v2dbl</code><br/><br/>\n",
       "            "
      ],
      "text/plain": [
       "<IPython.core.display.HTML object>"
      ]
     },
     "metadata": {},
     "output_type": "display_data"
    },
    {
     "name": "stderr",
     "output_type": "stream",
     "text": [
      "\u001b[34m\u001b[1mwandb\u001b[0m: Agent Starting Run: z5zna7nr with config:\n",
      "\u001b[34m\u001b[1mwandb\u001b[0m: \talpha: 0.01\n",
      "\u001b[34m\u001b[1mwandb\u001b[0m: \tbatch_size: 50\n",
      "\u001b[34m\u001b[1mwandb\u001b[0m: \tearly_stopping: False\n",
      "\u001b[34m\u001b[1mwandb\u001b[0m: \thidden_layer_sizes: [75, 75]\n",
      "\u001b[34m\u001b[1mwandb\u001b[0m: \tlearning_rate: adaptive\n"
     ]
    },
    {
     "data": {
      "text/html": [
       "\n",
       "                Tracking run with wandb version 0.10.29<br/>\n",
       "                Syncing run <strong style=\"color:#cdcd00\">hearty-sweep-17</strong> to <a href=\"https://wandb.ai\" target=\"_blank\">Weights & Biases</a> <a href=\"https://docs.wandb.com/integrations/jupyter.html\" target=\"_blank\">(Documentation)</a>.<br/>\n",
       "                Project page: <a href=\"https://wandb.ai/sowmyamanojna/PRML-A3\" target=\"_blank\">https://wandb.ai/sowmyamanojna/PRML-A3</a><br/>\n",
       "                Sweep page: <a href=\"https://wandb.ai/sowmyamanojna/PRML-A3/sweeps/gs0l7xqc\" target=\"_blank\">https://wandb.ai/sowmyamanojna/PRML-A3/sweeps/gs0l7xqc</a><br/>\n",
       "Run page: <a href=\"https://wandb.ai/sowmyamanojna/PRML-A3/runs/z5zna7nr\" target=\"_blank\">https://wandb.ai/sowmyamanojna/PRML-A3/runs/z5zna7nr</a><br/>\n",
       "                Run data is saved locally in <code>/home/sowmya/Desktop/cs5691/assignment/assignment3/codes/wandb/run-20210507_202925-z5zna7nr</code><br/><br/>\n",
       "            "
      ],
      "text/plain": [
       "<IPython.core.display.HTML object>"
      ]
     },
     "metadata": {},
     "output_type": "display_data"
    },
    {
     "data": {
      "text/html": [
       "Finishing last run (ID:z5zna7nr) before initializing another..."
      ],
      "text/plain": [
       "<IPython.core.display.HTML object>"
      ]
     },
     "metadata": {},
     "output_type": "display_data"
    },
    {
     "data": {
      "text/html": [
       "<br/>Waiting for W&B process to finish, PID 35098<br/>Program ended successfully."
      ],
      "text/plain": [
       "<IPython.core.display.HTML object>"
      ]
     },
     "metadata": {},
     "output_type": "display_data"
    },
    {
     "data": {
      "application/vnd.jupyter.widget-view+json": {
       "model_id": "",
       "version_major": 2,
       "version_minor": 0
      },
      "text/plain": [
       "VBox(children=(Label(value=' 0.00MB of 0.00MB uploaded (0.00MB deduped)\\r'), FloatProgress(value=1.0, max=1.0)…"
      ]
     },
     "metadata": {},
     "output_type": "display_data"
    },
    {
     "data": {
      "text/html": [
       "Find user logs for this run at: <code>/home/sowmya/Desktop/cs5691/assignment/assignment3/codes/wandb/run-20210507_202925-z5zna7nr/logs/debug.log</code>"
      ],
      "text/plain": [
       "<IPython.core.display.HTML object>"
      ]
     },
     "metadata": {},
     "output_type": "display_data"
    },
    {
     "data": {
      "text/html": [
       "Find internal logs for this run at: <code>/home/sowmya/Desktop/cs5691/assignment/assignment3/codes/wandb/run-20210507_202925-z5zna7nr/logs/debug-internal.log</code>"
      ],
      "text/plain": [
       "<IPython.core.display.HTML object>"
      ]
     },
     "metadata": {},
     "output_type": "display_data"
    },
    {
     "data": {
      "text/html": [
       "Synced 4 W&B file(s), 0 media file(s), 0 artifact file(s) and 0 other file(s)"
      ],
      "text/plain": [
       "<IPython.core.display.HTML object>"
      ]
     },
     "metadata": {},
     "output_type": "display_data"
    },
    {
     "data": {
      "text/html": [
       "\n",
       "                    <br/>Synced <strong style=\"color:#cdcd00\">hearty-sweep-17</strong>: <a href=\"https://wandb.ai/sowmyamanojna/PRML-A3/runs/z5zna7nr\" target=\"_blank\">https://wandb.ai/sowmyamanojna/PRML-A3/runs/z5zna7nr</a><br/>\n",
       "                "
      ],
      "text/plain": [
       "<IPython.core.display.HTML object>"
      ]
     },
     "metadata": {},
     "output_type": "display_data"
    },
    {
     "data": {
      "text/html": [
       "...Successfully finished last run (ID:z5zna7nr). Initializing new run:<br/><br/>"
      ],
      "text/plain": [
       "<IPython.core.display.HTML object>"
      ]
     },
     "metadata": {},
     "output_type": "display_data"
    },
    {
     "data": {
      "text/html": [
       "\n",
       "                Tracking run with wandb version 0.10.29<br/>\n",
       "                Syncing run <strong style=\"color:#cdcd00\">hearty-sweep-17</strong> to <a href=\"https://wandb.ai\" target=\"_blank\">Weights & Biases</a> <a href=\"https://docs.wandb.com/integrations/jupyter.html\" target=\"_blank\">(Documentation)</a>.<br/>\n",
       "                Project page: <a href=\"https://wandb.ai/sowmyamanojna/PRML-A3\" target=\"_blank\">https://wandb.ai/sowmyamanojna/PRML-A3</a><br/>\n",
       "                Sweep page: <a href=\"https://wandb.ai/sowmyamanojna/PRML-A3/sweeps/gs0l7xqc\" target=\"_blank\">https://wandb.ai/sowmyamanojna/PRML-A3/sweeps/gs0l7xqc</a><br/>\n",
       "Run page: <a href=\"https://wandb.ai/sowmyamanojna/PRML-A3/runs/z5zna7nr\" target=\"_blank\">https://wandb.ai/sowmyamanojna/PRML-A3/runs/z5zna7nr</a><br/>\n",
       "                Run data is saved locally in <code>/home/sowmya/Desktop/cs5691/assignment/assignment3/codes/wandb/run-20210507_202930-z5zna7nr</code><br/><br/>\n",
       "            "
      ],
      "text/plain": [
       "<IPython.core.display.HTML object>"
      ]
     },
     "metadata": {},
     "output_type": "display_data"
    },
    {
     "name": "stderr",
     "output_type": "stream",
     "text": [
      "\u001b[34m\u001b[1mwandb\u001b[0m: Agent Starting Run: mfm9hi8t with config:\n",
      "\u001b[34m\u001b[1mwandb\u001b[0m: \talpha: 0.01\n",
      "\u001b[34m\u001b[1mwandb\u001b[0m: \tbatch_size: 50\n",
      "\u001b[34m\u001b[1mwandb\u001b[0m: \tearly_stopping: False\n",
      "\u001b[34m\u001b[1mwandb\u001b[0m: \thidden_layer_sizes: [75, 75]\n",
      "\u001b[34m\u001b[1mwandb\u001b[0m: \tlearning_rate: invscaling\n"
     ]
    },
    {
     "data": {
      "text/html": [
       "\n",
       "                Tracking run with wandb version 0.10.29<br/>\n",
       "                Syncing run <strong style=\"color:#cdcd00\">snowy-sweep-18</strong> to <a href=\"https://wandb.ai\" target=\"_blank\">Weights & Biases</a> <a href=\"https://docs.wandb.com/integrations/jupyter.html\" target=\"_blank\">(Documentation)</a>.<br/>\n",
       "                Project page: <a href=\"https://wandb.ai/sowmyamanojna/PRML-A3\" target=\"_blank\">https://wandb.ai/sowmyamanojna/PRML-A3</a><br/>\n",
       "                Sweep page: <a href=\"https://wandb.ai/sowmyamanojna/PRML-A3/sweeps/gs0l7xqc\" target=\"_blank\">https://wandb.ai/sowmyamanojna/PRML-A3/sweeps/gs0l7xqc</a><br/>\n",
       "Run page: <a href=\"https://wandb.ai/sowmyamanojna/PRML-A3/runs/mfm9hi8t\" target=\"_blank\">https://wandb.ai/sowmyamanojna/PRML-A3/runs/mfm9hi8t</a><br/>\n",
       "                Run data is saved locally in <code>/home/sowmya/Desktop/cs5691/assignment/assignment3/codes/wandb/run-20210507_203021-mfm9hi8t</code><br/><br/>\n",
       "            "
      ],
      "text/plain": [
       "<IPython.core.display.HTML object>"
      ]
     },
     "metadata": {},
     "output_type": "display_data"
    },
    {
     "data": {
      "text/html": [
       "Finishing last run (ID:mfm9hi8t) before initializing another..."
      ],
      "text/plain": [
       "<IPython.core.display.HTML object>"
      ]
     },
     "metadata": {},
     "output_type": "display_data"
    },
    {
     "data": {
      "text/html": [
       "<br/>Waiting for W&B process to finish, PID 35193<br/>Program ended successfully."
      ],
      "text/plain": [
       "<IPython.core.display.HTML object>"
      ]
     },
     "metadata": {},
     "output_type": "display_data"
    },
    {
     "data": {
      "application/vnd.jupyter.widget-view+json": {
       "model_id": "",
       "version_major": 2,
       "version_minor": 0
      },
      "text/plain": [
       "VBox(children=(Label(value=' 0.00MB of 0.00MB uploaded (0.00MB deduped)\\r'), FloatProgress(value=1.0, max=1.0)…"
      ]
     },
     "metadata": {},
     "output_type": "display_data"
    },
    {
     "data": {
      "text/html": [
       "Find user logs for this run at: <code>/home/sowmya/Desktop/cs5691/assignment/assignment3/codes/wandb/run-20210507_203021-mfm9hi8t/logs/debug.log</code>"
      ],
      "text/plain": [
       "<IPython.core.display.HTML object>"
      ]
     },
     "metadata": {},
     "output_type": "display_data"
    },
    {
     "data": {
      "text/html": [
       "Find internal logs for this run at: <code>/home/sowmya/Desktop/cs5691/assignment/assignment3/codes/wandb/run-20210507_203021-mfm9hi8t/logs/debug-internal.log</code>"
      ],
      "text/plain": [
       "<IPython.core.display.HTML object>"
      ]
     },
     "metadata": {},
     "output_type": "display_data"
    },
    {
     "data": {
      "text/html": [
       "Synced 4 W&B file(s), 0 media file(s), 0 artifact file(s) and 0 other file(s)"
      ],
      "text/plain": [
       "<IPython.core.display.HTML object>"
      ]
     },
     "metadata": {},
     "output_type": "display_data"
    },
    {
     "data": {
      "text/html": [
       "\n",
       "                    <br/>Synced <strong style=\"color:#cdcd00\">snowy-sweep-18</strong>: <a href=\"https://wandb.ai/sowmyamanojna/PRML-A3/runs/mfm9hi8t\" target=\"_blank\">https://wandb.ai/sowmyamanojna/PRML-A3/runs/mfm9hi8t</a><br/>\n",
       "                "
      ],
      "text/plain": [
       "<IPython.core.display.HTML object>"
      ]
     },
     "metadata": {},
     "output_type": "display_data"
    },
    {
     "data": {
      "text/html": [
       "...Successfully finished last run (ID:mfm9hi8t). Initializing new run:<br/><br/>"
      ],
      "text/plain": [
       "<IPython.core.display.HTML object>"
      ]
     },
     "metadata": {},
     "output_type": "display_data"
    },
    {
     "data": {
      "text/html": [
       "\n",
       "                Tracking run with wandb version 0.10.29<br/>\n",
       "                Syncing run <strong style=\"color:#cdcd00\">snowy-sweep-18</strong> to <a href=\"https://wandb.ai\" target=\"_blank\">Weights & Biases</a> <a href=\"https://docs.wandb.com/integrations/jupyter.html\" target=\"_blank\">(Documentation)</a>.<br/>\n",
       "                Project page: <a href=\"https://wandb.ai/sowmyamanojna/PRML-A3\" target=\"_blank\">https://wandb.ai/sowmyamanojna/PRML-A3</a><br/>\n",
       "                Sweep page: <a href=\"https://wandb.ai/sowmyamanojna/PRML-A3/sweeps/gs0l7xqc\" target=\"_blank\">https://wandb.ai/sowmyamanojna/PRML-A3/sweeps/gs0l7xqc</a><br/>\n",
       "Run page: <a href=\"https://wandb.ai/sowmyamanojna/PRML-A3/runs/mfm9hi8t\" target=\"_blank\">https://wandb.ai/sowmyamanojna/PRML-A3/runs/mfm9hi8t</a><br/>\n",
       "                Run data is saved locally in <code>/home/sowmya/Desktop/cs5691/assignment/assignment3/codes/wandb/run-20210507_203028-mfm9hi8t</code><br/><br/>\n",
       "            "
      ],
      "text/plain": [
       "<IPython.core.display.HTML object>"
      ]
     },
     "metadata": {},
     "output_type": "display_data"
    },
    {
     "name": "stderr",
     "output_type": "stream",
     "text": [
      "\u001b[34m\u001b[1mwandb\u001b[0m: Agent Starting Run: dp7ks221 with config:\n",
      "\u001b[34m\u001b[1mwandb\u001b[0m: \talpha: 0.01\n",
      "\u001b[34m\u001b[1mwandb\u001b[0m: \tbatch_size: 100\n",
      "\u001b[34m\u001b[1mwandb\u001b[0m: \tearly_stopping: True\n",
      "\u001b[34m\u001b[1mwandb\u001b[0m: \thidden_layer_sizes: [25, 25]\n",
      "\u001b[34m\u001b[1mwandb\u001b[0m: \tlearning_rate: constant\n"
     ]
    },
    {
     "data": {
      "text/html": [
       "\n",
       "                Tracking run with wandb version 0.10.29<br/>\n",
       "                Syncing run <strong style=\"color:#cdcd00\">fresh-sweep-19</strong> to <a href=\"https://wandb.ai\" target=\"_blank\">Weights & Biases</a> <a href=\"https://docs.wandb.com/integrations/jupyter.html\" target=\"_blank\">(Documentation)</a>.<br/>\n",
       "                Project page: <a href=\"https://wandb.ai/sowmyamanojna/PRML-A3\" target=\"_blank\">https://wandb.ai/sowmyamanojna/PRML-A3</a><br/>\n",
       "                Sweep page: <a href=\"https://wandb.ai/sowmyamanojna/PRML-A3/sweeps/gs0l7xqc\" target=\"_blank\">https://wandb.ai/sowmyamanojna/PRML-A3/sweeps/gs0l7xqc</a><br/>\n",
       "Run page: <a href=\"https://wandb.ai/sowmyamanojna/PRML-A3/runs/dp7ks221\" target=\"_blank\">https://wandb.ai/sowmyamanojna/PRML-A3/runs/dp7ks221</a><br/>\n",
       "                Run data is saved locally in <code>/home/sowmya/Desktop/cs5691/assignment/assignment3/codes/wandb/run-20210507_203125-dp7ks221</code><br/><br/>\n",
       "            "
      ],
      "text/plain": [
       "<IPython.core.display.HTML object>"
      ]
     },
     "metadata": {},
     "output_type": "display_data"
    },
    {
     "data": {
      "text/html": [
       "Finishing last run (ID:dp7ks221) before initializing another..."
      ],
      "text/plain": [
       "<IPython.core.display.HTML object>"
      ]
     },
     "metadata": {},
     "output_type": "display_data"
    },
    {
     "data": {
      "text/html": [
       "<br/>Waiting for W&B process to finish, PID 35289<br/>Program ended successfully."
      ],
      "text/plain": [
       "<IPython.core.display.HTML object>"
      ]
     },
     "metadata": {},
     "output_type": "display_data"
    },
    {
     "data": {
      "application/vnd.jupyter.widget-view+json": {
       "model_id": "",
       "version_major": 2,
       "version_minor": 0
      },
      "text/plain": [
       "VBox(children=(Label(value=' 0.00MB of 0.00MB uploaded (0.00MB deduped)\\r'), FloatProgress(value=1.0, max=1.0)…"
      ]
     },
     "metadata": {},
     "output_type": "display_data"
    },
    {
     "data": {
      "text/html": [
       "Find user logs for this run at: <code>/home/sowmya/Desktop/cs5691/assignment/assignment3/codes/wandb/run-20210507_203125-dp7ks221/logs/debug.log</code>"
      ],
      "text/plain": [
       "<IPython.core.display.HTML object>"
      ]
     },
     "metadata": {},
     "output_type": "display_data"
    },
    {
     "data": {
      "text/html": [
       "Find internal logs for this run at: <code>/home/sowmya/Desktop/cs5691/assignment/assignment3/codes/wandb/run-20210507_203125-dp7ks221/logs/debug-internal.log</code>"
      ],
      "text/plain": [
       "<IPython.core.display.HTML object>"
      ]
     },
     "metadata": {},
     "output_type": "display_data"
    },
    {
     "data": {
      "text/html": [
       "Synced 4 W&B file(s), 0 media file(s), 0 artifact file(s) and 0 other file(s)"
      ],
      "text/plain": [
       "<IPython.core.display.HTML object>"
      ]
     },
     "metadata": {},
     "output_type": "display_data"
    },
    {
     "data": {
      "text/html": [
       "\n",
       "                    <br/>Synced <strong style=\"color:#cdcd00\">fresh-sweep-19</strong>: <a href=\"https://wandb.ai/sowmyamanojna/PRML-A3/runs/dp7ks221\" target=\"_blank\">https://wandb.ai/sowmyamanojna/PRML-A3/runs/dp7ks221</a><br/>\n",
       "                "
      ],
      "text/plain": [
       "<IPython.core.display.HTML object>"
      ]
     },
     "metadata": {},
     "output_type": "display_data"
    },
    {
     "data": {
      "text/html": [
       "...Successfully finished last run (ID:dp7ks221). Initializing new run:<br/><br/>"
      ],
      "text/plain": [
       "<IPython.core.display.HTML object>"
      ]
     },
     "metadata": {},
     "output_type": "display_data"
    },
    {
     "data": {
      "text/html": [
       "\n",
       "                Tracking run with wandb version 0.10.29<br/>\n",
       "                Syncing run <strong style=\"color:#cdcd00\">fresh-sweep-19</strong> to <a href=\"https://wandb.ai\" target=\"_blank\">Weights & Biases</a> <a href=\"https://docs.wandb.com/integrations/jupyter.html\" target=\"_blank\">(Documentation)</a>.<br/>\n",
       "                Project page: <a href=\"https://wandb.ai/sowmyamanojna/PRML-A3\" target=\"_blank\">https://wandb.ai/sowmyamanojna/PRML-A3</a><br/>\n",
       "                Sweep page: <a href=\"https://wandb.ai/sowmyamanojna/PRML-A3/sweeps/gs0l7xqc\" target=\"_blank\">https://wandb.ai/sowmyamanojna/PRML-A3/sweeps/gs0l7xqc</a><br/>\n",
       "Run page: <a href=\"https://wandb.ai/sowmyamanojna/PRML-A3/runs/dp7ks221\" target=\"_blank\">https://wandb.ai/sowmyamanojna/PRML-A3/runs/dp7ks221</a><br/>\n",
       "                Run data is saved locally in <code>/home/sowmya/Desktop/cs5691/assignment/assignment3/codes/wandb/run-20210507_203141-dp7ks221</code><br/><br/>\n",
       "            "
      ],
      "text/plain": [
       "<IPython.core.display.HTML object>"
      ]
     },
     "metadata": {},
     "output_type": "display_data"
    },
    {
     "name": "stderr",
     "output_type": "stream",
     "text": [
      "\u001b[34m\u001b[1mwandb\u001b[0m: Sweep Agent: Waiting for job.\n",
      "\u001b[34m\u001b[1mwandb\u001b[0m: Job received.\n",
      "\u001b[34m\u001b[1mwandb\u001b[0m: Agent Starting Run: 4kynb1lw with config:\n",
      "\u001b[34m\u001b[1mwandb\u001b[0m: \talpha: 0.01\n",
      "\u001b[34m\u001b[1mwandb\u001b[0m: \tbatch_size: 100\n",
      "\u001b[34m\u001b[1mwandb\u001b[0m: \tearly_stopping: True\n",
      "\u001b[34m\u001b[1mwandb\u001b[0m: \thidden_layer_sizes: [25, 25]\n",
      "\u001b[34m\u001b[1mwandb\u001b[0m: \tlearning_rate: adaptive\n"
     ]
    },
    {
     "data": {
      "text/html": [
       "\n",
       "                Tracking run with wandb version 0.10.29<br/>\n",
       "                Syncing run <strong style=\"color:#cdcd00\">bright-sweep-20</strong> to <a href=\"https://wandb.ai\" target=\"_blank\">Weights & Biases</a> <a href=\"https://docs.wandb.com/integrations/jupyter.html\" target=\"_blank\">(Documentation)</a>.<br/>\n",
       "                Project page: <a href=\"https://wandb.ai/sowmyamanojna/PRML-A3\" target=\"_blank\">https://wandb.ai/sowmyamanojna/PRML-A3</a><br/>\n",
       "                Sweep page: <a href=\"https://wandb.ai/sowmyamanojna/PRML-A3/sweeps/gs0l7xqc\" target=\"_blank\">https://wandb.ai/sowmyamanojna/PRML-A3/sweeps/gs0l7xqc</a><br/>\n",
       "Run page: <a href=\"https://wandb.ai/sowmyamanojna/PRML-A3/runs/4kynb1lw\" target=\"_blank\">https://wandb.ai/sowmyamanojna/PRML-A3/runs/4kynb1lw</a><br/>\n",
       "                Run data is saved locally in <code>/home/sowmya/Desktop/cs5691/assignment/assignment3/codes/wandb/run-20210507_203159-4kynb1lw</code><br/><br/>\n",
       "            "
      ],
      "text/plain": [
       "<IPython.core.display.HTML object>"
      ]
     },
     "metadata": {},
     "output_type": "display_data"
    },
    {
     "data": {
      "text/html": [
       "Finishing last run (ID:4kynb1lw) before initializing another..."
      ],
      "text/plain": [
       "<IPython.core.display.HTML object>"
      ]
     },
     "metadata": {},
     "output_type": "display_data"
    },
    {
     "data": {
      "text/html": [
       "<br/>Waiting for W&B process to finish, PID 35399<br/>Program ended successfully."
      ],
      "text/plain": [
       "<IPython.core.display.HTML object>"
      ]
     },
     "metadata": {},
     "output_type": "display_data"
    },
    {
     "data": {
      "application/vnd.jupyter.widget-view+json": {
       "model_id": "",
       "version_major": 2,
       "version_minor": 0
      },
      "text/plain": [
       "VBox(children=(Label(value=' 0.00MB of 0.00MB uploaded (0.00MB deduped)\\r'), FloatProgress(value=1.0, max=1.0)…"
      ]
     },
     "metadata": {},
     "output_type": "display_data"
    },
    {
     "data": {
      "text/html": [
       "Find user logs for this run at: <code>/home/sowmya/Desktop/cs5691/assignment/assignment3/codes/wandb/run-20210507_203159-4kynb1lw/logs/debug.log</code>"
      ],
      "text/plain": [
       "<IPython.core.display.HTML object>"
      ]
     },
     "metadata": {},
     "output_type": "display_data"
    },
    {
     "data": {
      "text/html": [
       "Find internal logs for this run at: <code>/home/sowmya/Desktop/cs5691/assignment/assignment3/codes/wandb/run-20210507_203159-4kynb1lw/logs/debug-internal.log</code>"
      ],
      "text/plain": [
       "<IPython.core.display.HTML object>"
      ]
     },
     "metadata": {},
     "output_type": "display_data"
    },
    {
     "data": {
      "text/html": [
       "Synced 4 W&B file(s), 0 media file(s), 0 artifact file(s) and 0 other file(s)"
      ],
      "text/plain": [
       "<IPython.core.display.HTML object>"
      ]
     },
     "metadata": {},
     "output_type": "display_data"
    },
    {
     "data": {
      "text/html": [
       "\n",
       "                    <br/>Synced <strong style=\"color:#cdcd00\">bright-sweep-20</strong>: <a href=\"https://wandb.ai/sowmyamanojna/PRML-A3/runs/4kynb1lw\" target=\"_blank\">https://wandb.ai/sowmyamanojna/PRML-A3/runs/4kynb1lw</a><br/>\n",
       "                "
      ],
      "text/plain": [
       "<IPython.core.display.HTML object>"
      ]
     },
     "metadata": {},
     "output_type": "display_data"
    },
    {
     "data": {
      "text/html": [
       "...Successfully finished last run (ID:4kynb1lw). Initializing new run:<br/><br/>"
      ],
      "text/plain": [
       "<IPython.core.display.HTML object>"
      ]
     },
     "metadata": {},
     "output_type": "display_data"
    },
    {
     "data": {
      "text/html": [
       "\n",
       "                Tracking run with wandb version 0.10.29<br/>\n",
       "                Syncing run <strong style=\"color:#cdcd00\">bright-sweep-20</strong> to <a href=\"https://wandb.ai\" target=\"_blank\">Weights & Biases</a> <a href=\"https://docs.wandb.com/integrations/jupyter.html\" target=\"_blank\">(Documentation)</a>.<br/>\n",
       "                Project page: <a href=\"https://wandb.ai/sowmyamanojna/PRML-A3\" target=\"_blank\">https://wandb.ai/sowmyamanojna/PRML-A3</a><br/>\n",
       "                Sweep page: <a href=\"https://wandb.ai/sowmyamanojna/PRML-A3/sweeps/gs0l7xqc\" target=\"_blank\">https://wandb.ai/sowmyamanojna/PRML-A3/sweeps/gs0l7xqc</a><br/>\n",
       "Run page: <a href=\"https://wandb.ai/sowmyamanojna/PRML-A3/runs/4kynb1lw\" target=\"_blank\">https://wandb.ai/sowmyamanojna/PRML-A3/runs/4kynb1lw</a><br/>\n",
       "                Run data is saved locally in <code>/home/sowmya/Desktop/cs5691/assignment/assignment3/codes/wandb/run-20210507_203201-4kynb1lw</code><br/><br/>\n",
       "            "
      ],
      "text/plain": [
       "<IPython.core.display.HTML object>"
      ]
     },
     "metadata": {},
     "output_type": "display_data"
    },
    {
     "name": "stderr",
     "output_type": "stream",
     "text": [
      "\u001b[34m\u001b[1mwandb\u001b[0m: Agent Starting Run: k03cplci with config:\n",
      "\u001b[34m\u001b[1mwandb\u001b[0m: \talpha: 0.01\n",
      "\u001b[34m\u001b[1mwandb\u001b[0m: \tbatch_size: 100\n",
      "\u001b[34m\u001b[1mwandb\u001b[0m: \tearly_stopping: True\n",
      "\u001b[34m\u001b[1mwandb\u001b[0m: \thidden_layer_sizes: [25, 25]\n",
      "\u001b[34m\u001b[1mwandb\u001b[0m: \tlearning_rate: invscaling\n"
     ]
    },
    {
     "data": {
      "text/html": [
       "\n",
       "                Tracking run with wandb version 0.10.29<br/>\n",
       "                Syncing run <strong style=\"color:#cdcd00\">bright-sweep-21</strong> to <a href=\"https://wandb.ai\" target=\"_blank\">Weights & Biases</a> <a href=\"https://docs.wandb.com/integrations/jupyter.html\" target=\"_blank\">(Documentation)</a>.<br/>\n",
       "                Project page: <a href=\"https://wandb.ai/sowmyamanojna/PRML-A3\" target=\"_blank\">https://wandb.ai/sowmyamanojna/PRML-A3</a><br/>\n",
       "                Sweep page: <a href=\"https://wandb.ai/sowmyamanojna/PRML-A3/sweeps/gs0l7xqc\" target=\"_blank\">https://wandb.ai/sowmyamanojna/PRML-A3/sweeps/gs0l7xqc</a><br/>\n",
       "Run page: <a href=\"https://wandb.ai/sowmyamanojna/PRML-A3/runs/k03cplci\" target=\"_blank\">https://wandb.ai/sowmyamanojna/PRML-A3/runs/k03cplci</a><br/>\n",
       "                Run data is saved locally in <code>/home/sowmya/Desktop/cs5691/assignment/assignment3/codes/wandb/run-20210507_203209-k03cplci</code><br/><br/>\n",
       "            "
      ],
      "text/plain": [
       "<IPython.core.display.HTML object>"
      ]
     },
     "metadata": {},
     "output_type": "display_data"
    },
    {
     "data": {
      "text/html": [
       "Finishing last run (ID:k03cplci) before initializing another..."
      ],
      "text/plain": [
       "<IPython.core.display.HTML object>"
      ]
     },
     "metadata": {},
     "output_type": "display_data"
    },
    {
     "data": {
      "text/html": [
       "<br/>Waiting for W&B process to finish, PID 35503<br/>Program ended successfully."
      ],
      "text/plain": [
       "<IPython.core.display.HTML object>"
      ]
     },
     "metadata": {},
     "output_type": "display_data"
    },
    {
     "data": {
      "application/vnd.jupyter.widget-view+json": {
       "model_id": "",
       "version_major": 2,
       "version_minor": 0
      },
      "text/plain": [
       "VBox(children=(Label(value=' 0.00MB of 0.00MB uploaded (0.00MB deduped)\\r'), FloatProgress(value=1.0, max=1.0)…"
      ]
     },
     "metadata": {},
     "output_type": "display_data"
    },
    {
     "data": {
      "text/html": [
       "Find user logs for this run at: <code>/home/sowmya/Desktop/cs5691/assignment/assignment3/codes/wandb/run-20210507_203209-k03cplci/logs/debug.log</code>"
      ],
      "text/plain": [
       "<IPython.core.display.HTML object>"
      ]
     },
     "metadata": {},
     "output_type": "display_data"
    },
    {
     "data": {
      "text/html": [
       "Find internal logs for this run at: <code>/home/sowmya/Desktop/cs5691/assignment/assignment3/codes/wandb/run-20210507_203209-k03cplci/logs/debug-internal.log</code>"
      ],
      "text/plain": [
       "<IPython.core.display.HTML object>"
      ]
     },
     "metadata": {},
     "output_type": "display_data"
    },
    {
     "data": {
      "text/html": [
       "Synced 4 W&B file(s), 0 media file(s), 0 artifact file(s) and 0 other file(s)"
      ],
      "text/plain": [
       "<IPython.core.display.HTML object>"
      ]
     },
     "metadata": {},
     "output_type": "display_data"
    },
    {
     "data": {
      "text/html": [
       "\n",
       "                    <br/>Synced <strong style=\"color:#cdcd00\">bright-sweep-21</strong>: <a href=\"https://wandb.ai/sowmyamanojna/PRML-A3/runs/k03cplci\" target=\"_blank\">https://wandb.ai/sowmyamanojna/PRML-A3/runs/k03cplci</a><br/>\n",
       "                "
      ],
      "text/plain": [
       "<IPython.core.display.HTML object>"
      ]
     },
     "metadata": {},
     "output_type": "display_data"
    },
    {
     "data": {
      "text/html": [
       "...Successfully finished last run (ID:k03cplci). Initializing new run:<br/><br/>"
      ],
      "text/plain": [
       "<IPython.core.display.HTML object>"
      ]
     },
     "metadata": {},
     "output_type": "display_data"
    },
    {
     "data": {
      "text/html": [
       "\n",
       "                Tracking run with wandb version 0.10.29<br/>\n",
       "                Syncing run <strong style=\"color:#cdcd00\">bright-sweep-21</strong> to <a href=\"https://wandb.ai\" target=\"_blank\">Weights & Biases</a> <a href=\"https://docs.wandb.com/integrations/jupyter.html\" target=\"_blank\">(Documentation)</a>.<br/>\n",
       "                Project page: <a href=\"https://wandb.ai/sowmyamanojna/PRML-A3\" target=\"_blank\">https://wandb.ai/sowmyamanojna/PRML-A3</a><br/>\n",
       "                Sweep page: <a href=\"https://wandb.ai/sowmyamanojna/PRML-A3/sweeps/gs0l7xqc\" target=\"_blank\">https://wandb.ai/sowmyamanojna/PRML-A3/sweeps/gs0l7xqc</a><br/>\n",
       "Run page: <a href=\"https://wandb.ai/sowmyamanojna/PRML-A3/runs/k03cplci\" target=\"_blank\">https://wandb.ai/sowmyamanojna/PRML-A3/runs/k03cplci</a><br/>\n",
       "                Run data is saved locally in <code>/home/sowmya/Desktop/cs5691/assignment/assignment3/codes/wandb/run-20210507_203218-k03cplci</code><br/><br/>\n",
       "            "
      ],
      "text/plain": [
       "<IPython.core.display.HTML object>"
      ]
     },
     "metadata": {},
     "output_type": "display_data"
    },
    {
     "name": "stderr",
     "output_type": "stream",
     "text": [
      "\u001b[34m\u001b[1mwandb\u001b[0m: Agent Starting Run: fr6d7j52 with config:\n",
      "\u001b[34m\u001b[1mwandb\u001b[0m: \talpha: 0.01\n",
      "\u001b[34m\u001b[1mwandb\u001b[0m: \tbatch_size: 100\n",
      "\u001b[34m\u001b[1mwandb\u001b[0m: \tearly_stopping: True\n",
      "\u001b[34m\u001b[1mwandb\u001b[0m: \thidden_layer_sizes: [50, 50]\n",
      "\u001b[34m\u001b[1mwandb\u001b[0m: \tlearning_rate: constant\n"
     ]
    },
    {
     "data": {
      "text/html": [
       "\n",
       "                Tracking run with wandb version 0.10.29<br/>\n",
       "                Syncing run <strong style=\"color:#cdcd00\">worldly-sweep-22</strong> to <a href=\"https://wandb.ai\" target=\"_blank\">Weights & Biases</a> <a href=\"https://docs.wandb.com/integrations/jupyter.html\" target=\"_blank\">(Documentation)</a>.<br/>\n",
       "                Project page: <a href=\"https://wandb.ai/sowmyamanojna/PRML-A3\" target=\"_blank\">https://wandb.ai/sowmyamanojna/PRML-A3</a><br/>\n",
       "                Sweep page: <a href=\"https://wandb.ai/sowmyamanojna/PRML-A3/sweeps/gs0l7xqc\" target=\"_blank\">https://wandb.ai/sowmyamanojna/PRML-A3/sweeps/gs0l7xqc</a><br/>\n",
       "Run page: <a href=\"https://wandb.ai/sowmyamanojna/PRML-A3/runs/fr6d7j52\" target=\"_blank\">https://wandb.ai/sowmyamanojna/PRML-A3/runs/fr6d7j52</a><br/>\n",
       "                Run data is saved locally in <code>/home/sowmya/Desktop/cs5691/assignment/assignment3/codes/wandb/run-20210507_203321-fr6d7j52</code><br/><br/>\n",
       "            "
      ],
      "text/plain": [
       "<IPython.core.display.HTML object>"
      ]
     },
     "metadata": {},
     "output_type": "display_data"
    },
    {
     "data": {
      "text/html": [
       "Finishing last run (ID:fr6d7j52) before initializing another..."
      ],
      "text/plain": [
       "<IPython.core.display.HTML object>"
      ]
     },
     "metadata": {},
     "output_type": "display_data"
    },
    {
     "data": {
      "text/html": [
       "<br/>Waiting for W&B process to finish, PID 35687<br/>Program ended successfully."
      ],
      "text/plain": [
       "<IPython.core.display.HTML object>"
      ]
     },
     "metadata": {},
     "output_type": "display_data"
    },
    {
     "data": {
      "application/vnd.jupyter.widget-view+json": {
       "model_id": "",
       "version_major": 2,
       "version_minor": 0
      },
      "text/plain": [
       "VBox(children=(Label(value=' 0.00MB of 0.00MB uploaded (0.00MB deduped)\\r'), FloatProgress(value=1.0, max=1.0)…"
      ]
     },
     "metadata": {},
     "output_type": "display_data"
    },
    {
     "data": {
      "text/html": [
       "Find user logs for this run at: <code>/home/sowmya/Desktop/cs5691/assignment/assignment3/codes/wandb/run-20210507_203321-fr6d7j52/logs/debug.log</code>"
      ],
      "text/plain": [
       "<IPython.core.display.HTML object>"
      ]
     },
     "metadata": {},
     "output_type": "display_data"
    },
    {
     "data": {
      "text/html": [
       "Find internal logs for this run at: <code>/home/sowmya/Desktop/cs5691/assignment/assignment3/codes/wandb/run-20210507_203321-fr6d7j52/logs/debug-internal.log</code>"
      ],
      "text/plain": [
       "<IPython.core.display.HTML object>"
      ]
     },
     "metadata": {},
     "output_type": "display_data"
    },
    {
     "data": {
      "text/html": [
       "Synced 4 W&B file(s), 0 media file(s), 0 artifact file(s) and 0 other file(s)"
      ],
      "text/plain": [
       "<IPython.core.display.HTML object>"
      ]
     },
     "metadata": {},
     "output_type": "display_data"
    },
    {
     "data": {
      "text/html": [
       "\n",
       "                    <br/>Synced <strong style=\"color:#cdcd00\">worldly-sweep-22</strong>: <a href=\"https://wandb.ai/sowmyamanojna/PRML-A3/runs/fr6d7j52\" target=\"_blank\">https://wandb.ai/sowmyamanojna/PRML-A3/runs/fr6d7j52</a><br/>\n",
       "                "
      ],
      "text/plain": [
       "<IPython.core.display.HTML object>"
      ]
     },
     "metadata": {},
     "output_type": "display_data"
    },
    {
     "data": {
      "text/html": [
       "...Successfully finished last run (ID:fr6d7j52). Initializing new run:<br/><br/>"
      ],
      "text/plain": [
       "<IPython.core.display.HTML object>"
      ]
     },
     "metadata": {},
     "output_type": "display_data"
    },
    {
     "data": {
      "text/html": [
       "\n",
       "                Tracking run with wandb version 0.10.29<br/>\n",
       "                Syncing run <strong style=\"color:#cdcd00\">worldly-sweep-22</strong> to <a href=\"https://wandb.ai\" target=\"_blank\">Weights & Biases</a> <a href=\"https://docs.wandb.com/integrations/jupyter.html\" target=\"_blank\">(Documentation)</a>.<br/>\n",
       "                Project page: <a href=\"https://wandb.ai/sowmyamanojna/PRML-A3\" target=\"_blank\">https://wandb.ai/sowmyamanojna/PRML-A3</a><br/>\n",
       "                Sweep page: <a href=\"https://wandb.ai/sowmyamanojna/PRML-A3/sweeps/gs0l7xqc\" target=\"_blank\">https://wandb.ai/sowmyamanojna/PRML-A3/sweeps/gs0l7xqc</a><br/>\n",
       "Run page: <a href=\"https://wandb.ai/sowmyamanojna/PRML-A3/runs/fr6d7j52\" target=\"_blank\">https://wandb.ai/sowmyamanojna/PRML-A3/runs/fr6d7j52</a><br/>\n",
       "                Run data is saved locally in <code>/home/sowmya/Desktop/cs5691/assignment/assignment3/codes/wandb/run-20210507_203349-fr6d7j52</code><br/><br/>\n",
       "            "
      ],
      "text/plain": [
       "<IPython.core.display.HTML object>"
      ]
     },
     "metadata": {},
     "output_type": "display_data"
    },
    {
     "name": "stderr",
     "output_type": "stream",
     "text": [
      "\u001b[34m\u001b[1mwandb\u001b[0m: Agent Starting Run: 90ggaxk0 with config:\n",
      "\u001b[34m\u001b[1mwandb\u001b[0m: \talpha: 0.01\n",
      "\u001b[34m\u001b[1mwandb\u001b[0m: \tbatch_size: 100\n",
      "\u001b[34m\u001b[1mwandb\u001b[0m: \tearly_stopping: True\n",
      "\u001b[34m\u001b[1mwandb\u001b[0m: \thidden_layer_sizes: [50, 50]\n",
      "\u001b[34m\u001b[1mwandb\u001b[0m: \tlearning_rate: adaptive\n"
     ]
    },
    {
     "data": {
      "text/html": [
       "\n",
       "                Tracking run with wandb version 0.10.29<br/>\n",
       "                Syncing run <strong style=\"color:#cdcd00\">logical-sweep-23</strong> to <a href=\"https://wandb.ai\" target=\"_blank\">Weights & Biases</a> <a href=\"https://docs.wandb.com/integrations/jupyter.html\" target=\"_blank\">(Documentation)</a>.<br/>\n",
       "                Project page: <a href=\"https://wandb.ai/sowmyamanojna/PRML-A3\" target=\"_blank\">https://wandb.ai/sowmyamanojna/PRML-A3</a><br/>\n",
       "                Sweep page: <a href=\"https://wandb.ai/sowmyamanojna/PRML-A3/sweeps/gs0l7xqc\" target=\"_blank\">https://wandb.ai/sowmyamanojna/PRML-A3/sweeps/gs0l7xqc</a><br/>\n",
       "Run page: <a href=\"https://wandb.ai/sowmyamanojna/PRML-A3/runs/90ggaxk0\" target=\"_blank\">https://wandb.ai/sowmyamanojna/PRML-A3/runs/90ggaxk0</a><br/>\n",
       "                Run data is saved locally in <code>/home/sowmya/Desktop/cs5691/assignment/assignment3/codes/wandb/run-20210507_203419-90ggaxk0</code><br/><br/>\n",
       "            "
      ],
      "text/plain": [
       "<IPython.core.display.HTML object>"
      ]
     },
     "metadata": {},
     "output_type": "display_data"
    },
    {
     "data": {
      "text/html": [
       "Finishing last run (ID:90ggaxk0) before initializing another..."
      ],
      "text/plain": [
       "<IPython.core.display.HTML object>"
      ]
     },
     "metadata": {},
     "output_type": "display_data"
    },
    {
     "data": {
      "text/html": [
       "<br/>Waiting for W&B process to finish, PID 35831<br/>Program ended successfully."
      ],
      "text/plain": [
       "<IPython.core.display.HTML object>"
      ]
     },
     "metadata": {},
     "output_type": "display_data"
    },
    {
     "data": {
      "application/vnd.jupyter.widget-view+json": {
       "model_id": "",
       "version_major": 2,
       "version_minor": 0
      },
      "text/plain": [
       "VBox(children=(Label(value=' 0.00MB of 0.00MB uploaded (0.00MB deduped)\\r'), FloatProgress(value=1.0, max=1.0)…"
      ]
     },
     "metadata": {},
     "output_type": "display_data"
    },
    {
     "data": {
      "text/html": [
       "Find user logs for this run at: <code>/home/sowmya/Desktop/cs5691/assignment/assignment3/codes/wandb/run-20210507_203419-90ggaxk0/logs/debug.log</code>"
      ],
      "text/plain": [
       "<IPython.core.display.HTML object>"
      ]
     },
     "metadata": {},
     "output_type": "display_data"
    },
    {
     "data": {
      "text/html": [
       "Find internal logs for this run at: <code>/home/sowmya/Desktop/cs5691/assignment/assignment3/codes/wandb/run-20210507_203419-90ggaxk0/logs/debug-internal.log</code>"
      ],
      "text/plain": [
       "<IPython.core.display.HTML object>"
      ]
     },
     "metadata": {},
     "output_type": "display_data"
    },
    {
     "data": {
      "text/html": [
       "Synced 4 W&B file(s), 0 media file(s), 0 artifact file(s) and 0 other file(s)"
      ],
      "text/plain": [
       "<IPython.core.display.HTML object>"
      ]
     },
     "metadata": {},
     "output_type": "display_data"
    },
    {
     "data": {
      "text/html": [
       "\n",
       "                    <br/>Synced <strong style=\"color:#cdcd00\">logical-sweep-23</strong>: <a href=\"https://wandb.ai/sowmyamanojna/PRML-A3/runs/90ggaxk0\" target=\"_blank\">https://wandb.ai/sowmyamanojna/PRML-A3/runs/90ggaxk0</a><br/>\n",
       "                "
      ],
      "text/plain": [
       "<IPython.core.display.HTML object>"
      ]
     },
     "metadata": {},
     "output_type": "display_data"
    },
    {
     "data": {
      "text/html": [
       "...Successfully finished last run (ID:90ggaxk0). Initializing new run:<br/><br/>"
      ],
      "text/plain": [
       "<IPython.core.display.HTML object>"
      ]
     },
     "metadata": {},
     "output_type": "display_data"
    },
    {
     "data": {
      "text/html": [
       "\n",
       "                Tracking run with wandb version 0.10.29<br/>\n",
       "                Syncing run <strong style=\"color:#cdcd00\">logical-sweep-23</strong> to <a href=\"https://wandb.ai\" target=\"_blank\">Weights & Biases</a> <a href=\"https://docs.wandb.com/integrations/jupyter.html\" target=\"_blank\">(Documentation)</a>.<br/>\n",
       "                Project page: <a href=\"https://wandb.ai/sowmyamanojna/PRML-A3\" target=\"_blank\">https://wandb.ai/sowmyamanojna/PRML-A3</a><br/>\n",
       "                Sweep page: <a href=\"https://wandb.ai/sowmyamanojna/PRML-A3/sweeps/gs0l7xqc\" target=\"_blank\">https://wandb.ai/sowmyamanojna/PRML-A3/sweeps/gs0l7xqc</a><br/>\n",
       "Run page: <a href=\"https://wandb.ai/sowmyamanojna/PRML-A3/runs/90ggaxk0\" target=\"_blank\">https://wandb.ai/sowmyamanojna/PRML-A3/runs/90ggaxk0</a><br/>\n",
       "                Run data is saved locally in <code>/home/sowmya/Desktop/cs5691/assignment/assignment3/codes/wandb/run-20210507_203426-90ggaxk0</code><br/><br/>\n",
       "            "
      ],
      "text/plain": [
       "<IPython.core.display.HTML object>"
      ]
     },
     "metadata": {},
     "output_type": "display_data"
    },
    {
     "name": "stderr",
     "output_type": "stream",
     "text": [
      "\u001b[34m\u001b[1mwandb\u001b[0m: Agent Starting Run: cu0f5jjl with config:\n",
      "\u001b[34m\u001b[1mwandb\u001b[0m: \talpha: 0.01\n",
      "\u001b[34m\u001b[1mwandb\u001b[0m: \tbatch_size: 100\n",
      "\u001b[34m\u001b[1mwandb\u001b[0m: \tearly_stopping: True\n",
      "\u001b[34m\u001b[1mwandb\u001b[0m: \thidden_layer_sizes: [50, 50]\n",
      "\u001b[34m\u001b[1mwandb\u001b[0m: \tlearning_rate: invscaling\n"
     ]
    },
    {
     "data": {
      "text/html": [
       "\n",
       "                Tracking run with wandb version 0.10.29<br/>\n",
       "                Syncing run <strong style=\"color:#cdcd00\">polar-sweep-24</strong> to <a href=\"https://wandb.ai\" target=\"_blank\">Weights & Biases</a> <a href=\"https://docs.wandb.com/integrations/jupyter.html\" target=\"_blank\">(Documentation)</a>.<br/>\n",
       "                Project page: <a href=\"https://wandb.ai/sowmyamanojna/PRML-A3\" target=\"_blank\">https://wandb.ai/sowmyamanojna/PRML-A3</a><br/>\n",
       "                Sweep page: <a href=\"https://wandb.ai/sowmyamanojna/PRML-A3/sweeps/gs0l7xqc\" target=\"_blank\">https://wandb.ai/sowmyamanojna/PRML-A3/sweeps/gs0l7xqc</a><br/>\n",
       "Run page: <a href=\"https://wandb.ai/sowmyamanojna/PRML-A3/runs/cu0f5jjl\" target=\"_blank\">https://wandb.ai/sowmyamanojna/PRML-A3/runs/cu0f5jjl</a><br/>\n",
       "                Run data is saved locally in <code>/home/sowmya/Desktop/cs5691/assignment/assignment3/codes/wandb/run-20210507_203442-cu0f5jjl</code><br/><br/>\n",
       "            "
      ],
      "text/plain": [
       "<IPython.core.display.HTML object>"
      ]
     },
     "metadata": {},
     "output_type": "display_data"
    },
    {
     "data": {
      "text/html": [
       "Finishing last run (ID:cu0f5jjl) before initializing another..."
      ],
      "text/plain": [
       "<IPython.core.display.HTML object>"
      ]
     },
     "metadata": {},
     "output_type": "display_data"
    },
    {
     "data": {
      "text/html": [
       "<br/>Waiting for W&B process to finish, PID 35926<br/>Program ended successfully."
      ],
      "text/plain": [
       "<IPython.core.display.HTML object>"
      ]
     },
     "metadata": {},
     "output_type": "display_data"
    },
    {
     "data": {
      "application/vnd.jupyter.widget-view+json": {
       "model_id": "",
       "version_major": 2,
       "version_minor": 0
      },
      "text/plain": [
       "VBox(children=(Label(value=' 0.00MB of 0.00MB uploaded (0.00MB deduped)\\r'), FloatProgress(value=1.0, max=1.0)…"
      ]
     },
     "metadata": {},
     "output_type": "display_data"
    },
    {
     "data": {
      "text/html": [
       "Find user logs for this run at: <code>/home/sowmya/Desktop/cs5691/assignment/assignment3/codes/wandb/run-20210507_203442-cu0f5jjl/logs/debug.log</code>"
      ],
      "text/plain": [
       "<IPython.core.display.HTML object>"
      ]
     },
     "metadata": {},
     "output_type": "display_data"
    },
    {
     "data": {
      "text/html": [
       "Find internal logs for this run at: <code>/home/sowmya/Desktop/cs5691/assignment/assignment3/codes/wandb/run-20210507_203442-cu0f5jjl/logs/debug-internal.log</code>"
      ],
      "text/plain": [
       "<IPython.core.display.HTML object>"
      ]
     },
     "metadata": {},
     "output_type": "display_data"
    },
    {
     "data": {
      "text/html": [
       "Synced 4 W&B file(s), 0 media file(s), 0 artifact file(s) and 0 other file(s)"
      ],
      "text/plain": [
       "<IPython.core.display.HTML object>"
      ]
     },
     "metadata": {},
     "output_type": "display_data"
    },
    {
     "data": {
      "text/html": [
       "\n",
       "                    <br/>Synced <strong style=\"color:#cdcd00\">polar-sweep-24</strong>: <a href=\"https://wandb.ai/sowmyamanojna/PRML-A3/runs/cu0f5jjl\" target=\"_blank\">https://wandb.ai/sowmyamanojna/PRML-A3/runs/cu0f5jjl</a><br/>\n",
       "                "
      ],
      "text/plain": [
       "<IPython.core.display.HTML object>"
      ]
     },
     "metadata": {},
     "output_type": "display_data"
    },
    {
     "data": {
      "text/html": [
       "...Successfully finished last run (ID:cu0f5jjl). Initializing new run:<br/><br/>"
      ],
      "text/plain": [
       "<IPython.core.display.HTML object>"
      ]
     },
     "metadata": {},
     "output_type": "display_data"
    },
    {
     "data": {
      "text/html": [
       "\n",
       "                Tracking run with wandb version 0.10.29<br/>\n",
       "                Syncing run <strong style=\"color:#cdcd00\">polar-sweep-24</strong> to <a href=\"https://wandb.ai\" target=\"_blank\">Weights & Biases</a> <a href=\"https://docs.wandb.com/integrations/jupyter.html\" target=\"_blank\">(Documentation)</a>.<br/>\n",
       "                Project page: <a href=\"https://wandb.ai/sowmyamanojna/PRML-A3\" target=\"_blank\">https://wandb.ai/sowmyamanojna/PRML-A3</a><br/>\n",
       "                Sweep page: <a href=\"https://wandb.ai/sowmyamanojna/PRML-A3/sweeps/gs0l7xqc\" target=\"_blank\">https://wandb.ai/sowmyamanojna/PRML-A3/sweeps/gs0l7xqc</a><br/>\n",
       "Run page: <a href=\"https://wandb.ai/sowmyamanojna/PRML-A3/runs/cu0f5jjl\" target=\"_blank\">https://wandb.ai/sowmyamanojna/PRML-A3/runs/cu0f5jjl</a><br/>\n",
       "                Run data is saved locally in <code>/home/sowmya/Desktop/cs5691/assignment/assignment3/codes/wandb/run-20210507_203449-cu0f5jjl</code><br/><br/>\n",
       "            "
      ],
      "text/plain": [
       "<IPython.core.display.HTML object>"
      ]
     },
     "metadata": {},
     "output_type": "display_data"
    },
    {
     "name": "stderr",
     "output_type": "stream",
     "text": [
      "\u001b[34m\u001b[1mwandb\u001b[0m: Agent Starting Run: vutk9sqw with config:\n",
      "\u001b[34m\u001b[1mwandb\u001b[0m: \talpha: 0.01\n",
      "\u001b[34m\u001b[1mwandb\u001b[0m: \tbatch_size: 100\n",
      "\u001b[34m\u001b[1mwandb\u001b[0m: \tearly_stopping: True\n",
      "\u001b[34m\u001b[1mwandb\u001b[0m: \thidden_layer_sizes: [75, 75]\n",
      "\u001b[34m\u001b[1mwandb\u001b[0m: \tlearning_rate: constant\n",
      "\u001b[34m\u001b[1mwandb\u001b[0m: \u001b[32m\u001b[41mERROR\u001b[0m Run vutk9sqw errored: UsageError(\"Error communicating with wandb process\\ntry: wandb.init(settings=wandb.Settings(start_method='fork'))\\nor:  wandb.init(settings=wandb.Settings(start_method='thread'))\\nFor more info see: https://docs.wandb.ai/library/init#init-start-error\")\n"
     ]
    },
    {
     "name": "stdout",
     "output_type": "stream",
     "text": [
      "Problem at: <ipython-input-7-f10fc451a855> 2 mlp_2a_sweep\n"
     ]
    },
    {
     "name": "stderr",
     "output_type": "stream",
     "text": [
      "\u001b[34m\u001b[1mwandb\u001b[0m: Agent Starting Run: mfpe8n2d with config:\n",
      "\u001b[34m\u001b[1mwandb\u001b[0m: \talpha: 0.01\n",
      "\u001b[34m\u001b[1mwandb\u001b[0m: \tbatch_size: 100\n",
      "\u001b[34m\u001b[1mwandb\u001b[0m: \tearly_stopping: True\n",
      "\u001b[34m\u001b[1mwandb\u001b[0m: \thidden_layer_sizes: [75, 75]\n",
      "\u001b[34m\u001b[1mwandb\u001b[0m: \tlearning_rate: adaptive\n"
     ]
    },
    {
     "data": {
      "text/html": [
       "\n",
       "                Tracking run with wandb version 0.10.29<br/>\n",
       "                Syncing run <strong style=\"color:#cdcd00\">denim-sweep-26</strong> to <a href=\"https://wandb.ai\" target=\"_blank\">Weights & Biases</a> <a href=\"https://docs.wandb.com/integrations/jupyter.html\" target=\"_blank\">(Documentation)</a>.<br/>\n",
       "                Project page: <a href=\"https://wandb.ai/sowmyamanojna/PRML-A3\" target=\"_blank\">https://wandb.ai/sowmyamanojna/PRML-A3</a><br/>\n",
       "                Sweep page: <a href=\"https://wandb.ai/sowmyamanojna/PRML-A3/sweeps/gs0l7xqc\" target=\"_blank\">https://wandb.ai/sowmyamanojna/PRML-A3/sweeps/gs0l7xqc</a><br/>\n",
       "Run page: <a href=\"https://wandb.ai/sowmyamanojna/PRML-A3/runs/mfpe8n2d\" target=\"_blank\">https://wandb.ai/sowmyamanojna/PRML-A3/runs/mfpe8n2d</a><br/>\n",
       "                Run data is saved locally in <code>/home/sowmya/Desktop/cs5691/assignment/assignment3/codes/wandb/run-20210507_203706-mfpe8n2d</code><br/><br/>\n",
       "            "
      ],
      "text/plain": [
       "<IPython.core.display.HTML object>"
      ]
     },
     "metadata": {},
     "output_type": "display_data"
    },
    {
     "data": {
      "text/html": [
       "Finishing last run (ID:mfpe8n2d) before initializing another..."
      ],
      "text/plain": [
       "<IPython.core.display.HTML object>"
      ]
     },
     "metadata": {},
     "output_type": "display_data"
    },
    {
     "data": {
      "text/html": [
       "<br/>Waiting for W&B process to finish, PID 36234<br/>Program ended successfully."
      ],
      "text/plain": [
       "<IPython.core.display.HTML object>"
      ]
     },
     "metadata": {},
     "output_type": "display_data"
    },
    {
     "data": {
      "application/vnd.jupyter.widget-view+json": {
       "model_id": "",
       "version_major": 2,
       "version_minor": 0
      },
      "text/plain": [
       "VBox(children=(Label(value=' 0.00MB of 0.00MB uploaded (0.00MB deduped)\\r'), FloatProgress(value=1.0, max=1.0)…"
      ]
     },
     "metadata": {},
     "output_type": "display_data"
    },
    {
     "data": {
      "text/html": [
       "Find user logs for this run at: <code>/home/sowmya/Desktop/cs5691/assignment/assignment3/codes/wandb/run-20210507_203706-mfpe8n2d/logs/debug.log</code>"
      ],
      "text/plain": [
       "<IPython.core.display.HTML object>"
      ]
     },
     "metadata": {},
     "output_type": "display_data"
    },
    {
     "data": {
      "text/html": [
       "Find internal logs for this run at: <code>/home/sowmya/Desktop/cs5691/assignment/assignment3/codes/wandb/run-20210507_203706-mfpe8n2d/logs/debug-internal.log</code>"
      ],
      "text/plain": [
       "<IPython.core.display.HTML object>"
      ]
     },
     "metadata": {},
     "output_type": "display_data"
    },
    {
     "data": {
      "text/html": [
       "Synced 4 W&B file(s), 0 media file(s), 0 artifact file(s) and 0 other file(s)"
      ],
      "text/plain": [
       "<IPython.core.display.HTML object>"
      ]
     },
     "metadata": {},
     "output_type": "display_data"
    },
    {
     "data": {
      "text/html": [
       "\n",
       "                    <br/>Synced <strong style=\"color:#cdcd00\">denim-sweep-26</strong>: <a href=\"https://wandb.ai/sowmyamanojna/PRML-A3/runs/mfpe8n2d\" target=\"_blank\">https://wandb.ai/sowmyamanojna/PRML-A3/runs/mfpe8n2d</a><br/>\n",
       "                "
      ],
      "text/plain": [
       "<IPython.core.display.HTML object>"
      ]
     },
     "metadata": {},
     "output_type": "display_data"
    },
    {
     "data": {
      "text/html": [
       "...Successfully finished last run (ID:mfpe8n2d). Initializing new run:<br/><br/>"
      ],
      "text/plain": [
       "<IPython.core.display.HTML object>"
      ]
     },
     "metadata": {},
     "output_type": "display_data"
    },
    {
     "name": "stderr",
     "output_type": "stream",
     "text": [
      "\u001b[34m\u001b[1mwandb\u001b[0m: \u001b[32m\u001b[41mERROR\u001b[0m Run mfpe8n2d errored: UsageError(\"Error communicating with wandb process\\ntry: wandb.init(settings=wandb.Settings(start_method='fork'))\\nor:  wandb.init(settings=wandb.Settings(start_method='thread'))\\nFor more info see: https://docs.wandb.ai/library/init#init-start-error\")\n"
     ]
    },
    {
     "name": "stdout",
     "output_type": "stream",
     "text": [
      "Problem at: <ipython-input-7-f10fc451a855> 3 mlp_2a_sweep\n"
     ]
    },
    {
     "name": "stderr",
     "output_type": "stream",
     "text": [
      "\u001b[34m\u001b[1mwandb\u001b[0m: Sweep Agent: Waiting for job.\n",
      "\u001b[34m\u001b[1mwandb\u001b[0m: Job received.\n",
      "\u001b[34m\u001b[1mwandb\u001b[0m: Agent Starting Run: qaiae141 with config:\n",
      "\u001b[34m\u001b[1mwandb\u001b[0m: \talpha: 0.01\n",
      "\u001b[34m\u001b[1mwandb\u001b[0m: \tbatch_size: 100\n",
      "\u001b[34m\u001b[1mwandb\u001b[0m: \tearly_stopping: True\n",
      "\u001b[34m\u001b[1mwandb\u001b[0m: \thidden_layer_sizes: [75, 75]\n",
      "\u001b[34m\u001b[1mwandb\u001b[0m: \tlearning_rate: invscaling\n"
     ]
    },
    {
     "data": {
      "text/html": [
       "\n",
       "                Tracking run with wandb version 0.10.29<br/>\n",
       "                Syncing run <strong style=\"color:#cdcd00\">swift-sweep-27</strong> to <a href=\"https://wandb.ai\" target=\"_blank\">Weights & Biases</a> <a href=\"https://docs.wandb.com/integrations/jupyter.html\" target=\"_blank\">(Documentation)</a>.<br/>\n",
       "                Project page: <a href=\"https://wandb.ai/sowmyamanojna/PRML-A3\" target=\"_blank\">https://wandb.ai/sowmyamanojna/PRML-A3</a><br/>\n",
       "                Sweep page: <a href=\"https://wandb.ai/sowmyamanojna/PRML-A3/sweeps/gs0l7xqc\" target=\"_blank\">https://wandb.ai/sowmyamanojna/PRML-A3/sweeps/gs0l7xqc</a><br/>\n",
       "Run page: <a href=\"https://wandb.ai/sowmyamanojna/PRML-A3/runs/qaiae141\" target=\"_blank\">https://wandb.ai/sowmyamanojna/PRML-A3/runs/qaiae141</a><br/>\n",
       "                Run data is saved locally in <code>/home/sowmya/Desktop/cs5691/assignment/assignment3/codes/wandb/run-20210507_204148-qaiae141</code><br/><br/>\n",
       "            "
      ],
      "text/plain": [
       "<IPython.core.display.HTML object>"
      ]
     },
     "metadata": {},
     "output_type": "display_data"
    },
    {
     "data": {
      "text/html": [
       "Finishing last run (ID:qaiae141) before initializing another..."
      ],
      "text/plain": [
       "<IPython.core.display.HTML object>"
      ]
     },
     "metadata": {},
     "output_type": "display_data"
    },
    {
     "data": {
      "text/html": [
       "<br/>Waiting for W&B process to finish, PID 36464<br/>Program ended successfully."
      ],
      "text/plain": [
       "<IPython.core.display.HTML object>"
      ]
     },
     "metadata": {},
     "output_type": "display_data"
    },
    {
     "data": {
      "application/vnd.jupyter.widget-view+json": {
       "model_id": "",
       "version_major": 2,
       "version_minor": 0
      },
      "text/plain": [
       "VBox(children=(Label(value=' 0.00MB of 0.00MB uploaded (0.00MB deduped)\\r'), FloatProgress(value=1.0, max=1.0)…"
      ]
     },
     "metadata": {},
     "output_type": "display_data"
    },
    {
     "data": {
      "text/html": [
       "Find user logs for this run at: <code>/home/sowmya/Desktop/cs5691/assignment/assignment3/codes/wandb/run-20210507_204148-qaiae141/logs/debug.log</code>"
      ],
      "text/plain": [
       "<IPython.core.display.HTML object>"
      ]
     },
     "metadata": {},
     "output_type": "display_data"
    },
    {
     "data": {
      "text/html": [
       "Find internal logs for this run at: <code>/home/sowmya/Desktop/cs5691/assignment/assignment3/codes/wandb/run-20210507_204148-qaiae141/logs/debug-internal.log</code>"
      ],
      "text/plain": [
       "<IPython.core.display.HTML object>"
      ]
     },
     "metadata": {},
     "output_type": "display_data"
    },
    {
     "data": {
      "text/html": [
       "Synced 4 W&B file(s), 0 media file(s), 0 artifact file(s) and 0 other file(s)"
      ],
      "text/plain": [
       "<IPython.core.display.HTML object>"
      ]
     },
     "metadata": {},
     "output_type": "display_data"
    },
    {
     "data": {
      "text/html": [
       "\n",
       "                    <br/>Synced <strong style=\"color:#cdcd00\">swift-sweep-27</strong>: <a href=\"https://wandb.ai/sowmyamanojna/PRML-A3/runs/qaiae141\" target=\"_blank\">https://wandb.ai/sowmyamanojna/PRML-A3/runs/qaiae141</a><br/>\n",
       "                "
      ],
      "text/plain": [
       "<IPython.core.display.HTML object>"
      ]
     },
     "metadata": {},
     "output_type": "display_data"
    },
    {
     "data": {
      "text/html": [
       "...Successfully finished last run (ID:qaiae141). Initializing new run:<br/><br/>"
      ],
      "text/plain": [
       "<IPython.core.display.HTML object>"
      ]
     },
     "metadata": {},
     "output_type": "display_data"
    },
    {
     "data": {
      "text/html": [
       "\n",
       "                Tracking run with wandb version 0.10.29<br/>\n",
       "                Syncing run <strong style=\"color:#cdcd00\">swift-sweep-27</strong> to <a href=\"https://wandb.ai\" target=\"_blank\">Weights & Biases</a> <a href=\"https://docs.wandb.com/integrations/jupyter.html\" target=\"_blank\">(Documentation)</a>.<br/>\n",
       "                Project page: <a href=\"https://wandb.ai/sowmyamanojna/PRML-A3\" target=\"_blank\">https://wandb.ai/sowmyamanojna/PRML-A3</a><br/>\n",
       "                Sweep page: <a href=\"https://wandb.ai/sowmyamanojna/PRML-A3/sweeps/gs0l7xqc\" target=\"_blank\">https://wandb.ai/sowmyamanojna/PRML-A3/sweeps/gs0l7xqc</a><br/>\n",
       "Run page: <a href=\"https://wandb.ai/sowmyamanojna/PRML-A3/runs/qaiae141\" target=\"_blank\">https://wandb.ai/sowmyamanojna/PRML-A3/runs/qaiae141</a><br/>\n",
       "                Run data is saved locally in <code>/home/sowmya/Desktop/cs5691/assignment/assignment3/codes/wandb/run-20210507_204156-qaiae141</code><br/><br/>\n",
       "            "
      ],
      "text/plain": [
       "<IPython.core.display.HTML object>"
      ]
     },
     "metadata": {},
     "output_type": "display_data"
    },
    {
     "name": "stderr",
     "output_type": "stream",
     "text": [
      "\u001b[34m\u001b[1mwandb\u001b[0m: Agent Starting Run: 2jcctdek with config:\n",
      "\u001b[34m\u001b[1mwandb\u001b[0m: \talpha: 0.01\n",
      "\u001b[34m\u001b[1mwandb\u001b[0m: \tbatch_size: 100\n",
      "\u001b[34m\u001b[1mwandb\u001b[0m: \tearly_stopping: False\n",
      "\u001b[34m\u001b[1mwandb\u001b[0m: \thidden_layer_sizes: [25, 25]\n",
      "\u001b[34m\u001b[1mwandb\u001b[0m: \tlearning_rate: constant\n"
     ]
    },
    {
     "data": {
      "text/html": [
       "\n",
       "                Tracking run with wandb version 0.10.29<br/>\n",
       "                Syncing run <strong style=\"color:#cdcd00\">splendid-sweep-28</strong> to <a href=\"https://wandb.ai\" target=\"_blank\">Weights & Biases</a> <a href=\"https://docs.wandb.com/integrations/jupyter.html\" target=\"_blank\">(Documentation)</a>.<br/>\n",
       "                Project page: <a href=\"https://wandb.ai/sowmyamanojna/PRML-A3\" target=\"_blank\">https://wandb.ai/sowmyamanojna/PRML-A3</a><br/>\n",
       "                Sweep page: <a href=\"https://wandb.ai/sowmyamanojna/PRML-A3/sweeps/gs0l7xqc\" target=\"_blank\">https://wandb.ai/sowmyamanojna/PRML-A3/sweeps/gs0l7xqc</a><br/>\n",
       "Run page: <a href=\"https://wandb.ai/sowmyamanojna/PRML-A3/runs/2jcctdek\" target=\"_blank\">https://wandb.ai/sowmyamanojna/PRML-A3/runs/2jcctdek</a><br/>\n",
       "                Run data is saved locally in <code>/home/sowmya/Desktop/cs5691/assignment/assignment3/codes/wandb/run-20210507_204350-2jcctdek</code><br/><br/>\n",
       "            "
      ],
      "text/plain": [
       "<IPython.core.display.HTML object>"
      ]
     },
     "metadata": {},
     "output_type": "display_data"
    },
    {
     "data": {
      "text/html": [
       "Finishing last run (ID:2jcctdek) before initializing another..."
      ],
      "text/plain": [
       "<IPython.core.display.HTML object>"
      ]
     },
     "metadata": {},
     "output_type": "display_data"
    },
    {
     "data": {
      "text/html": [
       "<br/>Waiting for W&B process to finish, PID 36554<br/>Program ended successfully."
      ],
      "text/plain": [
       "<IPython.core.display.HTML object>"
      ]
     },
     "metadata": {},
     "output_type": "display_data"
    },
    {
     "data": {
      "application/vnd.jupyter.widget-view+json": {
       "model_id": "",
       "version_major": 2,
       "version_minor": 0
      },
      "text/plain": [
       "VBox(children=(Label(value=' 0.00MB of 0.00MB uploaded (0.00MB deduped)\\r'), FloatProgress(value=1.0, max=1.0)…"
      ]
     },
     "metadata": {},
     "output_type": "display_data"
    },
    {
     "data": {
      "text/html": [
       "Find user logs for this run at: <code>/home/sowmya/Desktop/cs5691/assignment/assignment3/codes/wandb/run-20210507_204350-2jcctdek/logs/debug.log</code>"
      ],
      "text/plain": [
       "<IPython.core.display.HTML object>"
      ]
     },
     "metadata": {},
     "output_type": "display_data"
    },
    {
     "data": {
      "text/html": [
       "Find internal logs for this run at: <code>/home/sowmya/Desktop/cs5691/assignment/assignment3/codes/wandb/run-20210507_204350-2jcctdek/logs/debug-internal.log</code>"
      ],
      "text/plain": [
       "<IPython.core.display.HTML object>"
      ]
     },
     "metadata": {},
     "output_type": "display_data"
    },
    {
     "data": {
      "text/html": [
       "Synced 4 W&B file(s), 0 media file(s), 0 artifact file(s) and 0 other file(s)"
      ],
      "text/plain": [
       "<IPython.core.display.HTML object>"
      ]
     },
     "metadata": {},
     "output_type": "display_data"
    },
    {
     "data": {
      "text/html": [
       "\n",
       "                    <br/>Synced <strong style=\"color:#cdcd00\">splendid-sweep-28</strong>: <a href=\"https://wandb.ai/sowmyamanojna/PRML-A3/runs/2jcctdek\" target=\"_blank\">https://wandb.ai/sowmyamanojna/PRML-A3/runs/2jcctdek</a><br/>\n",
       "                "
      ],
      "text/plain": [
       "<IPython.core.display.HTML object>"
      ]
     },
     "metadata": {},
     "output_type": "display_data"
    },
    {
     "data": {
      "text/html": [
       "...Successfully finished last run (ID:2jcctdek). Initializing new run:<br/><br/>"
      ],
      "text/plain": [
       "<IPython.core.display.HTML object>"
      ]
     },
     "metadata": {},
     "output_type": "display_data"
    },
    {
     "data": {
      "text/html": [
       "\n",
       "                Tracking run with wandb version 0.10.29<br/>\n",
       "                Syncing run <strong style=\"color:#cdcd00\">splendid-sweep-28</strong> to <a href=\"https://wandb.ai\" target=\"_blank\">Weights & Biases</a> <a href=\"https://docs.wandb.com/integrations/jupyter.html\" target=\"_blank\">(Documentation)</a>.<br/>\n",
       "                Project page: <a href=\"https://wandb.ai/sowmyamanojna/PRML-A3\" target=\"_blank\">https://wandb.ai/sowmyamanojna/PRML-A3</a><br/>\n",
       "                Sweep page: <a href=\"https://wandb.ai/sowmyamanojna/PRML-A3/sweeps/gs0l7xqc\" target=\"_blank\">https://wandb.ai/sowmyamanojna/PRML-A3/sweeps/gs0l7xqc</a><br/>\n",
       "Run page: <a href=\"https://wandb.ai/sowmyamanojna/PRML-A3/runs/2jcctdek\" target=\"_blank\">https://wandb.ai/sowmyamanojna/PRML-A3/runs/2jcctdek</a><br/>\n",
       "                Run data is saved locally in <code>/home/sowmya/Desktop/cs5691/assignment/assignment3/codes/wandb/run-20210507_204357-2jcctdek</code><br/><br/>\n",
       "            "
      ],
      "text/plain": [
       "<IPython.core.display.HTML object>"
      ]
     },
     "metadata": {},
     "output_type": "display_data"
    },
    {
     "name": "stderr",
     "output_type": "stream",
     "text": [
      "\u001b[34m\u001b[1mwandb\u001b[0m: Agent Starting Run: thfggjht with config:\n",
      "\u001b[34m\u001b[1mwandb\u001b[0m: \talpha: 0.01\n",
      "\u001b[34m\u001b[1mwandb\u001b[0m: \tbatch_size: 100\n",
      "\u001b[34m\u001b[1mwandb\u001b[0m: \tearly_stopping: False\n",
      "\u001b[34m\u001b[1mwandb\u001b[0m: \thidden_layer_sizes: [25, 25]\n",
      "\u001b[34m\u001b[1mwandb\u001b[0m: \tlearning_rate: adaptive\n"
     ]
    },
    {
     "data": {
      "text/html": [
       "\n",
       "                Tracking run with wandb version 0.10.29<br/>\n",
       "                Syncing run <strong style=\"color:#cdcd00\">snowy-sweep-29</strong> to <a href=\"https://wandb.ai\" target=\"_blank\">Weights & Biases</a> <a href=\"https://docs.wandb.com/integrations/jupyter.html\" target=\"_blank\">(Documentation)</a>.<br/>\n",
       "                Project page: <a href=\"https://wandb.ai/sowmyamanojna/PRML-A3\" target=\"_blank\">https://wandb.ai/sowmyamanojna/PRML-A3</a><br/>\n",
       "                Sweep page: <a href=\"https://wandb.ai/sowmyamanojna/PRML-A3/sweeps/gs0l7xqc\" target=\"_blank\">https://wandb.ai/sowmyamanojna/PRML-A3/sweeps/gs0l7xqc</a><br/>\n",
       "Run page: <a href=\"https://wandb.ai/sowmyamanojna/PRML-A3/runs/thfggjht\" target=\"_blank\">https://wandb.ai/sowmyamanojna/PRML-A3/runs/thfggjht</a><br/>\n",
       "                Run data is saved locally in <code>/home/sowmya/Desktop/cs5691/assignment/assignment3/codes/wandb/run-20210507_204447-thfggjht</code><br/><br/>\n",
       "            "
      ],
      "text/plain": [
       "<IPython.core.display.HTML object>"
      ]
     },
     "metadata": {},
     "output_type": "display_data"
    },
    {
     "data": {
      "text/html": [
       "Finishing last run (ID:thfggjht) before initializing another..."
      ],
      "text/plain": [
       "<IPython.core.display.HTML object>"
      ]
     },
     "metadata": {},
     "output_type": "display_data"
    },
    {
     "data": {
      "text/html": [
       "<br/>Waiting for W&B process to finish, PID 36665<br/>Program ended successfully."
      ],
      "text/plain": [
       "<IPython.core.display.HTML object>"
      ]
     },
     "metadata": {},
     "output_type": "display_data"
    },
    {
     "data": {
      "application/vnd.jupyter.widget-view+json": {
       "model_id": "",
       "version_major": 2,
       "version_minor": 0
      },
      "text/plain": [
       "VBox(children=(Label(value=' 0.00MB of 0.00MB uploaded (0.00MB deduped)\\r'), FloatProgress(value=1.0, max=1.0)…"
      ]
     },
     "metadata": {},
     "output_type": "display_data"
    },
    {
     "data": {
      "text/html": [
       "Find user logs for this run at: <code>/home/sowmya/Desktop/cs5691/assignment/assignment3/codes/wandb/run-20210507_204447-thfggjht/logs/debug.log</code>"
      ],
      "text/plain": [
       "<IPython.core.display.HTML object>"
      ]
     },
     "metadata": {},
     "output_type": "display_data"
    },
    {
     "data": {
      "text/html": [
       "Find internal logs for this run at: <code>/home/sowmya/Desktop/cs5691/assignment/assignment3/codes/wandb/run-20210507_204447-thfggjht/logs/debug-internal.log</code>"
      ],
      "text/plain": [
       "<IPython.core.display.HTML object>"
      ]
     },
     "metadata": {},
     "output_type": "display_data"
    },
    {
     "data": {
      "text/html": [
       "Synced 4 W&B file(s), 0 media file(s), 0 artifact file(s) and 0 other file(s)"
      ],
      "text/plain": [
       "<IPython.core.display.HTML object>"
      ]
     },
     "metadata": {},
     "output_type": "display_data"
    },
    {
     "data": {
      "text/html": [
       "\n",
       "                    <br/>Synced <strong style=\"color:#cdcd00\">snowy-sweep-29</strong>: <a href=\"https://wandb.ai/sowmyamanojna/PRML-A3/runs/thfggjht\" target=\"_blank\">https://wandb.ai/sowmyamanojna/PRML-A3/runs/thfggjht</a><br/>\n",
       "                "
      ],
      "text/plain": [
       "<IPython.core.display.HTML object>"
      ]
     },
     "metadata": {},
     "output_type": "display_data"
    },
    {
     "data": {
      "text/html": [
       "...Successfully finished last run (ID:thfggjht). Initializing new run:<br/><br/>"
      ],
      "text/plain": [
       "<IPython.core.display.HTML object>"
      ]
     },
     "metadata": {},
     "output_type": "display_data"
    },
    {
     "data": {
      "text/html": [
       "\n",
       "                Tracking run with wandb version 0.10.29<br/>\n",
       "                Syncing run <strong style=\"color:#cdcd00\">snowy-sweep-29</strong> to <a href=\"https://wandb.ai\" target=\"_blank\">Weights & Biases</a> <a href=\"https://docs.wandb.com/integrations/jupyter.html\" target=\"_blank\">(Documentation)</a>.<br/>\n",
       "                Project page: <a href=\"https://wandb.ai/sowmyamanojna/PRML-A3\" target=\"_blank\">https://wandb.ai/sowmyamanojna/PRML-A3</a><br/>\n",
       "                Sweep page: <a href=\"https://wandb.ai/sowmyamanojna/PRML-A3/sweeps/gs0l7xqc\" target=\"_blank\">https://wandb.ai/sowmyamanojna/PRML-A3/sweeps/gs0l7xqc</a><br/>\n",
       "Run page: <a href=\"https://wandb.ai/sowmyamanojna/PRML-A3/runs/thfggjht\" target=\"_blank\">https://wandb.ai/sowmyamanojna/PRML-A3/runs/thfggjht</a><br/>\n",
       "                Run data is saved locally in <code>/home/sowmya/Desktop/cs5691/assignment/assignment3/codes/wandb/run-20210507_204449-thfggjht</code><br/><br/>\n",
       "            "
      ],
      "text/plain": [
       "<IPython.core.display.HTML object>"
      ]
     },
     "metadata": {},
     "output_type": "display_data"
    },
    {
     "name": "stderr",
     "output_type": "stream",
     "text": [
      "\u001b[34m\u001b[1mwandb\u001b[0m: Agent Starting Run: 1hm0e1b2 with config:\n",
      "\u001b[34m\u001b[1mwandb\u001b[0m: \talpha: 0.01\n",
      "\u001b[34m\u001b[1mwandb\u001b[0m: \tbatch_size: 100\n",
      "\u001b[34m\u001b[1mwandb\u001b[0m: \tearly_stopping: False\n",
      "\u001b[34m\u001b[1mwandb\u001b[0m: \thidden_layer_sizes: [25, 25]\n",
      "\u001b[34m\u001b[1mwandb\u001b[0m: \tlearning_rate: invscaling\n"
     ]
    },
    {
     "data": {
      "text/html": [
       "\n",
       "                Tracking run with wandb version 0.10.29<br/>\n",
       "                Syncing run <strong style=\"color:#cdcd00\">atomic-sweep-30</strong> to <a href=\"https://wandb.ai\" target=\"_blank\">Weights & Biases</a> <a href=\"https://docs.wandb.com/integrations/jupyter.html\" target=\"_blank\">(Documentation)</a>.<br/>\n",
       "                Project page: <a href=\"https://wandb.ai/sowmyamanojna/PRML-A3\" target=\"_blank\">https://wandb.ai/sowmyamanojna/PRML-A3</a><br/>\n",
       "                Sweep page: <a href=\"https://wandb.ai/sowmyamanojna/PRML-A3/sweeps/gs0l7xqc\" target=\"_blank\">https://wandb.ai/sowmyamanojna/PRML-A3/sweeps/gs0l7xqc</a><br/>\n",
       "Run page: <a href=\"https://wandb.ai/sowmyamanojna/PRML-A3/runs/1hm0e1b2\" target=\"_blank\">https://wandb.ai/sowmyamanojna/PRML-A3/runs/1hm0e1b2</a><br/>\n",
       "                Run data is saved locally in <code>/home/sowmya/Desktop/cs5691/assignment/assignment3/codes/wandb/run-20210507_204501-1hm0e1b2</code><br/><br/>\n",
       "            "
      ],
      "text/plain": [
       "<IPython.core.display.HTML object>"
      ]
     },
     "metadata": {},
     "output_type": "display_data"
    },
    {
     "data": {
      "text/html": [
       "Finishing last run (ID:1hm0e1b2) before initializing another..."
      ],
      "text/plain": [
       "<IPython.core.display.HTML object>"
      ]
     },
     "metadata": {},
     "output_type": "display_data"
    },
    {
     "data": {
      "text/html": [
       "<br/>Waiting for W&B process to finish, PID 36762<br/>Program ended successfully."
      ],
      "text/plain": [
       "<IPython.core.display.HTML object>"
      ]
     },
     "metadata": {},
     "output_type": "display_data"
    },
    {
     "data": {
      "application/vnd.jupyter.widget-view+json": {
       "model_id": "",
       "version_major": 2,
       "version_minor": 0
      },
      "text/plain": [
       "VBox(children=(Label(value=' 0.00MB of 0.00MB uploaded (0.00MB deduped)\\r'), FloatProgress(value=1.0, max=1.0)…"
      ]
     },
     "metadata": {},
     "output_type": "display_data"
    },
    {
     "data": {
      "text/html": [
       "Find user logs for this run at: <code>/home/sowmya/Desktop/cs5691/assignment/assignment3/codes/wandb/run-20210507_204501-1hm0e1b2/logs/debug.log</code>"
      ],
      "text/plain": [
       "<IPython.core.display.HTML object>"
      ]
     },
     "metadata": {},
     "output_type": "display_data"
    },
    {
     "data": {
      "text/html": [
       "Find internal logs for this run at: <code>/home/sowmya/Desktop/cs5691/assignment/assignment3/codes/wandb/run-20210507_204501-1hm0e1b2/logs/debug-internal.log</code>"
      ],
      "text/plain": [
       "<IPython.core.display.HTML object>"
      ]
     },
     "metadata": {},
     "output_type": "display_data"
    },
    {
     "data": {
      "text/html": [
       "Synced 4 W&B file(s), 0 media file(s), 0 artifact file(s) and 0 other file(s)"
      ],
      "text/plain": [
       "<IPython.core.display.HTML object>"
      ]
     },
     "metadata": {},
     "output_type": "display_data"
    },
    {
     "data": {
      "text/html": [
       "\n",
       "                    <br/>Synced <strong style=\"color:#cdcd00\">atomic-sweep-30</strong>: <a href=\"https://wandb.ai/sowmyamanojna/PRML-A3/runs/1hm0e1b2\" target=\"_blank\">https://wandb.ai/sowmyamanojna/PRML-A3/runs/1hm0e1b2</a><br/>\n",
       "                "
      ],
      "text/plain": [
       "<IPython.core.display.HTML object>"
      ]
     },
     "metadata": {},
     "output_type": "display_data"
    },
    {
     "data": {
      "text/html": [
       "...Successfully finished last run (ID:1hm0e1b2). Initializing new run:<br/><br/>"
      ],
      "text/plain": [
       "<IPython.core.display.HTML object>"
      ]
     },
     "metadata": {},
     "output_type": "display_data"
    },
    {
     "name": "stderr",
     "output_type": "stream",
     "text": [
      "\u001b[34m\u001b[1mwandb\u001b[0m: \u001b[32m\u001b[41mERROR\u001b[0m Run 1hm0e1b2 errored: UsageError(\"Error communicating with wandb process\\ntry: wandb.init(settings=wandb.Settings(start_method='fork'))\\nor:  wandb.init(settings=wandb.Settings(start_method='thread'))\\nFor more info see: https://docs.wandb.ai/library/init#init-start-error\")\n"
     ]
    },
    {
     "name": "stdout",
     "output_type": "stream",
     "text": [
      "Problem at: <ipython-input-7-f10fc451a855> 3 mlp_2a_sweep\n"
     ]
    },
    {
     "name": "stderr",
     "output_type": "stream",
     "text": [
      "\u001b[34m\u001b[1mwandb\u001b[0m: Agent Starting Run: 39tkdi5s with config:\n",
      "\u001b[34m\u001b[1mwandb\u001b[0m: \talpha: 0.01\n",
      "\u001b[34m\u001b[1mwandb\u001b[0m: \tbatch_size: 100\n",
      "\u001b[34m\u001b[1mwandb\u001b[0m: \tearly_stopping: False\n",
      "\u001b[34m\u001b[1mwandb\u001b[0m: \thidden_layer_sizes: [50, 50]\n",
      "\u001b[34m\u001b[1mwandb\u001b[0m: \tlearning_rate: constant\n"
     ]
    },
    {
     "data": {
      "text/html": [
       "\n",
       "                Tracking run with wandb version 0.10.29<br/>\n",
       "                Syncing run <strong style=\"color:#cdcd00\">sage-sweep-31</strong> to <a href=\"https://wandb.ai\" target=\"_blank\">Weights & Biases</a> <a href=\"https://docs.wandb.com/integrations/jupyter.html\" target=\"_blank\">(Documentation)</a>.<br/>\n",
       "                Project page: <a href=\"https://wandb.ai/sowmyamanojna/PRML-A3\" target=\"_blank\">https://wandb.ai/sowmyamanojna/PRML-A3</a><br/>\n",
       "                Sweep page: <a href=\"https://wandb.ai/sowmyamanojna/PRML-A3/sweeps/gs0l7xqc\" target=\"_blank\">https://wandb.ai/sowmyamanojna/PRML-A3/sweeps/gs0l7xqc</a><br/>\n",
       "Run page: <a href=\"https://wandb.ai/sowmyamanojna/PRML-A3/runs/39tkdi5s\" target=\"_blank\">https://wandb.ai/sowmyamanojna/PRML-A3/runs/39tkdi5s</a><br/>\n",
       "                Run data is saved locally in <code>/home/sowmya/Desktop/cs5691/assignment/assignment3/codes/wandb/run-20210507_204626-39tkdi5s</code><br/><br/>\n",
       "            "
      ],
      "text/plain": [
       "<IPython.core.display.HTML object>"
      ]
     },
     "metadata": {},
     "output_type": "display_data"
    },
    {
     "data": {
      "text/html": [
       "Finishing last run (ID:39tkdi5s) before initializing another..."
      ],
      "text/plain": [
       "<IPython.core.display.HTML object>"
      ]
     },
     "metadata": {},
     "output_type": "display_data"
    },
    {
     "data": {
      "text/html": [
       "<br/>Waiting for W&B process to finish, PID 36911<br/>Program ended successfully."
      ],
      "text/plain": [
       "<IPython.core.display.HTML object>"
      ]
     },
     "metadata": {},
     "output_type": "display_data"
    },
    {
     "data": {
      "application/vnd.jupyter.widget-view+json": {
       "model_id": "",
       "version_major": 2,
       "version_minor": 0
      },
      "text/plain": [
       "VBox(children=(Label(value=' 0.00MB of 0.00MB uploaded (0.00MB deduped)\\r'), FloatProgress(value=1.0, max=1.0)…"
      ]
     },
     "metadata": {},
     "output_type": "display_data"
    },
    {
     "data": {
      "text/html": [
       "Find user logs for this run at: <code>/home/sowmya/Desktop/cs5691/assignment/assignment3/codes/wandb/run-20210507_204626-39tkdi5s/logs/debug.log</code>"
      ],
      "text/plain": [
       "<IPython.core.display.HTML object>"
      ]
     },
     "metadata": {},
     "output_type": "display_data"
    },
    {
     "data": {
      "text/html": [
       "Find internal logs for this run at: <code>/home/sowmya/Desktop/cs5691/assignment/assignment3/codes/wandb/run-20210507_204626-39tkdi5s/logs/debug-internal.log</code>"
      ],
      "text/plain": [
       "<IPython.core.display.HTML object>"
      ]
     },
     "metadata": {},
     "output_type": "display_data"
    },
    {
     "data": {
      "text/html": [
       "Synced 4 W&B file(s), 0 media file(s), 0 artifact file(s) and 0 other file(s)"
      ],
      "text/plain": [
       "<IPython.core.display.HTML object>"
      ]
     },
     "metadata": {},
     "output_type": "display_data"
    },
    {
     "data": {
      "text/html": [
       "\n",
       "                    <br/>Synced <strong style=\"color:#cdcd00\">sage-sweep-31</strong>: <a href=\"https://wandb.ai/sowmyamanojna/PRML-A3/runs/39tkdi5s\" target=\"_blank\">https://wandb.ai/sowmyamanojna/PRML-A3/runs/39tkdi5s</a><br/>\n",
       "                "
      ],
      "text/plain": [
       "<IPython.core.display.HTML object>"
      ]
     },
     "metadata": {},
     "output_type": "display_data"
    },
    {
     "data": {
      "text/html": [
       "...Successfully finished last run (ID:39tkdi5s). Initializing new run:<br/><br/>"
      ],
      "text/plain": [
       "<IPython.core.display.HTML object>"
      ]
     },
     "metadata": {},
     "output_type": "display_data"
    },
    {
     "data": {
      "text/html": [
       "\n",
       "                Tracking run with wandb version 0.10.29<br/>\n",
       "                Syncing run <strong style=\"color:#cdcd00\">sage-sweep-31</strong> to <a href=\"https://wandb.ai\" target=\"_blank\">Weights & Biases</a> <a href=\"https://docs.wandb.com/integrations/jupyter.html\" target=\"_blank\">(Documentation)</a>.<br/>\n",
       "                Project page: <a href=\"https://wandb.ai/sowmyamanojna/PRML-A3\" target=\"_blank\">https://wandb.ai/sowmyamanojna/PRML-A3</a><br/>\n",
       "                Sweep page: <a href=\"https://wandb.ai/sowmyamanojna/PRML-A3/sweeps/gs0l7xqc\" target=\"_blank\">https://wandb.ai/sowmyamanojna/PRML-A3/sweeps/gs0l7xqc</a><br/>\n",
       "Run page: <a href=\"https://wandb.ai/sowmyamanojna/PRML-A3/runs/39tkdi5s\" target=\"_blank\">https://wandb.ai/sowmyamanojna/PRML-A3/runs/39tkdi5s</a><br/>\n",
       "                Run data is saved locally in <code>/home/sowmya/Desktop/cs5691/assignment/assignment3/codes/wandb/run-20210507_204633-39tkdi5s</code><br/><br/>\n",
       "            "
      ],
      "text/plain": [
       "<IPython.core.display.HTML object>"
      ]
     },
     "metadata": {},
     "output_type": "display_data"
    },
    {
     "name": "stderr",
     "output_type": "stream",
     "text": [
      "\u001b[34m\u001b[1mwandb\u001b[0m: Agent Starting Run: jpglgct9 with config:\n",
      "\u001b[34m\u001b[1mwandb\u001b[0m: \talpha: 0.01\n",
      "\u001b[34m\u001b[1mwandb\u001b[0m: \tbatch_size: 100\n",
      "\u001b[34m\u001b[1mwandb\u001b[0m: \tearly_stopping: False\n",
      "\u001b[34m\u001b[1mwandb\u001b[0m: \thidden_layer_sizes: [50, 50]\n",
      "\u001b[34m\u001b[1mwandb\u001b[0m: \tlearning_rate: adaptive\n"
     ]
    },
    {
     "data": {
      "text/html": [
       "\n",
       "                Tracking run with wandb version 0.10.29<br/>\n",
       "                Syncing run <strong style=\"color:#cdcd00\">fresh-sweep-32</strong> to <a href=\"https://wandb.ai\" target=\"_blank\">Weights & Biases</a> <a href=\"https://docs.wandb.com/integrations/jupyter.html\" target=\"_blank\">(Documentation)</a>.<br/>\n",
       "                Project page: <a href=\"https://wandb.ai/sowmyamanojna/PRML-A3\" target=\"_blank\">https://wandb.ai/sowmyamanojna/PRML-A3</a><br/>\n",
       "                Sweep page: <a href=\"https://wandb.ai/sowmyamanojna/PRML-A3/sweeps/gs0l7xqc\" target=\"_blank\">https://wandb.ai/sowmyamanojna/PRML-A3/sweeps/gs0l7xqc</a><br/>\n",
       "Run page: <a href=\"https://wandb.ai/sowmyamanojna/PRML-A3/runs/jpglgct9\" target=\"_blank\">https://wandb.ai/sowmyamanojna/PRML-A3/runs/jpglgct9</a><br/>\n",
       "                Run data is saved locally in <code>/home/sowmya/Desktop/cs5691/assignment/assignment3/codes/wandb/run-20210507_204714-jpglgct9</code><br/><br/>\n",
       "            "
      ],
      "text/plain": [
       "<IPython.core.display.HTML object>"
      ]
     },
     "metadata": {},
     "output_type": "display_data"
    },
    {
     "data": {
      "text/html": [
       "Finishing last run (ID:jpglgct9) before initializing another..."
      ],
      "text/plain": [
       "<IPython.core.display.HTML object>"
      ]
     },
     "metadata": {},
     "output_type": "display_data"
    },
    {
     "data": {
      "text/html": [
       "<br/>Waiting for W&B process to finish, PID 37004<br/>Program ended successfully."
      ],
      "text/plain": [
       "<IPython.core.display.HTML object>"
      ]
     },
     "metadata": {},
     "output_type": "display_data"
    },
    {
     "data": {
      "application/vnd.jupyter.widget-view+json": {
       "model_id": "",
       "version_major": 2,
       "version_minor": 0
      },
      "text/plain": [
       "VBox(children=(Label(value=' 0.00MB of 0.00MB uploaded (0.00MB deduped)\\r'), FloatProgress(value=1.0, max=1.0)…"
      ]
     },
     "metadata": {},
     "output_type": "display_data"
    },
    {
     "data": {
      "text/html": [
       "Find user logs for this run at: <code>/home/sowmya/Desktop/cs5691/assignment/assignment3/codes/wandb/run-20210507_204714-jpglgct9/logs/debug.log</code>"
      ],
      "text/plain": [
       "<IPython.core.display.HTML object>"
      ]
     },
     "metadata": {},
     "output_type": "display_data"
    },
    {
     "data": {
      "text/html": [
       "Find internal logs for this run at: <code>/home/sowmya/Desktop/cs5691/assignment/assignment3/codes/wandb/run-20210507_204714-jpglgct9/logs/debug-internal.log</code>"
      ],
      "text/plain": [
       "<IPython.core.display.HTML object>"
      ]
     },
     "metadata": {},
     "output_type": "display_data"
    },
    {
     "data": {
      "text/html": [
       "Synced 4 W&B file(s), 0 media file(s), 0 artifact file(s) and 0 other file(s)"
      ],
      "text/plain": [
       "<IPython.core.display.HTML object>"
      ]
     },
     "metadata": {},
     "output_type": "display_data"
    },
    {
     "data": {
      "text/html": [
       "\n",
       "                    <br/>Synced <strong style=\"color:#cdcd00\">fresh-sweep-32</strong>: <a href=\"https://wandb.ai/sowmyamanojna/PRML-A3/runs/jpglgct9\" target=\"_blank\">https://wandb.ai/sowmyamanojna/PRML-A3/runs/jpglgct9</a><br/>\n",
       "                "
      ],
      "text/plain": [
       "<IPython.core.display.HTML object>"
      ]
     },
     "metadata": {},
     "output_type": "display_data"
    },
    {
     "data": {
      "text/html": [
       "...Successfully finished last run (ID:jpglgct9). Initializing new run:<br/><br/>"
      ],
      "text/plain": [
       "<IPython.core.display.HTML object>"
      ]
     },
     "metadata": {},
     "output_type": "display_data"
    },
    {
     "data": {
      "text/html": [
       "\n",
       "                Tracking run with wandb version 0.10.29<br/>\n",
       "                Syncing run <strong style=\"color:#cdcd00\">fresh-sweep-32</strong> to <a href=\"https://wandb.ai\" target=\"_blank\">Weights & Biases</a> <a href=\"https://docs.wandb.com/integrations/jupyter.html\" target=\"_blank\">(Documentation)</a>.<br/>\n",
       "                Project page: <a href=\"https://wandb.ai/sowmyamanojna/PRML-A3\" target=\"_blank\">https://wandb.ai/sowmyamanojna/PRML-A3</a><br/>\n",
       "                Sweep page: <a href=\"https://wandb.ai/sowmyamanojna/PRML-A3/sweeps/gs0l7xqc\" target=\"_blank\">https://wandb.ai/sowmyamanojna/PRML-A3/sweeps/gs0l7xqc</a><br/>\n",
       "Run page: <a href=\"https://wandb.ai/sowmyamanojna/PRML-A3/runs/jpglgct9\" target=\"_blank\">https://wandb.ai/sowmyamanojna/PRML-A3/runs/jpglgct9</a><br/>\n",
       "                Run data is saved locally in <code>/home/sowmya/Desktop/cs5691/assignment/assignment3/codes/wandb/run-20210507_204720-jpglgct9</code><br/><br/>\n",
       "            "
      ],
      "text/plain": [
       "<IPython.core.display.HTML object>"
      ]
     },
     "metadata": {},
     "output_type": "display_data"
    },
    {
     "name": "stderr",
     "output_type": "stream",
     "text": [
      "\u001b[34m\u001b[1mwandb\u001b[0m: Agent Starting Run: if4ap93v with config:\n",
      "\u001b[34m\u001b[1mwandb\u001b[0m: \talpha: 0.01\n",
      "\u001b[34m\u001b[1mwandb\u001b[0m: \tbatch_size: 100\n",
      "\u001b[34m\u001b[1mwandb\u001b[0m: \tearly_stopping: False\n",
      "\u001b[34m\u001b[1mwandb\u001b[0m: \thidden_layer_sizes: [50, 50]\n",
      "\u001b[34m\u001b[1mwandb\u001b[0m: \tlearning_rate: invscaling\n"
     ]
    },
    {
     "data": {
      "text/html": [
       "\n",
       "                Tracking run with wandb version 0.10.29<br/>\n",
       "                Syncing run <strong style=\"color:#cdcd00\">radiant-sweep-33</strong> to <a href=\"https://wandb.ai\" target=\"_blank\">Weights & Biases</a> <a href=\"https://docs.wandb.com/integrations/jupyter.html\" target=\"_blank\">(Documentation)</a>.<br/>\n",
       "                Project page: <a href=\"https://wandb.ai/sowmyamanojna/PRML-A3\" target=\"_blank\">https://wandb.ai/sowmyamanojna/PRML-A3</a><br/>\n",
       "                Sweep page: <a href=\"https://wandb.ai/sowmyamanojna/PRML-A3/sweeps/gs0l7xqc\" target=\"_blank\">https://wandb.ai/sowmyamanojna/PRML-A3/sweeps/gs0l7xqc</a><br/>\n",
       "Run page: <a href=\"https://wandb.ai/sowmyamanojna/PRML-A3/runs/if4ap93v\" target=\"_blank\">https://wandb.ai/sowmyamanojna/PRML-A3/runs/if4ap93v</a><br/>\n",
       "                Run data is saved locally in <code>/home/sowmya/Desktop/cs5691/assignment/assignment3/codes/wandb/run-20210507_204736-if4ap93v</code><br/><br/>\n",
       "            "
      ],
      "text/plain": [
       "<IPython.core.display.HTML object>"
      ]
     },
     "metadata": {},
     "output_type": "display_data"
    },
    {
     "data": {
      "text/html": [
       "Finishing last run (ID:if4ap93v) before initializing another..."
      ],
      "text/plain": [
       "<IPython.core.display.HTML object>"
      ]
     },
     "metadata": {},
     "output_type": "display_data"
    },
    {
     "data": {
      "text/html": [
       "<br/>Waiting for W&B process to finish, PID 37096<br/>Program ended successfully."
      ],
      "text/plain": [
       "<IPython.core.display.HTML object>"
      ]
     },
     "metadata": {},
     "output_type": "display_data"
    },
    {
     "data": {
      "application/vnd.jupyter.widget-view+json": {
       "model_id": "",
       "version_major": 2,
       "version_minor": 0
      },
      "text/plain": [
       "VBox(children=(Label(value=' 0.00MB of 0.00MB uploaded (0.00MB deduped)\\r'), FloatProgress(value=1.0, max=1.0)…"
      ]
     },
     "metadata": {},
     "output_type": "display_data"
    },
    {
     "data": {
      "text/html": [
       "Find user logs for this run at: <code>/home/sowmya/Desktop/cs5691/assignment/assignment3/codes/wandb/run-20210507_204736-if4ap93v/logs/debug.log</code>"
      ],
      "text/plain": [
       "<IPython.core.display.HTML object>"
      ]
     },
     "metadata": {},
     "output_type": "display_data"
    },
    {
     "data": {
      "text/html": [
       "Find internal logs for this run at: <code>/home/sowmya/Desktop/cs5691/assignment/assignment3/codes/wandb/run-20210507_204736-if4ap93v/logs/debug-internal.log</code>"
      ],
      "text/plain": [
       "<IPython.core.display.HTML object>"
      ]
     },
     "metadata": {},
     "output_type": "display_data"
    },
    {
     "data": {
      "text/html": [
       "Synced 4 W&B file(s), 0 media file(s), 0 artifact file(s) and 0 other file(s)"
      ],
      "text/plain": [
       "<IPython.core.display.HTML object>"
      ]
     },
     "metadata": {},
     "output_type": "display_data"
    },
    {
     "data": {
      "text/html": [
       "\n",
       "                    <br/>Synced <strong style=\"color:#cdcd00\">radiant-sweep-33</strong>: <a href=\"https://wandb.ai/sowmyamanojna/PRML-A3/runs/if4ap93v\" target=\"_blank\">https://wandb.ai/sowmyamanojna/PRML-A3/runs/if4ap93v</a><br/>\n",
       "                "
      ],
      "text/plain": [
       "<IPython.core.display.HTML object>"
      ]
     },
     "metadata": {},
     "output_type": "display_data"
    },
    {
     "data": {
      "text/html": [
       "...Successfully finished last run (ID:if4ap93v). Initializing new run:<br/><br/>"
      ],
      "text/plain": [
       "<IPython.core.display.HTML object>"
      ]
     },
     "metadata": {},
     "output_type": "display_data"
    },
    {
     "data": {
      "text/html": [
       "\n",
       "                Tracking run with wandb version 0.10.29<br/>\n",
       "                Syncing run <strong style=\"color:#cdcd00\">radiant-sweep-33</strong> to <a href=\"https://wandb.ai\" target=\"_blank\">Weights & Biases</a> <a href=\"https://docs.wandb.com/integrations/jupyter.html\" target=\"_blank\">(Documentation)</a>.<br/>\n",
       "                Project page: <a href=\"https://wandb.ai/sowmyamanojna/PRML-A3\" target=\"_blank\">https://wandb.ai/sowmyamanojna/PRML-A3</a><br/>\n",
       "                Sweep page: <a href=\"https://wandb.ai/sowmyamanojna/PRML-A3/sweeps/gs0l7xqc\" target=\"_blank\">https://wandb.ai/sowmyamanojna/PRML-A3/sweeps/gs0l7xqc</a><br/>\n",
       "Run page: <a href=\"https://wandb.ai/sowmyamanojna/PRML-A3/runs/if4ap93v\" target=\"_blank\">https://wandb.ai/sowmyamanojna/PRML-A3/runs/if4ap93v</a><br/>\n",
       "                Run data is saved locally in <code>/home/sowmya/Desktop/cs5691/assignment/assignment3/codes/wandb/run-20210507_204757-if4ap93v</code><br/><br/>\n",
       "            "
      ],
      "text/plain": [
       "<IPython.core.display.HTML object>"
      ]
     },
     "metadata": {},
     "output_type": "display_data"
    },
    {
     "name": "stderr",
     "output_type": "stream",
     "text": [
      "\u001b[34m\u001b[1mwandb\u001b[0m: Sweep Agent: Waiting for job.\n",
      "\u001b[34m\u001b[1mwandb\u001b[0m: Job received.\n",
      "\u001b[34m\u001b[1mwandb\u001b[0m: Agent Starting Run: lldni4bh with config:\n",
      "\u001b[34m\u001b[1mwandb\u001b[0m: \talpha: 0.01\n",
      "\u001b[34m\u001b[1mwandb\u001b[0m: \tbatch_size: 100\n",
      "\u001b[34m\u001b[1mwandb\u001b[0m: \tearly_stopping: False\n",
      "\u001b[34m\u001b[1mwandb\u001b[0m: \thidden_layer_sizes: [75, 75]\n",
      "\u001b[34m\u001b[1mwandb\u001b[0m: \tlearning_rate: constant\n"
     ]
    },
    {
     "data": {
      "text/html": [
       "\n",
       "                Tracking run with wandb version 0.10.29<br/>\n",
       "                Syncing run <strong style=\"color:#cdcd00\">grateful-sweep-34</strong> to <a href=\"https://wandb.ai\" target=\"_blank\">Weights & Biases</a> <a href=\"https://docs.wandb.com/integrations/jupyter.html\" target=\"_blank\">(Documentation)</a>.<br/>\n",
       "                Project page: <a href=\"https://wandb.ai/sowmyamanojna/PRML-A3\" target=\"_blank\">https://wandb.ai/sowmyamanojna/PRML-A3</a><br/>\n",
       "                Sweep page: <a href=\"https://wandb.ai/sowmyamanojna/PRML-A3/sweeps/gs0l7xqc\" target=\"_blank\">https://wandb.ai/sowmyamanojna/PRML-A3/sweeps/gs0l7xqc</a><br/>\n",
       "Run page: <a href=\"https://wandb.ai/sowmyamanojna/PRML-A3/runs/lldni4bh\" target=\"_blank\">https://wandb.ai/sowmyamanojna/PRML-A3/runs/lldni4bh</a><br/>\n",
       "                Run data is saved locally in <code>/home/sowmya/Desktop/cs5691/assignment/assignment3/codes/wandb/run-20210507_204952-lldni4bh</code><br/><br/>\n",
       "            "
      ],
      "text/plain": [
       "<IPython.core.display.HTML object>"
      ]
     },
     "metadata": {},
     "output_type": "display_data"
    },
    {
     "data": {
      "text/html": [
       "Finishing last run (ID:lldni4bh) before initializing another..."
      ],
      "text/plain": [
       "<IPython.core.display.HTML object>"
      ]
     },
     "metadata": {},
     "output_type": "display_data"
    },
    {
     "data": {
      "text/html": [
       "<br/>Waiting for W&B process to finish, PID 37199<br/>Program ended successfully."
      ],
      "text/plain": [
       "<IPython.core.display.HTML object>"
      ]
     },
     "metadata": {},
     "output_type": "display_data"
    },
    {
     "data": {
      "application/vnd.jupyter.widget-view+json": {
       "model_id": "",
       "version_major": 2,
       "version_minor": 0
      },
      "text/plain": [
       "VBox(children=(Label(value=' 0.00MB of 0.00MB uploaded (0.00MB deduped)\\r'), FloatProgress(value=1.0, max=1.0)…"
      ]
     },
     "metadata": {},
     "output_type": "display_data"
    },
    {
     "data": {
      "text/html": [
       "Find user logs for this run at: <code>/home/sowmya/Desktop/cs5691/assignment/assignment3/codes/wandb/run-20210507_204952-lldni4bh/logs/debug.log</code>"
      ],
      "text/plain": [
       "<IPython.core.display.HTML object>"
      ]
     },
     "metadata": {},
     "output_type": "display_data"
    },
    {
     "data": {
      "text/html": [
       "Find internal logs for this run at: <code>/home/sowmya/Desktop/cs5691/assignment/assignment3/codes/wandb/run-20210507_204952-lldni4bh/logs/debug-internal.log</code>"
      ],
      "text/plain": [
       "<IPython.core.display.HTML object>"
      ]
     },
     "metadata": {},
     "output_type": "display_data"
    },
    {
     "data": {
      "text/html": [
       "Synced 4 W&B file(s), 0 media file(s), 0 artifact file(s) and 0 other file(s)"
      ],
      "text/plain": [
       "<IPython.core.display.HTML object>"
      ]
     },
     "metadata": {},
     "output_type": "display_data"
    },
    {
     "data": {
      "text/html": [
       "\n",
       "                    <br/>Synced <strong style=\"color:#cdcd00\">grateful-sweep-34</strong>: <a href=\"https://wandb.ai/sowmyamanojna/PRML-A3/runs/lldni4bh\" target=\"_blank\">https://wandb.ai/sowmyamanojna/PRML-A3/runs/lldni4bh</a><br/>\n",
       "                "
      ],
      "text/plain": [
       "<IPython.core.display.HTML object>"
      ]
     },
     "metadata": {},
     "output_type": "display_data"
    },
    {
     "data": {
      "text/html": [
       "...Successfully finished last run (ID:lldni4bh). Initializing new run:<br/><br/>"
      ],
      "text/plain": [
       "<IPython.core.display.HTML object>"
      ]
     },
     "metadata": {},
     "output_type": "display_data"
    },
    {
     "name": "stderr",
     "output_type": "stream",
     "text": [
      "\u001b[34m\u001b[1mwandb\u001b[0m: \u001b[32m\u001b[41mERROR\u001b[0m Run lldni4bh errored: UsageError(\"Error communicating with wandb process\\ntry: wandb.init(settings=wandb.Settings(start_method='fork'))\\nor:  wandb.init(settings=wandb.Settings(start_method='thread'))\\nFor more info see: https://docs.wandb.ai/library/init#init-start-error\")\n"
     ]
    },
    {
     "name": "stdout",
     "output_type": "stream",
     "text": [
      "Problem at: <ipython-input-7-f10fc451a855> 3 mlp_2a_sweep\n"
     ]
    },
    {
     "name": "stderr",
     "output_type": "stream",
     "text": [
      "\u001b[34m\u001b[1mwandb\u001b[0m: Agent Starting Run: vt9hakzm with config:\n",
      "\u001b[34m\u001b[1mwandb\u001b[0m: \talpha: 0.01\n",
      "\u001b[34m\u001b[1mwandb\u001b[0m: \tbatch_size: 100\n",
      "\u001b[34m\u001b[1mwandb\u001b[0m: \tearly_stopping: False\n",
      "\u001b[34m\u001b[1mwandb\u001b[0m: \thidden_layer_sizes: [75, 75]\n",
      "\u001b[34m\u001b[1mwandb\u001b[0m: \tlearning_rate: adaptive\n"
     ]
    },
    {
     "data": {
      "text/html": [
       "\n",
       "                Tracking run with wandb version 0.10.29<br/>\n",
       "                Syncing run <strong style=\"color:#cdcd00\">usual-sweep-35</strong> to <a href=\"https://wandb.ai\" target=\"_blank\">Weights & Biases</a> <a href=\"https://docs.wandb.com/integrations/jupyter.html\" target=\"_blank\">(Documentation)</a>.<br/>\n",
       "                Project page: <a href=\"https://wandb.ai/sowmyamanojna/PRML-A3\" target=\"_blank\">https://wandb.ai/sowmyamanojna/PRML-A3</a><br/>\n",
       "                Sweep page: <a href=\"https://wandb.ai/sowmyamanojna/PRML-A3/sweeps/gs0l7xqc\" target=\"_blank\">https://wandb.ai/sowmyamanojna/PRML-A3/sweeps/gs0l7xqc</a><br/>\n",
       "Run page: <a href=\"https://wandb.ai/sowmyamanojna/PRML-A3/runs/vt9hakzm\" target=\"_blank\">https://wandb.ai/sowmyamanojna/PRML-A3/runs/vt9hakzm</a><br/>\n",
       "                Run data is saved locally in <code>/home/sowmya/Desktop/cs5691/assignment/assignment3/codes/wandb/run-20210507_205244-vt9hakzm</code><br/><br/>\n",
       "            "
      ],
      "text/plain": [
       "<IPython.core.display.HTML object>"
      ]
     },
     "metadata": {},
     "output_type": "display_data"
    },
    {
     "data": {
      "text/html": [
       "Finishing last run (ID:vt9hakzm) before initializing another..."
      ],
      "text/plain": [
       "<IPython.core.display.HTML object>"
      ]
     },
     "metadata": {},
     "output_type": "display_data"
    },
    {
     "data": {
      "text/html": [
       "<br/>Waiting for W&B process to finish, PID 37290<br/>Program ended successfully."
      ],
      "text/plain": [
       "<IPython.core.display.HTML object>"
      ]
     },
     "metadata": {},
     "output_type": "display_data"
    },
    {
     "data": {
      "application/vnd.jupyter.widget-view+json": {
       "model_id": "",
       "version_major": 2,
       "version_minor": 0
      },
      "text/plain": [
       "VBox(children=(Label(value=' 0.00MB of 0.00MB uploaded (0.00MB deduped)\\r'), FloatProgress(value=1.0, max=1.0)…"
      ]
     },
     "metadata": {},
     "output_type": "display_data"
    },
    {
     "data": {
      "text/html": [
       "Find user logs for this run at: <code>/home/sowmya/Desktop/cs5691/assignment/assignment3/codes/wandb/run-20210507_205244-vt9hakzm/logs/debug.log</code>"
      ],
      "text/plain": [
       "<IPython.core.display.HTML object>"
      ]
     },
     "metadata": {},
     "output_type": "display_data"
    },
    {
     "data": {
      "text/html": [
       "Find internal logs for this run at: <code>/home/sowmya/Desktop/cs5691/assignment/assignment3/codes/wandb/run-20210507_205244-vt9hakzm/logs/debug-internal.log</code>"
      ],
      "text/plain": [
       "<IPython.core.display.HTML object>"
      ]
     },
     "metadata": {},
     "output_type": "display_data"
    },
    {
     "data": {
      "text/html": [
       "Synced 4 W&B file(s), 0 media file(s), 0 artifact file(s) and 0 other file(s)"
      ],
      "text/plain": [
       "<IPython.core.display.HTML object>"
      ]
     },
     "metadata": {},
     "output_type": "display_data"
    },
    {
     "data": {
      "text/html": [
       "\n",
       "                    <br/>Synced <strong style=\"color:#cdcd00\">usual-sweep-35</strong>: <a href=\"https://wandb.ai/sowmyamanojna/PRML-A3/runs/vt9hakzm\" target=\"_blank\">https://wandb.ai/sowmyamanojna/PRML-A3/runs/vt9hakzm</a><br/>\n",
       "                "
      ],
      "text/plain": [
       "<IPython.core.display.HTML object>"
      ]
     },
     "metadata": {},
     "output_type": "display_data"
    },
    {
     "data": {
      "text/html": [
       "...Successfully finished last run (ID:vt9hakzm). Initializing new run:<br/><br/>"
      ],
      "text/plain": [
       "<IPython.core.display.HTML object>"
      ]
     },
     "metadata": {},
     "output_type": "display_data"
    },
    {
     "data": {
      "text/html": [
       "\n",
       "                Tracking run with wandb version 0.10.29<br/>\n",
       "                Syncing run <strong style=\"color:#cdcd00\">usual-sweep-35</strong> to <a href=\"https://wandb.ai\" target=\"_blank\">Weights & Biases</a> <a href=\"https://docs.wandb.com/integrations/jupyter.html\" target=\"_blank\">(Documentation)</a>.<br/>\n",
       "                Project page: <a href=\"https://wandb.ai/sowmyamanojna/PRML-A3\" target=\"_blank\">https://wandb.ai/sowmyamanojna/PRML-A3</a><br/>\n",
       "                Sweep page: <a href=\"https://wandb.ai/sowmyamanojna/PRML-A3/sweeps/gs0l7xqc\" target=\"_blank\">https://wandb.ai/sowmyamanojna/PRML-A3/sweeps/gs0l7xqc</a><br/>\n",
       "Run page: <a href=\"https://wandb.ai/sowmyamanojna/PRML-A3/runs/vt9hakzm\" target=\"_blank\">https://wandb.ai/sowmyamanojna/PRML-A3/runs/vt9hakzm</a><br/>\n",
       "                Run data is saved locally in <code>/home/sowmya/Desktop/cs5691/assignment/assignment3/codes/wandb/run-20210507_205250-vt9hakzm</code><br/><br/>\n",
       "            "
      ],
      "text/plain": [
       "<IPython.core.display.HTML object>"
      ]
     },
     "metadata": {},
     "output_type": "display_data"
    },
    {
     "name": "stderr",
     "output_type": "stream",
     "text": [
      "\u001b[34m\u001b[1mwandb\u001b[0m: Agent Starting Run: 3m88ad29 with config:\n",
      "\u001b[34m\u001b[1mwandb\u001b[0m: \talpha: 0.01\n",
      "\u001b[34m\u001b[1mwandb\u001b[0m: \tbatch_size: 100\n",
      "\u001b[34m\u001b[1mwandb\u001b[0m: \tearly_stopping: False\n",
      "\u001b[34m\u001b[1mwandb\u001b[0m: \thidden_layer_sizes: [75, 75]\n",
      "\u001b[34m\u001b[1mwandb\u001b[0m: \tlearning_rate: invscaling\n"
     ]
    },
    {
     "data": {
      "text/html": [
       "\n",
       "                Tracking run with wandb version 0.10.29<br/>\n",
       "                Syncing run <strong style=\"color:#cdcd00\">skilled-sweep-36</strong> to <a href=\"https://wandb.ai\" target=\"_blank\">Weights & Biases</a> <a href=\"https://docs.wandb.com/integrations/jupyter.html\" target=\"_blank\">(Documentation)</a>.<br/>\n",
       "                Project page: <a href=\"https://wandb.ai/sowmyamanojna/PRML-A3\" target=\"_blank\">https://wandb.ai/sowmyamanojna/PRML-A3</a><br/>\n",
       "                Sweep page: <a href=\"https://wandb.ai/sowmyamanojna/PRML-A3/sweeps/gs0l7xqc\" target=\"_blank\">https://wandb.ai/sowmyamanojna/PRML-A3/sweeps/gs0l7xqc</a><br/>\n",
       "Run page: <a href=\"https://wandb.ai/sowmyamanojna/PRML-A3/runs/3m88ad29\" target=\"_blank\">https://wandb.ai/sowmyamanojna/PRML-A3/runs/3m88ad29</a><br/>\n",
       "                Run data is saved locally in <code>/home/sowmya/Desktop/cs5691/assignment/assignment3/codes/wandb/run-20210507_205337-3m88ad29</code><br/><br/>\n",
       "            "
      ],
      "text/plain": [
       "<IPython.core.display.HTML object>"
      ]
     },
     "metadata": {},
     "output_type": "display_data"
    },
    {
     "data": {
      "text/html": [
       "Finishing last run (ID:3m88ad29) before initializing another..."
      ],
      "text/plain": [
       "<IPython.core.display.HTML object>"
      ]
     },
     "metadata": {},
     "output_type": "display_data"
    },
    {
     "data": {
      "text/html": [
       "<br/>Waiting for W&B process to finish, PID 37386<br/>Program ended successfully."
      ],
      "text/plain": [
       "<IPython.core.display.HTML object>"
      ]
     },
     "metadata": {},
     "output_type": "display_data"
    },
    {
     "data": {
      "application/vnd.jupyter.widget-view+json": {
       "model_id": "",
       "version_major": 2,
       "version_minor": 0
      },
      "text/plain": [
       "VBox(children=(Label(value=' 0.00MB of 0.00MB uploaded (0.00MB deduped)\\r'), FloatProgress(value=1.0, max=1.0)…"
      ]
     },
     "metadata": {},
     "output_type": "display_data"
    },
    {
     "data": {
      "text/html": [
       "Find user logs for this run at: <code>/home/sowmya/Desktop/cs5691/assignment/assignment3/codes/wandb/run-20210507_205337-3m88ad29/logs/debug.log</code>"
      ],
      "text/plain": [
       "<IPython.core.display.HTML object>"
      ]
     },
     "metadata": {},
     "output_type": "display_data"
    },
    {
     "data": {
      "text/html": [
       "Find internal logs for this run at: <code>/home/sowmya/Desktop/cs5691/assignment/assignment3/codes/wandb/run-20210507_205337-3m88ad29/logs/debug-internal.log</code>"
      ],
      "text/plain": [
       "<IPython.core.display.HTML object>"
      ]
     },
     "metadata": {},
     "output_type": "display_data"
    },
    {
     "data": {
      "text/html": [
       "Synced 4 W&B file(s), 0 media file(s), 0 artifact file(s) and 0 other file(s)"
      ],
      "text/plain": [
       "<IPython.core.display.HTML object>"
      ]
     },
     "metadata": {},
     "output_type": "display_data"
    },
    {
     "data": {
      "text/html": [
       "\n",
       "                    <br/>Synced <strong style=\"color:#cdcd00\">skilled-sweep-36</strong>: <a href=\"https://wandb.ai/sowmyamanojna/PRML-A3/runs/3m88ad29\" target=\"_blank\">https://wandb.ai/sowmyamanojna/PRML-A3/runs/3m88ad29</a><br/>\n",
       "                "
      ],
      "text/plain": [
       "<IPython.core.display.HTML object>"
      ]
     },
     "metadata": {},
     "output_type": "display_data"
    },
    {
     "data": {
      "text/html": [
       "...Successfully finished last run (ID:3m88ad29). Initializing new run:<br/><br/>"
      ],
      "text/plain": [
       "<IPython.core.display.HTML object>"
      ]
     },
     "metadata": {},
     "output_type": "display_data"
    },
    {
     "data": {
      "text/html": [
       "\n",
       "                Tracking run with wandb version 0.10.29<br/>\n",
       "                Syncing run <strong style=\"color:#cdcd00\">skilled-sweep-36</strong> to <a href=\"https://wandb.ai\" target=\"_blank\">Weights & Biases</a> <a href=\"https://docs.wandb.com/integrations/jupyter.html\" target=\"_blank\">(Documentation)</a>.<br/>\n",
       "                Project page: <a href=\"https://wandb.ai/sowmyamanojna/PRML-A3\" target=\"_blank\">https://wandb.ai/sowmyamanojna/PRML-A3</a><br/>\n",
       "                Sweep page: <a href=\"https://wandb.ai/sowmyamanojna/PRML-A3/sweeps/gs0l7xqc\" target=\"_blank\">https://wandb.ai/sowmyamanojna/PRML-A3/sweeps/gs0l7xqc</a><br/>\n",
       "Run page: <a href=\"https://wandb.ai/sowmyamanojna/PRML-A3/runs/3m88ad29\" target=\"_blank\">https://wandb.ai/sowmyamanojna/PRML-A3/runs/3m88ad29</a><br/>\n",
       "                Run data is saved locally in <code>/home/sowmya/Desktop/cs5691/assignment/assignment3/codes/wandb/run-20210507_205345-3m88ad29</code><br/><br/>\n",
       "            "
      ],
      "text/plain": [
       "<IPython.core.display.HTML object>"
      ]
     },
     "metadata": {},
     "output_type": "display_data"
    },
    {
     "name": "stderr",
     "output_type": "stream",
     "text": [
      "\u001b[34m\u001b[1mwandb\u001b[0m: Agent Starting Run: 503ljh81 with config:\n",
      "\u001b[34m\u001b[1mwandb\u001b[0m: \talpha: 0.01\n",
      "\u001b[34m\u001b[1mwandb\u001b[0m: \tbatch_size: auto\n",
      "\u001b[34m\u001b[1mwandb\u001b[0m: \tearly_stopping: True\n",
      "\u001b[34m\u001b[1mwandb\u001b[0m: \thidden_layer_sizes: [25, 25]\n",
      "\u001b[34m\u001b[1mwandb\u001b[0m: \tlearning_rate: constant\n",
      "\u001b[34m\u001b[1mwandb\u001b[0m: \u001b[32m\u001b[41mERROR\u001b[0m Run 503ljh81 errored: UsageError(\"Error communicating with wandb process\\ntry: wandb.init(settings=wandb.Settings(start_method='fork'))\\nor:  wandb.init(settings=wandb.Settings(start_method='thread'))\\nFor more info see: https://docs.wandb.ai/library/init#init-start-error\")\n"
     ]
    },
    {
     "name": "stdout",
     "output_type": "stream",
     "text": [
      "Problem at: <ipython-input-7-f10fc451a855> 2 mlp_2a_sweep\n"
     ]
    },
    {
     "name": "stderr",
     "output_type": "stream",
     "text": [
      "\u001b[34m\u001b[1mwandb\u001b[0m: Agent Starting Run: ywv5d70o with config:\n",
      "\u001b[34m\u001b[1mwandb\u001b[0m: \talpha: 0.01\n",
      "\u001b[34m\u001b[1mwandb\u001b[0m: \tbatch_size: auto\n",
      "\u001b[34m\u001b[1mwandb\u001b[0m: \tearly_stopping: True\n",
      "\u001b[34m\u001b[1mwandb\u001b[0m: \thidden_layer_sizes: [25, 25]\n",
      "\u001b[34m\u001b[1mwandb\u001b[0m: \tlearning_rate: adaptive\n"
     ]
    },
    {
     "data": {
      "text/html": [
       "\n",
       "                Tracking run with wandb version 0.10.29<br/>\n",
       "                Syncing run <strong style=\"color:#cdcd00\">ethereal-sweep-38</strong> to <a href=\"https://wandb.ai\" target=\"_blank\">Weights & Biases</a> <a href=\"https://docs.wandb.com/integrations/jupyter.html\" target=\"_blank\">(Documentation)</a>.<br/>\n",
       "                Project page: <a href=\"https://wandb.ai/sowmyamanojna/PRML-A3\" target=\"_blank\">https://wandb.ai/sowmyamanojna/PRML-A3</a><br/>\n",
       "                Sweep page: <a href=\"https://wandb.ai/sowmyamanojna/PRML-A3/sweeps/gs0l7xqc\" target=\"_blank\">https://wandb.ai/sowmyamanojna/PRML-A3/sweeps/gs0l7xqc</a><br/>\n",
       "Run page: <a href=\"https://wandb.ai/sowmyamanojna/PRML-A3/runs/ywv5d70o\" target=\"_blank\">https://wandb.ai/sowmyamanojna/PRML-A3/runs/ywv5d70o</a><br/>\n",
       "                Run data is saved locally in <code>/home/sowmya/Desktop/cs5691/assignment/assignment3/codes/wandb/run-20210507_205620-ywv5d70o</code><br/><br/>\n",
       "            "
      ],
      "text/plain": [
       "<IPython.core.display.HTML object>"
      ]
     },
     "metadata": {},
     "output_type": "display_data"
    },
    {
     "data": {
      "text/html": [
       "Finishing last run (ID:ywv5d70o) before initializing another..."
      ],
      "text/plain": [
       "<IPython.core.display.HTML object>"
      ]
     },
     "metadata": {},
     "output_type": "display_data"
    },
    {
     "data": {
      "text/html": [
       "<br/>Waiting for W&B process to finish, PID 37592<br/>Program ended successfully."
      ],
      "text/plain": [
       "<IPython.core.display.HTML object>"
      ]
     },
     "metadata": {},
     "output_type": "display_data"
    },
    {
     "name": "stderr",
     "output_type": "stream",
     "text": [
      "\u001b[34m\u001b[1mwandb\u001b[0m: 429 encountered (Filestream rate limit exceeded, retrying in 2.01725675336907 seconds), retrying request\n",
      "\u001b[34m\u001b[1mwandb\u001b[0m: 429 encountered (Filestream rate limit exceeded, retrying in 2.1790502007619743 seconds), retrying request\n"
     ]
    }
   ],
   "source": [
    "sweep_id = wandb.sweep(sweep_config, project = 'PRML-A3')\n",
    "wandb.agent(sweep_id, function=mlp_2a_sweep)"
   ]
  }
 ],
 "metadata": {
  "kernelspec": {
   "display_name": "Python 3",
   "language": "python",
   "name": "python3"
  },
  "language_info": {
   "codemirror_mode": {
    "name": "ipython",
    "version": 3
   },
   "file_extension": ".py",
   "mimetype": "text/x-python",
   "name": "python",
   "nbconvert_exporter": "python",
   "pygments_lexer": "ipython3",
   "version": "3.8.5"
  }
 },
 "nbformat": 4,
 "nbformat_minor": 4
}
