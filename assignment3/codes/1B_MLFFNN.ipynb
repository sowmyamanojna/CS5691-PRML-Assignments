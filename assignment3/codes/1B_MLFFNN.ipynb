{
  "nbformat": 4,
  "nbformat_minor": 0,
  "metadata": {
    "kernelspec": {
      "display_name": "Python 3",
      "language": "python",
      "name": "python3"
    },
    "language_info": {
      "codemirror_mode": {
        "name": "ipython",
        "version": 3
      },
      "file_extension": ".py",
      "mimetype": "text/x-python",
      "name": "python",
      "nbconvert_exporter": "python",
      "pygments_lexer": "ipython3",
      "version": "3.8.5"
    },
    "colab": {
      "name": "1B_MLFFNN.ipynb",
      "provenance": [],
      "collapsed_sections": [],
      "toc_visible": true
    }
  },
  "cells": [
    {
      "cell_type": "markdown",
      "metadata": {
        "id": "Zn_5gmWRfdDE"
      },
      "source": [
        "# Assignment 3 - 1A (MLFFNN)\n",
        "\n",
        "Team members:\n",
        "- N Sowmya Manojna (BE17B007)\n",
        "- Thakkar Riya Anandbhai (PH17B010)\n",
        "- Chaithanya Krishna Moorthy (PH17B011)"
      ]
    },
    {
      "cell_type": "markdown",
      "metadata": {
        "id": "7IsV_02nfdDN"
      },
      "source": [
        "## Import Essential Libraries"
      ]
    },
    {
      "cell_type": "code",
      "metadata": {
        "id": "22dGgp8qfdDQ"
      },
      "source": [
        "import numpy as np\n",
        "import pandas as pd\n",
        "import seaborn as sns\n",
        "from sklearn.metrics import confusion_matrix\n",
        "from sklearn.neural_network import MLPClassifier\n",
        "from sklearn.model_selection import GridSearchCV\n",
        "from sklearn.model_selection import train_test_split\n",
        "from sklearn.model_selection import StratifiedShuffleSplit\n",
        "\n",
        "import matplotlib.pyplot as plt\n",
        "plt.rcParams[\"font.size\"] = 18\n",
        "plt.rcParams[\"axes.grid\"] = True\n",
        "plt.rcParams[\"figure.figsize\"] = 12,8\n",
        "plt.rcParams['font.serif'] = \"Cambria\"\n",
        "plt.rcParams['font.family'] = \"serif\"\n",
        "\n",
        "get_ipython().run_line_magic('load_ext', 'autoreload')\n",
        "get_ipython().run_line_magic('autoreload', '2')\n",
        "\n",
        "import warnings\n",
        "warnings.filterwarnings(\"ignore\")"
      ],
      "execution_count": 1,
      "outputs": []
    },
    {
      "cell_type": "markdown",
      "metadata": {
        "id": "uRGAsEp3fdDX"
      },
      "source": [
        "## Reading the data, Splitting it"
      ]
    },
    {
      "cell_type": "code",
      "metadata": {
        "colab": {
          "base_uri": "https://localhost:8080/",
          "height": 584
        },
        "id": "GoYrHfHKfdDb",
        "outputId": "05e10163-6a19-47cb-8a7f-403c981e4957"
      },
      "source": [
        "# Get the data\n",
        "column_names = [\"x1\", \"x2\", \"y\"]\n",
        "df = pd.read_csv(\"train.csv\", names=column_names)\n",
        "df_test = pd.read_csv(\"dev.csv\", names=column_names)\n",
        "display(df.head())\n",
        "\n",
        "# Split dev into test and validation\n",
        "df_val, df_test = train_test_split(df_test, test_size=0.3, random_state=42)\n",
        "display(df_val.head())\n",
        "display(df_test.head())"
      ],
      "execution_count": 2,
      "outputs": [
        {
          "output_type": "display_data",
          "data": {
            "text/html": [
              "<div>\n",
              "<style scoped>\n",
              "    .dataframe tbody tr th:only-of-type {\n",
              "        vertical-align: middle;\n",
              "    }\n",
              "\n",
              "    .dataframe tbody tr th {\n",
              "        vertical-align: top;\n",
              "    }\n",
              "\n",
              "    .dataframe thead th {\n",
              "        text-align: right;\n",
              "    }\n",
              "</style>\n",
              "<table border=\"1\" class=\"dataframe\">\n",
              "  <thead>\n",
              "    <tr style=\"text-align: right;\">\n",
              "      <th></th>\n",
              "      <th>x1</th>\n",
              "      <th>x2</th>\n",
              "      <th>y</th>\n",
              "    </tr>\n",
              "  </thead>\n",
              "  <tbody>\n",
              "    <tr>\n",
              "      <th>0</th>\n",
              "      <td>0.537115</td>\n",
              "      <td>0.452538</td>\n",
              "      <td>0.0</td>\n",
              "    </tr>\n",
              "    <tr>\n",
              "      <th>1</th>\n",
              "      <td>0.380729</td>\n",
              "      <td>0.371252</td>\n",
              "      <td>0.0</td>\n",
              "    </tr>\n",
              "    <tr>\n",
              "      <th>2</th>\n",
              "      <td>0.551707</td>\n",
              "      <td>0.496879</td>\n",
              "      <td>0.0</td>\n",
              "    </tr>\n",
              "    <tr>\n",
              "      <th>3</th>\n",
              "      <td>0.128153</td>\n",
              "      <td>0.337706</td>\n",
              "      <td>0.0</td>\n",
              "    </tr>\n",
              "    <tr>\n",
              "      <th>4</th>\n",
              "      <td>-0.893600</td>\n",
              "      <td>-2.493547</td>\n",
              "      <td>0.0</td>\n",
              "    </tr>\n",
              "  </tbody>\n",
              "</table>\n",
              "</div>"
            ],
            "text/plain": [
              "         x1        x2    y\n",
              "0  0.537115  0.452538  0.0\n",
              "1  0.380729  0.371252  0.0\n",
              "2  0.551707  0.496879  0.0\n",
              "3  0.128153  0.337706  0.0\n",
              "4 -0.893600 -2.493547  0.0"
            ]
          },
          "metadata": {
            "tags": []
          }
        },
        {
          "output_type": "display_data",
          "data": {
            "text/html": [
              "<div>\n",
              "<style scoped>\n",
              "    .dataframe tbody tr th:only-of-type {\n",
              "        vertical-align: middle;\n",
              "    }\n",
              "\n",
              "    .dataframe tbody tr th {\n",
              "        vertical-align: top;\n",
              "    }\n",
              "\n",
              "    .dataframe thead th {\n",
              "        text-align: right;\n",
              "    }\n",
              "</style>\n",
              "<table border=\"1\" class=\"dataframe\">\n",
              "  <thead>\n",
              "    <tr style=\"text-align: right;\">\n",
              "      <th></th>\n",
              "      <th>x1</th>\n",
              "      <th>x2</th>\n",
              "      <th>y</th>\n",
              "    </tr>\n",
              "  </thead>\n",
              "  <tbody>\n",
              "    <tr>\n",
              "      <th>67</th>\n",
              "      <td>-0.019659</td>\n",
              "      <td>-1.153679</td>\n",
              "      <td>2.0</td>\n",
              "    </tr>\n",
              "    <tr>\n",
              "      <th>31</th>\n",
              "      <td>1.436933</td>\n",
              "      <td>1.499611</td>\n",
              "      <td>1.0</td>\n",
              "    </tr>\n",
              "    <tr>\n",
              "      <th>75</th>\n",
              "      <td>-2.383817</td>\n",
              "      <td>0.405503</td>\n",
              "      <td>2.0</td>\n",
              "    </tr>\n",
              "    <tr>\n",
              "      <th>9</th>\n",
              "      <td>0.749243</td>\n",
              "      <td>-0.226078</td>\n",
              "      <td>0.0</td>\n",
              "    </tr>\n",
              "    <tr>\n",
              "      <th>68</th>\n",
              "      <td>-2.163703</td>\n",
              "      <td>1.187660</td>\n",
              "      <td>2.0</td>\n",
              "    </tr>\n",
              "  </tbody>\n",
              "</table>\n",
              "</div>"
            ],
            "text/plain": [
              "          x1        x2    y\n",
              "67 -0.019659 -1.153679  2.0\n",
              "31  1.436933  1.499611  1.0\n",
              "75 -2.383817  0.405503  2.0\n",
              "9   0.749243 -0.226078  0.0\n",
              "68 -2.163703  1.187660  2.0"
            ]
          },
          "metadata": {
            "tags": []
          }
        },
        {
          "output_type": "display_data",
          "data": {
            "text/html": [
              "<div>\n",
              "<style scoped>\n",
              "    .dataframe tbody tr th:only-of-type {\n",
              "        vertical-align: middle;\n",
              "    }\n",
              "\n",
              "    .dataframe tbody tr th {\n",
              "        vertical-align: top;\n",
              "    }\n",
              "\n",
              "    .dataframe thead th {\n",
              "        text-align: right;\n",
              "    }\n",
              "</style>\n",
              "<table border=\"1\" class=\"dataframe\">\n",
              "  <thead>\n",
              "    <tr style=\"text-align: right;\">\n",
              "      <th></th>\n",
              "      <th>x1</th>\n",
              "      <th>x2</th>\n",
              "      <th>y</th>\n",
              "    </tr>\n",
              "  </thead>\n",
              "  <tbody>\n",
              "    <tr>\n",
              "      <th>40</th>\n",
              "      <td>-0.147620</td>\n",
              "      <td>-0.135928</td>\n",
              "      <td>1.0</td>\n",
              "    </tr>\n",
              "    <tr>\n",
              "      <th>22</th>\n",
              "      <td>0.015013</td>\n",
              "      <td>0.068611</td>\n",
              "      <td>0.0</td>\n",
              "    </tr>\n",
              "    <tr>\n",
              "      <th>55</th>\n",
              "      <td>2.889180</td>\n",
              "      <td>-0.051103</td>\n",
              "      <td>1.0</td>\n",
              "    </tr>\n",
              "    <tr>\n",
              "      <th>70</th>\n",
              "      <td>-2.105578</td>\n",
              "      <td>0.785977</td>\n",
              "      <td>2.0</td>\n",
              "    </tr>\n",
              "    <tr>\n",
              "      <th>0</th>\n",
              "      <td>0.438052</td>\n",
              "      <td>-2.337230</td>\n",
              "      <td>0.0</td>\n",
              "    </tr>\n",
              "  </tbody>\n",
              "</table>\n",
              "</div>"
            ],
            "text/plain": [
              "          x1        x2    y\n",
              "40 -0.147620 -0.135928  1.0\n",
              "22  0.015013  0.068611  0.0\n",
              "55  2.889180 -0.051103  1.0\n",
              "70 -2.105578  0.785977  2.0\n",
              "0   0.438052 -2.337230  0.0"
            ]
          },
          "metadata": {
            "tags": []
          }
        }
      ]
    },
    {
      "cell_type": "code",
      "metadata": {
        "id": "fdFMG1GFfdDf"
      },
      "source": [
        "X_train = df[[\"x1\", \"x2\"]].to_numpy()\n",
        "y_train = df[\"y\"].to_numpy().astype(\"int\")\n",
        "\n",
        "X_val = df_val[[\"x1\", \"x2\"]].to_numpy()\n",
        "y_val = df_val[\"y\"].to_numpy().astype(\"int\")\n",
        "\n",
        "X_test = df_test[[\"x1\", \"x2\"]].to_numpy()\n",
        "y_test = df_test[\"y\"].to_numpy().astype(\"int\")"
      ],
      "execution_count": 3,
      "outputs": []
    },
    {
      "cell_type": "markdown",
      "metadata": {
        "id": "LUKZfCxcfdDi"
      },
      "source": [
        "## Training the Model"
      ]
    },
    {
      "cell_type": "code",
      "metadata": {
        "colab": {
          "base_uri": "https://localhost:8080/",
          "height": 1000
        },
        "id": "5WTzJam-fdDl",
        "outputId": "4e87446e-8db2-4481-9c30-81567281f7d4"
      },
      "source": [
        "# parameters = {\"hidden_layer_sizes\":[(5,5),(8,5),(8,8),10,15], \"activation\":[\"logistic\", \"tanh\", \"relu\"], \\\n",
        "#               \"solver\":[\"lbfgs\", \"sgd\", \"adam\"], \"batch_size\":[100, 200, \"auto\"], \\\n",
        "#               \"alpha\":[0, 0.0001], \"learning_rate\":[\"constant\", \"adaptive\", \"invscaling\"], \\\n",
        "#              }\n",
        "parameters = {\"hidden_layer_sizes\":[(5,5),(6,6),(7,7),(8,8),(9,9),(10,10)],\\\n",
        "              \"activation\":[\"logistic\", \"relu\"], \\\n",
        "              \"batch_size\":[50, 100, 200], \"early_stopping\":[True, False], \\\n",
        "              \"learning_rate\":[\"constant\", \"adaptive\", \"invscaling\"], \\\n",
        "              \"alpha\":[0.01, 0.001]\n",
        "             }\n",
        "\n",
        "mlp = MLPClassifier(random_state=1)\n",
        "\n",
        "clf = GridSearchCV(mlp, parameters, verbose=1, n_jobs=6)\n",
        "clf.fit(X_train, y_train)\n",
        "result_df = pd.DataFrame(clf.cv_results_)\n",
        "result_df.to_csv(\"1B_MLFFNN.csv\")\n",
        "result_df = result_df.sort_values(by=[\"rank_test_score\", \"mean_fit_time\"])\n",
        "result_df.head(10)"
      ],
      "execution_count": 4,
      "outputs": [
        {
          "output_type": "stream",
          "text": [
            "Fitting 5 folds for each of 432 candidates, totalling 2160 fits\n"
          ],
          "name": "stdout"
        },
        {
          "output_type": "stream",
          "text": [
            "[Parallel(n_jobs=6)]: Using backend LokyBackend with 6 concurrent workers.\n",
            "[Parallel(n_jobs=6)]: Done  38 tasks      | elapsed:    5.2s\n",
            "[Parallel(n_jobs=6)]: Done 188 tasks      | elapsed:  1.3min\n",
            "[Parallel(n_jobs=6)]: Done 438 tasks      | elapsed:  2.0min\n",
            "[Parallel(n_jobs=6)]: Done 788 tasks      | elapsed:  3.7min\n",
            "[Parallel(n_jobs=6)]: Done 1238 tasks      | elapsed:  6.1min\n",
            "[Parallel(n_jobs=6)]: Done 1788 tasks      | elapsed:  9.1min\n",
            "[Parallel(n_jobs=6)]: Done 2160 out of 2160 | elapsed: 10.7min finished\n"
          ],
          "name": "stderr"
        },
        {
          "output_type": "execute_result",
          "data": {
            "text/html": [
              "<div>\n",
              "<style scoped>\n",
              "    .dataframe tbody tr th:only-of-type {\n",
              "        vertical-align: middle;\n",
              "    }\n",
              "\n",
              "    .dataframe tbody tr th {\n",
              "        vertical-align: top;\n",
              "    }\n",
              "\n",
              "    .dataframe thead th {\n",
              "        text-align: right;\n",
              "    }\n",
              "</style>\n",
              "<table border=\"1\" class=\"dataframe\">\n",
              "  <thead>\n",
              "    <tr style=\"text-align: right;\">\n",
              "      <th></th>\n",
              "      <th>mean_fit_time</th>\n",
              "      <th>std_fit_time</th>\n",
              "      <th>mean_score_time</th>\n",
              "      <th>std_score_time</th>\n",
              "      <th>param_activation</th>\n",
              "      <th>param_alpha</th>\n",
              "      <th>param_batch_size</th>\n",
              "      <th>param_early_stopping</th>\n",
              "      <th>param_hidden_layer_sizes</th>\n",
              "      <th>param_learning_rate</th>\n",
              "      <th>params</th>\n",
              "      <th>split0_test_score</th>\n",
              "      <th>split1_test_score</th>\n",
              "      <th>split2_test_score</th>\n",
              "      <th>split3_test_score</th>\n",
              "      <th>split4_test_score</th>\n",
              "      <th>mean_test_score</th>\n",
              "      <th>std_test_score</th>\n",
              "      <th>rank_test_score</th>\n",
              "    </tr>\n",
              "  </thead>\n",
              "  <tbody>\n",
              "    <tr>\n",
              "      <th>352</th>\n",
              "      <td>5.111674</td>\n",
              "      <td>0.052329</td>\n",
              "      <td>0.002915</td>\n",
              "      <td>0.004061</td>\n",
              "      <td>relu</td>\n",
              "      <td>0.001</td>\n",
              "      <td>50</td>\n",
              "      <td>False</td>\n",
              "      <td>(8, 8)</td>\n",
              "      <td>adaptive</td>\n",
              "      <td>{'activation': 'relu', 'alpha': 0.001, 'batch_...</td>\n",
              "      <td>0.991667</td>\n",
              "      <td>0.991667</td>\n",
              "      <td>0.991667</td>\n",
              "      <td>0.975000</td>\n",
              "      <td>0.975</td>\n",
              "      <td>0.985000</td>\n",
              "      <td>0.008165</td>\n",
              "      <td>1</td>\n",
              "    </tr>\n",
              "    <tr>\n",
              "      <th>353</th>\n",
              "      <td>5.128052</td>\n",
              "      <td>0.068886</td>\n",
              "      <td>0.000897</td>\n",
              "      <td>0.000025</td>\n",
              "      <td>relu</td>\n",
              "      <td>0.001</td>\n",
              "      <td>50</td>\n",
              "      <td>False</td>\n",
              "      <td>(8, 8)</td>\n",
              "      <td>invscaling</td>\n",
              "      <td>{'activation': 'relu', 'alpha': 0.001, 'batch_...</td>\n",
              "      <td>0.991667</td>\n",
              "      <td>0.991667</td>\n",
              "      <td>0.991667</td>\n",
              "      <td>0.975000</td>\n",
              "      <td>0.975</td>\n",
              "      <td>0.985000</td>\n",
              "      <td>0.008165</td>\n",
              "      <td>1</td>\n",
              "    </tr>\n",
              "    <tr>\n",
              "      <th>243</th>\n",
              "      <td>5.141488</td>\n",
              "      <td>0.150874</td>\n",
              "      <td>0.004310</td>\n",
              "      <td>0.006611</td>\n",
              "      <td>relu</td>\n",
              "      <td>0.01</td>\n",
              "      <td>50</td>\n",
              "      <td>False</td>\n",
              "      <td>(8, 8)</td>\n",
              "      <td>constant</td>\n",
              "      <td>{'activation': 'relu', 'alpha': 0.01, 'batch_s...</td>\n",
              "      <td>0.991667</td>\n",
              "      <td>0.991667</td>\n",
              "      <td>0.991667</td>\n",
              "      <td>0.975000</td>\n",
              "      <td>0.975</td>\n",
              "      <td>0.985000</td>\n",
              "      <td>0.008165</td>\n",
              "      <td>1</td>\n",
              "    </tr>\n",
              "    <tr>\n",
              "      <th>351</th>\n",
              "      <td>5.148928</td>\n",
              "      <td>0.024337</td>\n",
              "      <td>0.000903</td>\n",
              "      <td>0.000034</td>\n",
              "      <td>relu</td>\n",
              "      <td>0.001</td>\n",
              "      <td>50</td>\n",
              "      <td>False</td>\n",
              "      <td>(8, 8)</td>\n",
              "      <td>constant</td>\n",
              "      <td>{'activation': 'relu', 'alpha': 0.001, 'batch_...</td>\n",
              "      <td>0.991667</td>\n",
              "      <td>0.991667</td>\n",
              "      <td>0.991667</td>\n",
              "      <td>0.975000</td>\n",
              "      <td>0.975</td>\n",
              "      <td>0.985000</td>\n",
              "      <td>0.008165</td>\n",
              "      <td>1</td>\n",
              "    </tr>\n",
              "    <tr>\n",
              "      <th>245</th>\n",
              "      <td>5.179837</td>\n",
              "      <td>0.034686</td>\n",
              "      <td>0.002909</td>\n",
              "      <td>0.004018</td>\n",
              "      <td>relu</td>\n",
              "      <td>0.01</td>\n",
              "      <td>50</td>\n",
              "      <td>False</td>\n",
              "      <td>(8, 8)</td>\n",
              "      <td>invscaling</td>\n",
              "      <td>{'activation': 'relu', 'alpha': 0.01, 'batch_s...</td>\n",
              "      <td>0.991667</td>\n",
              "      <td>0.991667</td>\n",
              "      <td>0.991667</td>\n",
              "      <td>0.975000</td>\n",
              "      <td>0.975</td>\n",
              "      <td>0.985000</td>\n",
              "      <td>0.008165</td>\n",
              "      <td>1</td>\n",
              "    </tr>\n",
              "    <tr>\n",
              "      <th>244</th>\n",
              "      <td>5.194781</td>\n",
              "      <td>0.047146</td>\n",
              "      <td>0.007100</td>\n",
              "      <td>0.003707</td>\n",
              "      <td>relu</td>\n",
              "      <td>0.01</td>\n",
              "      <td>50</td>\n",
              "      <td>False</td>\n",
              "      <td>(8, 8)</td>\n",
              "      <td>adaptive</td>\n",
              "      <td>{'activation': 'relu', 'alpha': 0.01, 'batch_s...</td>\n",
              "      <td>0.991667</td>\n",
              "      <td>0.991667</td>\n",
              "      <td>0.991667</td>\n",
              "      <td>0.975000</td>\n",
              "      <td>0.975</td>\n",
              "      <td>0.985000</td>\n",
              "      <td>0.008165</td>\n",
              "      <td>1</td>\n",
              "    </tr>\n",
              "    <tr>\n",
              "      <th>251</th>\n",
              "      <td>5.228093</td>\n",
              "      <td>0.033084</td>\n",
              "      <td>0.003045</td>\n",
              "      <td>0.004031</td>\n",
              "      <td>relu</td>\n",
              "      <td>0.01</td>\n",
              "      <td>50</td>\n",
              "      <td>False</td>\n",
              "      <td>(10, 10)</td>\n",
              "      <td>invscaling</td>\n",
              "      <td>{'activation': 'relu', 'alpha': 0.01, 'batch_s...</td>\n",
              "      <td>0.991667</td>\n",
              "      <td>0.983333</td>\n",
              "      <td>0.991667</td>\n",
              "      <td>0.991667</td>\n",
              "      <td>0.950</td>\n",
              "      <td>0.981667</td>\n",
              "      <td>0.016159</td>\n",
              "      <td>7</td>\n",
              "    </tr>\n",
              "    <tr>\n",
              "      <th>250</th>\n",
              "      <td>5.233712</td>\n",
              "      <td>0.071306</td>\n",
              "      <td>0.000939</td>\n",
              "      <td>0.000041</td>\n",
              "      <td>relu</td>\n",
              "      <td>0.01</td>\n",
              "      <td>50</td>\n",
              "      <td>False</td>\n",
              "      <td>(10, 10)</td>\n",
              "      <td>adaptive</td>\n",
              "      <td>{'activation': 'relu', 'alpha': 0.01, 'batch_s...</td>\n",
              "      <td>0.991667</td>\n",
              "      <td>0.983333</td>\n",
              "      <td>0.991667</td>\n",
              "      <td>0.991667</td>\n",
              "      <td>0.950</td>\n",
              "      <td>0.981667</td>\n",
              "      <td>0.016159</td>\n",
              "      <td>7</td>\n",
              "    </tr>\n",
              "    <tr>\n",
              "      <th>249</th>\n",
              "      <td>5.257564</td>\n",
              "      <td>0.050326</td>\n",
              "      <td>0.000938</td>\n",
              "      <td>0.000028</td>\n",
              "      <td>relu</td>\n",
              "      <td>0.01</td>\n",
              "      <td>50</td>\n",
              "      <td>False</td>\n",
              "      <td>(10, 10)</td>\n",
              "      <td>constant</td>\n",
              "      <td>{'activation': 'relu', 'alpha': 0.01, 'batch_s...</td>\n",
              "      <td>0.991667</td>\n",
              "      <td>0.983333</td>\n",
              "      <td>0.991667</td>\n",
              "      <td>0.991667</td>\n",
              "      <td>0.950</td>\n",
              "      <td>0.981667</td>\n",
              "      <td>0.016159</td>\n",
              "      <td>7</td>\n",
              "    </tr>\n",
              "    <tr>\n",
              "      <th>359</th>\n",
              "      <td>5.166897</td>\n",
              "      <td>0.039566</td>\n",
              "      <td>0.004617</td>\n",
              "      <td>0.004702</td>\n",
              "      <td>relu</td>\n",
              "      <td>0.001</td>\n",
              "      <td>50</td>\n",
              "      <td>False</td>\n",
              "      <td>(10, 10)</td>\n",
              "      <td>invscaling</td>\n",
              "      <td>{'activation': 'relu', 'alpha': 0.001, 'batch_...</td>\n",
              "      <td>0.991667</td>\n",
              "      <td>0.975000</td>\n",
              "      <td>0.991667</td>\n",
              "      <td>0.991667</td>\n",
              "      <td>0.950</td>\n",
              "      <td>0.980000</td>\n",
              "      <td>0.016330</td>\n",
              "      <td>10</td>\n",
              "    </tr>\n",
              "  </tbody>\n",
              "</table>\n",
              "</div>"
            ],
            "text/plain": [
              "     mean_fit_time  std_fit_time  ...  std_test_score  rank_test_score\n",
              "352       5.111674      0.052329  ...        0.008165                1\n",
              "353       5.128052      0.068886  ...        0.008165                1\n",
              "243       5.141488      0.150874  ...        0.008165                1\n",
              "351       5.148928      0.024337  ...        0.008165                1\n",
              "245       5.179837      0.034686  ...        0.008165                1\n",
              "244       5.194781      0.047146  ...        0.008165                1\n",
              "251       5.228093      0.033084  ...        0.016159                7\n",
              "250       5.233712      0.071306  ...        0.016159                7\n",
              "249       5.257564      0.050326  ...        0.016159                7\n",
              "359       5.166897      0.039566  ...        0.016330               10\n",
              "\n",
              "[10 rows x 19 columns]"
            ]
          },
          "metadata": {
            "tags": []
          },
          "execution_count": 4
        }
      ]
    },
    {
      "cell_type": "code",
      "metadata": {
        "colab": {
          "base_uri": "https://localhost:8080/"
        },
        "id": "glDuTmRFfdDs",
        "outputId": "9daafa04-0bf8-4772-8982-b1f217ce9bb5"
      },
      "source": [
        "print(\"Best Parameters Choosen:\")\n",
        "for i in clf.best_params_:\n",
        "    print(\"  - \", i, \": \", clf.best_params_[i], sep=\"\")\n",
        "\n",
        "best_mlp = clf.best_estimator_\n",
        "\n",
        "# best_mlp = MLPClassifier(random_state=1, activation=\"relu\", alpha=0.1, \\\n",
        "#                     batch_size=50, early_stopping=False, max_iter=500, \\\n",
        "#                     hidden_layer_sizes=(8,8), learning_rate=\"constant\")\n",
        "\n",
        "# best_mlp.fit(X_train, y_train)"
      ],
      "execution_count": 5,
      "outputs": [
        {
          "output_type": "stream",
          "text": [
            "Best Parameters Choosen:\n",
            "  - activation: relu\n",
            "  - alpha: 0.01\n",
            "  - batch_size: 50\n",
            "  - early_stopping: False\n",
            "  - hidden_layer_sizes: (8, 8)\n",
            "  - learning_rate: constant\n"
          ],
          "name": "stdout"
        }
      ]
    },
    {
      "cell_type": "code",
      "metadata": {
        "colab": {
          "base_uri": "https://localhost:8080/",
          "height": 938
        },
        "id": "3cZOGrAMfdDv",
        "outputId": "d18dffc7-9dbb-4287-f291-95b46b04ce98"
      },
      "source": [
        "y_pred = best_mlp.predict(X_train)\n",
        "print(\"Accuracy:\", 100*np.sum(y_pred==y_train)/y_train.size)\n",
        "conf_mat = confusion_matrix(y_train, y_pred)\n",
        "plt.figure()\n",
        "sns.heatmap(conf_mat, annot=True)\n",
        "plt.title(\"1B - Train Confusion Matrix (MLFFNN)\")\n",
        "plt.xlabel(\"Predicted Class\")\n",
        "plt.ylabel(\"Actual Class\")\n",
        "plt.savefig(\"1B_MLFFNN_train_confmat.png\")\n",
        "plt.show()\n",
        "\n",
        "y_val_pred = best_mlp.predict(X_val)\n",
        "print(\"Validation Accuracy:\", 100*np.sum(y_val_pred==y_val)/y_val.size)\n",
        "val_conf_mat = confusion_matrix(y_val, y_val_pred)\n",
        "plt.figure()\n",
        "sns.heatmap(val_conf_mat, annot=True)\n",
        "plt.title(\"1B - Validation Confusion Matrix (MLFFNN)\")\n",
        "plt.xlabel(\"Predicted Class\")\n",
        "plt.ylabel(\"Actual Class\")\n",
        "plt.savefig(\"1B_MLFFNN_val_confmat.png\")\n",
        "plt.show()\n",
        "\n",
        "y_test_pred = best_mlp.predict(X_test)\n",
        "print(\"Validation Accuracy:\", 100*np.sum(y_test_pred==y_test)/y_test.size)\n",
        "test_conf_mat = confusion_matrix(y_test, y_test_pred)\n",
        "plt.figure()\n",
        "sns.heatmap(test_conf_mat, annot=True)\n",
        "plt.title(\"1B - Test Confusion Matrix (MLFFNN)\")\n",
        "plt.xlabel(\"Predicted Class\")\n",
        "plt.ylabel(\"Actual Class\")\n",
        "plt.savefig(\"1B_MLFFNN_test_confmat.png\")\n",
        "plt.show()"
      ],
      "execution_count": 6,
      "outputs": [
        {
          "output_type": "stream",
          "text": [
            "findfont: Font family ['serif'] not found. Falling back to DejaVu Sans.\n",
            "findfont: Font family ['serif'] not found. Falling back to DejaVu Sans.\n"
          ],
          "name": "stderr"
        },
        {
          "output_type": "stream",
          "text": [
            "Accuracy: 99.33333333333333\n"
          ],
          "name": "stdout"
        },
        {
          "output_type": "display_data",
          "data": {
            "image/png": "[encoded data removed]",
            "text/plain": [
              "<Figure size 432x288 with 2 Axes>"
            ]
          },
          "metadata": {
            "tags": [],
            "needs_background": "light"
          }
        },
        {
          "output_type": "stream",
          "text": [
            "Validation Accuracy: 98.41269841269842\n"
          ],
          "name": "stdout"
        },
        {
          "output_type": "display_data",
          "data": {
            "image/png": "[encoded data removed]",
            "text/plain": [
              "<Figure size 432x288 with 2 Axes>"
            ]
          },
          "metadata": {
            "tags": [],
            "needs_background": "light"
          }
        },
        {
          "output_type": "stream",
          "text": [
            "Validation Accuracy: 96.29629629629629\n"
          ],
          "name": "stdout"
        },
        {
          "output_type": "display_data",
          "data": {
            "image/png": "[encoded data removed]",
            "text/plain": [
              "<Figure size 432x288 with 2 Axes>"
            ]
          },
          "metadata": {
            "tags": [],
            "needs_background": "light"
          }
        }
      ]
    },
    {
      "cell_type": "code",
      "metadata": {
        "colab": {
          "base_uri": "https://localhost:8080/",
          "height": 175
        },
        "id": "ysdaj6n_GLGD",
        "outputId": "da987f94-54f3-4bcb-9a54-bed0f6c084b6"
      },
      "source": [
        "d = pd.DataFrame(y_pred, columns=[\"pred\"])\n",
        "d[\"actual\"] = y_train\n",
        "d.groupby([\"pred\"]).count()"
      ],
      "execution_count": 7,
      "outputs": [
        {
          "output_type": "execute_result",
          "data": {
            "text/html": [
              "<div>\n",
              "<style scoped>\n",
              "    .dataframe tbody tr th:only-of-type {\n",
              "        vertical-align: middle;\n",
              "    }\n",
              "\n",
              "    .dataframe tbody tr th {\n",
              "        vertical-align: top;\n",
              "    }\n",
              "\n",
              "    .dataframe thead th {\n",
              "        text-align: right;\n",
              "    }\n",
              "</style>\n",
              "<table border=\"1\" class=\"dataframe\">\n",
              "  <thead>\n",
              "    <tr style=\"text-align: right;\">\n",
              "      <th></th>\n",
              "      <th>actual</th>\n",
              "    </tr>\n",
              "    <tr>\n",
              "      <th>pred</th>\n",
              "      <th></th>\n",
              "    </tr>\n",
              "  </thead>\n",
              "  <tbody>\n",
              "    <tr>\n",
              "      <th>0</th>\n",
              "      <td>199</td>\n",
              "    </tr>\n",
              "    <tr>\n",
              "      <th>1</th>\n",
              "      <td>197</td>\n",
              "    </tr>\n",
              "    <tr>\n",
              "      <th>2</th>\n",
              "      <td>204</td>\n",
              "    </tr>\n",
              "  </tbody>\n",
              "</table>\n",
              "</div>"
            ],
            "text/plain": [
              "      actual\n",
              "pred        \n",
              "0        199\n",
              "1        197\n",
              "2        204"
            ]
          },
          "metadata": {
            "tags": []
          },
          "execution_count": 7
        }
      ]
    },
    {
      "cell_type": "markdown",
      "metadata": {
        "id": "ra53BNvNfdD1"
      },
      "source": [
        "## Visualising the decision boundaries"
      ]
    },
    {
      "cell_type": "code",
      "metadata": {
        "colab": {
          "base_uri": "https://localhost:8080/",
          "height": 295
        },
        "id": "m2nzdg5MfdD-",
        "outputId": "46dd0b5c-3332-456f-f16c-17d082fd2a9a"
      },
      "source": [
        "h = 0.02\n",
        "x_min, x_max = X_train[:,0].min() - .5, X_train[:,0].max() + .5\n",
        "y_min, y_max = X_train[:,1].min() - .5, X_train[:,1].max() + .5\n",
        "\n",
        "xx, yy = np.meshgrid(np.arange(x_min, x_max, h), np.arange(y_min, y_max, h))\n",
        "Z_pro = np.argmax(best_mlp.predict_proba(np.c_[xx.ravel(), yy.ravel()]), axis=1)\n",
        "Z_pro = Z_pro.reshape(xx.shape)\n",
        "\n",
        "color_list = [\"springgreen\", \"gold\", \"palevioletred\", \"cyan\"]\n",
        "plt.title(\"1B - Decision Region Plot (MLFFNN)\")\n",
        "plt.contourf(xx, yy, Z_pro, np.unique(Z_pro).size-1, colors=color_list, alpha=0.1)\n",
        "plt.contour(xx, yy, Z_pro, np.unique(Z_pro).size-1, colors=color_list, alpha=1)\n",
        "plt.scatter(X_train[:,0], X_train[:,1], c=[color_list[i] for i in y_train])\n",
        "plt.xlabel(\"X1\")\n",
        "plt.ylabel(\"X2\")\n",
        "plt.savefig(\"1B_MLFFNN_Decision_Plot.png\")\n",
        "plt.show()"
      ],
      "execution_count": 8,
      "outputs": [
        {
          "output_type": "display_data",
          "data": {
            "image/png": "[encoded data removed]",
            "text/plain": [
              "<Figure size 432x288 with 1 Axes>"
            ]
          },
          "metadata": {
            "tags": [],
            "needs_background": "light"
          }
        }
      ]
    },
    {
      "cell_type": "code",
      "metadata": {
        "id": "-U4BIYUWfdEA"
      },
      "source": [
        "a = best_mlp.predict_proba(X_train)"
      ],
      "execution_count": 8,
      "outputs": []
    },
    {
      "cell_type": "code",
      "metadata": {
        "id": "Ue4P--MJw_iS"
      },
      "source": [
        ""
      ],
      "execution_count": 8,
      "outputs": []
    }
  ]
}