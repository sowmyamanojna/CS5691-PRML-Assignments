{
 "cells": [
  {
   "cell_type": "code",
   "execution_count": 1,
   "metadata": {},
   "outputs": [],
   "source": [
    "import wandb\n",
    "import numpy as np\n",
    "import pandas as pd\n",
    "import seaborn as sns\n",
    "from sklearn.pipeline import Pipeline\n",
    "from sklearn.metrics import confusion_matrix\n",
    "from sklearn.neural_network import MLPClassifier\n",
    "from sklearn.preprocessing import StandardScaler\n",
    "from sklearn.model_selection import GridSearchCV\n",
    "from sklearn.model_selection import train_test_split\n",
    "from sklearn.model_selection import StratifiedShuffleSplit\n",
    "\n",
    "import matplotlib.pyplot as plt\n",
    "plt.rcParams[\"font.size\"] = 18\n",
    "plt.rcParams[\"axes.grid\"] = True\n",
    "plt.rcParams[\"figure.figsize\"] = 12,8\n",
    "plt.rcParams['font.serif'] = \"Cambria\"\n",
    "plt.rcParams['font.family'] = \"serif\"\n",
    "\n",
    "get_ipython().run_line_magic('load_ext', 'autoreload')\n",
    "get_ipython().run_line_magic('autoreload', '2')\n",
    "\n",
    "import warnings\n",
    "warnings.filterwarnings(\"ignore\")\n",
    "\n",
    "from gridsearch import GridSearch"
   ]
  },
  {
   "cell_type": "code",
   "execution_count": 2,
   "metadata": {},
   "outputs": [
    {
     "data": {
      "text/html": [
       "<div>\n",
       "<style scoped>\n",
       "    .dataframe tbody tr th:only-of-type {\n",
       "        vertical-align: middle;\n",
       "    }\n",
       "\n",
       "    .dataframe tbody tr th {\n",
       "        vertical-align: top;\n",
       "    }\n",
       "\n",
       "    .dataframe thead th {\n",
       "        text-align: right;\n",
       "    }\n",
       "</style>\n",
       "<table border=\"1\" class=\"dataframe\">\n",
       "  <thead>\n",
       "    <tr style=\"text-align: right;\">\n",
       "      <th></th>\n",
       "      <th>x1</th>\n",
       "      <th>x2</th>\n",
       "      <th>y</th>\n",
       "    </tr>\n",
       "  </thead>\n",
       "  <tbody>\n",
       "    <tr>\n",
       "      <th>0</th>\n",
       "      <td>-7.811425</td>\n",
       "      <td>1.910665</td>\n",
       "      <td>1.0</td>\n",
       "    </tr>\n",
       "    <tr>\n",
       "      <th>1</th>\n",
       "      <td>-0.856640</td>\n",
       "      <td>-9.639107</td>\n",
       "      <td>3.0</td>\n",
       "    </tr>\n",
       "    <tr>\n",
       "      <th>2</th>\n",
       "      <td>2.885077</td>\n",
       "      <td>4.785598</td>\n",
       "      <td>0.0</td>\n",
       "    </tr>\n",
       "    <tr>\n",
       "      <th>3</th>\n",
       "      <td>-1.405758</td>\n",
       "      <td>-7.364262</td>\n",
       "      <td>3.0</td>\n",
       "    </tr>\n",
       "    <tr>\n",
       "      <th>4</th>\n",
       "      <td>0.044472</td>\n",
       "      <td>-8.998423</td>\n",
       "      <td>3.0</td>\n",
       "    </tr>\n",
       "  </tbody>\n",
       "</table>\n",
       "</div>"
      ],
      "text/plain": [
       "         x1        x2    y\n",
       "0 -7.811425  1.910665  1.0\n",
       "1 -0.856640 -9.639107  3.0\n",
       "2  2.885077  4.785598  0.0\n",
       "3 -1.405758 -7.364262  3.0\n",
       "4  0.044472 -8.998423  3.0"
      ]
     },
     "metadata": {},
     "output_type": "display_data"
    },
    {
     "data": {
      "text/html": [
       "<div>\n",
       "<style scoped>\n",
       "    .dataframe tbody tr th:only-of-type {\n",
       "        vertical-align: middle;\n",
       "    }\n",
       "\n",
       "    .dataframe tbody tr th {\n",
       "        vertical-align: top;\n",
       "    }\n",
       "\n",
       "    .dataframe thead th {\n",
       "        text-align: right;\n",
       "    }\n",
       "</style>\n",
       "<table border=\"1\" class=\"dataframe\">\n",
       "  <thead>\n",
       "    <tr style=\"text-align: right;\">\n",
       "      <th></th>\n",
       "      <th>x1</th>\n",
       "      <th>x2</th>\n",
       "      <th>y</th>\n",
       "    </tr>\n",
       "  </thead>\n",
       "  <tbody>\n",
       "    <tr>\n",
       "      <th>30</th>\n",
       "      <td>-8.107918</td>\n",
       "      <td>4.250882</td>\n",
       "      <td>1.0</td>\n",
       "    </tr>\n",
       "    <tr>\n",
       "      <th>53</th>\n",
       "      <td>3.864959</td>\n",
       "      <td>4.817073</td>\n",
       "      <td>0.0</td>\n",
       "    </tr>\n",
       "    <tr>\n",
       "      <th>118</th>\n",
       "      <td>4.211548</td>\n",
       "      <td>4.436624</td>\n",
       "      <td>0.0</td>\n",
       "    </tr>\n",
       "    <tr>\n",
       "      <th>9</th>\n",
       "      <td>3.234165</td>\n",
       "      <td>4.870823</td>\n",
       "      <td>0.0</td>\n",
       "    </tr>\n",
       "    <tr>\n",
       "      <th>33</th>\n",
       "      <td>7.908264</td>\n",
       "      <td>-11.186126</td>\n",
       "      <td>2.0</td>\n",
       "    </tr>\n",
       "  </tbody>\n",
       "</table>\n",
       "</div>"
      ],
      "text/plain": [
       "           x1         x2    y\n",
       "30  -8.107918   4.250882  1.0\n",
       "53   3.864959   4.817073  0.0\n",
       "118  4.211548   4.436624  0.0\n",
       "9    3.234165   4.870823  0.0\n",
       "33   7.908264 -11.186126  2.0"
      ]
     },
     "metadata": {},
     "output_type": "display_data"
    },
    {
     "data": {
      "text/html": [
       "<div>\n",
       "<style scoped>\n",
       "    .dataframe tbody tr th:only-of-type {\n",
       "        vertical-align: middle;\n",
       "    }\n",
       "\n",
       "    .dataframe tbody tr th {\n",
       "        vertical-align: top;\n",
       "    }\n",
       "\n",
       "    .dataframe thead th {\n",
       "        text-align: right;\n",
       "    }\n",
       "</style>\n",
       "<table border=\"1\" class=\"dataframe\">\n",
       "  <thead>\n",
       "    <tr style=\"text-align: right;\">\n",
       "      <th></th>\n",
       "      <th>x1</th>\n",
       "      <th>x2</th>\n",
       "      <th>y</th>\n",
       "    </tr>\n",
       "  </thead>\n",
       "  <tbody>\n",
       "    <tr>\n",
       "      <th>44</th>\n",
       "      <td>-9.647875</td>\n",
       "      <td>1.662953</td>\n",
       "      <td>1.0</td>\n",
       "    </tr>\n",
       "    <tr>\n",
       "      <th>47</th>\n",
       "      <td>7.821765</td>\n",
       "      <td>-7.188280</td>\n",
       "      <td>2.0</td>\n",
       "    </tr>\n",
       "    <tr>\n",
       "      <th>4</th>\n",
       "      <td>-7.206942</td>\n",
       "      <td>0.939950</td>\n",
       "      <td>1.0</td>\n",
       "    </tr>\n",
       "    <tr>\n",
       "      <th>55</th>\n",
       "      <td>-8.203673</td>\n",
       "      <td>2.077040</td>\n",
       "      <td>1.0</td>\n",
       "    </tr>\n",
       "    <tr>\n",
       "      <th>26</th>\n",
       "      <td>-0.753439</td>\n",
       "      <td>-10.491104</td>\n",
       "      <td>3.0</td>\n",
       "    </tr>\n",
       "  </tbody>\n",
       "</table>\n",
       "</div>"
      ],
      "text/plain": [
       "          x1         x2    y\n",
       "44 -9.647875   1.662953  1.0\n",
       "47  7.821765  -7.188280  2.0\n",
       "4  -7.206942   0.939950  1.0\n",
       "55 -8.203673   2.077040  1.0\n",
       "26 -0.753439 -10.491104  3.0"
      ]
     },
     "metadata": {},
     "output_type": "display_data"
    }
   ],
   "source": [
    "# Get the data\n",
    "column_names = [\"x1\", \"x2\", \"y\"]\n",
    "df = pd.read_csv(\"../datasets/1A/train.csv\", names=column_names)\n",
    "df_test = pd.read_csv(\"../datasets/1A/dev.csv\", names=column_names)\n",
    "display(df.head())\n",
    "\n",
    "# Split dev into test and validation\n",
    "df_val, df_test = train_test_split(df_test, test_size=0.3, random_state=42)\n",
    "display(df_val.head())\n",
    "display(df_test.head())"
   ]
  },
  {
   "cell_type": "code",
   "execution_count": 3,
   "metadata": {},
   "outputs": [],
   "source": [
    "X_train = df.drop(\"y\", axis=1)\n",
    "y_train = df[\"y\"].to_numpy().astype(\"int\")\n",
    "\n",
    "X_val = df_val.drop(\"y\", axis=1)\n",
    "y_val = df_val[\"y\"].to_numpy().astype(\"int\")\n",
    "\n",
    "X_test = df_test.drop(\"y\", axis=1)\n",
    "y_test = df_test[\"y\"].to_numpy().astype(\"int\")"
   ]
  },
  {
   "cell_type": "code",
   "execution_count": 4,
   "metadata": {},
   "outputs": [
    {
     "name": "stderr",
     "output_type": "stream",
     "text": [
      "100%|██████████| 432/432 [02:00<00:00,  3.59it/s]\n"
     ]
    },
    {
     "data": {
      "text/html": [
       "<div>\n",
       "<style scoped>\n",
       "    .dataframe tbody tr th:only-of-type {\n",
       "        vertical-align: middle;\n",
       "    }\n",
       "\n",
       "    .dataframe tbody tr th {\n",
       "        vertical-align: top;\n",
       "    }\n",
       "\n",
       "    .dataframe thead th {\n",
       "        text-align: right;\n",
       "    }\n",
       "</style>\n",
       "<table border=\"1\" class=\"dataframe\">\n",
       "  <thead>\n",
       "    <tr style=\"text-align: right;\">\n",
       "      <th></th>\n",
       "      <th>hidden_layer_sizes</th>\n",
       "      <th>activation</th>\n",
       "      <th>solver</th>\n",
       "      <th>batch_size</th>\n",
       "      <th>alpha</th>\n",
       "      <th>learning_rate</th>\n",
       "      <th>accuracy</th>\n",
       "      <th>val_accuracy</th>\n",
       "      <th>sum_accuracy</th>\n",
       "      <th>t_inv</th>\n",
       "    </tr>\n",
       "  </thead>\n",
       "  <tbody>\n",
       "    <tr>\n",
       "      <th>0</th>\n",
       "      <td>5</td>\n",
       "      <td>logistic</td>\n",
       "      <td>lbfgs</td>\n",
       "      <td>200</td>\n",
       "      <td>0.0000</td>\n",
       "      <td>constant</td>\n",
       "      <td>100.0</td>\n",
       "      <td>100.0</td>\n",
       "      <td>200.0</td>\n",
       "      <td>112.282265</td>\n",
       "    </tr>\n",
       "    <tr>\n",
       "      <th>1</th>\n",
       "      <td>5</td>\n",
       "      <td>logistic</td>\n",
       "      <td>lbfgs</td>\n",
       "      <td>200</td>\n",
       "      <td>0.0001</td>\n",
       "      <td>invscaling</td>\n",
       "      <td>100.0</td>\n",
       "      <td>100.0</td>\n",
       "      <td>200.0</td>\n",
       "      <td>111.818288</td>\n",
       "    </tr>\n",
       "    <tr>\n",
       "      <th>2</th>\n",
       "      <td>5</td>\n",
       "      <td>logistic</td>\n",
       "      <td>lbfgs</td>\n",
       "      <td>100</td>\n",
       "      <td>0.0001</td>\n",
       "      <td>invscaling</td>\n",
       "      <td>100.0</td>\n",
       "      <td>100.0</td>\n",
       "      <td>200.0</td>\n",
       "      <td>111.429133</td>\n",
       "    </tr>\n",
       "    <tr>\n",
       "      <th>3</th>\n",
       "      <td>5</td>\n",
       "      <td>logistic</td>\n",
       "      <td>lbfgs</td>\n",
       "      <td>200</td>\n",
       "      <td>0.0001</td>\n",
       "      <td>adaptive</td>\n",
       "      <td>100.0</td>\n",
       "      <td>100.0</td>\n",
       "      <td>200.0</td>\n",
       "      <td>110.260358</td>\n",
       "    </tr>\n",
       "    <tr>\n",
       "      <th>4</th>\n",
       "      <td>5</td>\n",
       "      <td>tanh</td>\n",
       "      <td>lbfgs</td>\n",
       "      <td>200</td>\n",
       "      <td>0.0000</td>\n",
       "      <td>invscaling</td>\n",
       "      <td>100.0</td>\n",
       "      <td>100.0</td>\n",
       "      <td>200.0</td>\n",
       "      <td>109.709503</td>\n",
       "    </tr>\n",
       "  </tbody>\n",
       "</table>\n",
       "</div>"
      ],
      "text/plain": [
       "   hidden_layer_sizes activation solver  batch_size   alpha learning_rate  \\\n",
       "0                   5   logistic  lbfgs         200  0.0000      constant   \n",
       "1                   5   logistic  lbfgs         200  0.0001    invscaling   \n",
       "2                   5   logistic  lbfgs         100  0.0001    invscaling   \n",
       "3                   5   logistic  lbfgs         200  0.0001      adaptive   \n",
       "4                   5       tanh  lbfgs         200  0.0000    invscaling   \n",
       "\n",
       "   accuracy  val_accuracy  sum_accuracy       t_inv  \n",
       "0     100.0         100.0         200.0  112.282265  \n",
       "1     100.0         100.0         200.0  111.818288  \n",
       "2     100.0         100.0         200.0  111.429133  \n",
       "3     100.0         100.0         200.0  110.260358  \n",
       "4     100.0         100.0         200.0  109.709503  "
      ]
     },
     "execution_count": 4,
     "metadata": {},
     "output_type": "execute_result"
    }
   ],
   "source": [
    "parameters = {\"hidden_layer_sizes\":[5,8,10,15], \"activation\":[\"logistic\", \"tanh\", \"relu\"], \\\n",
    "              \"solver\":[\"lbfgs\", \"sgd\", \"adam\"], \"batch_size\":[100, 200], \\\n",
    "              \"alpha\":[0, 0.0001], \"learning_rate\":[\"constant\", \"adaptive\", \"invscaling\"], \\\n",
    "             }\n",
    "\n",
    "mlp = MLPClassifier(random_state=1)\n",
    "\n",
    "clf = GridSearch(mlp, parameters)\n",
    "clf.fit(X_train, y_train, X_val, y_val)\n",
    "result_df = pd.DataFrame(clf.cv_results_)\n",
    "result_df.to_csv(\"../parameter_search/1A_MLFFNN_train_val.csv\")\n",
    "result_df.head()"
   ]
  },
  {
   "cell_type": "code",
   "execution_count": 5,
   "metadata": {},
   "outputs": [
    {
     "name": "stdout",
     "output_type": "stream",
     "text": [
      "Best Parameters Choosen:\n",
      "   - hidden_layer_sizes: 5\n",
      "   - activation: logistic\n",
      "   - solver: lbfgs\n",
      "   - batch_size: 200\n",
      "   - alpha: 0.0\n",
      "   - learning_rate: constant\n"
     ]
    },
    {
     "data": {
      "text/plain": [
       "MLPClassifier(activation='logistic', alpha=0.0, batch_size=200,\n",
       "              hidden_layer_sizes=5, random_state=1, solver='lbfgs')"
      ]
     },
     "execution_count": 5,
     "metadata": {},
     "output_type": "execute_result"
    }
   ],
   "source": [
    "print(\"Best Parameters Choosen:\")\n",
    "for i in clf.best_params_:\n",
    "    print(\"   - \", i, \": \", clf.best_params_[i], sep=\"\")\n",
    "\n",
    "best_mlp = MLPClassifier(random_state=1, **clf.best_params_)\n",
    "best_mlp.fit(X_train, y_train)"
   ]
  },
  {
   "cell_type": "code",
   "execution_count": 6,
   "metadata": {},
   "outputs": [
    {
     "name": "stdout",
     "output_type": "stream",
     "text": [
      "Accuracy: 100.0\n"
     ]
    },
    {
     "data": {
      "image/png": "[encoded data removed]",
      "text/plain": [
       "<Figure size 864x576 with 2 Axes>"
      ]
     },
     "metadata": {
      "needs_background": "light"
     },
     "output_type": "display_data"
    },
    {
     "name": "stdout",
     "output_type": "stream",
     "text": [
      "Validation Accuracy: 100.0\n"
     ]
    },
    {
     "data": {
      "image/png": "[encoded data removed]",
      "text/plain": [
       "<Figure size 864x576 with 2 Axes>"
      ]
     },
     "metadata": {
      "needs_background": "light"
     },
     "output_type": "display_data"
    },
    {
     "name": "stdout",
     "output_type": "stream",
     "text": [
      "Validation Accuracy: 100.0\n"
     ]
    },
    {
     "data": {
      "image/png": "[encoded data removed]",
      "text/plain": [
       "<Figure size 864x576 with 2 Axes>"
      ]
     },
     "metadata": {
      "needs_background": "light"
     },
     "output_type": "display_data"
    }
   ],
   "source": [
    "y_pred = best_mlp.predict(X_train)\n",
    "print(\"Accuracy:\", 100*np.sum(y_pred==y_train)/y_train.size)\n",
    "conf_mat = confusion_matrix(y_train, y_pred)\n",
    "plt.figure()\n",
    "sns.heatmap(conf_mat, annot=True)\n",
    "plt.title(\"1A - Train Confusion Matrix (MLFFNN)\")\n",
    "plt.xlabel(\"Predicted Class\")\n",
    "plt.ylabel(\"Actual Class\")\n",
    "plt.savefig(\"images/1A_MLFFNN_train_confmat.png\")\n",
    "plt.show()\n",
    "\n",
    "y_val_pred = best_mlp.predict(X_val)\n",
    "print(\"Validation Accuracy:\", 100*np.sum(y_val_pred==y_val)/y_val.size)\n",
    "val_conf_mat = confusion_matrix(y_val, y_val_pred)\n",
    "plt.figure()\n",
    "sns.heatmap(val_conf_mat, annot=True)\n",
    "plt.title(\"1A - Validation Confusion Matrix (MLFFNN)\")\n",
    "plt.xlabel(\"Predicted Class\")\n",
    "plt.ylabel(\"Actual Class\")\n",
    "plt.savefig(\"images/1A_MLFFNN_val_confmat.png\")\n",
    "plt.show()\n",
    "\n",
    "y_test_pred = best_mlp.predict(X_test)\n",
    "print(\"Validation Accuracy:\", 100*np.sum(y_test_pred==y_test)/y_test.size)\n",
    "test_conf_mat = confusion_matrix(y_test, y_test_pred)\n",
    "plt.figure()\n",
    "sns.heatmap(test_conf_mat, annot=True)\n",
    "plt.title(\"1A - Test Confusion Matrix (MLFFNN)\")\n",
    "plt.xlabel(\"Predicted Class\")\n",
    "plt.ylabel(\"Actual Class\")\n",
    "plt.savefig(\"images/1A_MLFFNN_test_confmat.png\")\n",
    "plt.show()"
   ]
  },
  {
   "cell_type": "code",
   "execution_count": null,
   "metadata": {},
   "outputs": [],
   "source": []
  }
 ],
 "metadata": {
  "kernelspec": {
   "display_name": "Python 3",
   "language": "python",
   "name": "python3"
  },
  "language_info": {
   "codemirror_mode": {
    "name": "ipython",
    "version": 3
   },
   "file_extension": ".py",
   "mimetype": "text/x-python",
   "name": "python",
   "nbconvert_exporter": "python",
   "pygments_lexer": "ipython3",
   "version": "3.8.5"
  },
  "widgets": {
   "application/vnd.jupyter.widget-state+json": {
    "state": {},
    "version_major": 2,
    "version_minor": 0
   }
  }
 },
 "nbformat": 4,
 "nbformat_minor": 4
}
