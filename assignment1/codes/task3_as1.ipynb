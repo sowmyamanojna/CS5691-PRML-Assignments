{
 "cells": [
  {
   "cell_type": "code",
   "execution_count": 1,
   "metadata": {},
   "outputs": [],
   "source": [
    "import numpy as np\n",
    "import pandas as pd\n",
    "import math as ma\n",
    "import matplotlib.pyplot as plt\n",
    "from mpl_toolkits.mplot3d import Axes3D"
   ]
  },
  {
   "cell_type": "code",
   "execution_count": 2,
   "metadata": {},
   "outputs": [],
   "source": [
    "%matplotlib inline"
   ]
  },
  {
   "cell_type": "code",
   "execution_count": 3,
   "metadata": {},
   "outputs": [],
   "source": [
    "dataset2 = pd.read_csv('function1_2d.csv',index_col = 0)"
   ]
  },
  {
   "cell_type": "code",
   "execution_count": 4,
   "metadata": {},
   "outputs": [],
   "source": [
    "x1_ds2 = np.array(dataset2)[:,0]\n",
    "x2_ds2 = np.array(dataset2)[:,1]\n",
    "y_ds2 = np.array(dataset2)[:,2]"
   ]
  },
  {
   "cell_type": "code",
   "execution_count": 5,
   "metadata": {},
   "outputs": [],
   "source": [
    "def RMSE(y_pred, t):\n",
    "    n = len(y_pred)\n",
    "    return(np.sqrt(np.sum((y_pred - t)**2)/n))\n",
    "    "
   ]
  },
  {
   "cell_type": "code",
   "execution_count": 6,
   "metadata": {},
   "outputs": [],
   "source": [
    "def pseudo_inv(ph,lam,phit):\n",
    "    return(np.matmul(np.linalg.inv(np.matmul(np.transpose(ph),ph)+lam*phit),np.transpose(ph)))"
   ]
  },
  {
   "cell_type": "code",
   "execution_count": 22,
   "metadata": {},
   "outputs": [],
   "source": [
    "def regularized_pseudo_inv(lamb,phi):\n",
    "    return(np.matmul(np.linalg.inv(lamb*np.identity(phi.shape[1])+np.matmul(np.transpose(phi),phi)),np.transpose(phi)))"
   ]
  },
  {
   "cell_type": "code",
   "execution_count": 7,
   "metadata": {},
   "outputs": [],
   "source": [
    "def opt_param(phi,y,l,phit):\n",
    "    return(np.matmul(pseudo_inv(phi,l,phit),y))"
   ]
  },
  {
   "cell_type": "code",
   "execution_count": 20,
   "metadata": {},
   "outputs": [],
   "source": [
    "def opt_reg_param(lamb,phi,y):\n",
    "    return(np.matmul(regularized_pseudo_inv(lamb,phi),y))"
   ]
  },
  {
   "cell_type": "code",
   "execution_count": 8,
   "metadata": {},
   "outputs": [],
   "source": [
    "def y_pred(phi,w):\n",
    "    return(np.matmul(phi,w))"
   ]
  },
  {
   "cell_type": "code",
   "execution_count": 9,
   "metadata": {},
   "outputs": [],
   "source": [
    "def create_datasets(data,train_size,cv_size):\n",
    "    data.sample(frac=1).reset_index(drop=True)\n",
    "    data_train=data[0:train_size]\n",
    "    data_cv=data[train_size:train_size+cv_size]\n",
    "    data_test=data[cv_size+train_size:]\n",
    "    return(data_train,data_cv,data_test)\n",
    "    "
   ]
  },
  {
   "cell_type": "code",
   "execution_count": 10,
   "metadata": {},
   "outputs": [],
   "source": [
    "def k_means(D,X):\n",
    "    # X has dim (Nxd)\n",
    "    # what is D?\n",
    "    K = D-1\n",
    "    d = X.shape[1]\n",
    "    n = len(X)\n",
    "    rand = list(np.random.randint(0,n,K))\n",
    "    mu = X[rand]\n",
    "    z = np.ones((n,K))\n",
    "    z1 = np.zeros((n,K))\n",
    "    flag = 0\n",
    "    while((z==z1).all()!=1):\n",
    "        z=z1\n",
    "        z1 = np.zeros((n,K))\n",
    "        for i in range(n):\n",
    "            #print(X[i] - mu)\n",
    "            j = np.argmin(np.linalg.norm(X[i] - mu, axis = 1))\n",
    "            #print(np.linalg.norm(X[i] - mu, axis = 1))\n",
    "            #print(\"hi\")\n",
    "            z1[i,j] = 1\n",
    "        N = np.sum(z1,axis = 0)\n",
    "        N = np.transpose(np.tile(N**(-1),(d,1)))\n",
    "        #print(N.shape,z.shape,X.shape)\n",
    "        mu = N*np.matmul(np.transpose(z1),X)\n",
    "        flag +=1\n",
    "        #print(z1)\n",
    "        #print(z)\n",
    "        #print(flag)\n",
    "    return(mu)\n",
    "    "
   ]
  },
  {
   "cell_type": "code",
   "execution_count": 11,
   "metadata": {},
   "outputs": [],
   "source": [
    "def gaussian_basis(mu,X,sigma):\n",
    "    #mu D-1*d len\n",
    "    # x n*d\n",
    "    D = len(mu)+1\n",
    "    n = len(X)\n",
    "    res = np.ones((n,D))\n",
    "    for i in range(n):\n",
    "        for j in range(1,D):\n",
    "            res[j] = np.exp(-(np.linalg.norm(X[i]-mu[j-1])**2)/sigma**2)\n",
    "    return(res)"
   ]
  },
  {
   "cell_type": "code",
   "execution_count": 13,
   "metadata": {},
   "outputs": [],
   "source": [
    "trDS2, cvDS2, tDS2 = create_datasets(dataset2,1400,400)"
   ]
  },
  {
   "cell_type": "code",
   "execution_count": 14,
   "metadata": {},
   "outputs": [],
   "source": [
    "X_ds2tr = np.array(trDS2)[:,0:2]\n",
    "X_ds2cv = np.array(cvDS2)[:,0:2]\n",
    "X_ds2t = np.array(tDS2)[:,0:2]# data features, DS2"
   ]
  },
  {
   "cell_type": "code",
   "execution_count": 15,
   "metadata": {},
   "outputs": [],
   "source": [
    "y_ds2tr = np.array(trDS2)[:,2] \n",
    "y_ds2cv = np.array(cvDS2)[:,2] \n",
    "y_ds2t = np.array(tDS2)[:,2] "
   ]
  },
  {
   "cell_type": "code",
   "execution_count": 16,
   "metadata": {},
   "outputs": [],
   "source": [
    "clusters = np.array([1,3,10,30])"
   ]
  },
  {
   "cell_type": "code",
   "execution_count": 17,
   "metadata": {},
   "outputs": [],
   "source": [
    "lambda_list=[0.1,0.3,1,3,10,30,100,300,1000]"
   ]
  },
  {
   "cell_type": "code",
   "execution_count": 18,
   "metadata": {},
   "outputs": [],
   "source": [
    "def func_cl(c,sig):\n",
    "    mus_tr = k_means(c,X_ds2tr)\n",
    "    mus_cv = k_means(c,X_ds2cv) \n",
    "    mus_t = k_means(c,X_ds2t)\n",
    "    phi_gausDS2tr = gaussian_basis(mus_tr,X_ds2tr,sig)\n",
    "    phi_gausDS2cv = gaussian_basis(mus_cv,X_ds2cv,sig)\n",
    "    phi_gausDS2t = gaussian_basis(mus_t,X_ds2t,sig)\n",
    "    y_trpred={}\n",
    "    y_cvpred={}\n",
    "    y_tpred={}\n",
    "    rmse_tr=[]\n",
    "    rmse_cv=[]\n",
    "    rmse_t=[]\n",
    "    for l in lambda_list:\n",
    "        w = opt_reg_param(l,phi_gausDS2tr,y_ds2tr)\n",
    "        y_trpred[l] = y_pred(phi_gausDS2tr,w)\n",
    "        y_cvpred[l] = y_pred(phi_gausDS2cv,w)\n",
    "        y_tpred[l] = y_pred(phi_gausDS2t,w)\n",
    "        rmse_tr.append(RMSE(y_trpred[l],y_ds2tr))\n",
    "        rmse_cv.append(RMSE(y_cvpred[l],y_ds2cv))\n",
    "        rmse_t.append(RMSE(y_tpred[l],y_ds2t))\n",
    "        \n",
    "    datagausDS2 = pd.DataFrame(list(zip(lambda_list,rmse_tr,rmse_cv,rmse_t)),columns=[\"Lambda\", \"RMSE Train\",\"RMSE CV\",\"RMSE test\"])\n",
    "    print(datagausDS2)\n",
    "    rmse_min = np.argmin(rmse_cv)\n",
    "    return(rmse_cv[rmse_min],lambda_list[rmse_min])"
   ]
  },
  {
   "cell_type": "code",
   "execution_count": 23,
   "metadata": {},
   "outputs": [
    {
     "name": "stdout",
     "output_type": "stream",
     "text": [
      "   Lambda    RMSE Train       RMSE CV     RMSE test\n",
      "0     0.1  39276.384161  38316.619773  37068.425318\n",
      "1     0.3  39276.384904  38316.458149  37068.334868\n",
      "2     1.0  39276.393348  38315.898815  37068.024686\n",
      "3     3.0  39276.467348  38314.354925  37067.193040\n",
      "4    10.0  39277.300231  38309.575389  37064.910604\n",
      "5    30.0  39284.399779  38301.061489  37063.562196\n",
      "6   100.0  39357.253903  38323.879681  37111.630953\n",
      "7   300.0  39839.578043  38695.615949  37553.577189\n",
      "8  1000.0  42320.636510  40991.046045  40034.226392\n",
      "1 (38301.0614886363, 30)\n",
      "   Lambda    RMSE Train       RMSE CV     RMSE test\n",
      "0     0.1  39330.868708  38468.309973  37654.616234\n",
      "1     0.3  39330.868894  38468.224750  37654.539782\n",
      "2     1.0  39330.871000  38467.928051  37654.273801\n",
      "3     3.0  39330.889488  38467.093878  37653.527553\n",
      "4    10.0  39331.098679  38464.331173  37651.074437\n",
      "5    30.0  39332.909410  38457.756278  37645.399514\n",
      "6   100.0  39352.455871  38449.147328  37640.104080\n",
      "7   300.0  39500.558506  38526.139063  37727.599250\n",
      "8  1000.0  40568.586830  39424.882549  38666.230360\n",
      "2 (38449.147327917155, 100)\n",
      "   Lambda    RMSE Train       RMSE CV     RMSE test\n",
      "0     0.1  39355.012156  38434.285789  38070.775473\n",
      "1     0.3  39355.012238  38434.233219  38070.710263\n",
      "2     1.0  39355.013174  38434.049925  38070.482737\n",
      "3     3.0  39355.021393  38433.532218  38069.838759\n",
      "4    10.0  39355.114555  38431.789838  38067.655641\n",
      "5    30.0  39355.925115  38427.400279  38062.017152\n",
      "6   100.0  39364.827104  38418.608068  38048.971796\n",
      "7   300.0  39435.586849  38442.889876  38062.056278\n",
      "8  1000.0  40020.296676  38903.370431  38492.415177\n",
      "3 (38418.60806750772, 100)\n",
      "   Lambda    RMSE Train       RMSE CV     RMSE test\n",
      "0     0.1  39348.464121  38434.535833  38211.871870\n",
      "1     0.3  39348.464168  38434.497302  38211.820681\n",
      "2     1.0  39348.464695  38434.362837  38211.641922\n",
      "3     3.0  39348.469330  38433.982021  38211.134601\n",
      "4    10.0  39348.521903  38432.688325  38209.398761\n",
      "5    30.0  39348.980499  38429.324383  38204.776889\n",
      "6   100.0  39354.060995  38421.301218  38192.412869\n",
      "7   300.0  39395.447440  38427.502816  38186.732480\n",
      "8  1000.0  39763.517897  38694.921505  38418.150700\n",
      "4 (38421.301218271525, 100)\n",
      "   Lambda    RMSE Train       RMSE CV     RMSE test\n",
      "0     0.1  39377.689586  38484.819185  38131.388058\n",
      "1     0.3  39377.689615  38484.788733  38131.352448\n",
      "2     1.0  39377.689953  38484.682403  38131.228064\n",
      "3     3.0  39377.692917  38484.380751  38130.874847\n",
      "4    10.0  39377.726558  38483.349960  38129.663784\n",
      "5    30.0  39378.020467  38480.617365  38126.417868\n",
      "6   100.0  39381.293588  38473.467618  38117.491739\n",
      "7   300.0  39408.357377  38472.157933  38111.277655\n",
      "8  1000.0  39660.379292  38639.413173  38263.237644\n",
      "5 (38472.15793330792, 300)\n",
      "   Lambda    RMSE Train       RMSE CV     RMSE test\n",
      "0     0.1  39375.232040  38448.628694  38154.063639\n",
      "1     0.3  39375.232060  38448.604871  38154.035277\n",
      "2     1.0  39375.232295  38448.521665  38153.936182\n",
      "3     3.0  39375.234357  38448.285422  38153.654548\n",
      "4    10.0  39375.257769  38447.475892  38152.686237\n",
      "5    30.0  39375.462521  38445.310441  38150.067839\n",
      "6   100.0  39377.750742  38439.414220  38142.594724\n",
      "7   300.0  39396.861369  38436.067053  38134.816475\n",
      "8  1000.0  39580.512803  38550.891736  38235.049577\n",
      "6 (38436.067052691404, 300)\n",
      "   Lambda    RMSE Train       RMSE CV     RMSE test\n",
      "0     0.1  39378.033612  38402.435287  38068.495104\n",
      "1     0.3  39378.033628  38402.416515  38068.474186\n",
      "2     1.0  39378.033800  38402.350938  38068.401102\n",
      "3     3.0  39378.035317  38402.164667  38068.193379\n",
      "4    10.0  39378.052545  38401.525407  38067.479025\n",
      "5    30.0  39378.203323  38399.807091  38065.546051\n",
      "6   100.0  39379.892579  38395.030697  38060.017284\n",
      "7   300.0  39394.102670  38391.404140  38054.234901\n",
      "8  1000.0  39533.823221  38475.505656  38130.813305\n",
      "7 (38391.40414039371, 300)\n",
      "   Lambda    RMSE Train       RMSE CV     RMSE test\n",
      "0     0.1  39369.608216  38481.114495  38506.058650\n",
      "1     0.3  39369.608227  38481.097124  38506.034016\n",
      "2     1.0  39369.608360  38481.036423  38505.947897\n",
      "3     3.0  39369.609524  38480.863825  38505.702681\n",
      "4    10.0  39369.622745  38480.269459  38504.854178\n",
      "5    30.0  39369.738525  38478.654223  38502.513085\n",
      "6   100.0  39371.038114  38473.952619  38495.274089\n",
      "7   300.0  39382.029700  38468.279920  38482.383251\n",
      "8  1000.0  39492.001376  38525.175769  38514.542171\n",
      "8 (38468.27992016303, 300)\n",
      "   Lambda    RMSE Train       RMSE CV     RMSE test\n",
      "0     0.1  39434.548951  38684.698830  38662.018666\n",
      "1     0.3  39434.548960  38684.681787  38661.996649\n",
      "2     1.0  39434.549065  38684.622215  38661.919669\n",
      "3     3.0  39434.549981  38684.452666  38661.700379\n",
      "4    10.0  39434.560390  38683.866903  38660.940501\n",
      "5    30.0  39434.651580  38682.258656  38658.834592\n",
      "6   100.0  39435.676666  38677.381093  38652.213185\n",
      "7   300.0  39444.383301  38669.606281  38639.442737\n",
      "8  1000.0  39532.693902  38704.475882  38656.814029\n",
      "9 (38669.6062811311, 300)\n"
     ]
    }
   ],
   "source": [
    "for cl in range(1,10):\n",
    "    print(cl, func_cl(cl,0.25))"
   ]
  },
  {
   "cell_type": "markdown",
   "metadata": {},
   "source": [
    "clusters = 7, lambda = 300"
   ]
  },
  {
   "cell_type": "code",
   "execution_count": 25,
   "metadata": {},
   "outputs": [],
   "source": [
    "mus_tr = k_means(7,X_ds2tr)\n",
    "mus_cv = k_means(7,X_ds2cv) \n",
    "mus_t = k_means(7,X_ds2t)"
   ]
  },
  {
   "cell_type": "code",
   "execution_count": 26,
   "metadata": {},
   "outputs": [],
   "source": [
    "phi_gausDS2tr = gaussian_basis(mus_tr,X_ds2tr,0.25)\n",
    "phi_gausDS2cv = gaussian_basis(mus_cv,X_ds2cv,0.25)\n",
    "phi_gausDS2t = gaussian_basis(mus_t,X_ds2t,0.25)# D = 7, sigma = 0.25, gaussian basis"
   ]
  },
  {
   "cell_type": "code",
   "execution_count": 27,
   "metadata": {},
   "outputs": [],
   "source": [
    "y_tpred={}\n",
    "y_trpred={}\n",
    "y_cvpred={}\n",
    "lambda_list=[0.1,0.3,1,3,10,30,100,300,1000]\n",
    "rmse_tr=[]\n",
    "rmse_t=[]\n",
    "rmse_cv=[]"
   ]
  },
  {
   "cell_type": "code",
   "execution_count": 29,
   "metadata": {},
   "outputs": [],
   "source": [
    "for l in lambda_list:\n",
    "    w = opt_reg_param(l,phi_gausDS2tr,y_ds2tr)\n",
    "    y_trpred[l] = y_pred(phi_gausDS2tr,w)\n",
    "    y_cvpred[l] = y_pred(phi_gausDS2cv,w)\n",
    "    y_tpred[l] = y_pred(phi_gausDS2t,w)\n",
    "    rmse_tr.append(RMSE(y_trpred[l],y_ds2tr))\n",
    "    rmse_t.append(RMSE(y_tpred[l],y_ds2t))\n",
    "    rmse_cv.append(RMSE(y_cvpred[l],y_ds2cv))"
   ]
  },
  {
   "cell_type": "code",
   "execution_count": 30,
   "metadata": {},
   "outputs": [],
   "source": [
    "datagausDS2 = pd.DataFrame(list(zip(lambda_list,rmse_tr,rmse_cv,rmse_t)),columns=[\"Lambda\", \"RMSE Train\",\"RMSE CV\",\"RMSE test\"])"
   ]
  },
  {
   "cell_type": "code",
   "execution_count": 31,
   "metadata": {},
   "outputs": [
    {
     "data": {
      "text/html": [
       "<div>\n",
       "<style scoped>\n",
       "    .dataframe tbody tr th:only-of-type {\n",
       "        vertical-align: middle;\n",
       "    }\n",
       "\n",
       "    .dataframe tbody tr th {\n",
       "        vertical-align: top;\n",
       "    }\n",
       "\n",
       "    .dataframe thead th {\n",
       "        text-align: right;\n",
       "    }\n",
       "</style>\n",
       "<table border=\"1\" class=\"dataframe\">\n",
       "  <thead>\n",
       "    <tr style=\"text-align: right;\">\n",
       "      <th></th>\n",
       "      <th>Lambda</th>\n",
       "      <th>RMSE Train</th>\n",
       "      <th>RMSE CV</th>\n",
       "      <th>RMSE test</th>\n",
       "    </tr>\n",
       "  </thead>\n",
       "  <tbody>\n",
       "    <tr>\n",
       "      <th>0</th>\n",
       "      <td>0.1</td>\n",
       "      <td>39378.033612</td>\n",
       "      <td>38402.435287</td>\n",
       "      <td>38068.495104</td>\n",
       "    </tr>\n",
       "    <tr>\n",
       "      <th>1</th>\n",
       "      <td>0.3</td>\n",
       "      <td>39378.033628</td>\n",
       "      <td>38402.416515</td>\n",
       "      <td>38068.474186</td>\n",
       "    </tr>\n",
       "    <tr>\n",
       "      <th>2</th>\n",
       "      <td>1.0</td>\n",
       "      <td>39378.033800</td>\n",
       "      <td>38402.350938</td>\n",
       "      <td>38068.401102</td>\n",
       "    </tr>\n",
       "    <tr>\n",
       "      <th>3</th>\n",
       "      <td>3.0</td>\n",
       "      <td>39378.035317</td>\n",
       "      <td>38402.164667</td>\n",
       "      <td>38068.193379</td>\n",
       "    </tr>\n",
       "    <tr>\n",
       "      <th>4</th>\n",
       "      <td>10.0</td>\n",
       "      <td>39378.052545</td>\n",
       "      <td>38401.525407</td>\n",
       "      <td>38067.479025</td>\n",
       "    </tr>\n",
       "    <tr>\n",
       "      <th>5</th>\n",
       "      <td>30.0</td>\n",
       "      <td>39378.203323</td>\n",
       "      <td>38399.807091</td>\n",
       "      <td>38065.546051</td>\n",
       "    </tr>\n",
       "    <tr>\n",
       "      <th>6</th>\n",
       "      <td>100.0</td>\n",
       "      <td>39379.892579</td>\n",
       "      <td>38395.030697</td>\n",
       "      <td>38060.017284</td>\n",
       "    </tr>\n",
       "    <tr>\n",
       "      <th>7</th>\n",
       "      <td>300.0</td>\n",
       "      <td>39394.102670</td>\n",
       "      <td>38391.404140</td>\n",
       "      <td>38054.234901</td>\n",
       "    </tr>\n",
       "    <tr>\n",
       "      <th>8</th>\n",
       "      <td>1000.0</td>\n",
       "      <td>39533.823221</td>\n",
       "      <td>38475.505656</td>\n",
       "      <td>38130.813305</td>\n",
       "    </tr>\n",
       "  </tbody>\n",
       "</table>\n",
       "</div>"
      ],
      "text/plain": [
       "   Lambda    RMSE Train       RMSE CV     RMSE test\n",
       "0     0.1  39378.033612  38402.435287  38068.495104\n",
       "1     0.3  39378.033628  38402.416515  38068.474186\n",
       "2     1.0  39378.033800  38402.350938  38068.401102\n",
       "3     3.0  39378.035317  38402.164667  38068.193379\n",
       "4    10.0  39378.052545  38401.525407  38067.479025\n",
       "5    30.0  39378.203323  38399.807091  38065.546051\n",
       "6   100.0  39379.892579  38395.030697  38060.017284\n",
       "7   300.0  39394.102670  38391.404140  38054.234901\n",
       "8  1000.0  39533.823221  38475.505656  38130.813305"
      ]
     },
     "execution_count": 31,
     "metadata": {},
     "output_type": "execute_result"
    }
   ],
   "source": [
    "datagausDS2 "
   ]
  },
  {
   "cell_type": "code",
   "execution_count": 32,
   "metadata": {},
   "outputs": [],
   "source": [
    "bestLambda_gausDS2 = 300"
   ]
  },
  {
   "cell_type": "code",
   "execution_count": 33,
   "metadata": {},
   "outputs": [],
   "source": [
    "w_bestGausDS2 = opt_reg_param(bestLambda_gausDS2,phi_gausDS2tr,y_ds2tr)\n",
    "y_bestGausDS2tr = y_pred(phi_gausDS2tr,w_bestGausDS2 )"
   ]
  },
  {
   "cell_type": "code",
   "execution_count": 36,
   "metadata": {},
   "outputs": [
    {
     "data": {
      "text/plain": [
       "<matplotlib.collections.PathCollection at 0x7fdd8e5d1220>"
      ]
     },
     "execution_count": 36,
     "metadata": {},
     "output_type": "execute_result"
    },
    {
     "data": {
      "image/png": "[encoded data removed]",
      "text/plain": [
       "<Figure size 432x288 with 1 Axes>"
      ]
     },
     "metadata": {
      "needs_background": "light"
     },
     "output_type": "display_data"
    }
   ],
   "source": [
    "plt.scatter(y_ds2tr,y_bestGausDS2tr)\n",
    "#plt.ylim(36200,36230)"
   ]
  },
  {
   "cell_type": "code",
   "execution_count": 37,
   "metadata": {},
   "outputs": [],
   "source": [
    "def tikhanov_reg(phi,mu,sigma,l):\n",
    "    K = len(mu)\n",
    "    phiT = np.zeros((K+1,K+1))\n",
    "    phiT[0,0] = 1\n",
    "    for i in range(1,K+1):\n",
    "        for j in range(1,K+1):\n",
    "            phiT[i,j] = np.exp(-(np.linalg.norm(mu[i-1]-mu[j-1])**2)/sigma**2)\n",
    "    #l = 300\n",
    "    return(pseudo_inv(phi,l,phiT))"
   ]
  },
  {
   "cell_type": "code",
   "execution_count": 38,
   "metadata": {},
   "outputs": [],
   "source": [
    "def func_cl_T(c,sig):\n",
    "    mus_tr = k_means(c,X_ds2tr)\n",
    "    mus_cv = k_means(c,X_ds2cv) \n",
    "    phi_gausDS2tr = gaussian_basis(mus_tr,X_ds2tr,sig)\n",
    "    phi_gausDS2cv = gaussian_basis(mus_cv,X_ds2cv,sig)\n",
    "    y_trpred={}\n",
    "    y_cvpred={}\n",
    "    rmse_tr=[]\n",
    "    rmse_cv=[]\n",
    "    for l in lambda_list:\n",
    "        w = np.matmul( tikhanov_reg(phi_gausDS2tr,mus_tr,sig,l),y_ds2tr)\n",
    "        y_trpred[l] = y_pred(phi_gausDS2tr,w)\n",
    "        y_cvpred[l] = y_pred(phi_gausDS2cv,w)\n",
    "        rmse_tr.append(RMSE(y_trpred[l],y_ds2tr))\n",
    "        rmse_cv.append(RMSE(y_cvpred[l],y_ds2cv))\n",
    "    #datagausDS2 = pd.DataFrame(list(zip(lambda_list,rmse_tr,rmse_cv,rmse_t)),columns=[\"Lambda\", \"RMSE Train\",\"RMSE CV\",\"RMSE test\"])\n",
    "    #print(datagausDS2)\n",
    "    rmse_min = np.argmin(rmse_cv)\n",
    "    return(rmse_cv[rmse_min],lambda_list[rmse_min])"
   ]
  },
  {
   "cell_type": "code",
   "execution_count": 39,
   "metadata": {},
   "outputs": [
    {
     "name": "stdout",
     "output_type": "stream",
     "text": [
      "1 (38301.0614886363, 30)\n",
      "2 (38449.147327917155, 100)\n",
      "3 (38418.60806750772, 100)\n",
      "4 (38421.301218271525, 100)\n",
      "5 (38472.15793330792, 300)\n",
      "6 (38436.067052691404, 300)\n",
      "7 (38391.40414039371, 300)\n",
      "8 (38468.27992016303, 300)\n",
      "9 (38669.6062811311, 300)\n"
     ]
    }
   ],
   "source": [
    "for cl in range(1,10):\n",
    "    print(cl, func_cl_T(cl,0.25))"
   ]
  },
  {
   "cell_type": "code",
   "execution_count": 40,
   "metadata": {},
   "outputs": [],
   "source": [
    "phiTds2 = tikhanov_reg(phi_gausDS2tr,mus_tr,0.25,300)"
   ]
  },
  {
   "cell_type": "code",
   "execution_count": 41,
   "metadata": {},
   "outputs": [],
   "source": [
    "wTikhds2 = np.matmul(phiTds2,y_ds2tr)"
   ]
  },
  {
   "cell_type": "code",
   "execution_count": 42,
   "metadata": {},
   "outputs": [],
   "source": [
    "yTikhds2 = y_pred(phi_gausDS2tr,wTikhds2)"
   ]
  },
  {
   "cell_type": "code",
   "execution_count": 43,
   "metadata": {},
   "outputs": [
    {
     "data": {
      "text/plain": [
       "<matplotlib.collections.PathCollection at 0x7fdd8e52ec40>"
      ]
     },
     "execution_count": 43,
     "metadata": {},
     "output_type": "execute_result"
    },
    {
     "data": {
      "image/png": "[encoded data removed]",
      "text/plain": [
       "<Figure size 432x288 with 1 Axes>"
      ]
     },
     "metadata": {
      "needs_background": "light"
     },
     "output_type": "display_data"
    }
   ],
   "source": [
    "plt.scatter(y_ds2tr,yTikhds2)"
   ]
  },
  {
   "cell_type": "code",
   "execution_count": null,
   "metadata": {},
   "outputs": [],
   "source": []
  },
  {
   "cell_type": "code",
   "execution_count": null,
   "metadata": {},
   "outputs": [],
   "source": []
  }
 ],
 "metadata": {
  "kernelspec": {
   "display_name": "Python 3",
   "language": "python",
   "name": "python3"
  },
  "language_info": {
   "codemirror_mode": {
    "name": "ipython",
    "version": 3
   },
   "file_extension": ".py",
   "mimetype": "text/x-python",
   "name": "python",
   "nbconvert_exporter": "python",
   "pygments_lexer": "ipython3",
   "version": "3.8.5"
  }
 },
 "nbformat": 4,
 "nbformat_minor": 4
}
