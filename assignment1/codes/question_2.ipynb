{
 "cells": [
  {
   "cell_type": "code",
   "execution_count": 1,
   "metadata": {},
   "outputs": [],
   "source": [
    "import numpy as np\n",
    "import pandas as pd\n",
    "import math as ma\n",
    "import matplotlib.pyplot as plt\n",
    "from mpl_toolkits.mplot3d import Axes3D\n",
    "%matplotlib inline"
   ]
  },
  {
   "cell_type": "markdown",
   "metadata": {},
   "source": [
    "# Task 2"
   ]
  },
  {
   "cell_type": "code",
   "execution_count": 2,
   "metadata": {},
   "outputs": [],
   "source": [
    "func2d=pd.read_csv(\"function1_2d.csv\",index_col = 0)"
   ]
  },
  {
   "cell_type": "markdown",
   "metadata": {},
   "source": [
    "## 2.1 Generating the polynomial basis functions of degrees 2, 3 and 6: ( Sp to dataset 2)"
   ]
  },
  {
   "cell_type": "code",
   "execution_count": 3,
   "metadata": {},
   "outputs": [],
   "source": [
    "### Creating the polynomial basis functions of degree M and number of examples = n:\n",
    "\n",
    "def create_phi(M,n,x1,x2):\n",
    "    d=2\n",
    "    D = int(ma.factorial(d+M)/(ma.factorial(d)*ma.factorial(M)))\n",
    "    phi = np.zeros((n,D))\n",
    "    \n",
    "    if M == 2:\n",
    "        exp_ar = [[0,0],[1,0],[0,1],[2,0],[0,2],[1,1]]\n",
    "    if M == 3:\n",
    "        exp_ar = [[0,0],[1,0],[0,1],[2,0],[0,2],[1,1],[2,1],[1,2],[3,0],[0,3]]\n",
    "    if M == 6:\n",
    "        exp_ar = [[0,0],[1,0],[0,1],[2,0],[0,2],[1,1],[2,1],[1,2],[3,0],[0,3],[3,1],[1,3],[2,2],[4,0],[0,4],[4,1],[1,4],[2,3],[3,2],[5,0],[0,5],[5,1],[1,5],[2,4],[4,2],[3,3],[6,0],[0,6]]\n",
    "    for i in range(D):\n",
    "        phi[:,i] = (x1**(exp_ar[i][0]))*(x2**(exp_ar[i][1]))\n",
    "    return(phi)\n",
    "\n"
   ]
  },
  {
   "cell_type": "markdown",
   "metadata": {},
   "source": [
    "## 2.2 Solving for optimal parameters using regularization, lambda=0  for unregularized: (versatile) "
   ]
  },
  {
   "cell_type": "markdown",
   "metadata": {},
   "source": [
    "### The function regularized_pseudo_inv(lamb,X) returns:\n",
    "$$(\\lambda I+X^TX)^{-1}X^T$$ \n",
    "\n",
    "Where lambda is the hyperparameter in the quadratic regularization"
   ]
  },
  {
   "cell_type": "code",
   "execution_count": 4,
   "metadata": {},
   "outputs": [],
   "source": [
    "def regularized_pseudo_inv(lamb,phi):\n",
    "    return(np.matmul(np.linalg.inv(lamb*np.identity(phi.shape[1])+np.matmul(np.transpose(phi),phi)),np.transpose(phi)))"
   ]
  },
  {
   "cell_type": "markdown",
   "metadata": {},
   "source": [
    "### The function opt_regularized_param(lamb,phi,y) returns an array of optimal parameter values calculated using regularized cost function for an input design matrix phi, hyperparameter lambda and output values y. "
   ]
  },
  {
   "cell_type": "code",
   "execution_count": 5,
   "metadata": {},
   "outputs": [],
   "source": [
    "def opt_regularized_param(lamb,phi,y):\n",
    "    return(np.matmul(regularized_pseudo_inv(lamb,phi),y))"
   ]
  },
  {
   "cell_type": "markdown",
   "metadata": {},
   "source": [
    "## 2.3 The function y_pred(X,w) returns predicted function values for input matrix X and set of chosen parameter values w a: (versatile)\n",
    "$$y=Xw$$"
   ]
  },
  {
   "cell_type": "code",
   "execution_count": 6,
   "metadata": {},
   "outputs": [],
   "source": [
    "def y_pred(phi,w):\n",
    "    return(np.matmul(phi,w))"
   ]
  },
  {
   "cell_type": "markdown",
   "metadata": {},
   "source": [
    "## 2.4 Splitting the data into train, cross-validation and test: (versatile)"
   ]
  },
  {
   "cell_type": "code",
   "execution_count": 7,
   "metadata": {},
   "outputs": [],
   "source": [
    "def create_datasets(data,train_size,cv_size):\n",
    "    data.sample(frac=1).reset_index(drop=True)\n",
    "    data_train=data[0:train_size]\n",
    "    data_cv=data[train_size:train_size+cv_size]\n",
    "    data_test=data[cv_size+train_size:]\n",
    "    return(data_train,data_cv,data_test)\n",
    "    "
   ]
  },
  {
   "cell_type": "code",
   "execution_count": 8,
   "metadata": {},
   "outputs": [],
   "source": [
    "def split_cols(data_train,data_cv,data_test):\n",
    "    #x1_train,x2_train,y_train,x1_cv,x2_cv,y_cv,x1_test,x2_test,y_test\n",
    "    x1_train=np.array(data_train)[:,0]\n",
    "    x2_train=np.array(data_train)[:,1]\n",
    "    y_train=np.array(data_train)[:,2]\n",
    "    x1_cv=np.array(data_cv)[:,0]\n",
    "    x2_cv=np.array(data_cv)[:,1]\n",
    "    y_cv=np.array(data_cv)[:,2]\n",
    "    x1_test=np.array(data_test)[:,0]\n",
    "    x2_test=np.array(data_test)[:,1]\n",
    "    y_test=np.array(data_test)[:,2]\n",
    "    \n",
    "    return(x1_train,x2_train,y_train,x1_cv,x2_cv,y_cv,x1_test,x2_test,y_test)\n",
    "    "
   ]
  },
  {
   "cell_type": "code",
   "execution_count": 9,
   "metadata": {},
   "outputs": [],
   "source": [
    "### Function to calculate RMSE:\n",
    "\n",
    "def RMSE(y_pred, t):\n",
    "    n = len(y_pred)\n",
    "    return(np.sqrt(np.sum((y_pred - t)**2)/n))"
   ]
  },
  {
   "cell_type": "markdown",
   "metadata": {},
   "source": [
    "## 2.5 Predicting for degree 2, train size 50:"
   ]
  },
  {
   "cell_type": "code",
   "execution_count": 10,
   "metadata": {},
   "outputs": [],
   "source": [
    "data_train,data_cv,data_test=create_datasets(func2d,50,30)"
   ]
  },
  {
   "cell_type": "code",
   "execution_count": 11,
   "metadata": {},
   "outputs": [],
   "source": [
    "x1_train,x2_train,y_train,x1_cv,x2_cv,y_cv,x1_test,x2_test,y_test=split_cols(data_train,data_cv,data_test)"
   ]
  },
  {
   "cell_type": "code",
   "execution_count": 12,
   "metadata": {},
   "outputs": [],
   "source": [
    "### design matrix:\n",
    "phi_train=create_phi(2,len(y_train),x1_train,x2_train)\n",
    "phi_cv=create_phi(2,len(y_cv),x1_cv,x2_cv)\n",
    "phi_test=create_phi(2,len(y_test),x1_test,x2_test)"
   ]
  },
  {
   "cell_type": "code",
   "execution_count": 13,
   "metadata": {},
   "outputs": [
    {
     "data": {
      "text/html": [
       "<div>\n",
       "<style scoped>\n",
       "    .dataframe tbody tr th:only-of-type {\n",
       "        vertical-align: middle;\n",
       "    }\n",
       "\n",
       "    .dataframe tbody tr th {\n",
       "        vertical-align: top;\n",
       "    }\n",
       "\n",
       "    .dataframe thead th {\n",
       "        text-align: right;\n",
       "    }\n",
       "</style>\n",
       "<table border=\"1\" class=\"dataframe\">\n",
       "  <thead>\n",
       "    <tr style=\"text-align: right;\">\n",
       "      <th></th>\n",
       "      <th>x1</th>\n",
       "      <th>x2</th>\n",
       "      <th>y</th>\n",
       "    </tr>\n",
       "  </thead>\n",
       "  <tbody>\n",
       "    <tr>\n",
       "      <th>0</th>\n",
       "      <td>-13.475524</td>\n",
       "      <td>-15.229121</td>\n",
       "      <td>140554.303333</td>\n",
       "    </tr>\n",
       "    <tr>\n",
       "      <th>1</th>\n",
       "      <td>-15.230830</td>\n",
       "      <td>-12.205868</td>\n",
       "      <td>98205.871542</td>\n",
       "    </tr>\n",
       "    <tr>\n",
       "      <th>2</th>\n",
       "      <td>5.762633</td>\n",
       "      <td>-12.758111</td>\n",
       "      <td>54090.524314</td>\n",
       "    </tr>\n",
       "    <tr>\n",
       "      <th>3</th>\n",
       "      <td>8.805995</td>\n",
       "      <td>6.387340</td>\n",
       "      <td>9342.283121</td>\n",
       "    </tr>\n",
       "    <tr>\n",
       "      <th>4</th>\n",
       "      <td>15.734299</td>\n",
       "      <td>3.268716</td>\n",
       "      <td>61518.311357</td>\n",
       "    </tr>\n",
       "  </tbody>\n",
       "</table>\n",
       "</div>"
      ],
      "text/plain": [
       "          x1         x2              y\n",
       "0 -13.475524 -15.229121  140554.303333\n",
       "1 -15.230830 -12.205868   98205.871542\n",
       "2   5.762633 -12.758111   54090.524314\n",
       "3   8.805995   6.387340    9342.283121\n",
       "4  15.734299   3.268716   61518.311357"
      ]
     },
     "execution_count": 13,
     "metadata": {},
     "output_type": "execute_result"
    }
   ],
   "source": [
    "data_train.head()"
   ]
  },
  {
   "cell_type": "code",
   "execution_count": 33,
   "metadata": {},
   "outputs": [],
   "source": [
    "y_testpred50={}\n",
    "y_trainpred50={}\n",
    "y_cvpred50={}\n",
    "lambda_list=[0,0.5,1,2,10,50,100]\n",
    "rmse_train50=[]\n",
    "rmse_test50=[]\n",
    "rmse_cv50=[]"
   ]
  },
  {
   "cell_type": "code",
   "execution_count": 34,
   "metadata": {},
   "outputs": [],
   "source": [
    "for l in lambda_list:\n",
    "    w=opt_regularized_param(l,phi_train,y_train);\n",
    "    y_trainpred50[l]=y_pred(phi_train,w)\n",
    "    y_testpred50[l]=y_pred(phi_test,w);\n",
    "    y_cvpred50[l]=y_pred(phi_cv,w);\n",
    "    rmse_train50.append(RMSE(y_trainpred50[l],y_train))\n",
    "    rmse_test50.append(RMSE(y_testpred50[l],y_test))\n",
    "    rmse_cv50.append(RMSE(y_cvpred50[l],y_cv))\n",
    "    \n",
    "    "
   ]
  },
  {
   "cell_type": "code",
   "execution_count": 32,
   "metadata": {},
   "outputs": [
    {
     "data": {
      "text/plain": [
       "{0: 9340.73599601176,\n",
       " 0.5: 9346.19983195248,\n",
       " 1: 9361.173199865507,\n",
       " 2: 9412.585872380667,\n",
       " 10: 10120.71515033318,\n",
       " 50: 11897.56989099664,\n",
       " 100: 12491.101614362278}"
      ]
     },
     "execution_count": 32,
     "metadata": {},
     "output_type": "execute_result"
    }
   ],
   "source": [
    "\n"
   ]
  },
  {
   "cell_type": "code",
   "execution_count": 35,
   "metadata": {},
   "outputs": [],
   "source": [
    "data50=pd.DataFrame(list(zip(lambda_list,rmse_train50,rmse_cv50,rmse_test50)),columns=[\"Lambda\", \"RMSE Train\",\"RMSE CV\",\"RMSE test\"])"
   ]
  },
  {
   "cell_type": "code",
   "execution_count": 36,
   "metadata": {},
   "outputs": [
    {
     "data": {
      "text/html": [
       "<div>\n",
       "<style scoped>\n",
       "    .dataframe tbody tr th:only-of-type {\n",
       "        vertical-align: middle;\n",
       "    }\n",
       "\n",
       "    .dataframe tbody tr th {\n",
       "        vertical-align: top;\n",
       "    }\n",
       "\n",
       "    .dataframe thead th {\n",
       "        text-align: right;\n",
       "    }\n",
       "</style>\n",
       "<table border=\"1\" class=\"dataframe\">\n",
       "  <thead>\n",
       "    <tr style=\"text-align: right;\">\n",
       "      <th></th>\n",
       "      <th>Lambda</th>\n",
       "      <th>RMSE Train</th>\n",
       "      <th>RMSE CV</th>\n",
       "      <th>RMSE test</th>\n",
       "    </tr>\n",
       "  </thead>\n",
       "  <tbody>\n",
       "    <tr>\n",
       "      <th>0</th>\n",
       "      <td>0.0</td>\n",
       "      <td>9340.735996</td>\n",
       "      <td>10671.596435</td>\n",
       "      <td>11468.191487</td>\n",
       "    </tr>\n",
       "    <tr>\n",
       "      <th>1</th>\n",
       "      <td>0.5</td>\n",
       "      <td>9346.199832</td>\n",
       "      <td>10611.412668</td>\n",
       "      <td>11487.134529</td>\n",
       "    </tr>\n",
       "    <tr>\n",
       "      <th>2</th>\n",
       "      <td>1.0</td>\n",
       "      <td>9361.173200</td>\n",
       "      <td>10564.669335</td>\n",
       "      <td>11516.498048</td>\n",
       "    </tr>\n",
       "    <tr>\n",
       "      <th>3</th>\n",
       "      <td>2.0</td>\n",
       "      <td>9412.585872</td>\n",
       "      <td>10503.673493</td>\n",
       "      <td>11598.332898</td>\n",
       "    </tr>\n",
       "    <tr>\n",
       "      <th>4</th>\n",
       "      <td>10.0</td>\n",
       "      <td>10120.715150</td>\n",
       "      <td>10672.933148</td>\n",
       "      <td>12534.160850</td>\n",
       "    </tr>\n",
       "    <tr>\n",
       "      <th>5</th>\n",
       "      <td>50.0</td>\n",
       "      <td>11897.569891</td>\n",
       "      <td>11935.271437</td>\n",
       "      <td>14729.561718</td>\n",
       "    </tr>\n",
       "    <tr>\n",
       "      <th>6</th>\n",
       "      <td>100.0</td>\n",
       "      <td>12491.101614</td>\n",
       "      <td>12420.382280</td>\n",
       "      <td>15443.047677</td>\n",
       "    </tr>\n",
       "  </tbody>\n",
       "</table>\n",
       "</div>"
      ],
      "text/plain": [
       "   Lambda    RMSE Train       RMSE CV     RMSE test\n",
       "0     0.0   9340.735996  10671.596435  11468.191487\n",
       "1     0.5   9346.199832  10611.412668  11487.134529\n",
       "2     1.0   9361.173200  10564.669335  11516.498048\n",
       "3     2.0   9412.585872  10503.673493  11598.332898\n",
       "4    10.0  10120.715150  10672.933148  12534.160850\n",
       "5    50.0  11897.569891  11935.271437  14729.561718\n",
       "6   100.0  12491.101614  12420.382280  15443.047677"
      ]
     },
     "execution_count": 36,
     "metadata": {},
     "output_type": "execute_result"
    }
   ],
   "source": [
    "data50"
   ]
  },
  {
   "cell_type": "markdown",
   "metadata": {},
   "source": [
    "## 2.6 Predicting for degree of complexity = 2 and train data size = 100"
   ]
  },
  {
   "cell_type": "code",
   "execution_count": null,
   "metadata": {},
   "outputs": [],
   "source": [
    "data_train,data_cv,data_test=create_datasets(func2d,100,30)"
   ]
  },
  {
   "cell_type": "code",
   "execution_count": null,
   "metadata": {},
   "outputs": [],
   "source": [
    "x1_train,x2_train,y_train,x1_cv,x2_cv,y_cv,x1_test,x2_test,y_test=split_cols(data_train,data_cv,data_test)"
   ]
  },
  {
   "cell_type": "code",
   "execution_count": null,
   "metadata": {},
   "outputs": [],
   "source": [
    "### design matrix:\n",
    "phi_train=create_phi(2,len(y_train),x1_train,x2_train)\n",
    "phi_cv=create_phi(2,len(y_cv),x1_cv,x2_cv)\n",
    "phi_test=create_phi(2,len(y_test),x1_test,x2_test)"
   ]
  },
  {
   "cell_type": "code",
   "execution_count": null,
   "metadata": {},
   "outputs": [],
   "source": [
    "y_testpred100={}\n",
    "y_trainpred100={}\n",
    "y_cvpred100={}\n",
    "lambda_list=[0,0.5,1,2,10,50,100]\n",
    "rmse_train100=[]\n",
    "rmse_test100=[]\n",
    "rmse_cv100=[]"
   ]
  }
 ],
 "metadata": {
  "kernelspec": {
   "display_name": "Python 3",
   "language": "python",
   "name": "python3"
  },
  "language_info": {
   "codemirror_mode": {
    "name": "ipython",
    "version": 3
   },
   "file_extension": ".py",
   "mimetype": "text/x-python",
   "name": "python",
   "nbconvert_exporter": "python",
   "pygments_lexer": "ipython3",
   "version": "3.7.6"
  }
 },
 "nbformat": 4,
 "nbformat_minor": 4
}