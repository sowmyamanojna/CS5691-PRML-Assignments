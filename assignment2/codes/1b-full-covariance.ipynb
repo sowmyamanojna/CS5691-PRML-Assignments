{
 "cells": [
  {
   "cell_type": "code",
   "execution_count": 1,
   "metadata": {},
   "outputs": [],
   "source": [
    "import time\n",
    "import numpy as np\n",
    "import pandas as pd\n",
    "from gmm import GMM\n",
    "import matplotlib.pyplot as plt\n",
    "from multiprocessing import Pool\n",
    "from collections import defaultdict\n",
    "from scipy.stats import multivariate_normal as mvn\n",
    "\n",
    "plt.rcParams[\"font.size\"] = 18\n",
    "plt.rcParams[\"axes.grid\"] = True\n",
    "plt.rcParams[\"figure.figsize\"] = 8,6\n",
    "plt.rcParams['font.serif'] = \"Cambria\"\n",
    "plt.rcParams['font.family'] = \"serif\"\n",
    "\n",
    "%load_ext autoreload\n",
    "%autoreload 2"
   ]
  },
  {
   "cell_type": "code",
   "execution_count": 2,
   "metadata": {},
   "outputs": [
    {
     "data": {
      "text/html": [
       "<div>\n",
       "<style scoped>\n",
       "    .dataframe tbody tr th:only-of-type {\n",
       "        vertical-align: middle;\n",
       "    }\n",
       "\n",
       "    .dataframe tbody tr th {\n",
       "        vertical-align: top;\n",
       "    }\n",
       "\n",
       "    .dataframe thead th {\n",
       "        text-align: right;\n",
       "    }\n",
       "</style>\n",
       "<table border=\"1\" class=\"dataframe\">\n",
       "  <thead>\n",
       "    <tr style=\"text-align: right;\">\n",
       "      <th></th>\n",
       "      <th>0</th>\n",
       "      <th>1</th>\n",
       "      <th>2</th>\n",
       "    </tr>\n",
       "  </thead>\n",
       "  <tbody>\n",
       "    <tr>\n",
       "      <th>0</th>\n",
       "      <td>0.537115</td>\n",
       "      <td>0.452538</td>\n",
       "      <td>0.0</td>\n",
       "    </tr>\n",
       "    <tr>\n",
       "      <th>1</th>\n",
       "      <td>0.380729</td>\n",
       "      <td>0.371252</td>\n",
       "      <td>0.0</td>\n",
       "    </tr>\n",
       "    <tr>\n",
       "      <th>2</th>\n",
       "      <td>0.551707</td>\n",
       "      <td>0.496879</td>\n",
       "      <td>0.0</td>\n",
       "    </tr>\n",
       "    <tr>\n",
       "      <th>3</th>\n",
       "      <td>0.128153</td>\n",
       "      <td>0.337706</td>\n",
       "      <td>0.0</td>\n",
       "    </tr>\n",
       "    <tr>\n",
       "      <th>4</th>\n",
       "      <td>-0.893600</td>\n",
       "      <td>-2.493547</td>\n",
       "      <td>0.0</td>\n",
       "    </tr>\n",
       "  </tbody>\n",
       "</table>\n",
       "</div>"
      ],
      "text/plain": [
       "          0         1    2\n",
       "0  0.537115  0.452538  0.0\n",
       "1  0.380729  0.371252  0.0\n",
       "2  0.551707  0.496879  0.0\n",
       "3  0.128153  0.337706  0.0\n",
       "4 -0.893600 -2.493547  0.0"
      ]
     },
     "execution_count": 2,
     "metadata": {},
     "output_type": "execute_result"
    }
   ],
   "source": [
    "df = pd.read_csv(\"../datasets/1B/train.csv\", header=None)\n",
    "X = df.drop(2, axis=1).to_numpy()\n",
    "df.head()"
   ]
  },
  {
   "cell_type": "code",
   "execution_count": 3,
   "metadata": {},
   "outputs": [
    {
     "name": "stderr",
     "output_type": "stream",
     "text": [
      " 16%|█▌        | 16/100 [00:01<00:07, 11.96it/s]\n",
      " 51%|█████     | 51/100 [00:05<00:05,  8.67it/s]\n",
      " 50%|█████     | 50/100 [00:07<00:07,  6.78it/s]\n",
      " 50%|█████     | 50/100 [00:09<00:09,  5.50it/s]\n",
      " 38%|███▊      | 38/100 [00:08<00:13,  4.53it/s]\n",
      "100%|██████████| 100/100 [00:24<00:00,  4.01it/s]\n",
      "100%|██████████| 100/100 [00:28<00:00,  3.51it/s]\n",
      "100%|██████████| 100/100 [00:32<00:00,  3.07it/s]\n",
      " 11%|█         | 11/100 [00:00<00:07, 12.60it/s]\n",
      " 32%|███▏      | 32/100 [00:03<00:07,  9.01it/s]\n",
      " 57%|█████▋    | 57/100 [00:08<00:06,  6.38it/s]\n",
      "100%|██████████| 100/100 [00:18<00:00,  5.55it/s]\n",
      " 28%|██▊       | 28/100 [00:06<00:15,  4.58it/s]\n",
      " 30%|███       | 30/100 [00:07<00:18,  3.86it/s]\n",
      "100%|██████████| 100/100 [00:28<00:00,  3.49it/s]\n",
      "100%|██████████| 100/100 [00:32<00:00,  3.12it/s]\n",
      " 16%|█▌        | 16/100 [00:01<00:06, 12.34it/s]\n",
      "  9%|▉         | 9/100 [00:01<00:11,  8.18it/s]\n",
      " 13%|█▎        | 13/100 [00:01<00:13,  6.59it/s]\n",
      " 91%|█████████ | 91/100 [00:16<00:01,  5.44it/s]\n",
      " 41%|████      | 41/100 [00:08<00:12,  4.66it/s]\n",
      " 47%|████▋     | 47/100 [00:13<00:14,  3.56it/s]\n",
      " 74%|███████▍  | 74/100 [00:23<00:08,  3.15it/s]\n",
      " 82%|████████▏ | 82/100 [00:27<00:05,  3.02it/s]\n"
     ]
    }
   ],
   "source": [
    "classes = np.unique(df[2])\n",
    "gmm_list = defaultdict(list)\n",
    "q_list = list(range(2,10))  \n",
    "\n",
    "for i in classes:\n",
    "    df_select = df[df[2]==i]\n",
    "    X_select = df_select.drop(2, axis=1).to_numpy()\n",
    "    for q in q_list:\n",
    "        gmm = GMM(q=q)\n",
    "        gmm.fit(X_select)\n",
    "        gmm_list[i].append(gmm)"
   ]
  },
  {
   "cell_type": "code",
   "execution_count": 4,
   "metadata": {},
   "outputs": [],
   "source": [
    "import pickle\n",
    "fin = open(\"1b_gmm_results\", \"wb\")\n",
    "pickle.dump(gmm_list, fin)\n",
    "fin.close()"
   ]
  },
  {
   "cell_type": "code",
   "execution_count": 5,
   "metadata": {},
   "outputs": [
    {
     "data": {
      "text/html": [
       "<div>\n",
       "<style scoped>\n",
       "    .dataframe tbody tr th:only-of-type {\n",
       "        vertical-align: middle;\n",
       "    }\n",
       "\n",
       "    .dataframe tbody tr th {\n",
       "        vertical-align: top;\n",
       "    }\n",
       "\n",
       "    .dataframe thead th {\n",
       "        text-align: right;\n",
       "    }\n",
       "</style>\n",
       "<table border=\"1\" class=\"dataframe\">\n",
       "  <thead>\n",
       "    <tr style=\"text-align: right;\">\n",
       "      <th></th>\n",
       "      <th>0</th>\n",
       "      <th>1</th>\n",
       "      <th>2</th>\n",
       "    </tr>\n",
       "  </thead>\n",
       "  <tbody>\n",
       "    <tr>\n",
       "      <th>0</th>\n",
       "      <td>0.438052</td>\n",
       "      <td>-2.337230</td>\n",
       "      <td>0.0</td>\n",
       "    </tr>\n",
       "    <tr>\n",
       "      <th>1</th>\n",
       "      <td>1.229295</td>\n",
       "      <td>0.295078</td>\n",
       "      <td>0.0</td>\n",
       "    </tr>\n",
       "    <tr>\n",
       "      <th>2</th>\n",
       "      <td>1.586945</td>\n",
       "      <td>-0.242402</td>\n",
       "      <td>0.0</td>\n",
       "    </tr>\n",
       "    <tr>\n",
       "      <th>3</th>\n",
       "      <td>-1.047739</td>\n",
       "      <td>-2.606678</td>\n",
       "      <td>0.0</td>\n",
       "    </tr>\n",
       "    <tr>\n",
       "      <th>4</th>\n",
       "      <td>0.993552</td>\n",
       "      <td>0.350345</td>\n",
       "      <td>0.0</td>\n",
       "    </tr>\n",
       "  </tbody>\n",
       "</table>\n",
       "</div>"
      ],
      "text/plain": [
       "          0         1    2\n",
       "0  0.438052 -2.337230  0.0\n",
       "1  1.229295  0.295078  0.0\n",
       "2  1.586945 -0.242402  0.0\n",
       "3 -1.047739 -2.606678  0.0\n",
       "4  0.993552  0.350345  0.0"
      ]
     },
     "execution_count": 5,
     "metadata": {},
     "output_type": "execute_result"
    }
   ],
   "source": [
    "df_test = pd.read_csv(\"../datasets/1B/dev.csv\", header=None)\n",
    "X_test = df_test.drop(2, axis=1).to_numpy()\n",
    "X = df.drop(2, axis=1).to_numpy()\n",
    "df_test.head()"
   ]
  },
  {
   "cell_type": "code",
   "execution_count": 6,
   "metadata": {},
   "outputs": [],
   "source": [
    "accuracy_list = []\n",
    "test_accuracy_list = []\n",
    "for i in range(len(q_list)):\n",
    "    gmm0 = gmm_list[0.0][i]\n",
    "    gmm1 = gmm_list[1.0][i]\n",
    "    gmm2 = gmm_list[2.0][i]\n",
    "    \n",
    "    # Training\n",
    "    a = gmm0.indv_log_likelihood(X)\n",
    "    b = gmm1.indv_log_likelihood(X)\n",
    "    c = gmm2.indv_log_likelihood(X)\n",
    "\n",
    "    d = np.hstack((a, b, c))\n",
    "    pred = np.argmax(d, axis=1)\n",
    "    accuracy_list.append(np.sum(pred == df[2])/df[2].size)\n",
    "    \n",
    "    # Testing\n",
    "    a = gmm0.indv_log_likelihood(X_test)\n",
    "    b = gmm1.indv_log_likelihood(X_test)\n",
    "    c = gmm2.indv_log_likelihood(X_test)\n",
    "\n",
    "    d = np.hstack((a, b, c))\n",
    "    pred = np.argmax(d, axis=1)\n",
    "    test_accuracy_list.append(np.sum(pred == df_test[2])/df_test[2].size)"
   ]
  },
  {
   "cell_type": "code",
   "execution_count": 8,
   "metadata": {},
   "outputs": [
    {
     "data": {
      "image/png": "[encoded data removed]",
      "text/plain": [
       "<Figure size 576x432 with 1 Axes>"
      ]
     },
     "metadata": {
      "needs_background": "light"
     },
     "output_type": "display_data"
    },
    {
     "data": {
      "image/png": "[encoded data removed]",
      "text/plain": [
       "<Figure size 576x432 with 1 Axes>"
      ]
     },
     "metadata": {
      "needs_background": "light"
     },
     "output_type": "display_data"
    }
   ],
   "source": [
    "plt.plot(q_list, accuracy_list, '.-')\n",
    "plt.title(\"Accuracy across varying Q\")\n",
    "plt.xlabel(\"Q for each class\")\n",
    "plt.ylabel(\"Accuracy\")\n",
    "plt.show()\n",
    "\n",
    "plt.plot(q_list, test_accuracy_list, '.-')\n",
    "plt.title(\"Test Accuracy across varying Q\")\n",
    "plt.xlabel(\"Q for each class\")\n",
    "plt.ylabel(\"Accuracy\")\n",
    "plt.show()"
   ]
  },
  {
   "cell_type": "code",
   "execution_count": null,
   "metadata": {},
   "outputs": [],
   "source": []
  }
 ],
 "metadata": {
  "kernelspec": {
   "display_name": "Python 3",
   "language": "python",
   "name": "python3"
  },
  "language_info": {
   "codemirror_mode": {
    "name": "ipython",
    "version": 3
   },
   "file_extension": ".py",
   "mimetype": "text/x-python",
   "name": "python",
   "nbconvert_exporter": "python",
   "pygments_lexer": "ipython3",
   "version": "3.8.5"
  }
 },
 "nbformat": 4,
 "nbformat_minor": 4
}
