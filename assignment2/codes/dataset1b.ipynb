{
 "cells": [
  {
   "cell_type": "code",
   "execution_count": 1,
   "metadata": {},
   "outputs": [],
   "source": [
    "import pandas as pd\n",
    "import numpy as np\n",
    "import matplotlib.pyplot as plt\n",
    "from collections import Counter\n",
    "%matplotlib inline"
   ]
  },
  {
   "cell_type": "markdown",
   "metadata": {},
   "source": [
    "# For dataset 1b:"
   ]
  },
  {
   "cell_type": "code",
   "execution_count": 2,
   "metadata": {},
   "outputs": [],
   "source": [
    "col_names=[\"x1\",\"x2\",\"y\"]\n",
    "data1b=pd.read_csv(\"train1b.csv\",names=col_names)\n",
    "Xtrain_1=data1b[\"x1\"]\n",
    "Xtrain_2=data1b[\"x2\"]\n",
    "Ytrain=np.array(data1b[\"y\"])\n",
    "Xtrain=np.array(data1b.drop(\"y\",axis=1))"
   ]
  },
  {
   "cell_type": "code",
   "execution_count": 3,
   "metadata": {},
   "outputs": [],
   "source": [
    "data1b_dev=pd.read_csv(\"dev1b.csv\",names=col_names)"
   ]
  },
  {
   "cell_type": "code",
   "execution_count": 4,
   "metadata": {},
   "outputs": [
    {
     "data": {
      "image/png": "[encoded data removed]",
      "text/plain": [
       "<Figure size 432x288 with 1 Axes>"
      ]
     },
     "metadata": {
      "needs_background": "light"
     },
     "output_type": "display_data"
    }
   ],
   "source": [
    "plt.figure()\n",
    "plt.scatter(Xtrain_1[Ytrain==0],Xtrain_2[Ytrain==0],label=\"y=0\")\n",
    "plt.scatter(Xtrain_1[Ytrain==1],Xtrain_2[Ytrain==1],label=\"y=1\")\n",
    "plt.scatter(Xtrain_1[Ytrain==2],Xtrain_2[Ytrain==2],label=\"y=2\")\n",
    "plt.legend()\n",
    "plt.xlabel(\"X1\")\n",
    "plt.ylabel(\"X2\")\n",
    "plt.title(\"Scatter plot of the classification data\")\n",
    "plt.savefig(\"classification_data_1a.jpg\")\n",
    "plt.show()"
   ]
  },
  {
   "cell_type": "code",
   "execution_count": 5,
   "metadata": {},
   "outputs": [],
   "source": [
    "## Shuffles a provided data set and splits it into cross-validation and test dataset\n",
    "\n",
    "def create_datasets(data,cv_size):\n",
    "    data.sample(frac=1).reset_index(drop=True)\n",
    "    data_cv=data[0:cv_size]\n",
    "    data_test=data[cv_size:]\n",
    "    return(data_cv,data_test)"
   ]
  },
  {
   "cell_type": "code",
   "execution_count": 6,
   "metadata": {},
   "outputs": [],
   "source": [
    "## Calculates accuracy of the model\n",
    "\n",
    "def accuracy(y_pred,y_actual):\n",
    "    true_count=0\n",
    "    for i in range(len(y_pred)):\n",
    "        if y_pred[i]==y_actual[i]:\n",
    "            true_count+=1;\n",
    "    return(true_count/len(y_pred))"
   ]
  },
  {
   "cell_type": "code",
   "execution_count": 7,
   "metadata": {},
   "outputs": [],
   "source": [
    "## Calculates euclidean distance between two vector points\n",
    "\n",
    "def euclidean(p1,p2):\n",
    "    d=np.linalg.norm(np.array(p1)-np.array(p2))\n",
    "    return d"
   ]
  },
  {
   "cell_type": "code",
   "execution_count": 8,
   "metadata": {},
   "outputs": [],
   "source": [
    "data1b_cv,data1b_test=create_datasets(data1b_dev,63)"
   ]
  },
  {
   "cell_type": "markdown",
   "metadata": {},
   "source": [
    "## KNN Classifier:"
   ]
  },
  {
   "cell_type": "code",
   "execution_count": 9,
   "metadata": {},
   "outputs": [],
   "source": [
    "def knn(x,y,test,k):\n",
    "    distances=[]\n",
    "    for i in range(len(x)):\n",
    "        d=euclidean(x[i],test)\n",
    "        l=(d,x[i],y[i])\n",
    "        distances.append(l)\n",
    "    distances.sort(key = lambda x:x[0])\n",
    "    count=Counter()\n",
    "    for i in distances[:k]:\n",
    "        count[i[2]]+=1\n",
    "    pred=count.most_common(1)[0][0]\n",
    "    return(distances[:k],pred)\n",
    "    "
   ]
  },
  {
   "cell_type": "code",
   "execution_count": 10,
   "metadata": {},
   "outputs": [],
   "source": [
    "k_list=[1,7,15]\n",
    "Accuracyknn_cv=[]\n",
    "Accuracyknn_train=[]\n",
    "Accuracyknn_test=[]"
   ]
  },
  {
   "cell_type": "code",
   "execution_count": 14,
   "metadata": {},
   "outputs": [],
   "source": [
    "X_cv=np.array(data1b_cv.drop(\"y\",axis=1))\n",
    "Y_cv=np.array(data1b_cv[\"y\"])\n",
    "X_test=np.array(data1b_test.drop(\"y\",axis=1))\n",
    "Y_test=np.array(data1b_test[\"y\"])\n",
    "\n",
    "## iterating over k-values\n",
    "for i in k_list:\n",
    "    ycv_pred=[]\n",
    "    for j in X_cv:\n",
    "        ycv_pred.append(knn(Xtrain,Ytrain,j,i)[1])\n",
    "    ytest_pred=[]\n",
    "    for j in X_test:\n",
    "        ytest_pred.append(knn(Xtrain,Ytrain,j,i)[1])\n",
    "    ytrain_pred=[]\n",
    "    for j in Xtrain:\n",
    "        ytrain_pred.append(knn(Xtrain,Ytrain,j,i)[1])\n",
    "    Accuracyknn_cv.append(accuracy(Y_cv,ycv_pred))\n",
    "    Accuracyknn_test.append(accuracy(Y_test,ytest_pred))\n",
    "    Accuracyknn_train.append(accuracy(Ytrain,ytrain_pred))"
   ]
  },
  {
   "cell_type": "code",
   "execution_count": 16,
   "metadata": {},
   "outputs": [],
   "source": [
    "accuracy_table_KNN=pd.DataFrame(list(zip(k_list,Accuracyknn_train,Accuracyknn_cv,Accuracyknn_test)),columns=[\"k-value\", \"Accuracy train\",\"Accuracy CV\",\"Accuracy test\"])"
   ]
  },
  {
   "cell_type": "code",
   "execution_count": 17,
   "metadata": {},
   "outputs": [
    {
     "data": {
      "text/html": [
       "<div>\n",
       "<style scoped>\n",
       "    .dataframe tbody tr th:only-of-type {\n",
       "        vertical-align: middle;\n",
       "    }\n",
       "\n",
       "    .dataframe tbody tr th {\n",
       "        vertical-align: top;\n",
       "    }\n",
       "\n",
       "    .dataframe thead th {\n",
       "        text-align: right;\n",
       "    }\n",
       "</style>\n",
       "<table border=\"1\" class=\"dataframe\">\n",
       "  <thead>\n",
       "    <tr style=\"text-align: right;\">\n",
       "      <th></th>\n",
       "      <th>k-value</th>\n",
       "      <th>Accuracy train</th>\n",
       "      <th>Accuracy CV</th>\n",
       "      <th>Accuracy test</th>\n",
       "    </tr>\n",
       "  </thead>\n",
       "  <tbody>\n",
       "    <tr>\n",
       "      <th>0</th>\n",
       "      <td>1</td>\n",
       "      <td>1.000</td>\n",
       "      <td>1.000000</td>\n",
       "      <td>1.0</td>\n",
       "    </tr>\n",
       "    <tr>\n",
       "      <th>1</th>\n",
       "      <td>7</td>\n",
       "      <td>0.995</td>\n",
       "      <td>1.000000</td>\n",
       "      <td>1.0</td>\n",
       "    </tr>\n",
       "    <tr>\n",
       "      <th>2</th>\n",
       "      <td>15</td>\n",
       "      <td>0.995</td>\n",
       "      <td>0.984127</td>\n",
       "      <td>1.0</td>\n",
       "    </tr>\n",
       "  </tbody>\n",
       "</table>\n",
       "</div>"
      ],
      "text/plain": [
       "   k-value  Accuracy train  Accuracy CV  Accuracy test\n",
       "0        1           1.000     1.000000            1.0\n",
       "1        7           0.995     1.000000            1.0\n",
       "2       15           0.995     0.984127            1.0"
      ]
     },
     "execution_count": 17,
     "metadata": {},
     "output_type": "execute_result"
    }
   ],
   "source": [
    "accuracy_table_KNN"
   ]
  },
  {
   "cell_type": "markdown",
   "metadata": {},
   "source": [
    "## Bayes classifier with KNN to calculate class conditional probabilities"
   ]
  },
  {
   "cell_type": "code",
   "execution_count": 19,
   "metadata": {},
   "outputs": [],
   "source": [
    "## Seperating the rows by class values\n",
    "\n",
    "def seperate_by_classval(data):\n",
    "    ## the target variable must be stored in a column named \"y\"\n",
    "    class_vals=list(data[\"y\"].unique())\n",
    "    seperated=dict()\n",
    "    features=data.drop('y',axis=1)\n",
    "    Y=np.array(data[\"y\"])\n",
    "    ## creates a key value corresponding to each class label\n",
    "    for i in class_vals:\n",
    "        seperated[i]=features[Y==i];\n",
    "    return(seperated)"
   ]
  },
  {
   "cell_type": "code",
   "execution_count": 20,
   "metadata": {},
   "outputs": [],
   "source": [
    "## Calculates the prior probability of classes and returns a dictionary such that \n",
    "## probs[i] is the prior probability of class i\n",
    "\n",
    "def priori(data):\n",
    "    seperated_data=seperate_by_classval(data)\n",
    "    probs=dict()\n",
    "    for i in seperated_data.keys():\n",
    "        probs[i]=len(seperated_data[i])/len(data);\n",
    "    return probs"
   ]
  },
  {
   "cell_type": "code",
   "execution_count": 24,
   "metadata": {},
   "outputs": [],
   "source": [
    "## Calculates the class-conditional probability p(x/yi) using knn method\n",
    "## the input x is the data points for a particular class i\n",
    "## Each row of knn_list consists of a nearest neighbour and its distance from the test point\n",
    "## prob is the class conditional probability p(x/yi)\n",
    "\n",
    "def knn_prob(x,test,k):\n",
    "    distances=[]\n",
    "    for i in range(len(x)):\n",
    "        d=euclidean(x[i],test)\n",
    "        l=(d,x[i])\n",
    "        distances.append(l)\n",
    "    distances.sort(key = lambda x:x[0])\n",
    "    knn_list=distances[:k]\n",
    "    r=knn_list[-1][0]\n",
    "    prob=k/(np.pi*r**2*len(x))\n",
    "    return(knn_list,prob)"
   ]
  },
  {
   "cell_type": "code",
   "execution_count": 25,
   "metadata": {},
   "outputs": [],
   "source": [
    "## This uses the above code blocks to evaluate p(yi/x) for all the classes\n",
    "## Returns a dictionary probabs, such that probabs[i] is the p(yi/x)\n",
    "## also returns label which is the class label corresponding to the maximum p(yi/x) \n",
    "\n",
    "def predictor(train_data,k,test_data):\n",
    "    X_train=seperate_by_classval(train_data)\n",
    "    p_y=priori(train_data)\n",
    "    p=0\n",
    "    probabs={}\n",
    "    for i in list(priori(train_data).keys()):\n",
    "        p_yi=p_y[i]\n",
    "        X_traini=X_train[i]\n",
    "        px_yi=knn_prob(np.array(X_traini),test_data,k)[1]\n",
    "        pyi_x=px_yi*p_yi\n",
    "        probabs[i]=pyi_x\n",
    "        if probabs[i]>p:\n",
    "            p=probabs[i]\n",
    "            label=i\n",
    "    sum_vals=sum(list(probabs.values()))\n",
    "    for i in probabs.keys():\n",
    "        probabs[i]=probabs[i]/sum_vals\n",
    "    return(probabs,label)  "
   ]
  },
  {
   "cell_type": "markdown",
   "metadata": {},
   "source": [
    "### Predicting for k=10 and k=20"
   ]
  },
  {
   "cell_type": "code",
   "execution_count": 26,
   "metadata": {},
   "outputs": [],
   "source": [
    "ypred10_cv=[]\n",
    "ypred10_test=[]\n",
    "ypred20_cv=[]\n",
    "ypred20_test=[]\n",
    "ypred10_train=[]\n",
    "ypred20_train=[]\n",
    "for i in range(len(data1b_cv)):\n",
    "    ypred10_cv.append(predictor(data1b,10,data1b_cv.iloc[i,:-1])[1])\n",
    "    ypred20_cv.append(predictor(data1b,20,data1b_cv.iloc[i,:-1])[1])\n",
    "for i in range(len(data1b_test)):\n",
    "    ypred10_test.append(predictor(data1b,10,data1b_test.iloc[i,:-1])[1])\n",
    "    ypred20_test.append(predictor(data1b,20,data1b_test.iloc[i,:-1])[1])\n",
    "for i in range(len(data1b)):\n",
    "    ypred10_train.append(predictor(data1b,10,data1b.iloc[i,:-1])[1])\n",
    "    ypred20_train.append(predictor(data1b,20,data1b.iloc[i,:-1])[1])"
   ]
  },
  {
   "cell_type": "code",
   "execution_count": 27,
   "metadata": {},
   "outputs": [],
   "source": [
    "accuracy_table=pd.DataFrame()\n",
    "accuracy_table[\"k-value\"]=[10,20]\n",
    "accuracy_table[\"Train data\"]=[accuracy(ypred10_train,list(data1b.iloc[:,-1])),accuracy(ypred20_train,list(data1b.iloc[:,-1]))]\n",
    "accuracy_table[\"CV data\"]=[accuracy(ypred10_cv,list(data1b_cv.iloc[:,-1])),accuracy(ypred20_cv,list(data1b_cv.iloc[:,-1]))]\n",
    "accuracy_table[\"Test data\"]=[accuracy(ypred10_test,list(data1b_test.iloc[:,-1])),accuracy(ypred20_test,list(data1b_test.iloc[:,-1]))]"
   ]
  },
  {
   "cell_type": "code",
   "execution_count": 28,
   "metadata": {},
   "outputs": [
    {
     "data": {
      "text/html": [
       "<div>\n",
       "<style scoped>\n",
       "    .dataframe tbody tr th:only-of-type {\n",
       "        vertical-align: middle;\n",
       "    }\n",
       "\n",
       "    .dataframe tbody tr th {\n",
       "        vertical-align: top;\n",
       "    }\n",
       "\n",
       "    .dataframe thead th {\n",
       "        text-align: right;\n",
       "    }\n",
       "</style>\n",
       "<table border=\"1\" class=\"dataframe\">\n",
       "  <thead>\n",
       "    <tr style=\"text-align: right;\">\n",
       "      <th></th>\n",
       "      <th>k-value</th>\n",
       "      <th>Train data</th>\n",
       "      <th>CV data</th>\n",
       "      <th>Test data</th>\n",
       "    </tr>\n",
       "  </thead>\n",
       "  <tbody>\n",
       "    <tr>\n",
       "      <th>0</th>\n",
       "      <td>10</td>\n",
       "      <td>0.991667</td>\n",
       "      <td>0.968254</td>\n",
       "      <td>1.0</td>\n",
       "    </tr>\n",
       "    <tr>\n",
       "      <th>1</th>\n",
       "      <td>20</td>\n",
       "      <td>0.986667</td>\n",
       "      <td>0.952381</td>\n",
       "      <td>1.0</td>\n",
       "    </tr>\n",
       "  </tbody>\n",
       "</table>\n",
       "</div>"
      ],
      "text/plain": [
       "   k-value  Train data   CV data  Test data\n",
       "0       10    0.991667  0.968254        1.0\n",
       "1       20    0.986667  0.952381        1.0"
      ]
     },
     "execution_count": 28,
     "metadata": {},
     "output_type": "execute_result"
    }
   ],
   "source": [
    "accuracy_table"
   ]
  },
  {
   "cell_type": "code",
   "execution_count": null,
   "metadata": {},
   "outputs": [],
   "source": []
  }
 ],
 "metadata": {
  "kernelspec": {
   "display_name": "Python 3",
   "language": "python",
   "name": "python3"
  },
  "language_info": {
   "codemirror_mode": {
    "name": "ipython",
    "version": 3
   },
   "file_extension": ".py",
   "mimetype": "text/x-python",
   "name": "python",
   "nbconvert_exporter": "python",
   "pygments_lexer": "ipython3",
   "version": "3.7.6"
  }
 },
 "nbformat": 4,
 "nbformat_minor": 4
}
