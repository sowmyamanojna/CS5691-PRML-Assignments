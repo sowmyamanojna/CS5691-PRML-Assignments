{
 "cells": [
  {
   "cell_type": "code",
   "execution_count": 1,
   "metadata": {},
   "outputs": [],
   "source": [
    "import numpy as np\n",
    "import pandas as pd\n",
    "from gmm import GMM_2A\n",
    "from tqdm import tqdm\n",
    "import seaborn as sns\n",
    "import statistics as sts\n",
    "import matplotlib.pyplot as plt\n",
    "from sklearn.cluster import KMeans\n",
    "from sklearn.model_selection import train_test_split\n",
    "\n",
    "plt.rcParams[\"font.size\"] = 18\n",
    "plt.rcParams[\"axes.grid\"] = True\n",
    "plt.rcParams[\"figure.figsize\"] = 8,6\n",
    "plt.rcParams['font.serif'] = \"Cambria\"\n",
    "plt.rcParams['font.family'] = \"serif\"\n",
    "\n",
    "%load_ext autoreload\n",
    "%autoreload 2"
   ]
  },
  {
   "cell_type": "code",
   "execution_count": 4,
   "metadata": {},
   "outputs": [],
   "source": [
    "coast_train = pd.read_csv(\"../datasets/2A/coast/train.csv\")\n",
    "mountain_train = pd.read_csv(\"../datasets/2A/mountain/train.csv\")\n",
    "tallbuilding_train = pd.read_csv(\"../datasets/2A/tallbuilding/train.csv\")\n",
    "highway_train = pd.read_csv(\"../datasets/2A/highway/train.csv\")\n",
    "opencountry_train = pd.read_csv(\"../datasets/2A/opencountry/train.csv\")\n",
    "\n",
    "coast_train.drop([\"image_names\"], axis=1, inplace=True)\n",
    "mountain_train.drop([\"image_names\"], axis=1, inplace=True)\n",
    "tallbuilding_train.drop([\"image_names\"], axis=1, inplace=True)\n",
    "highway_train.drop([\"image_names\"], axis=1, inplace=True)\n",
    "opencountry_train.drop([\"image_names\"], axis=1, inplace=True)"
   ]
  },
  {
   "cell_type": "code",
   "execution_count": 184,
   "metadata": {},
   "outputs": [],
   "source": [
    "coast_test = pd.read_csv(\"../datasets/2A/coast/dev.csv\")\n",
    "mountain_test = pd.read_csv(\"../datasets/2A/mountain/dev.csv\")\n",
    "tallbuilding_test = pd.read_csv(\"../datasets/2A/tallbuilding/dev.csv\")\n",
    "highway_test = pd.read_csv(\"../datasets/2A/highway/dev.csv\")\n",
    "opencountry_test = pd.read_csv(\"../datasets/2A/opencountry/dev.csv\")\n",
    "\n",
    "coast_test.drop([\"image_names\"], axis=1,inplace=True)\n",
    "mountain_test.drop([\"image_names\"], axis=1,inplace=True)\n",
    "tallbuilding_test.drop([\"image_names\"], axis=1,inplace=True)\n",
    "highway_test.drop([\"image_names\"], axis=1,inplace=True)\n",
    "opencountry_test.drop([\"image_names\"], axis=1,inplace=True)"
   ]
  },
  {
   "cell_type": "code",
   "execution_count": 12,
   "metadata": {},
   "outputs": [
    {
     "data": {
      "text/html": [
       "<div>\n",
       "<style scoped>\n",
       "    .dataframe tbody tr th:only-of-type {\n",
       "        vertical-align: middle;\n",
       "    }\n",
       "\n",
       "    .dataframe tbody tr th {\n",
       "        vertical-align: top;\n",
       "    }\n",
       "\n",
       "    .dataframe thead th {\n",
       "        text-align: right;\n",
       "    }\n",
       "</style>\n",
       "<table border=\"1\" class=\"dataframe\">\n",
       "  <thead>\n",
       "    <tr style=\"text-align: right;\">\n",
       "      <th></th>\n",
       "      <th>0</th>\n",
       "      <th>1</th>\n",
       "      <th>2</th>\n",
       "      <th>3</th>\n",
       "      <th>4</th>\n",
       "      <th>5</th>\n",
       "      <th>6</th>\n",
       "      <th>7</th>\n",
       "      <th>8</th>\n",
       "      <th>9</th>\n",
       "      <th>...</th>\n",
       "      <th>14</th>\n",
       "      <th>15</th>\n",
       "      <th>16</th>\n",
       "      <th>17</th>\n",
       "      <th>18</th>\n",
       "      <th>19</th>\n",
       "      <th>20</th>\n",
       "      <th>21</th>\n",
       "      <th>22</th>\n",
       "      <th>23</th>\n",
       "    </tr>\n",
       "  </thead>\n",
       "  <tbody>\n",
       "    <tr>\n",
       "      <th>0</th>\n",
       "      <td>0.301071</td>\n",
       "      <td>0.207291</td>\n",
       "      <td>0.163574</td>\n",
       "      <td>0.080124</td>\n",
       "      <td>0.054138</td>\n",
       "      <td>0.041107</td>\n",
       "      <td>0.048340</td>\n",
       "      <td>0.104355</td>\n",
       "      <td>0.028275</td>\n",
       "      <td>0.085571</td>\n",
       "      <td>...</td>\n",
       "      <td>0.211029</td>\n",
       "      <td>0.176437</td>\n",
       "      <td>0.016968</td>\n",
       "      <td>0.029282</td>\n",
       "      <td>0.108093</td>\n",
       "      <td>0.173035</td>\n",
       "      <td>0.205368</td>\n",
       "      <td>0.192215</td>\n",
       "      <td>0.143951</td>\n",
       "      <td>0.131088</td>\n",
       "    </tr>\n",
       "    <tr>\n",
       "      <th>1</th>\n",
       "      <td>0.149094</td>\n",
       "      <td>0.178650</td>\n",
       "      <td>0.383118</td>\n",
       "      <td>0.217911</td>\n",
       "      <td>0.069717</td>\n",
       "      <td>0.001373</td>\n",
       "      <td>0.000122</td>\n",
       "      <td>0.000015</td>\n",
       "      <td>0.127670</td>\n",
       "      <td>0.040970</td>\n",
       "      <td>...</td>\n",
       "      <td>0.003387</td>\n",
       "      <td>0.000168</td>\n",
       "      <td>0.121246</td>\n",
       "      <td>0.041306</td>\n",
       "      <td>0.045090</td>\n",
       "      <td>0.160141</td>\n",
       "      <td>0.290756</td>\n",
       "      <td>0.318909</td>\n",
       "      <td>0.022049</td>\n",
       "      <td>0.000504</td>\n",
       "    </tr>\n",
       "    <tr>\n",
       "      <th>2</th>\n",
       "      <td>0.033218</td>\n",
       "      <td>0.092514</td>\n",
       "      <td>0.107178</td>\n",
       "      <td>0.058289</td>\n",
       "      <td>0.397430</td>\n",
       "      <td>0.066330</td>\n",
       "      <td>0.238052</td>\n",
       "      <td>0.006989</td>\n",
       "      <td>0.000793</td>\n",
       "      <td>0.003662</td>\n",
       "      <td>...</td>\n",
       "      <td>0.231079</td>\n",
       "      <td>0.003769</td>\n",
       "      <td>0.001465</td>\n",
       "      <td>0.004150</td>\n",
       "      <td>0.006897</td>\n",
       "      <td>0.028931</td>\n",
       "      <td>0.283752</td>\n",
       "      <td>0.127716</td>\n",
       "      <td>0.543488</td>\n",
       "      <td>0.003601</td>\n",
       "    </tr>\n",
       "    <tr>\n",
       "      <th>3</th>\n",
       "      <td>0.009476</td>\n",
       "      <td>0.132507</td>\n",
       "      <td>0.375351</td>\n",
       "      <td>0.090302</td>\n",
       "      <td>0.271347</td>\n",
       "      <td>0.112000</td>\n",
       "      <td>0.008942</td>\n",
       "      <td>0.000076</td>\n",
       "      <td>0.007553</td>\n",
       "      <td>0.000763</td>\n",
       "      <td>...</td>\n",
       "      <td>0.096375</td>\n",
       "      <td>0.010620</td>\n",
       "      <td>0.007843</td>\n",
       "      <td>0.000443</td>\n",
       "      <td>0.030304</td>\n",
       "      <td>0.102646</td>\n",
       "      <td>0.246140</td>\n",
       "      <td>0.513321</td>\n",
       "      <td>0.088379</td>\n",
       "      <td>0.010925</td>\n",
       "    </tr>\n",
       "    <tr>\n",
       "      <th>4</th>\n",
       "      <td>0.169357</td>\n",
       "      <td>0.262299</td>\n",
       "      <td>0.253281</td>\n",
       "      <td>0.152527</td>\n",
       "      <td>0.092209</td>\n",
       "      <td>0.038757</td>\n",
       "      <td>0.016174</td>\n",
       "      <td>0.015396</td>\n",
       "      <td>0.082397</td>\n",
       "      <td>0.082764</td>\n",
       "      <td>...</td>\n",
       "      <td>0.020676</td>\n",
       "      <td>0.015976</td>\n",
       "      <td>0.072647</td>\n",
       "      <td>0.077484</td>\n",
       "      <td>0.163315</td>\n",
       "      <td>0.186646</td>\n",
       "      <td>0.181931</td>\n",
       "      <td>0.196167</td>\n",
       "      <td>0.090378</td>\n",
       "      <td>0.031433</td>\n",
       "    </tr>\n",
       "  </tbody>\n",
       "</table>\n",
       "<p>5 rows × 24 columns</p>\n",
       "</div>"
      ],
      "text/plain": [
       "          0         1         2         3         4         5         6  \\\n",
       "0  0.301071  0.207291  0.163574  0.080124  0.054138  0.041107  0.048340   \n",
       "1  0.149094  0.178650  0.383118  0.217911  0.069717  0.001373  0.000122   \n",
       "2  0.033218  0.092514  0.107178  0.058289  0.397430  0.066330  0.238052   \n",
       "3  0.009476  0.132507  0.375351  0.090302  0.271347  0.112000  0.008942   \n",
       "4  0.169357  0.262299  0.253281  0.152527  0.092209  0.038757  0.016174   \n",
       "\n",
       "          7         8         9  ...        14        15        16        17  \\\n",
       "0  0.104355  0.028275  0.085571  ...  0.211029  0.176437  0.016968  0.029282   \n",
       "1  0.000015  0.127670  0.040970  ...  0.003387  0.000168  0.121246  0.041306   \n",
       "2  0.006989  0.000793  0.003662  ...  0.231079  0.003769  0.001465  0.004150   \n",
       "3  0.000076  0.007553  0.000763  ...  0.096375  0.010620  0.007843  0.000443   \n",
       "4  0.015396  0.082397  0.082764  ...  0.020676  0.015976  0.072647  0.077484   \n",
       "\n",
       "         18        19        20        21        22        23  \n",
       "0  0.108093  0.173035  0.205368  0.192215  0.143951  0.131088  \n",
       "1  0.045090  0.160141  0.290756  0.318909  0.022049  0.000504  \n",
       "2  0.006897  0.028931  0.283752  0.127716  0.543488  0.003601  \n",
       "3  0.030304  0.102646  0.246140  0.513321  0.088379  0.010925  \n",
       "4  0.163315  0.186646  0.181931  0.196167  0.090378  0.031433  \n",
       "\n",
       "[5 rows x 24 columns]"
      ]
     },
     "execution_count": 12,
     "metadata": {},
     "output_type": "execute_result"
    }
   ],
   "source": [
    "coast_train.head()"
   ]
  },
  {
   "cell_type": "code",
   "execution_count": 68,
   "metadata": {},
   "outputs": [],
   "source": [
    "class GMM():\n",
    "    def __init__(self, q):\n",
    "        self.q = q\n",
    "\n",
    "    def fit(self, X, tol=1e-3):\n",
    "        \"\"\"\n",
    "        X: n*d\n",
    "        mu: q*d\n",
    "        C: q*d*d\n",
    "        gamma: n*q\n",
    "        \"\"\"\n",
    "        self.n, self.d = X.shape    \n",
    "        self.X = X\n",
    "        #self.covariance_type = covariance_type\n",
    "        self.initialization()\n",
    "        self.lglk_list = []\n",
    "        for i in tqdm(range(100)):\n",
    "            self.lglk_list.append(self.log_likelihood(self.X))\n",
    "            self.expectation()\n",
    "            self.maximization()\n",
    "            new_lk = self.log_likelihood(self.X)\n",
    "            if new_lk - self.lglk_list[-1] < tol:\n",
    "                break\n",
    "\n",
    "\n",
    "    def initialization(self):\n",
    "        kmeans = KMeans(n_clusters=self.q, random_state=0).fit(self.X)\n",
    "        labels = kmeans.labels_\n",
    "        unique, counts = np.unique(labels, return_counts=True)\n",
    "\n",
    "        self.subcomponents = unique.size\n",
    "        self.gamma = np.eye(self.subcomponents)[labels]\n",
    "        self.Nq = np.sum(self.gamma, axis=0)\n",
    "        self.weights = counts/self.n\n",
    "        self.mu = (self.gamma.T @ self.X)/self.Nq.reshape(-1,1)\n",
    "        self.C = np.zeros((self.subcomponents, self.d, self.d))\n",
    "\n",
    "        for i in range(self.q):\n",
    "            self.C[i] = (1/self.Nq[i])*(self.gamma[:,i].reshape(-1,1)*(self.X-self.mu.iloc[i,:])).T@(self.X-self.mu.iloc[i,:])\n",
    "\n",
    "            self.C[i] = np.diag(np.diag(self.C[i]))\n",
    "\n",
    "\n",
    "    def expectation(self):\n",
    "        self.gamma = np.zeros((self.n, self.q))\n",
    "        for i in range(self.q):\n",
    "            try:\n",
    "                self.gamma[:,i] = self.weights[i]*mvn.pdf(self.X, self.mu.iloc[i], self.C[i])\n",
    "            except:\n",
    "                self.gamma[:,i] = self.weights[i]*mvn.pdf(self.X, self.mu.iloc[i], self.C[i]+np.eye(self.C[i].shape[0])*1e-5)\n",
    "        self.gamma = self.gamma/np.sum(self.gamma, axis=1).reshape(-1,1)\n",
    "\n",
    "    def maximization(self):\n",
    "        # print(np.sum(self.weights))\n",
    "        self.Nq = np.sum(self.gamma, axis=0)\n",
    "        self.mu = (self.gamma.T @ self.X)/self.Nq.reshape(-1,1)\n",
    "        \n",
    "        for i in range(self.q):\n",
    "            self.C[i] = (1/self.Nq[i])*(self.gamma[:,i].reshape(-1,1)*(self.X-self.mu.iloc[i,:])).T@(self.X-self.mu.iloc[i,:])\n",
    "            \n",
    "            self.C[i] = np.diag(np.diag(self.C[i]))\n",
    "                \n",
    "        self.weights = self.Nq/self.n\n",
    "\n",
    "    def log_likelihood(self, X_test):\n",
    "        lk = 0\n",
    "        n, d = X_test.shape\n",
    "        for i in range(n):\n",
    "            val = 0\n",
    "            for j in range(self.q):\n",
    "                #self.C[j] += np.eye(self.d)*1e-7\n",
    "                val += self.weights[j]*mvn.pdf(X_test.iloc[i], self.mu.iloc[j], self.C[j])\n",
    "            lk += np.log(val)\n",
    "\n",
    "        return lk\n",
    "\n",
    "    def indv_log_likelihood(self, X_test):\n",
    "        n, d = X_test.shape\n",
    "        lk = np.zeros((X_test.shape[0], 1))\n",
    "        for i in range(n):\n",
    "            val = 0\n",
    "            for j in range(self.q):\n",
    "                val += self.weights[j]*mvn.pdf(X_test.iloc[i], self.mu.iloc[j], self.C[j])\n",
    "            lk[i] = np.log(val)\n",
    "\n",
    "        return lk"
   ]
  },
  {
   "cell_type": "code",
   "execution_count": 58,
   "metadata": {},
   "outputs": [],
   "source": [
    "gmm_list = defaultdict(list)"
   ]
  },
  {
   "cell_type": "code",
   "execution_count": 72,
   "metadata": {},
   "outputs": [
    {
     "name": "stderr",
     "output_type": "stream",
     "text": [
      " 24%|██▍       | 24/100 [00:14<00:46,  1.62it/s]\n",
      " 93%|█████████▎| 93/100 [01:25<00:06,  1.09it/s]\n",
      " 27%|██▋       | 27/100 [00:32<01:28,  1.21s/it]\n",
      " 37%|███▋      | 37/100 [01:02<01:45,  1.68s/it]\n",
      " 29%|██▉       | 29/100 [00:56<02:18,  1.95s/it]\n",
      " 18%|█▊        | 18/100 [00:40<03:06,  2.28s/it]\n",
      " 28%|██▊       | 28/100 [01:08<02:55,  2.44s/it]\n",
      " 64%|██████▍   | 64/100 [02:48<01:34,  2.63s/it]\n",
      " 24%|██▍       | 24/100 [01:17<04:03,  3.21s/it]\n",
      " 30%|███       | 30/100 [01:34<03:39,  3.14s/it]\n",
      " 28%|██▊       | 28/100 [01:38<04:12,  3.51s/it]\n",
      " 32%|███▏      | 32/100 [01:59<04:14,  3.75s/it]\n",
      " 25%|██▌       | 25/100 [01:45<05:16,  4.22s/it]\n"
     ]
    }
   ],
   "source": [
    "Q = list(range(2,15))\n",
    "for q in Q:\n",
    "    gmm = GMM(q)\n",
    "    gmm.fit(mountain_train)\n",
    "    gmm_list[4].append(gmm)\n",
    "    "
   ]
  },
  {
   "cell_type": "code",
   "execution_count": 78,
   "metadata": {},
   "outputs": [],
   "source": [
    "import accuracy"
   ]
  },
  {
   "cell_type": "code",
   "execution_count": 84,
   "metadata": {},
   "outputs": [
    {
     "name": "stderr",
     "output_type": "stream",
     "text": [
      "100%|██████████| 13/13 [00:55<00:00,  4.31s/it]\n"
     ]
    }
   ],
   "source": [
    "#predicting training data - selecting max likelihood value\n",
    "X = mountain_train\n",
    "ln = len(X)\n",
    "Y_train = np.array([4]*ln)\n",
    "acc_train = []\n",
    "for i in tqdm(range(len(Q))):\n",
    "    gmm0 = gmm_list[0][i]\n",
    "    gmm1 = gmm_list[1][i]\n",
    "    gmm2 = gmm_list[2][i]\n",
    "    gmm3 = gmm_list[3][i]\n",
    "    gmm4 = gmm_list[4][i]\n",
    "    \n",
    "    # Training\n",
    "    a = gmm0.indv_log_likelihood(X)\n",
    "    b = gmm1.indv_log_likelihood(X)\n",
    "    c = gmm2.indv_log_likelihood(X)\n",
    "    d = gmm3.indv_log_likelihood(X)\n",
    "    e = gmm4.indv_log_likelihood(X)\n",
    "\n",
    "    f = np.hstack((a, b, c, d, e))\n",
    "    pred = np.argmax(f, axis=1)\n",
    "\n",
    "    acc_calc = accuracy.Confusion_matrix(pred,Y_train)\n",
    "    acc_train.append(acc_calc.accuracy)\n",
    "m_acc_train = acc_train"
   ]
  },
  {
   "cell_type": "code",
   "execution_count": 97,
   "metadata": {},
   "outputs": [],
   "source": [
    "train_acc = pd.DataFrame([c_acc_train,h_acc_train,t_acc_train,o_acc_train,m_acc_train])"
   ]
  },
  {
   "cell_type": "code",
   "execution_count": 98,
   "metadata": {},
   "outputs": [
    {
     "name": "stdout",
     "output_type": "stream",
     "text": [
      "Stored 'train_acc' (DataFrame)\n"
     ]
    }
   ],
   "source": [
    "%store train_acc"
   ]
  },
  {
   "cell_type": "code",
   "execution_count": 165,
   "metadata": {},
   "outputs": [],
   "source": [
    "from sklearn.metrics import confusion_matrix"
   ]
  },
  {
   "cell_type": "code",
   "execution_count": 162,
   "metadata": {
    "collapsed": true
   },
   "outputs": [
    {
     "name": "stderr",
     "output_type": "stream",
     "text": [
      " 38%|███▊      | 5/13 [00:05<00:09,  1.17s/it]\n"
     ]
    },
    {
     "ename": "KeyboardInterrupt",
     "evalue": "",
     "output_type": "error",
     "traceback": [
      "\u001b[0;31m---------------------------------------------------------------------------\u001b[0m",
      "\u001b[0;31mKeyboardInterrupt\u001b[0m                         Traceback (most recent call last)",
      "\u001b[0;32m<ipython-input-162-061841678d7c>\u001b[0m in \u001b[0;36m<module>\u001b[0;34m\u001b[0m\n\u001b[1;32m     19\u001b[0m     \u001b[0mc\u001b[0m \u001b[0;34m=\u001b[0m \u001b[0mgmm2\u001b[0m\u001b[0;34m.\u001b[0m\u001b[0mindv_log_likelihood\u001b[0m\u001b[0;34m(\u001b[0m\u001b[0mX\u001b[0m\u001b[0;34m)\u001b[0m\u001b[0;34m\u001b[0m\u001b[0;34m\u001b[0m\u001b[0m\n\u001b[1;32m     20\u001b[0m     \u001b[0md\u001b[0m \u001b[0;34m=\u001b[0m \u001b[0mgmm3\u001b[0m\u001b[0;34m.\u001b[0m\u001b[0mindv_log_likelihood\u001b[0m\u001b[0;34m(\u001b[0m\u001b[0mX\u001b[0m\u001b[0;34m)\u001b[0m\u001b[0;34m\u001b[0m\u001b[0;34m\u001b[0m\u001b[0m\n\u001b[0;32m---> 21\u001b[0;31m     \u001b[0me\u001b[0m \u001b[0;34m=\u001b[0m \u001b[0mgmm4\u001b[0m\u001b[0;34m.\u001b[0m\u001b[0mindv_log_likelihood\u001b[0m\u001b[0;34m(\u001b[0m\u001b[0mX\u001b[0m\u001b[0;34m)\u001b[0m\u001b[0;34m\u001b[0m\u001b[0;34m\u001b[0m\u001b[0m\n\u001b[0m\u001b[1;32m     22\u001b[0m \u001b[0;34m\u001b[0m\u001b[0m\n\u001b[1;32m     23\u001b[0m     \u001b[0mf\u001b[0m \u001b[0;34m=\u001b[0m \u001b[0mnp\u001b[0m\u001b[0;34m.\u001b[0m\u001b[0mhstack\u001b[0m\u001b[0;34m(\u001b[0m\u001b[0;34m(\u001b[0m\u001b[0ma\u001b[0m\u001b[0;34m,\u001b[0m \u001b[0mb\u001b[0m\u001b[0;34m,\u001b[0m \u001b[0mc\u001b[0m\u001b[0;34m,\u001b[0m \u001b[0md\u001b[0m\u001b[0;34m,\u001b[0m \u001b[0me\u001b[0m\u001b[0;34m)\u001b[0m\u001b[0;34m)\u001b[0m\u001b[0;34m\u001b[0m\u001b[0;34m\u001b[0m\u001b[0m\n",
      "\u001b[0;32m<ipython-input-68-a5fe1a17d19a>\u001b[0m in \u001b[0;36mindv_log_likelihood\u001b[0;34m(self, X_test)\u001b[0m\n\u001b[1;32m     81\u001b[0m             \u001b[0mval\u001b[0m \u001b[0;34m=\u001b[0m \u001b[0;36m0\u001b[0m\u001b[0;34m\u001b[0m\u001b[0;34m\u001b[0m\u001b[0m\n\u001b[1;32m     82\u001b[0m             \u001b[0;32mfor\u001b[0m \u001b[0mj\u001b[0m \u001b[0;32min\u001b[0m \u001b[0mrange\u001b[0m\u001b[0;34m(\u001b[0m\u001b[0mself\u001b[0m\u001b[0;34m.\u001b[0m\u001b[0mq\u001b[0m\u001b[0;34m)\u001b[0m\u001b[0;34m:\u001b[0m\u001b[0;34m\u001b[0m\u001b[0;34m\u001b[0m\u001b[0m\n\u001b[0;32m---> 83\u001b[0;31m                 \u001b[0mval\u001b[0m \u001b[0;34m+=\u001b[0m \u001b[0mself\u001b[0m\u001b[0;34m.\u001b[0m\u001b[0mweights\u001b[0m\u001b[0;34m[\u001b[0m\u001b[0mj\u001b[0m\u001b[0;34m]\u001b[0m\u001b[0;34m*\u001b[0m\u001b[0mmvn\u001b[0m\u001b[0;34m.\u001b[0m\u001b[0mpdf\u001b[0m\u001b[0;34m(\u001b[0m\u001b[0mX_test\u001b[0m\u001b[0;34m.\u001b[0m\u001b[0miloc\u001b[0m\u001b[0;34m[\u001b[0m\u001b[0mi\u001b[0m\u001b[0;34m]\u001b[0m\u001b[0;34m,\u001b[0m \u001b[0mself\u001b[0m\u001b[0;34m.\u001b[0m\u001b[0mmu\u001b[0m\u001b[0;34m.\u001b[0m\u001b[0miloc\u001b[0m\u001b[0;34m[\u001b[0m\u001b[0mj\u001b[0m\u001b[0;34m]\u001b[0m\u001b[0;34m,\u001b[0m \u001b[0mself\u001b[0m\u001b[0;34m.\u001b[0m\u001b[0mC\u001b[0m\u001b[0;34m[\u001b[0m\u001b[0mj\u001b[0m\u001b[0;34m]\u001b[0m\u001b[0;34m)\u001b[0m\u001b[0;34m\u001b[0m\u001b[0;34m\u001b[0m\u001b[0m\n\u001b[0m\u001b[1;32m     84\u001b[0m             \u001b[0mlk\u001b[0m\u001b[0;34m[\u001b[0m\u001b[0mi\u001b[0m\u001b[0;34m]\u001b[0m \u001b[0;34m=\u001b[0m \u001b[0mnp\u001b[0m\u001b[0;34m.\u001b[0m\u001b[0mlog\u001b[0m\u001b[0;34m(\u001b[0m\u001b[0mval\u001b[0m\u001b[0;34m)\u001b[0m\u001b[0;34m\u001b[0m\u001b[0;34m\u001b[0m\u001b[0m\n\u001b[1;32m     85\u001b[0m \u001b[0;34m\u001b[0m\u001b[0m\n",
      "\u001b[0;32m/usr/lib/python3/dist-packages/scipy/stats/_multivariate.py\u001b[0m in \u001b[0;36mpdf\u001b[0;34m(self, x, mean, cov, allow_singular)\u001b[0m\n\u001b[1;32m    520\u001b[0m         \u001b[0mx\u001b[0m \u001b[0;34m=\u001b[0m \u001b[0mself\u001b[0m\u001b[0;34m.\u001b[0m\u001b[0m_process_quantiles\u001b[0m\u001b[0;34m(\u001b[0m\u001b[0mx\u001b[0m\u001b[0;34m,\u001b[0m \u001b[0mdim\u001b[0m\u001b[0;34m)\u001b[0m\u001b[0;34m\u001b[0m\u001b[0;34m\u001b[0m\u001b[0m\n\u001b[1;32m    521\u001b[0m         \u001b[0mpsd\u001b[0m \u001b[0;34m=\u001b[0m \u001b[0m_PSD\u001b[0m\u001b[0;34m(\u001b[0m\u001b[0mcov\u001b[0m\u001b[0;34m,\u001b[0m \u001b[0mallow_singular\u001b[0m\u001b[0;34m=\u001b[0m\u001b[0mallow_singular\u001b[0m\u001b[0;34m)\u001b[0m\u001b[0;34m\u001b[0m\u001b[0;34m\u001b[0m\u001b[0m\n\u001b[0;32m--> 522\u001b[0;31m         \u001b[0mout\u001b[0m \u001b[0;34m=\u001b[0m \u001b[0mnp\u001b[0m\u001b[0;34m.\u001b[0m\u001b[0mexp\u001b[0m\u001b[0;34m(\u001b[0m\u001b[0mself\u001b[0m\u001b[0;34m.\u001b[0m\u001b[0m_logpdf\u001b[0m\u001b[0;34m(\u001b[0m\u001b[0mx\u001b[0m\u001b[0;34m,\u001b[0m \u001b[0mmean\u001b[0m\u001b[0;34m,\u001b[0m \u001b[0mpsd\u001b[0m\u001b[0;34m.\u001b[0m\u001b[0mU\u001b[0m\u001b[0;34m,\u001b[0m \u001b[0mpsd\u001b[0m\u001b[0;34m.\u001b[0m\u001b[0mlog_pdet\u001b[0m\u001b[0;34m,\u001b[0m \u001b[0mpsd\u001b[0m\u001b[0;34m.\u001b[0m\u001b[0mrank\u001b[0m\u001b[0;34m)\u001b[0m\u001b[0;34m)\u001b[0m\u001b[0;34m\u001b[0m\u001b[0;34m\u001b[0m\u001b[0m\n\u001b[0m\u001b[1;32m    523\u001b[0m         \u001b[0;32mreturn\u001b[0m \u001b[0m_squeeze_output\u001b[0m\u001b[0;34m(\u001b[0m\u001b[0mout\u001b[0m\u001b[0;34m)\u001b[0m\u001b[0;34m\u001b[0m\u001b[0;34m\u001b[0m\u001b[0m\n\u001b[1;32m    524\u001b[0m \u001b[0;34m\u001b[0m\u001b[0m\n",
      "\u001b[0;32m/usr/lib/python3/dist-packages/scipy/stats/_multivariate.py\u001b[0m in \u001b[0;36m_logpdf\u001b[0;34m(self, x, mean, prec_U, log_det_cov, rank)\u001b[0m\n\u001b[1;32m    468\u001b[0m         \"\"\"\n\u001b[1;32m    469\u001b[0m         \u001b[0mdev\u001b[0m \u001b[0;34m=\u001b[0m \u001b[0mx\u001b[0m \u001b[0;34m-\u001b[0m \u001b[0mmean\u001b[0m\u001b[0;34m\u001b[0m\u001b[0;34m\u001b[0m\u001b[0m\n\u001b[0;32m--> 470\u001b[0;31m         \u001b[0mmaha\u001b[0m \u001b[0;34m=\u001b[0m \u001b[0mnp\u001b[0m\u001b[0;34m.\u001b[0m\u001b[0msum\u001b[0m\u001b[0;34m(\u001b[0m\u001b[0mnp\u001b[0m\u001b[0;34m.\u001b[0m\u001b[0msquare\u001b[0m\u001b[0;34m(\u001b[0m\u001b[0mnp\u001b[0m\u001b[0;34m.\u001b[0m\u001b[0mdot\u001b[0m\u001b[0;34m(\u001b[0m\u001b[0mdev\u001b[0m\u001b[0;34m,\u001b[0m \u001b[0mprec_U\u001b[0m\u001b[0;34m)\u001b[0m\u001b[0;34m)\u001b[0m\u001b[0;34m,\u001b[0m \u001b[0maxis\u001b[0m\u001b[0;34m=\u001b[0m\u001b[0;34m-\u001b[0m\u001b[0;36m1\u001b[0m\u001b[0;34m)\u001b[0m\u001b[0;34m\u001b[0m\u001b[0;34m\u001b[0m\u001b[0m\n\u001b[0m\u001b[1;32m    471\u001b[0m         \u001b[0;32mreturn\u001b[0m \u001b[0;34m-\u001b[0m\u001b[0;36m0.5\u001b[0m \u001b[0;34m*\u001b[0m \u001b[0;34m(\u001b[0m\u001b[0mrank\u001b[0m \u001b[0;34m*\u001b[0m \u001b[0m_LOG_2PI\u001b[0m \u001b[0;34m+\u001b[0m \u001b[0mlog_det_cov\u001b[0m \u001b[0;34m+\u001b[0m \u001b[0mmaha\u001b[0m\u001b[0;34m)\u001b[0m\u001b[0;34m\u001b[0m\u001b[0;34m\u001b[0m\u001b[0m\n\u001b[1;32m    472\u001b[0m \u001b[0;34m\u001b[0m\u001b[0m\n",
      "\u001b[0;31mKeyboardInterrupt\u001b[0m: "
     ]
    }
   ],
   "source": [
    "X = mountain_train\n",
    "ln = len(X)\n",
    "Y_train = np.array([4]*ln)\n",
    "acc_train = []\n",
    "acc_cv = []\n",
    "for i in tqdm(range(len(Q))):\n",
    "    gmm0 = gmm_list[0][i]\n",
    "    gmm1 = gmm_list[1][i]\n",
    "    gmm2 = gmm_list[2][i]\n",
    "    gmm3 = gmm_list[3][i]\n",
    "    gmm4 = gmm_list[4][i]\n",
    "    \n",
    "    # Training\n",
    "    a = gmm0.indv_log_likelihood(X)\n",
    "    b = gmm1.indv_log_likelihood(X)\n",
    "    c = gmm2.indv_log_likelihood(X)\n",
    "    d = gmm3.indv_log_likelihood(X)\n",
    "    e = gmm4.indv_log_likelihood(X)\n",
    "\n",
    "    f = np.hstack((a, b, c, d, e))\n",
    "    pred = np.argmax(f, axis=1)\n",
    "\n",
    "    acc_calc = accuracy.Confusion_matrix(pred,y_cv)\n",
    "    acc_cv.append(acc_calc.accuracy)\n",
    "o_acc_cv = acc_cv"
   ]
  },
  {
   "cell_type": "code",
   "execution_count": 118,
   "metadata": {},
   "outputs": [],
   "source": [
    "cv_acc = pd.DataFrame([c_acc_cv,h_acc_cv,t_acc_cv,o_acc_cv,m_acc_cv])"
   ]
  },
  {
   "cell_type": "code",
   "execution_count": 120,
   "metadata": {},
   "outputs": [],
   "source": [
    "df = pd.DataFrame(list(zip(Q,train_acc.mean(axis=0),cv_acc.mean(axis=0))),columns=[\"Hyperparameter Value\", \"Accuracy for training data\", \"Accuracy for validation data\"])\n",
    "df.to_csv(\"acc2a.csv\")"
   ]
  },
  {
   "cell_type": "code",
   "execution_count": 198,
   "metadata": {},
   "outputs": [
    {
     "data": {
      "image/png": "[encoded data removed]",
      "text/plain": [
       "<Figure size 576x432 with 1 Axes>"
      ]
     },
     "metadata": {
      "needs_background": "light"
     },
     "output_type": "display_data"
    }
   ],
   "source": [
    "plt.plot(Q, df.iloc[:,2], label=\"train\")\n",
    "plt.plot(Q, df.iloc[:,1], label = \"test\")\n",
    "plt.title(\"Accuracy for training and test data 2A\")\n",
    "plt.xlabel(\"no. of components\")\n",
    "plt.ylabel(\"accuracy\")\n",
    "plt.legend()\n",
    "plt.savefig(\"acc_2a.png\")\n",
    "plt.show()"
   ]
  },
  {
   "cell_type": "code",
   "execution_count": 132,
   "metadata": {},
   "outputs": [
    {
     "data": {
      "text/plain": [
       "7"
      ]
     },
     "execution_count": 132,
     "metadata": {},
     "output_type": "execute_result"
    }
   ],
   "source": [
    "Q[5]"
   ]
  },
  {
   "cell_type": "code",
   "execution_count": 157,
   "metadata": {},
   "outputs": [],
   "source": [
    "X_test = mountain_test\n",
    "ln = len(X_test)\n",
    "\n",
    "Y_test = np.array([4]*ln)\n",
    "X_cv,X_test,y_cv,y_test = train_test_split(X_test,Y_test, test_size=0.3, random_state=2)\n",
    "ln = len(X_test)\n",
    "X = X_test\n",
    "i = 5\n",
    "gmm0 = gmm_list[0][i]\n",
    "gmm1 = gmm_list[1][i]\n",
    "gmm2 = gmm_list[2][i]\n",
    "gmm3 = gmm_list[3][i]\n",
    "gmm4 = gmm_list[4][i]\n",
    "\n",
    "# Training\n",
    "a = gmm0.indv_log_likelihood(X)\n",
    "b = gmm1.indv_log_likelihood(X)\n",
    "c = gmm2.indv_log_likelihood(X)\n",
    "d = gmm3.indv_log_likelihood(X)\n",
    "e = gmm4.indv_log_likelihood(X)\n",
    "\n",
    "f = np.hstack((a, b, c, d, e))\n",
    "pred = np.argmax(f, axis=1)\n",
    "\n",
    "acc_calc = accuracy.Confusion_matrix(pred,y_test)\n",
    "acc_test.append(acc_calc.accuracy)\n",
    "#o_acc_cv = acc_cv"
   ]
  },
  {
   "cell_type": "code",
   "execution_count": 158,
   "metadata": {},
   "outputs": [
    {
     "data": {
      "text/plain": [
       "0.3784189723320159"
      ]
     },
     "execution_count": 158,
     "metadata": {},
     "output_type": "execute_result"
    }
   ],
   "source": [
    "np.mean(np.array(acc_test))"
   ]
  },
  {
   "cell_type": "code",
   "execution_count": 149,
   "metadata": {},
   "outputs": [],
   "source": [
    "X_train = coast_train\n",
    "X_train = X_train.append([highway_train,tallbuilding_train,opencountry_train,mountain_train])"
   ]
  },
  {
   "cell_type": "code",
   "execution_count": 164,
   "metadata": {
    "collapsed": true
   },
   "outputs": [
    {
     "ename": "TypeError",
     "evalue": "unhashable type: 'list'",
     "output_type": "error",
     "traceback": [
      "\u001b[0;31m---------------------------------------------------------------------------\u001b[0m",
      "\u001b[0;31mTypeError\u001b[0m                                 Traceback (most recent call last)",
      "\u001b[0;32m<ipython-input-164-c0e059f2db7c>\u001b[0m in \u001b[0;36m<module>\u001b[0;34m\u001b[0m\n\u001b[1;32m     21\u001b[0m \u001b[0mpred\u001b[0m \u001b[0;34m=\u001b[0m \u001b[0mnp\u001b[0m\u001b[0;34m.\u001b[0m\u001b[0margmax\u001b[0m\u001b[0;34m(\u001b[0m\u001b[0mf\u001b[0m\u001b[0;34m,\u001b[0m \u001b[0maxis\u001b[0m\u001b[0;34m=\u001b[0m\u001b[0;36m1\u001b[0m\u001b[0;34m)\u001b[0m\u001b[0;34m\u001b[0m\u001b[0;34m\u001b[0m\u001b[0m\n\u001b[1;32m     22\u001b[0m \u001b[0;34m\u001b[0m\u001b[0m\n\u001b[0;32m---> 23\u001b[0;31m \u001b[0macc_train\u001b[0m \u001b[0;34m=\u001b[0m \u001b[0maccuracy\u001b[0m\u001b[0;34m.\u001b[0m\u001b[0mConfusion_matrix\u001b[0m\u001b[0;34m(\u001b[0m\u001b[0mpred\u001b[0m\u001b[0;34m,\u001b[0m\u001b[0mY_train\u001b[0m\u001b[0;34m)\u001b[0m\u001b[0;34m\u001b[0m\u001b[0;34m\u001b[0m\u001b[0m\n\u001b[0m\u001b[1;32m     24\u001b[0m \u001b[0mconf_train\u001b[0m \u001b[0;34m=\u001b[0m \u001b[0mac_train\u001b[0m\u001b[0;34m.\u001b[0m\u001b[0mget_matrix\u001b[0m\u001b[0;34m(\u001b[0m\u001b[0;34m)\u001b[0m\u001b[0;34m\u001b[0m\u001b[0;34m\u001b[0m\u001b[0m\n\u001b[1;32m     25\u001b[0m \u001b[0mpd\u001b[0m\u001b[0;34m.\u001b[0m\u001b[0mDataFrame\u001b[0m\u001b[0;34m(\u001b[0m\u001b[0mconf_Train\u001b[0m\u001b[0;34m)\u001b[0m\u001b[0;34m.\u001b[0m\u001b[0mto_csv\u001b[0m\u001b[0;34m(\u001b[0m\u001b[0;34m\"conf_train_1b.csv\"\u001b[0m\u001b[0;34m)\u001b[0m\u001b[0;34m\u001b[0m\u001b[0;34m\u001b[0m\u001b[0m\n",
      "\u001b[0;32m~/Desktop/acads/PRML/assignment2/accuracy.py\u001b[0m in \u001b[0;36m__init__\u001b[0;34m(self, y_pred, y_orig)\u001b[0m\n\u001b[1;32m      9\u001b[0m                 \u001b[0mself\u001b[0m\u001b[0;34m.\u001b[0m\u001b[0mcompare\u001b[0m \u001b[0;34m=\u001b[0m \u001b[0my_pred\u001b[0m \u001b[0;34m==\u001b[0m \u001b[0my_orig\u001b[0m\u001b[0;34m\u001b[0m\u001b[0;34m\u001b[0m\u001b[0m\n\u001b[1;32m     10\u001b[0m                 \u001b[0mself\u001b[0m\u001b[0;34m.\u001b[0m\u001b[0maccuracy\u001b[0m \u001b[0;34m=\u001b[0m \u001b[0mnp\u001b[0m\u001b[0;34m.\u001b[0m\u001b[0msum\u001b[0m\u001b[0;34m(\u001b[0m\u001b[0mself\u001b[0m\u001b[0;34m.\u001b[0m\u001b[0mcompare\u001b[0m\u001b[0;34m)\u001b[0m\u001b[0;34m/\u001b[0m\u001b[0mself\u001b[0m\u001b[0;34m.\u001b[0m\u001b[0mlength\u001b[0m\u001b[0;34m\u001b[0m\u001b[0;34m\u001b[0m\u001b[0m\n\u001b[0;32m---> 11\u001b[0;31m                 \u001b[0mself\u001b[0m\u001b[0;34m.\u001b[0m\u001b[0mclasses\u001b[0m \u001b[0;34m=\u001b[0m \u001b[0mpd\u001b[0m\u001b[0;34m.\u001b[0m\u001b[0mSeries\u001b[0m\u001b[0;34m(\u001b[0m\u001b[0my_orig\u001b[0m\u001b[0;34m)\u001b[0m\u001b[0;34m.\u001b[0m\u001b[0munique\u001b[0m\u001b[0;34m(\u001b[0m\u001b[0;34m)\u001b[0m\u001b[0;34m[\u001b[0m\u001b[0;36m0\u001b[0m\u001b[0;34m]\u001b[0m\u001b[0;34m\u001b[0m\u001b[0;34m\u001b[0m\u001b[0m\n\u001b[0m\u001b[1;32m     12\u001b[0m \u001b[0;34m\u001b[0m\u001b[0m\n\u001b[1;32m     13\u001b[0m         \u001b[0;32mdef\u001b[0m \u001b[0mget_matrix\u001b[0m\u001b[0;34m(\u001b[0m\u001b[0mself\u001b[0m\u001b[0;34m)\u001b[0m\u001b[0;34m:\u001b[0m\u001b[0;34m\u001b[0m\u001b[0;34m\u001b[0m\u001b[0m\n",
      "\u001b[0;32m/usr/lib/python3/dist-packages/pandas/core/series.py\u001b[0m in \u001b[0;36munique\u001b[0;34m(self)\u001b[0m\n\u001b[1;32m   1989\u001b[0m         \u001b[0mCategories\u001b[0m \u001b[0;34m(\u001b[0m\u001b[0;36m3\u001b[0m\u001b[0;34m,\u001b[0m \u001b[0mobject\u001b[0m\u001b[0;34m)\u001b[0m\u001b[0;34m:\u001b[0m \u001b[0;34m[\u001b[0m\u001b[0ma\u001b[0m \u001b[0;34m<\u001b[0m \u001b[0mb\u001b[0m \u001b[0;34m<\u001b[0m \u001b[0mc\u001b[0m\u001b[0;34m]\u001b[0m\u001b[0;34m\u001b[0m\u001b[0;34m\u001b[0m\u001b[0m\n\u001b[1;32m   1990\u001b[0m         \"\"\"\n\u001b[0;32m-> 1991\u001b[0;31m         \u001b[0mresult\u001b[0m \u001b[0;34m=\u001b[0m \u001b[0msuper\u001b[0m\u001b[0;34m(\u001b[0m\u001b[0;34m)\u001b[0m\u001b[0;34m.\u001b[0m\u001b[0munique\u001b[0m\u001b[0;34m(\u001b[0m\u001b[0;34m)\u001b[0m\u001b[0;34m\u001b[0m\u001b[0;34m\u001b[0m\u001b[0m\n\u001b[0m\u001b[1;32m   1992\u001b[0m         \u001b[0;32mreturn\u001b[0m \u001b[0mresult\u001b[0m\u001b[0;34m\u001b[0m\u001b[0;34m\u001b[0m\u001b[0m\n\u001b[1;32m   1993\u001b[0m \u001b[0;34m\u001b[0m\u001b[0m\n",
      "\u001b[0;32m/usr/lib/python3/dist-packages/pandas/core/base.py\u001b[0m in \u001b[0;36munique\u001b[0;34m(self)\u001b[0m\n\u001b[1;32m   1403\u001b[0m             \u001b[0;32mfrom\u001b[0m \u001b[0mpandas\u001b[0m\u001b[0;34m.\u001b[0m\u001b[0mcore\u001b[0m\u001b[0;34m.\u001b[0m\u001b[0malgorithms\u001b[0m \u001b[0;32mimport\u001b[0m \u001b[0munique1d\u001b[0m\u001b[0;34m\u001b[0m\u001b[0;34m\u001b[0m\u001b[0m\n\u001b[1;32m   1404\u001b[0m \u001b[0;34m\u001b[0m\u001b[0m\n\u001b[0;32m-> 1405\u001b[0;31m             \u001b[0mresult\u001b[0m \u001b[0;34m=\u001b[0m \u001b[0munique1d\u001b[0m\u001b[0;34m(\u001b[0m\u001b[0mvalues\u001b[0m\u001b[0;34m)\u001b[0m\u001b[0;34m\u001b[0m\u001b[0;34m\u001b[0m\u001b[0m\n\u001b[0m\u001b[1;32m   1406\u001b[0m \u001b[0;34m\u001b[0m\u001b[0m\n\u001b[1;32m   1407\u001b[0m         \u001b[0;32mreturn\u001b[0m \u001b[0mresult\u001b[0m\u001b[0;34m\u001b[0m\u001b[0;34m\u001b[0m\u001b[0m\n",
      "\u001b[0;32m/usr/lib/python3/dist-packages/pandas/core/algorithms.py\u001b[0m in \u001b[0;36munique\u001b[0;34m(values)\u001b[0m\n\u001b[1;32m    403\u001b[0m \u001b[0;34m\u001b[0m\u001b[0m\n\u001b[1;32m    404\u001b[0m     \u001b[0mtable\u001b[0m \u001b[0;34m=\u001b[0m \u001b[0mhtable\u001b[0m\u001b[0;34m(\u001b[0m\u001b[0mlen\u001b[0m\u001b[0;34m(\u001b[0m\u001b[0mvalues\u001b[0m\u001b[0;34m)\u001b[0m\u001b[0;34m)\u001b[0m\u001b[0;34m\u001b[0m\u001b[0;34m\u001b[0m\u001b[0m\n\u001b[0;32m--> 405\u001b[0;31m     \u001b[0muniques\u001b[0m \u001b[0;34m=\u001b[0m \u001b[0mtable\u001b[0m\u001b[0;34m.\u001b[0m\u001b[0munique\u001b[0m\u001b[0;34m(\u001b[0m\u001b[0mvalues\u001b[0m\u001b[0;34m)\u001b[0m\u001b[0;34m\u001b[0m\u001b[0;34m\u001b[0m\u001b[0m\n\u001b[0m\u001b[1;32m    406\u001b[0m     \u001b[0muniques\u001b[0m \u001b[0;34m=\u001b[0m \u001b[0m_reconstruct_data\u001b[0m\u001b[0;34m(\u001b[0m\u001b[0muniques\u001b[0m\u001b[0;34m,\u001b[0m \u001b[0mdtype\u001b[0m\u001b[0;34m,\u001b[0m \u001b[0moriginal\u001b[0m\u001b[0;34m)\u001b[0m\u001b[0;34m\u001b[0m\u001b[0;34m\u001b[0m\u001b[0m\n\u001b[1;32m    407\u001b[0m     \u001b[0;32mreturn\u001b[0m \u001b[0muniques\u001b[0m\u001b[0;34m\u001b[0m\u001b[0;34m\u001b[0m\u001b[0m\n",
      "\u001b[0;32mpandas/_libs/hashtable_class_helper.pxi\u001b[0m in \u001b[0;36mpandas._libs.hashtable.PyObjectHashTable.unique\u001b[0;34m()\u001b[0m\n",
      "\u001b[0;32mpandas/_libs/hashtable_class_helper.pxi\u001b[0m in \u001b[0;36mpandas._libs.hashtable.PyObjectHashTable._unique\u001b[0;34m()\u001b[0m\n",
      "\u001b[0;31mTypeError\u001b[0m: unhashable type: 'list'"
     ]
    }
   ],
   "source": [
    "#predicting training data - selecting max likelihood value\n",
    "Y_train = [[0]*len(coast_train),[1]*len(highway_train),[2]*len(tallbuilding_train),[3]*len(opencountry_train),[4]*len(mountain_train)]\n",
    "X = X_train\n",
    "#ln = len(X)\n",
    "#Y_train = np.array([4]*ln)\n",
    "acc_train = []\n",
    "i = 5\n",
    "gmm0 = gmm_list[0][i]\n",
    "gmm1 = gmm_list[1][i]\n",
    "gmm2 = gmm_list[2][i]\n",
    "gmm3 = gmm_list[3][i]\n",
    "gmm4 = gmm_list[4][i]\n",
    "\n",
    "# Training\n",
    "a = gmm0.indv_log_likelihood(X)\n",
    "b = gmm1.indv_log_likelihood(X)\n",
    "c = gmm2.indv_log_likelihood(X)\n",
    "d = gmm3.indv_log_likelihood(X)\n",
    "e = gmm4.indv_log_likelihood(X)\n",
    "\n",
    "f = np.hstack((a, b, c, d, e))\n",
    "pred = np.argmax(f, axis=1)"
   ]
  },
  {
   "cell_type": "code",
   "execution_count": 183,
   "metadata": {},
   "outputs": [],
   "source": [
    "flat_list = [item for sublist in Y_train for item in sublist]\n",
    "pd.DataFrame(confusion_matrix(pred,flat_list)).to_csv(\"conf_train_2a.csv\")"
   ]
  },
  {
   "cell_type": "code",
   "execution_count": 193,
   "metadata": {},
   "outputs": [],
   "source": [
    "X_test = coast_test \n",
    "X_test  = X_test.append([highway_test,tallbuilding_test,opencountry_test,mountain_test])\n",
    "Y_test = [[0]*len(coast_test),[1]*len(highway_test),[2]*len(tallbuilding_test),[3]*len(opencountry_test),[4]*len(mountain_test)]"
   ]
  },
  {
   "cell_type": "code",
   "execution_count": 194,
   "metadata": {},
   "outputs": [],
   "source": [
    "X = X_test\n",
    "i = 5\n",
    "gmm0 = gmm_list[0][i]\n",
    "gmm1 = gmm_list[1][i]\n",
    "gmm2 = gmm_list[2][i]\n",
    "gmm3 = gmm_list[3][i]\n",
    "gmm4 = gmm_list[4][i]\n",
    "\n",
    "# Training\n",
    "a = gmm0.indv_log_likelihood(X)\n",
    "b = gmm1.indv_log_likelihood(X)\n",
    "c = gmm2.indv_log_likelihood(X)\n",
    "d = gmm3.indv_log_likelihood(X)\n",
    "e = gmm4.indv_log_likelihood(X)\n",
    "\n",
    "f = np.hstack((a, b, c, d, e))\n",
    "pred = np.argmax(f, axis=1)\n"
   ]
  },
  {
   "cell_type": "code",
   "execution_count": 195,
   "metadata": {},
   "outputs": [],
   "source": [
    "flat_list = [item for sublist in Y_test for item in sublist]\n",
    "pd.DataFrame(confusion_matrix(pred,flat_list)).to_csv(\"conf_test_2a.csv\")"
   ]
  },
  {
   "cell_type": "code",
   "execution_count": 7,
   "metadata": {},
   "outputs": [],
   "source": [
    "conf_train = pd.read_csv(\"conf_train_2a.csv\",index_col = 0)\n",
    "conf_test = pd.read_csv(\"conf_test_2a.csv\",index_col = 0)"
   ]
  },
  {
   "cell_type": "code",
   "execution_count": 13,
   "metadata": {},
   "outputs": [
    {
     "data": {
      "image/png": "[encoded data removed]",
      "text/plain": [
       "<Figure size 576x432 with 2 Axes>"
      ]
     },
     "metadata": {
      "needs_background": "light"
     },
     "output_type": "display_data"
    }
   ],
   "source": [
    "plt.figure()\n",
    "sns.heatmap(conf_train, annot=True)\n",
    "plt.title(\"Training Confusion Matrix\")\n",
    "plt.xlabel(\"Predicted Class\")\n",
    "plt.ylabel(\"Actual Class\")\n",
    "plt.savefig(\"conf_train2a.png\")\n",
    "plt.show()"
   ]
  },
  {
   "cell_type": "code",
   "execution_count": 12,
   "metadata": {},
   "outputs": [
    {
     "data": {
      "image/png": "[encoded data removed]",
      "text/plain": [
       "<Figure size 576x432 with 2 Axes>"
      ]
     },
     "metadata": {
      "needs_background": "light"
     },
     "output_type": "display_data"
    }
   ],
   "source": [
    "plt.figure()\n",
    "sns.heatmap(conf_test, annot=True)\n",
    "plt.title(\"Test Confusion Matrix\")\n",
    "plt.xlabel(\"Predicted Class\")\n",
    "plt.ylabel(\"Actual Class\")\n",
    "plt.savefig(\"conf_test2a.png\")\n",
    "plt.show()"
   ]
  },
  {
   "cell_type": "code",
   "execution_count": null,
   "metadata": {},
   "outputs": [],
   "source": []
  }
 ],
 "metadata": {
  "kernelspec": {
   "display_name": "Python 3",
   "language": "python",
   "name": "python3"
  },
  "language_info": {
   "codemirror_mode": {
    "name": "ipython",
    "version": 3
   },
   "file_extension": ".py",
   "mimetype": "text/x-python",
   "name": "python",
   "nbconvert_exporter": "python",
   "pygments_lexer": "ipython3",
   "version": "3.8.5"
  }
 },
 "nbformat": 4,
 "nbformat_minor": 4
}