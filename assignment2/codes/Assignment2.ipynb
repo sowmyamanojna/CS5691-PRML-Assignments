{
 "cells": [
  {
   "cell_type": "code",
   "execution_count": 1,
   "metadata": {},
   "outputs": [],
   "source": [
    "import numpy as np\n",
    "import pandas as pd\n",
    "import matplotlib.pyplot as plt"
   ]
  },
  {
   "cell_type": "code",
   "execution_count": 2,
   "metadata": {},
   "outputs": [],
   "source": [
    "import pickle"
   ]
  },
  {
   "cell_type": "code",
   "execution_count": 3,
   "metadata": {},
   "outputs": [],
   "source": [
    "plt.style.use('science')\n",
    "plt.rcParams['font.size'] = 18\n",
    "plt.rcParams['axes.grid'] = True\n",
    "plt.rcParams[\"grid.linestyle\"] = (5,9)\n",
    "plt.rcParams['figure.figsize'] = 8,6"
   ]
  },
  {
   "cell_type": "code",
   "execution_count": 4,
   "metadata": {},
   "outputs": [],
   "source": [
    "import statistics as sts\n",
    "from sklearn.model_selection import train_test_split"
   ]
  },
  {
   "cell_type": "code",
   "execution_count": 5,
   "metadata": {},
   "outputs": [],
   "source": [
    "from sklearn.cluster import KMeans"
   ]
  },
  {
   "cell_type": "code",
   "execution_count": 6,
   "metadata": {},
   "outputs": [],
   "source": [
    "from separate_class import Separate"
   ]
  },
  {
   "cell_type": "code",
   "execution_count": 7,
   "metadata": {},
   "outputs": [],
   "source": [
    "ds2_train = pd.read_csv(\"train2.csv\", header = None)"
   ]
  },
  {
   "cell_type": "code",
   "execution_count": 8,
   "metadata": {},
   "outputs": [],
   "source": [
    "ds2_test = pd.read_csv(\"dev2.csv\", header = None)"
   ]
  },
  {
   "cell_type": "code",
   "execution_count": 5,
   "metadata": {
    "collapsed": true
   },
   "outputs": [
    {
     "data": {
      "text/html": [
       "<div>\n",
       "<style scoped>\n",
       "    .dataframe tbody tr th:only-of-type {\n",
       "        vertical-align: middle;\n",
       "    }\n",
       "\n",
       "    .dataframe tbody tr th {\n",
       "        vertical-align: top;\n",
       "    }\n",
       "\n",
       "    .dataframe thead th {\n",
       "        text-align: right;\n",
       "    }\n",
       "</style>\n",
       "<table border=\"1\" class=\"dataframe\">\n",
       "  <thead>\n",
       "    <tr style=\"text-align: right;\">\n",
       "      <th></th>\n",
       "      <th>0</th>\n",
       "      <th>1</th>\n",
       "      <th>2</th>\n",
       "    </tr>\n",
       "  </thead>\n",
       "  <tbody>\n",
       "    <tr>\n",
       "      <th>0</th>\n",
       "      <td>0.537115</td>\n",
       "      <td>0.452538</td>\n",
       "      <td>0.0</td>\n",
       "    </tr>\n",
       "    <tr>\n",
       "      <th>1</th>\n",
       "      <td>0.380729</td>\n",
       "      <td>0.371252</td>\n",
       "      <td>0.0</td>\n",
       "    </tr>\n",
       "    <tr>\n",
       "      <th>2</th>\n",
       "      <td>0.551707</td>\n",
       "      <td>0.496879</td>\n",
       "      <td>0.0</td>\n",
       "    </tr>\n",
       "    <tr>\n",
       "      <th>3</th>\n",
       "      <td>0.128153</td>\n",
       "      <td>0.337706</td>\n",
       "      <td>0.0</td>\n",
       "    </tr>\n",
       "    <tr>\n",
       "      <th>4</th>\n",
       "      <td>-0.893600</td>\n",
       "      <td>-2.493547</td>\n",
       "      <td>0.0</td>\n",
       "    </tr>\n",
       "  </tbody>\n",
       "</table>\n",
       "</div>"
      ],
      "text/plain": [
       "          0         1    2\n",
       "0  0.537115  0.452538  0.0\n",
       "1  0.380729  0.371252  0.0\n",
       "2  0.551707  0.496879  0.0\n",
       "3  0.128153  0.337706  0.0\n",
       "4 -0.893600 -2.493547  0.0"
      ]
     },
     "execution_count": 5,
     "metadata": {},
     "output_type": "execute_result"
    }
   ],
   "source": [
    "ds2_train.head()"
   ]
  },
  {
   "cell_type": "code",
   "execution_count": 6,
   "metadata": {
    "collapsed": true
   },
   "outputs": [
    {
     "data": {
      "text/html": [
       "<div>\n",
       "<style scoped>\n",
       "    .dataframe tbody tr th:only-of-type {\n",
       "        vertical-align: middle;\n",
       "    }\n",
       "\n",
       "    .dataframe tbody tr th {\n",
       "        vertical-align: top;\n",
       "    }\n",
       "\n",
       "    .dataframe thead th {\n",
       "        text-align: right;\n",
       "    }\n",
       "</style>\n",
       "<table border=\"1\" class=\"dataframe\">\n",
       "  <thead>\n",
       "    <tr style=\"text-align: right;\">\n",
       "      <th></th>\n",
       "      <th>0</th>\n",
       "      <th>1</th>\n",
       "      <th>2</th>\n",
       "    </tr>\n",
       "  </thead>\n",
       "  <tbody>\n",
       "    <tr>\n",
       "      <th>0</th>\n",
       "      <td>0.438052</td>\n",
       "      <td>-2.337230</td>\n",
       "      <td>0.0</td>\n",
       "    </tr>\n",
       "    <tr>\n",
       "      <th>1</th>\n",
       "      <td>1.229295</td>\n",
       "      <td>0.295078</td>\n",
       "      <td>0.0</td>\n",
       "    </tr>\n",
       "    <tr>\n",
       "      <th>2</th>\n",
       "      <td>1.586945</td>\n",
       "      <td>-0.242402</td>\n",
       "      <td>0.0</td>\n",
       "    </tr>\n",
       "    <tr>\n",
       "      <th>3</th>\n",
       "      <td>-1.047739</td>\n",
       "      <td>-2.606678</td>\n",
       "      <td>0.0</td>\n",
       "    </tr>\n",
       "    <tr>\n",
       "      <th>4</th>\n",
       "      <td>0.993552</td>\n",
       "      <td>0.350345</td>\n",
       "      <td>0.0</td>\n",
       "    </tr>\n",
       "  </tbody>\n",
       "</table>\n",
       "</div>"
      ],
      "text/plain": [
       "          0         1    2\n",
       "0  0.438052 -2.337230  0.0\n",
       "1  1.229295  0.295078  0.0\n",
       "2  1.586945 -0.242402  0.0\n",
       "3 -1.047739 -2.606678  0.0\n",
       "4  0.993552  0.350345  0.0"
      ]
     },
     "execution_count": 6,
     "metadata": {},
     "output_type": "execute_result"
    }
   ],
   "source": [
    "ds2_test.head()"
   ]
  },
  {
   "cell_type": "code",
   "execution_count": 7,
   "metadata": {
    "collapsed": true
   },
   "outputs": [
    {
     "data": {
      "text/html": [
       "<div>\n",
       "<style scoped>\n",
       "    .dataframe tbody tr th:only-of-type {\n",
       "        vertical-align: middle;\n",
       "    }\n",
       "\n",
       "    .dataframe tbody tr th {\n",
       "        vertical-align: top;\n",
       "    }\n",
       "\n",
       "    .dataframe thead th {\n",
       "        text-align: right;\n",
       "    }\n",
       "</style>\n",
       "<table border=\"1\" class=\"dataframe\">\n",
       "  <thead>\n",
       "    <tr style=\"text-align: right;\">\n",
       "      <th></th>\n",
       "      <th>0</th>\n",
       "      <th>1</th>\n",
       "      <th>2</th>\n",
       "    </tr>\n",
       "  </thead>\n",
       "  <tbody>\n",
       "    <tr>\n",
       "      <th>count</th>\n",
       "      <td>600.000000</td>\n",
       "      <td>600.000000</td>\n",
       "      <td>600.000000</td>\n",
       "    </tr>\n",
       "    <tr>\n",
       "      <th>mean</th>\n",
       "      <td>-0.042402</td>\n",
       "      <td>-0.091633</td>\n",
       "      <td>1.000000</td>\n",
       "    </tr>\n",
       "    <tr>\n",
       "      <th>std</th>\n",
       "      <td>1.233388</td>\n",
       "      <td>1.210003</td>\n",
       "      <td>0.817178</td>\n",
       "    </tr>\n",
       "    <tr>\n",
       "      <th>min</th>\n",
       "      <td>-2.616755</td>\n",
       "      <td>-2.691837</td>\n",
       "      <td>0.000000</td>\n",
       "    </tr>\n",
       "    <tr>\n",
       "      <th>25%</th>\n",
       "      <td>-0.759021</td>\n",
       "      <td>-0.913126</td>\n",
       "      <td>0.000000</td>\n",
       "    </tr>\n",
       "    <tr>\n",
       "      <th>50%</th>\n",
       "      <td>0.023447</td>\n",
       "      <td>-0.027872</td>\n",
       "      <td>1.000000</td>\n",
       "    </tr>\n",
       "    <tr>\n",
       "      <th>75%</th>\n",
       "      <td>0.722100</td>\n",
       "      <td>0.533472</td>\n",
       "      <td>2.000000</td>\n",
       "    </tr>\n",
       "    <tr>\n",
       "      <th>max</th>\n",
       "      <td>2.962532</td>\n",
       "      <td>2.914333</td>\n",
       "      <td>2.000000</td>\n",
       "    </tr>\n",
       "  </tbody>\n",
       "</table>\n",
       "</div>"
      ],
      "text/plain": [
       "                0           1           2\n",
       "count  600.000000  600.000000  600.000000\n",
       "mean    -0.042402   -0.091633    1.000000\n",
       "std      1.233388    1.210003    0.817178\n",
       "min     -2.616755   -2.691837    0.000000\n",
       "25%     -0.759021   -0.913126    0.000000\n",
       "50%      0.023447   -0.027872    1.000000\n",
       "75%      0.722100    0.533472    2.000000\n",
       "max      2.962532    2.914333    2.000000"
      ]
     },
     "execution_count": 7,
     "metadata": {},
     "output_type": "execute_result"
    }
   ],
   "source": [
    "ds2_train.describe()"
   ]
  },
  {
   "cell_type": "code",
   "execution_count": 8,
   "metadata": {
    "collapsed": true
   },
   "outputs": [
    {
     "data": {
      "text/html": [
       "<div>\n",
       "<style scoped>\n",
       "    .dataframe tbody tr th:only-of-type {\n",
       "        vertical-align: middle;\n",
       "    }\n",
       "\n",
       "    .dataframe tbody tr th {\n",
       "        vertical-align: top;\n",
       "    }\n",
       "\n",
       "    .dataframe thead th {\n",
       "        text-align: right;\n",
       "    }\n",
       "</style>\n",
       "<table border=\"1\" class=\"dataframe\">\n",
       "  <thead>\n",
       "    <tr style=\"text-align: right;\">\n",
       "      <th></th>\n",
       "      <th>0</th>\n",
       "      <th>1</th>\n",
       "      <th>2</th>\n",
       "    </tr>\n",
       "  </thead>\n",
       "  <tbody>\n",
       "    <tr>\n",
       "      <th>count</th>\n",
       "      <td>90.000000</td>\n",
       "      <td>90.000000</td>\n",
       "      <td>90.000000</td>\n",
       "    </tr>\n",
       "    <tr>\n",
       "      <th>mean</th>\n",
       "      <td>0.035789</td>\n",
       "      <td>-0.059239</td>\n",
       "      <td>1.000000</td>\n",
       "    </tr>\n",
       "    <tr>\n",
       "      <th>std</th>\n",
       "      <td>1.400120</td>\n",
       "      <td>1.282555</td>\n",
       "      <td>0.821071</td>\n",
       "    </tr>\n",
       "    <tr>\n",
       "      <th>min</th>\n",
       "      <td>-2.664174</td>\n",
       "      <td>-2.743262</td>\n",
       "      <td>0.000000</td>\n",
       "    </tr>\n",
       "    <tr>\n",
       "      <th>25%</th>\n",
       "      <td>-0.904883</td>\n",
       "      <td>-1.027395</td>\n",
       "      <td>0.000000</td>\n",
       "    </tr>\n",
       "    <tr>\n",
       "      <th>50%</th>\n",
       "      <td>0.123987</td>\n",
       "      <td>-0.039386</td>\n",
       "      <td>1.000000</td>\n",
       "    </tr>\n",
       "    <tr>\n",
       "      <th>75%</th>\n",
       "      <td>1.030963</td>\n",
       "      <td>0.842043</td>\n",
       "      <td>2.000000</td>\n",
       "    </tr>\n",
       "    <tr>\n",
       "      <th>max</th>\n",
       "      <td>2.948352</td>\n",
       "      <td>2.626817</td>\n",
       "      <td>2.000000</td>\n",
       "    </tr>\n",
       "  </tbody>\n",
       "</table>\n",
       "</div>"
      ],
      "text/plain": [
       "               0          1          2\n",
       "count  90.000000  90.000000  90.000000\n",
       "mean    0.035789  -0.059239   1.000000\n",
       "std     1.400120   1.282555   0.821071\n",
       "min    -2.664174  -2.743262   0.000000\n",
       "25%    -0.904883  -1.027395   0.000000\n",
       "50%     0.123987  -0.039386   1.000000\n",
       "75%     1.030963   0.842043   2.000000\n",
       "max     2.948352   2.626817   2.000000"
      ]
     },
     "execution_count": 8,
     "metadata": {},
     "output_type": "execute_result"
    }
   ],
   "source": [
    "ds2_test.describe()"
   ]
  },
  {
   "cell_type": "code",
   "execution_count": 8,
   "metadata": {},
   "outputs": [],
   "source": [
    "X_train = ds2_train.iloc[:,:2]\n",
    "Y_train = ds2_train.iloc[:,2]"
   ]
  },
  {
   "cell_type": "code",
   "execution_count": 9,
   "metadata": {},
   "outputs": [],
   "source": [
    "def gaus(x,m,c,d):\n",
    "    return((1/(((2*np.pi)**(d/2))*np.sqrt(np.linalg.det(c))))*np.exp(-(x-m).T@np.linalg.inv(c)@(x-m)/2))"
   ]
  },
  {
   "cell_type": "code",
   "execution_count": 10,
   "metadata": {},
   "outputs": [],
   "source": [
    "sep_train = Separate(ds2_train)"
   ]
  },
  {
   "cell_type": "code",
   "execution_count": 12,
   "metadata": {},
   "outputs": [],
   "source": [
    "X_sep_train = sep_train.get_x()\n",
    "Y_sep_train = sep_train.get_y()\n",
    "dat_sep_train = sep_train.get_separated_data()"
   ]
  },
  {
   "cell_type": "code",
   "execution_count": 14,
   "metadata": {},
   "outputs": [],
   "source": [
    "pd.DataFrame(X_sep_train[0]).to_csv(\"X_sep_train.csv\")"
   ]
  },
  {
   "cell_type": "code",
   "execution_count": 13,
   "metadata": {},
   "outputs": [],
   "source": [
    "def likelihood(x,m,W,c):\n",
    "    s = 0\n",
    "    m = np.array(m)\n",
    "    l = len(W)\n",
    "    for i in range(l):\n",
    "        s += W[i]*gaus(x,m[i],c[i],d)\n",
    "    return(s)"
   ]
  },
  {
   "cell_type": "code",
   "execution_count": 14,
   "metadata": {},
   "outputs": [],
   "source": [
    "import time"
   ]
  },
  {
   "cell_type": "code",
   "execution_count": 15,
   "metadata": {},
   "outputs": [],
   "source": [
    "from multiprocessing import Pool"
   ]
  },
  {
   "cell_type": "code",
   "execution_count": 30,
   "metadata": {},
   "outputs": [],
   "source": [
    "class_ = 2\n",
    "d = 2\n",
    "threshold = 0.01"
   ]
  },
  {
   "cell_type": "code",
   "execution_count": 31,
   "metadata": {},
   "outputs": [],
   "source": [
    "# parameter estimation for Bayesian GMM - EM method\n",
    "# training and obtaining parameters for different hperparameter values\n",
    "\n",
    "\n",
    "#for Q in q:\n",
    "def f(Q):\n",
    "    L_old = 0\n",
    "    L_new = 1\n",
    "    L = []\n",
    "    difference = L_new - L_old\n",
    "    cond = True\n",
    "    # inititalization\n",
    "    while (cond==True):\n",
    "        kmeans = KMeans(n_clusters = Q, random_state = 0).fit(X_sep_train[class_])\n",
    "        labels = kmeans.labels_\n",
    "        N = np.array([])\n",
    "        for i in range(Q):\n",
    "            N = np.append(N,np.count_nonzero(labels==i))\n",
    "        cond = True in (ele ==1 for ele in N)\n",
    "\n",
    "    Nt = np.sum(N)\n",
    "    w = N/Nt\n",
    "    gamma = []\n",
    "    for i in range(Q):\n",
    "        gamma.append(np.multiply(labels==i,1))\n",
    "    mu = kmeans.cluster_centers_\n",
    "    n = len(X_sep_train[0])\n",
    "    C = np.zeros((Q,d,d))\n",
    "    for i in range(Q):\n",
    "        for j in range(n):\n",
    "            C[i] += gamma[i][j]*np.outer(X_sep_train[class_].iloc[j] - mu[i],X_sep_train[class_].iloc[j] - mu[i])\n",
    "        C[i] = np.diag(np.diag(C[i]/N[i]))\n",
    "\n",
    "    L_old = 0\n",
    "    for i in range(n):\n",
    "        L_old += np.log(likelihood(X_sep_train[class_].iloc[i],mu,w,C))\n",
    "    \n",
    "    while (difference > threshold):\n",
    "        \n",
    "\n",
    "        #Expectation\n",
    "        den = np.zeros(n)\n",
    "        for i in range(n):\n",
    "            for j in range(Q):\n",
    "                den[i] += w[j]*gaus(X_sep_train[class_].iloc[i],np.array(mu)[j],C[j],d)\n",
    "\n",
    "        gamma = np.zeros((Q,n))\n",
    "        for i in range(n):\n",
    "            for j in range(Q):\n",
    "                gamma[j][i] = w[j]*gaus(X_sep_train[class_].iloc[i], np.array(mu)[j], C[j],d)/den[i]\n",
    "\n",
    "        # maximization step\n",
    "        N = []\n",
    "        for i in range(Q):\n",
    "            N.append(np.sum(gamma[i]))\n",
    "        Nt = np.sum(N)\n",
    "        w = N/Nt\n",
    "        mu = np.divide(gamma@X_sep_train[class_],np.array([N,N]).T)\n",
    "        C = np.zeros((Q,d,d))\n",
    "        for i in range(Q):\n",
    "            for j in range(n):\n",
    "                C[i] += gamma[i][j]*np.outer(X_sep_train[class_].iloc[j] - mu.iloc[i],X_sep_train[class_].iloc[j] - mu.iloc[i])\n",
    "            C[i] = np.diag(np.diag(C[i]/N[i]))\n",
    "\n",
    "        L_new = 0\n",
    "        for i in range(n):\n",
    "            L_new += np.log(likelihood(X_sep_train[class_].iloc[i],mu.to_numpy(),w,C))\n",
    "        #print(L_new,L_old)\n",
    "        difference = L_new - L_old\n",
    "        L_old = L_new\n",
    "        L.append(L_new)\n",
    "    return([mu,w,C,L])\n",
    "    #L_q.append(L)\n",
    "    #add accuracy and confusion matrix"
   ]
  },
  {
   "cell_type": "code",
   "execution_count": 32,
   "metadata": {},
   "outputs": [],
   "source": [
    "pool = Pool(processes=4)"
   ]
  },
  {
   "cell_type": "code",
   "execution_count": 19,
   "metadata": {},
   "outputs": [],
   "source": [
    "q = list(range(2,10))"
   ]
  },
  {
   "cell_type": "code",
   "execution_count": 33,
   "metadata": {},
   "outputs": [],
   "source": [
    "t1 = time.time()\n",
    "params = pool.map(f,q)\n",
    "t2 = time.time()"
   ]
  },
  {
   "cell_type": "code",
   "execution_count": 21,
   "metadata": {},
   "outputs": [],
   "source": [
    "dbfile = open(\"class2_1b\",'ab')\n",
    "pickle.dump(class_2_param,dbfile)\n",
    "dbfile.close()"
   ]
  },
  {
   "cell_type": "code",
   "execution_count": 18,
   "metadata": {},
   "outputs": [],
   "source": [
    "dbfile = open(\"class0_1b\",'rb')\n",
    "class_0_param = pickle.load(dbfile)\n",
    "dbfile.close()"
   ]
  },
  {
   "cell_type": "code",
   "execution_count": null,
   "metadata": {},
   "outputs": [],
   "source": [
    "dbfile = open(\"class1_1b\",'rb')\n",
    "class_1_param = pickle.load(dbfile)\n",
    "dbfile.close()"
   ]
  },
  {
   "cell_type": "code",
   "execution_count": null,
   "metadata": {},
   "outputs": [],
   "source": [
    "dbfile = open(\"class2_1b\",'rb')\n",
    "class_2_param = pickle.load(dbfile)\n",
    "dbfile.close()"
   ]
  },
  {
   "cell_type": "code",
   "execution_count": 86,
   "metadata": {},
   "outputs": [],
   "source": [
    "class_val = 2\n",
    "idx = 2\n",
    "q_val = 1"
   ]
  },
  {
   "cell_type": "code",
   "execution_count": 91,
   "metadata": {},
   "outputs": [
    {
     "name": "stdout",
     "output_type": "stream",
     "text": [
      "5.7590949254497044e-05\n",
      "0.0007146275862570975\n",
      "0.14380201738510068\n"
     ]
    }
   ],
   "source": [
    "print(likelihood(X_sep_train[class_val].iloc[idx],class_0_param[q_val][0],class_0_param[q_val][1],class_0_param[q_val][2]))\n",
    "print(likelihood(X_sep_train[class_val].iloc[idx],class_1_param[q_val][0],class_1_param[q_val][1],class_1_param[q_val][2]))\n",
    "print(likelihood(X_sep_train[class_val].iloc[idx],class_2_param[q_val][0],class_2_param[q_val][1],class_2_param[q_val][2]))"
   ]
  },
  {
   "cell_type": "code",
   "execution_count": 96,
   "metadata": {},
   "outputs": [],
   "source": [
    "parameters = [class_0_param,class_1_param, class_2_param]"
   ]
  },
  {
   "cell_type": "code",
   "execution_count": 104,
   "metadata": {},
   "outputs": [],
   "source": [
    "featvec_length = sep_train.feat_length"
   ]
  },
  {
   "cell_type": "code",
   "execution_count": 129,
   "metadata": {},
   "outputs": [],
   "source": [
    "import accuracy"
   ]
  },
  {
   "cell_type": "code",
   "execution_count": 151,
   "metadata": {},
   "outputs": [],
   "source": [
    "#predicting training data - selecting max likelihood value\n",
    "\n",
    "acc_train = []\n",
    "for Q in range(len(q)):\n",
    "    y_Pred = []\n",
    "    for i in range(600):\n",
    "        lst = []\n",
    "        for j in range(featvec_length+1):\n",
    "            lst.append(likelihood(X_train.iloc[i],parameters[j][Q][0],parameters[j][Q][1],parameters[j][Q][2]))\n",
    "        y_Pred.append(lst.index(max(lst)))\n",
    "        #print(y_Pred[i])\n",
    "    acc_calc = accuracy.Confusion_matrix(y_Pred,Y_train)\n",
    "    acc_train.append(acc_calc.accuracy)\n"
   ]
  },
  {
   "cell_type": "code",
   "execution_count": 153,
   "metadata": {},
   "outputs": [
    {
     "data": {
      "text/plain": [
       "[<matplotlib.lines.Line2D at 0x7f6891ef8550>]"
      ]
     },
     "execution_count": 153,
     "metadata": {},
     "output_type": "execute_result"
    },
    {
     "data": {
      "image/png": "[encoded data removed]",
      "text/plain": [
       "<Figure size 576x432 with 1 Axes>"
      ]
     },
     "metadata": {
      "needs_background": "light"
     },
     "output_type": "display_data"
    }
   ],
   "source": [
    "plt.plot(acc_train)"
   ]
  },
  {
   "cell_type": "code",
   "execution_count": 160,
   "metadata": {},
   "outputs": [],
   "source": [
    "ds2_test = pd.read_csv(\"dev2.csv\", header = None)"
   ]
  },
  {
   "cell_type": "code",
   "execution_count": 164,
   "metadata": {},
   "outputs": [],
   "source": [
    "X_cv,X_test,y_cv,y_test = train_test_split(ds2_test.iloc[:,:2],ds2_test.iloc[:,2], test_size=0.3, random_state=0)"
   ]
  },
  {
   "cell_type": "code",
   "execution_count": 169,
   "metadata": {},
   "outputs": [],
   "source": [
    "acc_cv = []\n",
    "for Q in range(len(q)):\n",
    "    y_Pred = []\n",
    "    for i in range(len(X_cv)):\n",
    "        lst = []\n",
    "        for j in range(featvec_length+1):\n",
    "            lst.append(likelihood(X_cv.iloc[i],parameters[j][Q][0],parameters[j][Q][1],parameters[j][Q][2]))\n",
    "        y_Pred.append(lst.index(max(lst)))\n",
    "        #print(y_Pred[i])\n",
    "    acc_calc = accuracy.Confusion_matrix(y_Pred,y_cv)\n",
    "    acc_cv.append(acc_calc.accuracy)\n"
   ]
  },
  {
   "cell_type": "code",
   "execution_count": 170,
   "metadata": {},
   "outputs": [
    {
     "data": {
      "text/plain": [
       "[<matplotlib.lines.Line2D at 0x7f6891e39d60>]"
      ]
     },
     "execution_count": 170,
     "metadata": {},
     "output_type": "execute_result"
    },
    {
     "data": {
      "image/png": "[encoded data removed]",
      "text/plain": [
       "<Figure size 576x432 with 1 Axes>"
      ]
     },
     "metadata": {
      "needs_background": "light"
     },
     "output_type": "display_data"
    }
   ],
   "source": [
    "plt.plot(acc_cv)"
   ]
  },
  {
   "cell_type": "code",
   "execution_count": 173,
   "metadata": {},
   "outputs": [
    {
     "data": {
      "text/plain": [
       "3"
      ]
     },
     "execution_count": 173,
     "metadata": {},
     "output_type": "execute_result"
    }
   ],
   "source": [
    "acc_cv.index(max(acc_cv))"
   ]
  },
  {
   "cell_type": "code",
   "execution_count": 174,
   "metadata": {},
   "outputs": [
    {
     "data": {
      "text/plain": [
       "5"
      ]
     },
     "execution_count": 174,
     "metadata": {},
     "output_type": "execute_result"
    }
   ],
   "source": [
    "q[3]"
   ]
  },
  {
   "cell_type": "code",
   "execution_count": 176,
   "metadata": {},
   "outputs": [
    {
     "data": {
      "text/plain": [
       "3"
      ]
     },
     "execution_count": 176,
     "metadata": {},
     "output_type": "execute_result"
    }
   ],
   "source": [
    "acc_train.index(max(acc_train))"
   ]
  },
  {
   "cell_type": "code",
   "execution_count": 178,
   "metadata": {},
   "outputs": [],
   "source": [
    "# best model, q = 5\n",
    "Q = 3\n",
    "y_Pred = []\n",
    "for i in range(len(X_test)):\n",
    "    lst = []\n",
    "    for j in range(featvec_length+1):\n",
    "        lst.append(likelihood(X_test.iloc[i],parameters[j][Q][0],parameters[j][Q][1],parameters[j][Q][2]))\n",
    "    y_Pred.append(lst.index(max(lst)))\n",
    "    #print(y_Pred[i])\n",
    "acc_calc = accuracy.Confusion_matrix(y_Pred,y_test)\n",
    "acc_test = acc_calc.accuracy\n"
   ]
  },
  {
   "cell_type": "code",
   "execution_count": 204,
   "metadata": {},
   "outputs": [],
   "source": [
    "YPredTrain = []\n",
    "for i in range(len(X_train)):\n",
    "    lst = []\n",
    "    for j in range(featvec_length+1):\n",
    "        lst.append(likelihood(X_train.iloc[i],parameters[j][Q][0],parameters[j][Q][1],parameters[j][Q][2]))\n",
    "    YPredTrain.append(lst.index(max(lst)))"
   ]
  },
  {
   "cell_type": "code",
   "execution_count": 207,
   "metadata": {},
   "outputs": [],
   "source": [
    "YPredCV = []\n",
    "for i in range(len(X_cv)):\n",
    "    lst = []\n",
    "    for j in range(featvec_length+1):\n",
    "        lst.append(likelihood(X_cv.iloc[i],parameters[j][Q][0],parameters[j][Q][1],parameters[j][Q][2]))\n",
    "    YPredCV.append(lst.index(max(lst)))\n",
    "    \n",
    "YPredTest = []\n",
    "for i in range(len(X_test)):\n",
    "    lst = []\n",
    "    for j in range(featvec_length+1):\n",
    "        lst.append(likelihood(X_test.iloc[i],parameters[j][Q][0],parameters[j][Q][1],parameters[j][Q][2]))\n",
    "    YPredTest.append(lst.index(max(lst)))"
   ]
  },
  {
   "cell_type": "code",
   "execution_count": 194,
   "metadata": {},
   "outputs": [
    {
     "data": {
      "image/png": "[encoded data removed]",
      "text/plain": [
       "<Figure size 576x432 with 1 Axes>"
      ]
     },
     "metadata": {
      "needs_background": "light"
     },
     "output_type": "display_data"
    }
   ],
   "source": [
    "for class_val in range(3):\n",
    "    row_idx = np.where(ds2_train.iloc[:,featvec_length]==class_val)\n",
    "    plt.scatter(np.array(ds2_train)[row_idx,0],np.array(ds2_train)[row_idx,1])\n",
    "plt.show()"
   ]
  },
  {
   "cell_type": "code",
   "execution_count": 214,
   "metadata": {},
   "outputs": [],
   "source": [
    "min_x1 = min(X_train[0])\n",
    "max_x1 = max(X_train[0])\n",
    "min_x2 = min(X_train[1])\n",
    "max_x2 = max(X_train[1])\n",
    "\n",
    "x1_range = np.linspace(min_x1,max_x1)\n",
    "x2_range = np.linspace(min_x2,max_x2)\n",
    "\n",
    "X1,X2 = np.meshgrid(x1_range,x2_range)\n",
    "\n",
    "x1,x2 = X1.flatten(),X2.flatten()\n",
    "x1,x2 = x1.reshape(len(x1),1),x2.reshape(len(x2),1)\n",
    "grid = np.hstack((x1,x2))"
   ]
  },
  {
   "cell_type": "code",
   "execution_count": 217,
   "metadata": {},
   "outputs": [],
   "source": [
    "yGridPred = []\n",
    "for i in range(len(grid)):\n",
    "    lst = []\n",
    "    for j in range(3):\n",
    "        lst.append(likelihood(grid[i],parameters[j][Q][0],parameters[j][Q][1],parameters[j][Q][2]))\n",
    "    yGridPred.append(lst.index(max(lst)))\n",
    "yGridPred = np.array(yGridPred).reshape(X1.shape)"
   ]
  },
  {
   "cell_type": "code",
   "execution_count": 225,
   "metadata": {},
   "outputs": [
    {
     "data": {
      "image/png": "[encoded data removed]",
      "text/plain": [
       "<Figure size 576x432 with 1 Axes>"
      ]
     },
     "metadata": {
      "needs_background": "light"
     },
     "output_type": "display_data"
    }
   ],
   "source": [
    "plt.contourf(X1,X2,yGridPred)\n",
    "for class_val in range(3):\n",
    "    row_idx = np.where(ds2_train.iloc[:,featvec_length]==class_val)\n",
    "    plt.scatter(np.array(ds2_train)[row_idx,0],np.array(ds2_train)[row_idx,1],label = \"Class \"+ str(class_val))\n",
    "plt.legend(bbox_to_anchor=(1.05, 1), loc='upper left')\n",
    "plt.xlabel(\"X1\")\n",
    "plt.ylabel(\"X2\")\n",
    "plt.title(\"Decision region plot with training data superposed\")\n",
    "plt.savefig(\"decisionReg_ds2.png\")\n",
    "plt.show()"
   ]
  },
  {
   "cell_type": "code",
   "execution_count": 226,
   "metadata": {},
   "outputs": [
    {
     "data": {
      "text/plain": [
       "<matplotlib.contour.QuadContourSet at 0x7f687932bf40>"
      ]
     },
     "execution_count": 226,
     "metadata": {},
     "output_type": "execute_result"
    },
    {
     "data": {
      "image/png": "[encoded data removed]",
      "text/plain": [
       "<Figure size 576x432 with 1 Axes>"
      ]
     },
     "metadata": {
      "needs_background": "light"
     },
     "output_type": "display_data"
    }
   ],
   "source": [
    "plt.contour(X1,X2,yGridPred)"
   ]
  },
  {
   "cell_type": "code",
   "execution_count": null,
   "metadata": {},
   "outputs": [],
   "source": []
  }
 ],
 "metadata": {
  "kernelspec": {
   "display_name": "Python 3",
   "language": "python",
   "name": "python3"
  },
  "language_info": {
   "codemirror_mode": {
    "name": "ipython",
    "version": 3
   },
   "file_extension": ".py",
   "mimetype": "text/x-python",
   "name": "python",
   "nbconvert_exporter": "python",
   "pygments_lexer": "ipython3",
   "version": "3.8.5"
  }
 },
 "nbformat": 4,
 "nbformat_minor": 4
}
