{
 "cells": [
  {
   "source": [
    "## Import essential libraries"
   ],
   "cell_type": "markdown",
   "metadata": {}
  },
  {
   "cell_type": "code",
   "execution_count": 1,
   "metadata": {},
   "outputs": [],
   "source": [
    "import time\n",
    "import pickle\n",
    "from gmm import *\n",
    "import numpy as np\n",
    "import pandas as pd\n",
    "from tqdm import tqdm_notebook\n",
    "import matplotlib.pyplot as plt\n",
    "from multiprocessing import Pool\n",
    "from collections import defaultdict\n",
    "from scipy.stats import multivariate_normal as mvn\n",
    "from sklearn.model_selection import train_test_split\n",
    "\n",
    "plt.rcParams[\"font.size\"] = 18\n",
    "plt.rcParams[\"axes.grid\"] = True\n",
    "plt.rcParams[\"figure.figsize\"] = 8,6\n",
    "plt.rcParams['font.serif'] = \"Cambria\"\n",
    "plt.rcParams['font.family'] = \"serif\"\n",
    "\n",
    "%load_ext autoreload\n",
    "%autoreload 2"
   ]
  },
  {
   "source": [
    "## Read sample data"
   ],
   "cell_type": "markdown",
   "metadata": {}
  },
  {
   "cell_type": "code",
   "execution_count": 2,
   "metadata": {},
   "outputs": [
    {
     "output_type": "execute_result",
     "data": {
      "text/plain": [
       "        0        1        2             3             4             5   \\\n",
       "0  0.98080  0.98211  0.41813  1.014800e-11  2.590300e-10  3.115900e-07   \n",
       "1  0.52013  0.28381  0.44948  2.355200e-08  1.111200e-05  2.319000e-07   \n",
       "2  0.68152  0.43121  0.30115  2.895600e-09  2.249800e-08  1.818700e-10   \n",
       "3  0.62619  0.48974  0.80199  4.108500e-12  2.825400e-08  7.803400e-09   \n",
       "4  0.60757  0.65997  0.86624  3.977500e-12  1.739400e-07  5.157000e-08   \n",
       "\n",
       "        6         7         8         9   ...        13        14        15  \\\n",
       "0 -0.29073 -0.398550 -1.388200  0.000529  ...  0.000428  0.007660  0.003981   \n",
       "1  0.38395  0.718100  1.000500  0.000353  ...  0.000176  0.005468  0.001940   \n",
       "2  0.69114  0.058977 -0.051016  0.000680  ...  0.000731  0.011112  0.006400   \n",
       "3  0.60768 -0.493730  1.177200  0.000605  ...  0.000731  0.009222  0.006299   \n",
       "4  0.22185 -1.254900  0.304900  0.000353  ...  0.000605  0.005543  0.003981   \n",
       "\n",
       "         16      17      18      19      20      21      22  \n",
       "0  0.018343  1.6161  1.5720  1.8232  3.2124  2.2108  2.6424  \n",
       "1  0.027341  2.7736  2.6344  3.1931  1.3373  2.5650  3.0839  \n",
       "2  0.007131  1.7541  1.4404  1.0160  2.8070  2.6903  2.6930  \n",
       "3  0.011641  2.1030  2.0801  1.5434  1.4591  3.0236  1.3988  \n",
       "4  0.022955  2.2475  1.4874  2.1702  2.3613  1.4043  1.6768  \n",
       "\n",
       "[5 rows x 23 columns]"
      ],
      "text/html": "<div>\n<style scoped>\n    .dataframe tbody tr th:only-of-type {\n        vertical-align: middle;\n    }\n\n    .dataframe tbody tr th {\n        vertical-align: top;\n    }\n\n    .dataframe thead th {\n        text-align: right;\n    }\n</style>\n<table border=\"1\" class=\"dataframe\">\n  <thead>\n    <tr style=\"text-align: right;\">\n      <th></th>\n      <th>0</th>\n      <th>1</th>\n      <th>2</th>\n      <th>3</th>\n      <th>4</th>\n      <th>5</th>\n      <th>6</th>\n      <th>7</th>\n      <th>8</th>\n      <th>9</th>\n      <th>...</th>\n      <th>13</th>\n      <th>14</th>\n      <th>15</th>\n      <th>16</th>\n      <th>17</th>\n      <th>18</th>\n      <th>19</th>\n      <th>20</th>\n      <th>21</th>\n      <th>22</th>\n    </tr>\n  </thead>\n  <tbody>\n    <tr>\n      <th>0</th>\n      <td>0.98080</td>\n      <td>0.98211</td>\n      <td>0.41813</td>\n      <td>1.014800e-11</td>\n      <td>2.590300e-10</td>\n      <td>3.115900e-07</td>\n      <td>-0.29073</td>\n      <td>-0.398550</td>\n      <td>-1.388200</td>\n      <td>0.000529</td>\n      <td>...</td>\n      <td>0.000428</td>\n      <td>0.007660</td>\n      <td>0.003981</td>\n      <td>0.018343</td>\n      <td>1.6161</td>\n      <td>1.5720</td>\n      <td>1.8232</td>\n      <td>3.2124</td>\n      <td>2.2108</td>\n      <td>2.6424</td>\n    </tr>\n    <tr>\n      <th>1</th>\n      <td>0.52013</td>\n      <td>0.28381</td>\n      <td>0.44948</td>\n      <td>2.355200e-08</td>\n      <td>1.111200e-05</td>\n      <td>2.319000e-07</td>\n      <td>0.38395</td>\n      <td>0.718100</td>\n      <td>1.000500</td>\n      <td>0.000353</td>\n      <td>...</td>\n      <td>0.000176</td>\n      <td>0.005468</td>\n      <td>0.001940</td>\n      <td>0.027341</td>\n      <td>2.7736</td>\n      <td>2.6344</td>\n      <td>3.1931</td>\n      <td>1.3373</td>\n      <td>2.5650</td>\n      <td>3.0839</td>\n    </tr>\n    <tr>\n      <th>2</th>\n      <td>0.68152</td>\n      <td>0.43121</td>\n      <td>0.30115</td>\n      <td>2.895600e-09</td>\n      <td>2.249800e-08</td>\n      <td>1.818700e-10</td>\n      <td>0.69114</td>\n      <td>0.058977</td>\n      <td>-0.051016</td>\n      <td>0.000680</td>\n      <td>...</td>\n      <td>0.000731</td>\n      <td>0.011112</td>\n      <td>0.006400</td>\n      <td>0.007131</td>\n      <td>1.7541</td>\n      <td>1.4404</td>\n      <td>1.0160</td>\n      <td>2.8070</td>\n      <td>2.6903</td>\n      <td>2.6930</td>\n    </tr>\n    <tr>\n      <th>3</th>\n      <td>0.62619</td>\n      <td>0.48974</td>\n      <td>0.80199</td>\n      <td>4.108500e-12</td>\n      <td>2.825400e-08</td>\n      <td>7.803400e-09</td>\n      <td>0.60768</td>\n      <td>-0.493730</td>\n      <td>1.177200</td>\n      <td>0.000605</td>\n      <td>...</td>\n      <td>0.000731</td>\n      <td>0.009222</td>\n      <td>0.006299</td>\n      <td>0.011641</td>\n      <td>2.1030</td>\n      <td>2.0801</td>\n      <td>1.5434</td>\n      <td>1.4591</td>\n      <td>3.0236</td>\n      <td>1.3988</td>\n    </tr>\n    <tr>\n      <th>4</th>\n      <td>0.60757</td>\n      <td>0.65997</td>\n      <td>0.86624</td>\n      <td>3.977500e-12</td>\n      <td>1.739400e-07</td>\n      <td>5.157000e-08</td>\n      <td>0.22185</td>\n      <td>-1.254900</td>\n      <td>0.304900</td>\n      <td>0.000353</td>\n      <td>...</td>\n      <td>0.000605</td>\n      <td>0.005543</td>\n      <td>0.003981</td>\n      <td>0.022955</td>\n      <td>2.2475</td>\n      <td>1.4874</td>\n      <td>2.1702</td>\n      <td>2.3613</td>\n      <td>1.4043</td>\n      <td>1.6768</td>\n    </tr>\n  </tbody>\n</table>\n<p>5 rows × 23 columns</p>\n</div>"
     },
     "metadata": {},
     "execution_count": 2
    }
   ],
   "source": [
    "df = pd.read_csv(\"../datasets/2B/coast/train_0.csv\", header=None)\n",
    "X = df.to_numpy()\n",
    "df.head()"
   ]
  },
  {
   "source": [
    "## Training GMMs"
   ],
   "cell_type": "markdown",
   "metadata": {}
  },
  {
   "source": [
    "### Q = 5"
   ],
   "cell_type": "markdown",
   "metadata": {}
  },
  {
   "cell_type": "code",
   "execution_count": 3,
   "metadata": {},
   "outputs": [
    {
     "output_type": "display_data",
     "data": {
      "text/plain": "HBox(children=(FloatProgress(value=0.0, max=36.0), HTML(value='')))",
      "application/vnd.jupyter.widget-view+json": {
       "version_major": 2,
       "version_minor": 0,
       "model_id": "a0244c01011341d8ac6309c55d964fb1"
      }
     },
     "metadata": {}
    },
    {
     "output_type": "stream",
     "name": "stdout",
     "text": [
      "\n"
     ]
    },
    {
     "output_type": "display_data",
     "data": {
      "text/plain": "HBox(children=(FloatProgress(value=0.0, max=36.0), HTML(value='')))",
      "application/vnd.jupyter.widget-view+json": {
       "version_major": 2,
       "version_minor": 0,
       "model_id": "2ed7606ff0dc4a8688b0fb72acec8bb9"
      }
     },
     "metadata": {}
    },
    {
     "output_type": "stream",
     "name": "stdout",
     "text": [
      "\n"
     ]
    },
    {
     "output_type": "display_data",
     "data": {
      "text/plain": "HBox(children=(FloatProgress(value=0.0, max=36.0), HTML(value='')))",
      "application/vnd.jupyter.widget-view+json": {
       "version_major": 2,
       "version_minor": 0,
       "model_id": "676abef42dfd4a1495498291fea526a1"
      }
     },
     "metadata": {}
    },
    {
     "output_type": "stream",
     "name": "stdout",
     "text": [
      "\n"
     ]
    },
    {
     "output_type": "display_data",
     "data": {
      "text/plain": "HBox(children=(FloatProgress(value=0.0, max=36.0), HTML(value='')))",
      "application/vnd.jupyter.widget-view+json": {
       "version_major": 2,
       "version_minor": 0,
       "model_id": "86114b2c84754e2e89574fb8b135bfed"
      }
     },
     "metadata": {}
    },
    {
     "output_type": "stream",
     "name": "stdout",
     "text": [
      "\n"
     ]
    },
    {
     "output_type": "display_data",
     "data": {
      "text/plain": "HBox(children=(FloatProgress(value=0.0, max=36.0), HTML(value='')))",
      "application/vnd.jupyter.widget-view+json": {
       "version_major": 2,
       "version_minor": 0,
       "model_id": "d38963186436429e9cc784097d8215ba"
      }
     },
     "metadata": {}
    },
    {
     "output_type": "stream",
     "name": "stdout",
     "text": [
      "\n"
     ]
    }
   ],
   "source": [
    "q = 5\n",
    "classes = [\"coast\", \"highway\", \"mountain\", \"opencountry\", \"tallbuilding\"]\n",
    "for class_name in classes:\n",
    "    gmm = GMM_vl(q=q, tol=1e-6)\n",
    "    gmm.fit(class_name=class_name, epochs=30)\n",
    "    \n",
    "    fname = \"results/\" + class_name + \"_q_\"+str(q)+\".pickle\"\n",
    "    fin = open(fname, \"wb\")\n",
    "    pickle.dump(gmm, fin)\n",
    "    fin.close()"
   ]
  },
  {
   "cell_type": "code",
   "execution_count": 4,
   "metadata": {},
   "outputs": [],
   "source": [
    "classes = [\"coast\", \"highway\", \"mountain\", \"opencountry\", \"tallbuilding\"]\n",
    "class_wise_gmm = {}\n",
    "for class_name in classes:\n",
    "    fname = \"results/\" + class_name + \"_q_\"+str(q)+\".pickle\"\n",
    "    fout = open(fname, \"rb\")\n",
    "    gmm = pickle.load(fout)\n",
    "    fout.close()\n",
    "    \n",
    "    class_wise_gmm[class_name] = gmm"
   ]
  },
  {
   "cell_type": "code",
   "execution_count": 5,
   "metadata": {},
   "outputs": [
    {
     "output_type": "display_data",
     "data": {
      "text/plain": "              Accuracy\ncoast            100.0\nhighway          100.0\nmountain         100.0\nopencountry      100.0\ntallbuilding     100.0",
      "text/html": "<div>\n<style scoped>\n    .dataframe tbody tr th:only-of-type {\n        vertical-align: middle;\n    }\n\n    .dataframe tbody tr th {\n        vertical-align: top;\n    }\n\n    .dataframe thead th {\n        text-align: right;\n    }\n</style>\n<table border=\"1\" class=\"dataframe\">\n  <thead>\n    <tr style=\"text-align: right;\">\n      <th></th>\n      <th>Accuracy</th>\n    </tr>\n  </thead>\n  <tbody>\n    <tr>\n      <th>coast</th>\n      <td>100.0</td>\n    </tr>\n    <tr>\n      <th>highway</th>\n      <td>100.0</td>\n    </tr>\n    <tr>\n      <th>mountain</th>\n      <td>100.0</td>\n    </tr>\n    <tr>\n      <th>opencountry</th>\n      <td>100.0</td>\n    </tr>\n    <tr>\n      <th>tallbuilding</th>\n      <td>100.0</td>\n    </tr>\n  </tbody>\n</table>\n</div>"
     },
     "metadata": {}
    },
    {
     "output_type": "display_data",
     "data": {
      "text/plain": "               Accuracy\ncoast         78.082192\nhighway       32.692308\nmountain      54.666667\nopencountry   63.414634\ntallbuilding  91.549296",
      "text/html": "<div>\n<style scoped>\n    .dataframe tbody tr th:only-of-type {\n        vertical-align: middle;\n    }\n\n    .dataframe tbody tr th {\n        vertical-align: top;\n    }\n\n    .dataframe thead th {\n        text-align: right;\n    }\n</style>\n<table border=\"1\" class=\"dataframe\">\n  <thead>\n    <tr style=\"text-align: right;\">\n      <th></th>\n      <th>Accuracy</th>\n    </tr>\n  </thead>\n  <tbody>\n    <tr>\n      <th>coast</th>\n      <td>78.082192</td>\n    </tr>\n    <tr>\n      <th>highway</th>\n      <td>32.692308</td>\n    </tr>\n    <tr>\n      <th>mountain</th>\n      <td>54.666667</td>\n    </tr>\n    <tr>\n      <th>opencountry</th>\n      <td>63.414634</td>\n    </tr>\n    <tr>\n      <th>tallbuilding</th>\n      <td>91.549296</td>\n    </tr>\n  </tbody>\n</table>\n</div>"
     },
     "metadata": {}
    }
   ],
   "source": [
    "gmm_cl = GMM_vl_classifier()\n",
    "gmm_cl.compile(class_wise_gmm)\n",
    "gmm_cl.classify()\n",
    "train_acc = pd.DataFrame(gmm_cl.accuracy, [\"Accuracy\"]).T\n",
    "display(train_acc)\n",
    "\n",
    "gmm_cl.classify(dev=True)\n",
    "dev_acc = pd.DataFrame(gmm_cl.accuracy, [\"Accuracy\"]).T\n",
    "display(dev_acc)"
   ]
  },
  {
   "source": [
    "### Q = 20"
   ],
   "cell_type": "markdown",
   "metadata": {}
  },
  {
   "cell_type": "code",
   "execution_count": 6,
   "metadata": {},
   "outputs": [
    {
     "output_type": "display_data",
     "data": {
      "text/plain": "HBox(children=(FloatProgress(value=0.0, max=36.0), HTML(value='')))",
      "application/vnd.jupyter.widget-view+json": {
       "version_major": 2,
       "version_minor": 0,
       "model_id": "305919ba86ac4a76b37830b83bf48b04"
      }
     },
     "metadata": {}
    },
    {
     "output_type": "stream",
     "name": "stdout",
     "text": [
      "\n"
     ]
    },
    {
     "output_type": "display_data",
     "data": {
      "text/plain": "HBox(children=(FloatProgress(value=0.0, max=36.0), HTML(value='')))",
      "application/vnd.jupyter.widget-view+json": {
       "version_major": 2,
       "version_minor": 0,
       "model_id": "73a0865244ba40eb8ab0c2c9c5bcffc5"
      }
     },
     "metadata": {}
    },
    {
     "output_type": "stream",
     "name": "stdout",
     "text": [
      "\n"
     ]
    },
    {
     "output_type": "display_data",
     "data": {
      "text/plain": "HBox(children=(FloatProgress(value=0.0, max=36.0), HTML(value='')))",
      "application/vnd.jupyter.widget-view+json": {
       "version_major": 2,
       "version_minor": 0,
       "model_id": "3a43cb8d242f41508f12851c4131eaa0"
      }
     },
     "metadata": {}
    },
    {
     "output_type": "stream",
     "name": "stdout",
     "text": [
      "\n"
     ]
    },
    {
     "output_type": "display_data",
     "data": {
      "text/plain": "HBox(children=(FloatProgress(value=0.0, max=36.0), HTML(value='')))",
      "application/vnd.jupyter.widget-view+json": {
       "version_major": 2,
       "version_minor": 0,
       "model_id": "69916cc01bad4515a74345325bd09252"
      }
     },
     "metadata": {}
    },
    {
     "output_type": "stream",
     "name": "stdout",
     "text": [
      "\n"
     ]
    },
    {
     "output_type": "display_data",
     "data": {
      "text/plain": "HBox(children=(FloatProgress(value=0.0, max=36.0), HTML(value='')))",
      "application/vnd.jupyter.widget-view+json": {
       "version_major": 2,
       "version_minor": 0,
       "model_id": "7097435d0ed04c66beaf7ed1ca01a925"
      }
     },
     "metadata": {}
    },
    {
     "output_type": "stream",
     "name": "stdout",
     "text": [
      "\n"
     ]
    }
   ],
   "source": [
    "q = 20\n",
    "classes = [\"coast\", \"highway\", \"mountain\", \"opencountry\", \"tallbuilding\"]\n",
    "for class_name in classes:\n",
    "    gmm = GMM_vl(q=q, tol=1e-6)\n",
    "    gmm.fit(class_name=class_name, epochs=30)\n",
    "    \n",
    "    fname = \"results/\" + class_name + \"_q_\"+str(q)+\".pickle\"\n",
    "    fin = open(fname, \"wb\")\n",
    "    pickle.dump(gmm, fin)\n",
    "    fin.close()"
   ]
  },
  {
   "cell_type": "code",
   "execution_count": 10,
   "metadata": {},
   "outputs": [],
   "source": [
    "classes = [\"coast\", \"highway\", \"mountain\", \"opencountry\", \"tallbuilding\"]\n",
    "class_wise_gmm = {}\n",
    "for class_name in classes:\n",
    "    fname = \"results/\" + class_name + \"_q_\"+str(q)+\".pickle\"\n",
    "    fout = open(fname, \"rb\")\n",
    "    gmm = pickle.load(fout)\n",
    "    fout.close()\n",
    "    \n",
    "    class_wise_gmm[class_name] = gmm"
   ]
  },
  {
   "cell_type": "code",
   "execution_count": 11,
   "metadata": {},
   "outputs": [
    {
     "output_type": "display_data",
     "data": {
      "text/plain": "              Accuracy\ncoast            100.0\nhighway          100.0\nmountain         100.0\nopencountry      100.0\ntallbuilding     100.0",
      "text/html": "<div>\n<style scoped>\n    .dataframe tbody tr th:only-of-type {\n        vertical-align: middle;\n    }\n\n    .dataframe tbody tr th {\n        vertical-align: top;\n    }\n\n    .dataframe thead th {\n        text-align: right;\n    }\n</style>\n<table border=\"1\" class=\"dataframe\">\n  <thead>\n    <tr style=\"text-align: right;\">\n      <th></th>\n      <th>Accuracy</th>\n    </tr>\n  </thead>\n  <tbody>\n    <tr>\n      <th>coast</th>\n      <td>100.0</td>\n    </tr>\n    <tr>\n      <th>highway</th>\n      <td>100.0</td>\n    </tr>\n    <tr>\n      <th>mountain</th>\n      <td>100.0</td>\n    </tr>\n    <tr>\n      <th>opencountry</th>\n      <td>100.0</td>\n    </tr>\n    <tr>\n      <th>tallbuilding</th>\n      <td>100.0</td>\n    </tr>\n  </tbody>\n</table>\n</div>"
     },
     "metadata": {}
    },
    {
     "output_type": "display_data",
     "data": {
      "text/plain": "               Accuracy\ncoast         80.821918\nhighway        0.000000\nmountain      45.333333\nopencountry   40.243902\ntallbuilding  92.957746",
      "text/html": "<div>\n<style scoped>\n    .dataframe tbody tr th:only-of-type {\n        vertical-align: middle;\n    }\n\n    .dataframe tbody tr th {\n        vertical-align: top;\n    }\n\n    .dataframe thead th {\n        text-align: right;\n    }\n</style>\n<table border=\"1\" class=\"dataframe\">\n  <thead>\n    <tr style=\"text-align: right;\">\n      <th></th>\n      <th>Accuracy</th>\n    </tr>\n  </thead>\n  <tbody>\n    <tr>\n      <th>coast</th>\n      <td>80.821918</td>\n    </tr>\n    <tr>\n      <th>highway</th>\n      <td>0.000000</td>\n    </tr>\n    <tr>\n      <th>mountain</th>\n      <td>45.333333</td>\n    </tr>\n    <tr>\n      <th>opencountry</th>\n      <td>40.243902</td>\n    </tr>\n    <tr>\n      <th>tallbuilding</th>\n      <td>92.957746</td>\n    </tr>\n  </tbody>\n</table>\n</div>"
     },
     "metadata": {}
    }
   ],
   "source": [
    "gmm_cl = GMM_vl_classifier()\n",
    "gmm_cl.compile(class_wise_gmm)\n",
    "gmm_cl.classify()\n",
    "train_acc = pd.DataFrame(gmm_cl.accuracy, [\"Accuracy\"]).T\n",
    "display(train_acc)\n",
    "\n",
    "gmm_cl.classify(dev=True)\n",
    "dev_acc = pd.DataFrame(gmm_cl.accuracy, [\"Accuracy\"]).T\n",
    "display(dev_acc)"
   ]
  },
  {
   "source": [
    "### Q = 3"
   ],
   "cell_type": "markdown",
   "metadata": {}
  },
  {
   "cell_type": "code",
   "execution_count": 12,
   "metadata": {},
   "outputs": [
    {
     "output_type": "display_data",
     "data": {
      "text/plain": "HBox(children=(FloatProgress(value=0.0, max=36.0), HTML(value='')))",
      "application/vnd.jupyter.widget-view+json": {
       "version_major": 2,
       "version_minor": 0,
       "model_id": "980b917cab02473398357bd73429f395"
      }
     },
     "metadata": {}
    },
    {
     "output_type": "stream",
     "name": "stdout",
     "text": [
      "\n"
     ]
    },
    {
     "output_type": "display_data",
     "data": {
      "text/plain": "HBox(children=(FloatProgress(value=0.0, max=36.0), HTML(value='')))",
      "application/vnd.jupyter.widget-view+json": {
       "version_major": 2,
       "version_minor": 0,
       "model_id": "d370de54b5b940c5ba9cd0daf887bfeb"
      }
     },
     "metadata": {}
    },
    {
     "output_type": "stream",
     "name": "stdout",
     "text": [
      "\n"
     ]
    },
    {
     "output_type": "display_data",
     "data": {
      "text/plain": "HBox(children=(FloatProgress(value=0.0, max=36.0), HTML(value='')))",
      "application/vnd.jupyter.widget-view+json": {
       "version_major": 2,
       "version_minor": 0,
       "model_id": "3886f05d64f44fee9402de12e0ffefe9"
      }
     },
     "metadata": {}
    },
    {
     "output_type": "stream",
     "name": "stdout",
     "text": [
      "\n"
     ]
    },
    {
     "output_type": "display_data",
     "data": {
      "text/plain": "HBox(children=(FloatProgress(value=0.0, max=36.0), HTML(value='')))",
      "application/vnd.jupyter.widget-view+json": {
       "version_major": 2,
       "version_minor": 0,
       "model_id": "f5a9ede64f1c48f1883cffa75431468e"
      }
     },
     "metadata": {}
    },
    {
     "output_type": "stream",
     "name": "stdout",
     "text": [
      "\n"
     ]
    },
    {
     "output_type": "display_data",
     "data": {
      "text/plain": "HBox(children=(FloatProgress(value=0.0, max=36.0), HTML(value='')))",
      "application/vnd.jupyter.widget-view+json": {
       "version_major": 2,
       "version_minor": 0,
       "model_id": "76e0c22782844e808d61930eaadec24c"
      }
     },
     "metadata": {}
    },
    {
     "output_type": "stream",
     "name": "stdout",
     "text": [
      "\n"
     ]
    }
   ],
   "source": [
    "q = 3\n",
    "classes = [\"coast\", \"highway\", \"mountain\", \"opencountry\", \"tallbuilding\"]\n",
    "for class_name in classes:\n",
    "    gmm = GMM_vl(q=q, tol=1e-6)\n",
    "    gmm.fit(class_name=class_name, epochs=30)\n",
    "    \n",
    "    fname = \"results/\" + class_name + \"_q_\"+str(q)+\".pickle\"\n",
    "    fin = open(fname, \"wb\")\n",
    "    pickle.dump(gmm, fin)\n",
    "    fin.close()"
   ]
  },
  {
   "cell_type": "code",
   "execution_count": 13,
   "metadata": {},
   "outputs": [],
   "source": [
    "classes = [\"coast\", \"highway\", \"mountain\", \"opencountry\", \"tallbuilding\"]\n",
    "class_wise_gmm = {}\n",
    "for class_name in classes:\n",
    "    fname = \"results/\" + class_name + \"_q_\"+str(q)+\".pickle\"\n",
    "    fout = open(fname, \"rb\")\n",
    "    gmm = pickle.load(fout)\n",
    "    fout.close()\n",
    "    \n",
    "    class_wise_gmm[class_name] = gmm"
   ]
  },
  {
   "cell_type": "code",
   "execution_count": 14,
   "metadata": {},
   "outputs": [
    {
     "output_type": "display_data",
     "data": {
      "text/plain": "                Accuracy\ncoast          99.601594\nhighway       100.000000\nmountain       99.616858\nopencountry   100.000000\ntallbuilding  100.000000",
      "text/html": "<div>\n<style scoped>\n    .dataframe tbody tr th:only-of-type {\n        vertical-align: middle;\n    }\n\n    .dataframe tbody tr th {\n        vertical-align: top;\n    }\n\n    .dataframe thead th {\n        text-align: right;\n    }\n</style>\n<table border=\"1\" class=\"dataframe\">\n  <thead>\n    <tr style=\"text-align: right;\">\n      <th></th>\n      <th>Accuracy</th>\n    </tr>\n  </thead>\n  <tbody>\n    <tr>\n      <th>coast</th>\n      <td>99.601594</td>\n    </tr>\n    <tr>\n      <th>highway</th>\n      <td>100.000000</td>\n    </tr>\n    <tr>\n      <th>mountain</th>\n      <td>99.616858</td>\n    </tr>\n    <tr>\n      <th>opencountry</th>\n      <td>100.000000</td>\n    </tr>\n    <tr>\n      <th>tallbuilding</th>\n      <td>100.000000</td>\n    </tr>\n  </tbody>\n</table>\n</div>"
     },
     "metadata": {}
    },
    {
     "output_type": "display_data",
     "data": {
      "text/plain": "               Accuracy\ncoast         86.301370\nhighway       46.153846\nmountain      73.333333\nopencountry   69.512195\ntallbuilding  90.140845",
      "text/html": "<div>\n<style scoped>\n    .dataframe tbody tr th:only-of-type {\n        vertical-align: middle;\n    }\n\n    .dataframe tbody tr th {\n        vertical-align: top;\n    }\n\n    .dataframe thead th {\n        text-align: right;\n    }\n</style>\n<table border=\"1\" class=\"dataframe\">\n  <thead>\n    <tr style=\"text-align: right;\">\n      <th></th>\n      <th>Accuracy</th>\n    </tr>\n  </thead>\n  <tbody>\n    <tr>\n      <th>coast</th>\n      <td>86.301370</td>\n    </tr>\n    <tr>\n      <th>highway</th>\n      <td>46.153846</td>\n    </tr>\n    <tr>\n      <th>mountain</th>\n      <td>73.333333</td>\n    </tr>\n    <tr>\n      <th>opencountry</th>\n      <td>69.512195</td>\n    </tr>\n    <tr>\n      <th>tallbuilding</th>\n      <td>90.140845</td>\n    </tr>\n  </tbody>\n</table>\n</div>"
     },
     "metadata": {}
    }
   ],
   "source": [
    "gmm_cl = GMM_vl_classifier()\n",
    "gmm_cl.compile(class_wise_gmm)\n",
    "gmm_cl.classify()\n",
    "train_acc = pd.DataFrame(gmm_cl.accuracy, [\"Accuracy\"]).T\n",
    "display(train_acc)\n",
    "\n",
    "gmm_cl.classify(dev=True)\n",
    "dev_acc = pd.DataFrame(gmm_cl.accuracy, [\"Accuracy\"]).T\n",
    "display(dev_acc)"
   ]
  },
  {
   "source": [
    "### Q = 14"
   ],
   "cell_type": "markdown",
   "metadata": {}
  },
  {
   "cell_type": "code",
   "execution_count": 7,
   "metadata": {},
   "outputs": [
    {
     "output_type": "display_data",
     "data": {
      "text/plain": "HBox(children=(FloatProgress(value=0.0, max=36.0), HTML(value='')))",
      "application/vnd.jupyter.widget-view+json": {
       "version_major": 2,
       "version_minor": 0,
       "model_id": "ad41a461c9ec49a48e042b4461fad75a"
      }
     },
     "metadata": {}
    },
    {
     "output_type": "stream",
     "name": "stdout",
     "text": [
      "\n"
     ]
    },
    {
     "output_type": "display_data",
     "data": {
      "text/plain": "HBox(children=(FloatProgress(value=0.0, max=36.0), HTML(value='')))",
      "application/vnd.jupyter.widget-view+json": {
       "version_major": 2,
       "version_minor": 0,
       "model_id": "3786430d60a6413485a66ffa2998a509"
      }
     },
     "metadata": {}
    },
    {
     "output_type": "stream",
     "name": "stdout",
     "text": [
      "\n"
     ]
    },
    {
     "output_type": "display_data",
     "data": {
      "text/plain": "HBox(children=(FloatProgress(value=0.0, max=36.0), HTML(value='')))",
      "application/vnd.jupyter.widget-view+json": {
       "version_major": 2,
       "version_minor": 0,
       "model_id": "11e56a93d874470cbe5eb239fd1f5145"
      }
     },
     "metadata": {}
    },
    {
     "output_type": "stream",
     "name": "stdout",
     "text": [
      "\n"
     ]
    },
    {
     "output_type": "display_data",
     "data": {
      "text/plain": "HBox(children=(FloatProgress(value=0.0, max=36.0), HTML(value='')))",
      "application/vnd.jupyter.widget-view+json": {
       "version_major": 2,
       "version_minor": 0,
       "model_id": "e2a34ac795214442bfab0c0d6c47150c"
      }
     },
     "metadata": {}
    },
    {
     "output_type": "stream",
     "name": "stdout",
     "text": [
      "\n"
     ]
    },
    {
     "output_type": "display_data",
     "data": {
      "text/plain": "HBox(children=(FloatProgress(value=0.0, max=36.0), HTML(value='')))",
      "application/vnd.jupyter.widget-view+json": {
       "version_major": 2,
       "version_minor": 0,
       "model_id": "0d5c526a102345f29a65a27505356f34"
      }
     },
     "metadata": {}
    },
    {
     "output_type": "stream",
     "name": "stdout",
     "text": [
      "\n"
     ]
    }
   ],
   "source": [
    "q = 14\n",
    "classes = [\"coast\", \"highway\", \"mountain\", \"opencountry\", \"tallbuilding\"]\n",
    "for class_name in classes:\n",
    "    gmm = GMM_vl(q=q, tol=1e-6)\n",
    "    gmm.fit(class_name=class_name, epochs=30)\n",
    "    \n",
    "    fname = \"results/\" + class_name + \"_q_\"+str(q)+\".pickle\"\n",
    "    fin = open(fname, \"wb\")\n",
    "    pickle.dump(gmm, fin)\n",
    "    fin.close()"
   ]
  },
  {
   "cell_type": "code",
   "execution_count": 8,
   "metadata": {},
   "outputs": [],
   "source": [
    "classes = [\"coast\", \"highway\", \"mountain\", \"opencountry\", \"tallbuilding\"]\n",
    "class_wise_gmm = {}\n",
    "for class_name in classes:\n",
    "    fname = \"results/\" + class_name + \"_q_\"+str(q)+\".pickle\"\n",
    "    fout = open(fname, \"rb\")\n",
    "    gmm = pickle.load(fout)\n",
    "    fout.close()\n",
    "    \n",
    "    class_wise_gmm[class_name] = gmm"
   ]
  },
  {
   "cell_type": "code",
   "execution_count": 9,
   "metadata": {},
   "outputs": [
    {
     "output_type": "display_data",
     "data": {
      "text/plain": "              Accuracy\ncoast            100.0\nhighway          100.0\nmountain         100.0\nopencountry      100.0\ntallbuilding     100.0",
      "text/html": "<div>\n<style scoped>\n    .dataframe tbody tr th:only-of-type {\n        vertical-align: middle;\n    }\n\n    .dataframe tbody tr th {\n        vertical-align: top;\n    }\n\n    .dataframe thead th {\n        text-align: right;\n    }\n</style>\n<table border=\"1\" class=\"dataframe\">\n  <thead>\n    <tr style=\"text-align: right;\">\n      <th></th>\n      <th>Accuracy</th>\n    </tr>\n  </thead>\n  <tbody>\n    <tr>\n      <th>coast</th>\n      <td>100.0</td>\n    </tr>\n    <tr>\n      <th>highway</th>\n      <td>100.0</td>\n    </tr>\n    <tr>\n      <th>mountain</th>\n      <td>100.0</td>\n    </tr>\n    <tr>\n      <th>opencountry</th>\n      <td>100.0</td>\n    </tr>\n    <tr>\n      <th>tallbuilding</th>\n      <td>100.0</td>\n    </tr>\n  </tbody>\n</table>\n</div>"
     },
     "metadata": {}
    },
    {
     "output_type": "display_data",
     "data": {
      "text/plain": "               Accuracy\ncoast         80.821918\nhighway        0.000000\nmountain      45.333333\nopencountry   40.243902\ntallbuilding  92.957746",
      "text/html": "<div>\n<style scoped>\n    .dataframe tbody tr th:only-of-type {\n        vertical-align: middle;\n    }\n\n    .dataframe tbody tr th {\n        vertical-align: top;\n    }\n\n    .dataframe thead th {\n        text-align: right;\n    }\n</style>\n<table border=\"1\" class=\"dataframe\">\n  <thead>\n    <tr style=\"text-align: right;\">\n      <th></th>\n      <th>Accuracy</th>\n    </tr>\n  </thead>\n  <tbody>\n    <tr>\n      <th>coast</th>\n      <td>80.821918</td>\n    </tr>\n    <tr>\n      <th>highway</th>\n      <td>0.000000</td>\n    </tr>\n    <tr>\n      <th>mountain</th>\n      <td>45.333333</td>\n    </tr>\n    <tr>\n      <th>opencountry</th>\n      <td>40.243902</td>\n    </tr>\n    <tr>\n      <th>tallbuilding</th>\n      <td>92.957746</td>\n    </tr>\n  </tbody>\n</table>\n</div>"
     },
     "metadata": {}
    }
   ],
   "source": [
    "gmm_cl = GMM_vl_classifier()\n",
    "gmm_cl.compile(class_wise_gmm)\n",
    "gmm_cl.classify()\n",
    "train_acc = pd.DataFrame(gmm_cl.accuracy, [\"Accuracy\"]).T\n",
    "display(train_acc)\n",
    "\n",
    "gmm_cl.classify(dev=True)\n",
    "dev_acc = pd.DataFrame(gmm_cl.accuracy, [\"Accuracy\"]).T\n",
    "display(dev_acc)"
   ]
  },
  {
   "cell_type": "code",
   "execution_count": null,
   "metadata": {},
   "outputs": [],
   "source": []
  }
 ],
 "metadata": {
  "kernelspec": {
   "name": "python385jvsc74a57bd031f2aee4e71d21fbe5cf8b01ff0e069b9275f58929596ceb00d14d90e3e16cd6",
   "display_name": "Python 3.8.5 64-bit"
  },
  "language_info": {
   "codemirror_mode": {
    "name": "ipython",
    "version": 3
   },
   "file_extension": ".py",
   "mimetype": "text/x-python",
   "name": "python",
   "nbconvert_exporter": "python",
   "pygments_lexer": "ipython3",
   "version": "3.8.5"
  },
  "widgets": {
   "application/vnd.jupyter.widget-state+json": {
    "state": {},
    "version_major": 2,
    "version_minor": 0
   }
  }
 },
 "nbformat": 4,
 "nbformat_minor": 4
}