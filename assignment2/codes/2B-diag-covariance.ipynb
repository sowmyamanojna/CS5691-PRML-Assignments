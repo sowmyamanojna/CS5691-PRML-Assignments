{
 "cells": [
  {
   "cell_type": "markdown",
   "metadata": {},
   "source": [
    "## Import essential libraries"
   ]
  },
  {
   "cell_type": "code",
   "execution_count": 1,
   "metadata": {},
   "outputs": [],
   "source": [
    "import time\n",
    "import pickle\n",
    "from gmm import *\n",
    "import numpy as np\n",
    "import pandas as pd\n",
    "from tqdm.notebook import tqdm\n",
    "import matplotlib.pyplot as plt\n",
    "from multiprocessing import Pool\n",
    "from collections import defaultdict\n",
    "from scipy.stats import multivariate_normal as mvn\n",
    "from sklearn.model_selection import train_test_split\n",
    "\n",
    "plt.rcParams[\"font.size\"] = 18\n",
    "plt.rcParams[\"axes.grid\"] = True\n",
    "plt.rcParams[\"figure.figsize\"] = 8,6\n",
    "plt.rcParams['font.serif'] = \"Cambria\"\n",
    "plt.rcParams['font.family'] = \"serif\"\n",
    "\n",
    "%load_ext autoreload\n",
    "%autoreload 2"
   ]
  },
  {
   "cell_type": "markdown",
   "metadata": {},
   "source": [
    "## Read sample data"
   ]
  },
  {
   "cell_type": "code",
   "execution_count": 2,
   "metadata": {},
   "outputs": [
    {
     "data": {
      "text/html": [
       "<div>\n",
       "<style scoped>\n",
       "    .dataframe tbody tr th:only-of-type {\n",
       "        vertical-align: middle;\n",
       "    }\n",
       "\n",
       "    .dataframe tbody tr th {\n",
       "        vertical-align: top;\n",
       "    }\n",
       "\n",
       "    .dataframe thead th {\n",
       "        text-align: right;\n",
       "    }\n",
       "</style>\n",
       "<table border=\"1\" class=\"dataframe\">\n",
       "  <thead>\n",
       "    <tr style=\"text-align: right;\">\n",
       "      <th></th>\n",
       "      <th>0</th>\n",
       "      <th>1</th>\n",
       "      <th>2</th>\n",
       "      <th>3</th>\n",
       "      <th>4</th>\n",
       "      <th>5</th>\n",
       "      <th>6</th>\n",
       "      <th>7</th>\n",
       "      <th>8</th>\n",
       "      <th>9</th>\n",
       "      <th>...</th>\n",
       "      <th>13</th>\n",
       "      <th>14</th>\n",
       "      <th>15</th>\n",
       "      <th>16</th>\n",
       "      <th>17</th>\n",
       "      <th>18</th>\n",
       "      <th>19</th>\n",
       "      <th>20</th>\n",
       "      <th>21</th>\n",
       "      <th>22</th>\n",
       "    </tr>\n",
       "  </thead>\n",
       "  <tbody>\n",
       "    <tr>\n",
       "      <th>0</th>\n",
       "      <td>0.98080</td>\n",
       "      <td>0.98211</td>\n",
       "      <td>0.41813</td>\n",
       "      <td>1.014800e-11</td>\n",
       "      <td>2.590300e-10</td>\n",
       "      <td>3.115900e-07</td>\n",
       "      <td>-0.29073</td>\n",
       "      <td>-0.398550</td>\n",
       "      <td>-1.388200</td>\n",
       "      <td>0.000529</td>\n",
       "      <td>...</td>\n",
       "      <td>0.000428</td>\n",
       "      <td>0.007660</td>\n",
       "      <td>0.003981</td>\n",
       "      <td>0.018343</td>\n",
       "      <td>1.6161</td>\n",
       "      <td>1.5720</td>\n",
       "      <td>1.8232</td>\n",
       "      <td>3.2124</td>\n",
       "      <td>2.2108</td>\n",
       "      <td>2.6424</td>\n",
       "    </tr>\n",
       "    <tr>\n",
       "      <th>1</th>\n",
       "      <td>0.52013</td>\n",
       "      <td>0.28381</td>\n",
       "      <td>0.44948</td>\n",
       "      <td>2.355200e-08</td>\n",
       "      <td>1.111200e-05</td>\n",
       "      <td>2.319000e-07</td>\n",
       "      <td>0.38395</td>\n",
       "      <td>0.718100</td>\n",
       "      <td>1.000500</td>\n",
       "      <td>0.000353</td>\n",
       "      <td>...</td>\n",
       "      <td>0.000176</td>\n",
       "      <td>0.005468</td>\n",
       "      <td>0.001940</td>\n",
       "      <td>0.027341</td>\n",
       "      <td>2.7736</td>\n",
       "      <td>2.6344</td>\n",
       "      <td>3.1931</td>\n",
       "      <td>1.3373</td>\n",
       "      <td>2.5650</td>\n",
       "      <td>3.0839</td>\n",
       "    </tr>\n",
       "    <tr>\n",
       "      <th>2</th>\n",
       "      <td>0.68152</td>\n",
       "      <td>0.43121</td>\n",
       "      <td>0.30115</td>\n",
       "      <td>2.895600e-09</td>\n",
       "      <td>2.249800e-08</td>\n",
       "      <td>1.818700e-10</td>\n",
       "      <td>0.69114</td>\n",
       "      <td>0.058977</td>\n",
       "      <td>-0.051016</td>\n",
       "      <td>0.000680</td>\n",
       "      <td>...</td>\n",
       "      <td>0.000731</td>\n",
       "      <td>0.011112</td>\n",
       "      <td>0.006400</td>\n",
       "      <td>0.007131</td>\n",
       "      <td>1.7541</td>\n",
       "      <td>1.4404</td>\n",
       "      <td>1.0160</td>\n",
       "      <td>2.8070</td>\n",
       "      <td>2.6903</td>\n",
       "      <td>2.6930</td>\n",
       "    </tr>\n",
       "    <tr>\n",
       "      <th>3</th>\n",
       "      <td>0.62619</td>\n",
       "      <td>0.48974</td>\n",
       "      <td>0.80199</td>\n",
       "      <td>4.108500e-12</td>\n",
       "      <td>2.825400e-08</td>\n",
       "      <td>7.803400e-09</td>\n",
       "      <td>0.60768</td>\n",
       "      <td>-0.493730</td>\n",
       "      <td>1.177200</td>\n",
       "      <td>0.000605</td>\n",
       "      <td>...</td>\n",
       "      <td>0.000731</td>\n",
       "      <td>0.009222</td>\n",
       "      <td>0.006299</td>\n",
       "      <td>0.011641</td>\n",
       "      <td>2.1030</td>\n",
       "      <td>2.0801</td>\n",
       "      <td>1.5434</td>\n",
       "      <td>1.4591</td>\n",
       "      <td>3.0236</td>\n",
       "      <td>1.3988</td>\n",
       "    </tr>\n",
       "    <tr>\n",
       "      <th>4</th>\n",
       "      <td>0.60757</td>\n",
       "      <td>0.65997</td>\n",
       "      <td>0.86624</td>\n",
       "      <td>3.977500e-12</td>\n",
       "      <td>1.739400e-07</td>\n",
       "      <td>5.157000e-08</td>\n",
       "      <td>0.22185</td>\n",
       "      <td>-1.254900</td>\n",
       "      <td>0.304900</td>\n",
       "      <td>0.000353</td>\n",
       "      <td>...</td>\n",
       "      <td>0.000605</td>\n",
       "      <td>0.005543</td>\n",
       "      <td>0.003981</td>\n",
       "      <td>0.022955</td>\n",
       "      <td>2.2475</td>\n",
       "      <td>1.4874</td>\n",
       "      <td>2.1702</td>\n",
       "      <td>2.3613</td>\n",
       "      <td>1.4043</td>\n",
       "      <td>1.6768</td>\n",
       "    </tr>\n",
       "  </tbody>\n",
       "</table>\n",
       "<p>5 rows × 23 columns</p>\n",
       "</div>"
      ],
      "text/plain": [
       "        0        1        2             3             4             5   \\\n",
       "0  0.98080  0.98211  0.41813  1.014800e-11  2.590300e-10  3.115900e-07   \n",
       "1  0.52013  0.28381  0.44948  2.355200e-08  1.111200e-05  2.319000e-07   \n",
       "2  0.68152  0.43121  0.30115  2.895600e-09  2.249800e-08  1.818700e-10   \n",
       "3  0.62619  0.48974  0.80199  4.108500e-12  2.825400e-08  7.803400e-09   \n",
       "4  0.60757  0.65997  0.86624  3.977500e-12  1.739400e-07  5.157000e-08   \n",
       "\n",
       "        6         7         8         9   ...        13        14        15  \\\n",
       "0 -0.29073 -0.398550 -1.388200  0.000529  ...  0.000428  0.007660  0.003981   \n",
       "1  0.38395  0.718100  1.000500  0.000353  ...  0.000176  0.005468  0.001940   \n",
       "2  0.69114  0.058977 -0.051016  0.000680  ...  0.000731  0.011112  0.006400   \n",
       "3  0.60768 -0.493730  1.177200  0.000605  ...  0.000731  0.009222  0.006299   \n",
       "4  0.22185 -1.254900  0.304900  0.000353  ...  0.000605  0.005543  0.003981   \n",
       "\n",
       "         16      17      18      19      20      21      22  \n",
       "0  0.018343  1.6161  1.5720  1.8232  3.2124  2.2108  2.6424  \n",
       "1  0.027341  2.7736  2.6344  3.1931  1.3373  2.5650  3.0839  \n",
       "2  0.007131  1.7541  1.4404  1.0160  2.8070  2.6903  2.6930  \n",
       "3  0.011641  2.1030  2.0801  1.5434  1.4591  3.0236  1.3988  \n",
       "4  0.022955  2.2475  1.4874  2.1702  2.3613  1.4043  1.6768  \n",
       "\n",
       "[5 rows x 23 columns]"
      ]
     },
     "execution_count": 2,
     "metadata": {},
     "output_type": "execute_result"
    }
   ],
   "source": [
    "df = pd.read_csv(\"../datasets/2B/coast/train_0.csv\", header=None)\n",
    "X = df.to_numpy()\n",
    "df.head()"
   ]
  },
  {
   "cell_type": "code",
   "execution_count": 3,
   "metadata": {},
   "outputs": [],
   "source": [
    "def get_confusion_matrices(gmm_cl, title=\"Confusion Matrix\"):\n",
    "    mapping = {\"coast\":0, \"highway\":1, \"mountain\":2, \"opencountry\":3, \"tallbuilding\":4}\n",
    "    complete_pred = np.array([])\n",
    "    complete_true = np.array([])\n",
    "    \n",
    "    for i in gmm_cl.predictions:\n",
    "        pred = gmm_cl.predictions[i]\n",
    "        new_array = mapping[i]*np.ones(pred.shape)\n",
    "        \n",
    "        complete_pred = np.append(complete_pred, pred)\n",
    "        complete_true = np.append(complete_true, new_array)\n",
    "        \n",
    "    conf_mat = confusion_matrix(complete_pred, complete_true)\n",
    "    plt.figure()\n",
    "    sns.heatmap(conf_mat, annot=True, cbar=False)\n",
    "    plt.title(title)\n",
    "    plt.xlabel(\"Predicted Class\")\n",
    "    plt.ylabel(\"Actual Class\")\n",
    "    plt.show()\n",
    "    \n",
    "    acc = 100*np.sum(complete_pred==complete_true)/complete_true.size\n",
    "    return acc"
   ]
  },
  {
   "cell_type": "markdown",
   "metadata": {},
   "source": [
    "## Training GMMs"
   ]
  },
  {
   "cell_type": "markdown",
   "metadata": {},
   "source": [
    "### Q = 5"
   ]
  },
  {
   "cell_type": "code",
   "execution_count": 4,
   "metadata": {},
   "outputs": [
    {
     "data": {
      "application/vnd.jupyter.widget-view+json": {
       "model_id": "05e907d35f684662b30898be626b800e",
       "version_major": 2,
       "version_minor": 0
      },
      "text/plain": [
       "HBox(children=(FloatProgress(value=0.0, max=5.0), HTML(value='')))"
      ]
     },
     "metadata": {},
     "output_type": "display_data"
    },
    {
     "name": "stdout",
     "output_type": "stream",
     "text": [
      "\n"
     ]
    }
   ],
   "source": [
    "q = 5\n",
    "classes = [\"coast\", \"highway\", \"mountain\", \"opencountry\", \"tallbuilding\"]\n",
    "for class_name in tqdm(classes):\n",
    "    gmm = GMM_vl(q=q, tol=1e-6)\n",
    "    gmm.fit(class_name=class_name, epochs=30, diag=True)\n",
    "    \n",
    "    fname = \"results/\" + class_name + \"_diag_q_\"+str(q)+\".pickle\"\n",
    "    fin = open(fname, \"wb\")\n",
    "    pickle.dump(gmm, fin)\n",
    "    fin.close()"
   ]
  },
  {
   "cell_type": "code",
   "execution_count": 5,
   "metadata": {},
   "outputs": [],
   "source": [
    "classes = [\"coast\", \"highway\", \"mountain\", \"opencountry\", \"tallbuilding\"]\n",
    "class_wise_gmm = {}\n",
    "for class_name in classes:\n",
    "    fname = \"results/\" + class_name + \"_diag_q_\"+str(q)+\".pickle\"\n",
    "    fout = open(fname, \"rb\")\n",
    "    gmm = pickle.load(fout)\n",
    "    fout.close()\n",
    "    \n",
    "    class_wise_gmm[class_name] = gmm"
   ]
  },
  {
   "cell_type": "code",
   "execution_count": 6,
   "metadata": {},
   "outputs": [
    {
     "data": {
      "text/html": [
       "<div>\n",
       "<style scoped>\n",
       "    .dataframe tbody tr th:only-of-type {\n",
       "        vertical-align: middle;\n",
       "    }\n",
       "\n",
       "    .dataframe tbody tr th {\n",
       "        vertical-align: top;\n",
       "    }\n",
       "\n",
       "    .dataframe thead th {\n",
       "        text-align: right;\n",
       "    }\n",
       "</style>\n",
       "<table border=\"1\" class=\"dataframe\">\n",
       "  <thead>\n",
       "    <tr style=\"text-align: right;\">\n",
       "      <th></th>\n",
       "      <th>Accuracy</th>\n",
       "    </tr>\n",
       "  </thead>\n",
       "  <tbody>\n",
       "    <tr>\n",
       "      <th>coast</th>\n",
       "      <td>92.828685</td>\n",
       "    </tr>\n",
       "    <tr>\n",
       "      <th>highway</th>\n",
       "      <td>95.604396</td>\n",
       "    </tr>\n",
       "    <tr>\n",
       "      <th>mountain</th>\n",
       "      <td>94.636015</td>\n",
       "    </tr>\n",
       "    <tr>\n",
       "      <th>opencountry</th>\n",
       "      <td>95.121951</td>\n",
       "    </tr>\n",
       "    <tr>\n",
       "      <th>tallbuilding</th>\n",
       "      <td>95.582329</td>\n",
       "    </tr>\n",
       "  </tbody>\n",
       "</table>\n",
       "</div>"
      ],
      "text/plain": [
       "               Accuracy\n",
       "coast         92.828685\n",
       "highway       95.604396\n",
       "mountain      94.636015\n",
       "opencountry   95.121951\n",
       "tallbuilding  95.582329"
      ]
     },
     "metadata": {},
     "output_type": "display_data"
    },
    {
     "data": {
      "image/png": "[encoded data removed]",
      "text/plain": [
       "<Figure size 432x432 with 1 Axes>"
      ]
     },
     "metadata": {
      "needs_background": "light"
     },
     "output_type": "display_data"
    },
    {
     "data": {
      "text/html": [
       "<div>\n",
       "<style scoped>\n",
       "    .dataframe tbody tr th:only-of-type {\n",
       "        vertical-align: middle;\n",
       "    }\n",
       "\n",
       "    .dataframe tbody tr th {\n",
       "        vertical-align: top;\n",
       "    }\n",
       "\n",
       "    .dataframe thead th {\n",
       "        text-align: right;\n",
       "    }\n",
       "</style>\n",
       "<table border=\"1\" class=\"dataframe\">\n",
       "  <thead>\n",
       "    <tr style=\"text-align: right;\">\n",
       "      <th></th>\n",
       "      <th>Accuracy</th>\n",
       "    </tr>\n",
       "  </thead>\n",
       "  <tbody>\n",
       "    <tr>\n",
       "      <th>coast</th>\n",
       "      <td>68.493151</td>\n",
       "    </tr>\n",
       "    <tr>\n",
       "      <th>highway</th>\n",
       "      <td>69.230769</td>\n",
       "    </tr>\n",
       "    <tr>\n",
       "      <th>mountain</th>\n",
       "      <td>77.333333</td>\n",
       "    </tr>\n",
       "    <tr>\n",
       "      <th>opencountry</th>\n",
       "      <td>74.390244</td>\n",
       "    </tr>\n",
       "    <tr>\n",
       "      <th>tallbuilding</th>\n",
       "      <td>77.464789</td>\n",
       "    </tr>\n",
       "  </tbody>\n",
       "</table>\n",
       "</div>"
      ],
      "text/plain": [
       "               Accuracy\n",
       "coast         68.493151\n",
       "highway       69.230769\n",
       "mountain      77.333333\n",
       "opencountry   74.390244\n",
       "tallbuilding  77.464789"
      ]
     },
     "metadata": {},
     "output_type": "display_data"
    },
    {
     "data": {
      "image/png": "[encoded data removed]",
      "text/plain": [
       "<Figure size 432x432 with 1 Axes>"
      ]
     },
     "metadata": {
      "needs_background": "light"
     },
     "output_type": "display_data"
    },
    {
     "name": "stdout",
     "output_type": "stream",
     "text": [
      "Training Accuracy: 94.71544715447155\n",
      "Dev Accuracy: 73.65439093484419\n"
     ]
    }
   ],
   "source": [
    "gmm_cl = GMM_vl_classifier()\n",
    "gmm_cl.compile(class_wise_gmm)\n",
    "gmm_cl.classify()\n",
    "train_acc = pd.DataFrame(gmm_cl.accuracy, [\"Accuracy\"]).T\n",
    "display(train_acc)\n",
    "train_acc = get_confusion_matrices(gmm_cl, title=\"Training Confusion Matrix\")\n",
    "\n",
    "gmm_cl.classify(dev=True)\n",
    "dev_acc = pd.DataFrame(gmm_cl.accuracy, [\"Accuracy\"]).T\n",
    "display(dev_acc)\n",
    "dev_acc = get_confusion_matrices(gmm_cl, title=\"Dev Confusion Matrix\")\n",
    "\n",
    "print(\"Training Accuracy:\", train_acc)\n",
    "print(\"Dev Accuracy:\", dev_acc)"
   ]
  },
  {
   "cell_type": "markdown",
   "metadata": {},
   "source": [
    "### Q = 20"
   ]
  },
  {
   "cell_type": "code",
   "execution_count": 7,
   "metadata": {},
   "outputs": [
    {
     "data": {
      "application/vnd.jupyter.widget-view+json": {
       "model_id": "d469de516024422aa04bce4d26645c0b",
       "version_major": 2,
       "version_minor": 0
      },
      "text/plain": [
       "HBox(children=(FloatProgress(value=0.0, max=5.0), HTML(value='')))"
      ]
     },
     "metadata": {},
     "output_type": "display_data"
    },
    {
     "name": "stdout",
     "output_type": "stream",
     "text": [
      "\n"
     ]
    }
   ],
   "source": [
    "q = 20\n",
    "classes = [\"coast\", \"highway\", \"mountain\", \"opencountry\", \"tallbuilding\"]\n",
    "for class_name in tqdm(classes):\n",
    "    gmm = GMM_vl(q=q, tol=1e-6)\n",
    "    gmm.fit(class_name=class_name, epochs=30, diag=True)\n",
    "    \n",
    "    fname = \"results/\" + class_name + \"_diag_q_\"+str(q)+\".pickle\"\n",
    "    fin = open(fname, \"wb\")\n",
    "    pickle.dump(gmm, fin)\n",
    "    fin.close()"
   ]
  },
  {
   "cell_type": "code",
   "execution_count": 8,
   "metadata": {},
   "outputs": [],
   "source": [
    "classes = [\"coast\", \"highway\", \"mountain\", \"opencountry\", \"tallbuilding\"]\n",
    "class_wise_gmm = {}\n",
    "for class_name in classes:\n",
    "    fname = \"results/\" + class_name + \"_diag_q_\"+str(q)+\".pickle\"\n",
    "    fout = open(fname, \"rb\")\n",
    "    gmm = pickle.load(fout)\n",
    "    fout.close()\n",
    "    \n",
    "    class_wise_gmm[class_name] = gmm"
   ]
  },
  {
   "cell_type": "code",
   "execution_count": 9,
   "metadata": {},
   "outputs": [
    {
     "data": {
      "text/html": [
       "<div>\n",
       "<style scoped>\n",
       "    .dataframe tbody tr th:only-of-type {\n",
       "        vertical-align: middle;\n",
       "    }\n",
       "\n",
       "    .dataframe tbody tr th {\n",
       "        vertical-align: top;\n",
       "    }\n",
       "\n",
       "    .dataframe thead th {\n",
       "        text-align: right;\n",
       "    }\n",
       "</style>\n",
       "<table border=\"1\" class=\"dataframe\">\n",
       "  <thead>\n",
       "    <tr style=\"text-align: right;\">\n",
       "      <th></th>\n",
       "      <th>Accuracy</th>\n",
       "    </tr>\n",
       "  </thead>\n",
       "  <tbody>\n",
       "    <tr>\n",
       "      <th>coast</th>\n",
       "      <td>100.000000</td>\n",
       "    </tr>\n",
       "    <tr>\n",
       "      <th>highway</th>\n",
       "      <td>100.000000</td>\n",
       "    </tr>\n",
       "    <tr>\n",
       "      <th>mountain</th>\n",
       "      <td>100.000000</td>\n",
       "    </tr>\n",
       "    <tr>\n",
       "      <th>opencountry</th>\n",
       "      <td>100.000000</td>\n",
       "    </tr>\n",
       "    <tr>\n",
       "      <th>tallbuilding</th>\n",
       "      <td>99.598394</td>\n",
       "    </tr>\n",
       "  </tbody>\n",
       "</table>\n",
       "</div>"
      ],
      "text/plain": [
       "                Accuracy\n",
       "coast         100.000000\n",
       "highway       100.000000\n",
       "mountain      100.000000\n",
       "opencountry   100.000000\n",
       "tallbuilding   99.598394"
      ]
     },
     "metadata": {},
     "output_type": "display_data"
    },
    {
     "data": {
      "image/png": "[encoded data removed]",
      "text/plain": [
       "<Figure size 432x432 with 1 Axes>"
      ]
     },
     "metadata": {
      "needs_background": "light"
     },
     "output_type": "display_data"
    },
    {
     "data": {
      "text/html": [
       "<div>\n",
       "<style scoped>\n",
       "    .dataframe tbody tr th:only-of-type {\n",
       "        vertical-align: middle;\n",
       "    }\n",
       "\n",
       "    .dataframe tbody tr th {\n",
       "        vertical-align: top;\n",
       "    }\n",
       "\n",
       "    .dataframe thead th {\n",
       "        text-align: right;\n",
       "    }\n",
       "</style>\n",
       "<table border=\"1\" class=\"dataframe\">\n",
       "  <thead>\n",
       "    <tr style=\"text-align: right;\">\n",
       "      <th></th>\n",
       "      <th>Accuracy</th>\n",
       "    </tr>\n",
       "  </thead>\n",
       "  <tbody>\n",
       "    <tr>\n",
       "      <th>coast</th>\n",
       "      <td>75.342466</td>\n",
       "    </tr>\n",
       "    <tr>\n",
       "      <th>highway</th>\n",
       "      <td>46.153846</td>\n",
       "    </tr>\n",
       "    <tr>\n",
       "      <th>mountain</th>\n",
       "      <td>73.333333</td>\n",
       "    </tr>\n",
       "    <tr>\n",
       "      <th>opencountry</th>\n",
       "      <td>71.951220</td>\n",
       "    </tr>\n",
       "    <tr>\n",
       "      <th>tallbuilding</th>\n",
       "      <td>90.140845</td>\n",
       "    </tr>\n",
       "  </tbody>\n",
       "</table>\n",
       "</div>"
      ],
      "text/plain": [
       "               Accuracy\n",
       "coast         75.342466\n",
       "highway       46.153846\n",
       "mountain      73.333333\n",
       "opencountry   71.951220\n",
       "tallbuilding  90.140845"
      ]
     },
     "metadata": {},
     "output_type": "display_data"
    },
    {
     "data": {
      "image/png": "[encoded data removed]",
      "text/plain": [
       "<Figure size 432x432 with 1 Axes>"
      ]
     },
     "metadata": {
      "needs_background": "light"
     },
     "output_type": "display_data"
    },
    {
     "name": "stdout",
     "output_type": "stream",
     "text": [
      "Training Accuracy: 99.91869918699187\n",
      "Dev Accuracy: 72.80453257790369\n"
     ]
    }
   ],
   "source": [
    "gmm_cl = GMM_vl_classifier()\n",
    "gmm_cl.compile(class_wise_gmm)\n",
    "gmm_cl.classify()\n",
    "train_acc = pd.DataFrame(gmm_cl.accuracy, [\"Accuracy\"]).T\n",
    "display(train_acc)\n",
    "train_acc = get_confusion_matrices(gmm_cl, title=\"Training Confusion Matrix\")\n",
    "\n",
    "gmm_cl.classify(dev=True)\n",
    "dev_acc = pd.DataFrame(gmm_cl.accuracy, [\"Accuracy\"]).T\n",
    "display(dev_acc)\n",
    "dev_acc = get_confusion_matrices(gmm_cl, title=\"Dev Confusion Matrix\")\n",
    "\n",
    "print(\"Training Accuracy:\", train_acc)\n",
    "print(\"Dev Accuracy:\", dev_acc)"
   ]
  },
  {
   "cell_type": "markdown",
   "metadata": {},
   "source": [
    "### Q = 3"
   ]
  },
  {
   "cell_type": "code",
   "execution_count": 10,
   "metadata": {},
   "outputs": [
    {
     "data": {
      "application/vnd.jupyter.widget-view+json": {
       "model_id": "4cb956f2216141319527fb4610496345",
       "version_major": 2,
       "version_minor": 0
      },
      "text/plain": [
       "HBox(children=(FloatProgress(value=0.0, max=5.0), HTML(value='')))"
      ]
     },
     "metadata": {},
     "output_type": "display_data"
    },
    {
     "name": "stdout",
     "output_type": "stream",
     "text": [
      "\n"
     ]
    }
   ],
   "source": [
    "q = 3\n",
    "classes = [\"coast\", \"highway\", \"mountain\", \"opencountry\", \"tallbuilding\"]\n",
    "for class_name in tqdm(classes):\n",
    "    gmm = GMM_vl(q=q, tol=1e-6)\n",
    "    gmm.fit(class_name=class_name, epochs=30, diag=True)\n",
    "    \n",
    "    fname = \"results/\" + class_name + \"_diag_q_\"+str(q)+\".pickle\"\n",
    "    fin = open(fname, \"wb\")\n",
    "    pickle.dump(gmm, fin)\n",
    "    fin.close()"
   ]
  },
  {
   "cell_type": "code",
   "execution_count": 11,
   "metadata": {},
   "outputs": [],
   "source": [
    "classes = [\"coast\", \"highway\", \"mountain\", \"opencountry\", \"tallbuilding\"]\n",
    "class_wise_gmm = {}\n",
    "for class_name in classes:\n",
    "    fname = \"results/\" + class_name + \"_diag_q_\"+str(q)+\".pickle\"\n",
    "    fout = open(fname, \"rb\")\n",
    "    gmm = pickle.load(fout)\n",
    "    fout.close()\n",
    "    \n",
    "    class_wise_gmm[class_name] = gmm"
   ]
  },
  {
   "cell_type": "code",
   "execution_count": 12,
   "metadata": {},
   "outputs": [
    {
     "data": {
      "text/html": [
       "<div>\n",
       "<style scoped>\n",
       "    .dataframe tbody tr th:only-of-type {\n",
       "        vertical-align: middle;\n",
       "    }\n",
       "\n",
       "    .dataframe tbody tr th {\n",
       "        vertical-align: top;\n",
       "    }\n",
       "\n",
       "    .dataframe thead th {\n",
       "        text-align: right;\n",
       "    }\n",
       "</style>\n",
       "<table border=\"1\" class=\"dataframe\">\n",
       "  <thead>\n",
       "    <tr style=\"text-align: right;\">\n",
       "      <th></th>\n",
       "      <th>Accuracy</th>\n",
       "    </tr>\n",
       "  </thead>\n",
       "  <tbody>\n",
       "    <tr>\n",
       "      <th>coast</th>\n",
       "      <td>85.657371</td>\n",
       "    </tr>\n",
       "    <tr>\n",
       "      <th>highway</th>\n",
       "      <td>87.912088</td>\n",
       "    </tr>\n",
       "    <tr>\n",
       "      <th>mountain</th>\n",
       "      <td>88.505747</td>\n",
       "    </tr>\n",
       "    <tr>\n",
       "      <th>opencountry</th>\n",
       "      <td>90.592334</td>\n",
       "    </tr>\n",
       "    <tr>\n",
       "      <th>tallbuilding</th>\n",
       "      <td>88.755020</td>\n",
       "    </tr>\n",
       "  </tbody>\n",
       "</table>\n",
       "</div>"
      ],
      "text/plain": [
       "               Accuracy\n",
       "coast         85.657371\n",
       "highway       87.912088\n",
       "mountain      88.505747\n",
       "opencountry   90.592334\n",
       "tallbuilding  88.755020"
      ]
     },
     "metadata": {},
     "output_type": "display_data"
    },
    {
     "data": {
      "image/png": "[encoded data removed]",
      "text/plain": [
       "<Figure size 432x432 with 1 Axes>"
      ]
     },
     "metadata": {
      "needs_background": "light"
     },
     "output_type": "display_data"
    },
    {
     "data": {
      "text/html": [
       "<div>\n",
       "<style scoped>\n",
       "    .dataframe tbody tr th:only-of-type {\n",
       "        vertical-align: middle;\n",
       "    }\n",
       "\n",
       "    .dataframe tbody tr th {\n",
       "        vertical-align: top;\n",
       "    }\n",
       "\n",
       "    .dataframe thead th {\n",
       "        text-align: right;\n",
       "    }\n",
       "</style>\n",
       "<table border=\"1\" class=\"dataframe\">\n",
       "  <thead>\n",
       "    <tr style=\"text-align: right;\">\n",
       "      <th></th>\n",
       "      <th>Accuracy</th>\n",
       "    </tr>\n",
       "  </thead>\n",
       "  <tbody>\n",
       "    <tr>\n",
       "      <th>coast</th>\n",
       "      <td>61.643836</td>\n",
       "    </tr>\n",
       "    <tr>\n",
       "      <th>highway</th>\n",
       "      <td>65.384615</td>\n",
       "    </tr>\n",
       "    <tr>\n",
       "      <th>mountain</th>\n",
       "      <td>70.666667</td>\n",
       "    </tr>\n",
       "    <tr>\n",
       "      <th>opencountry</th>\n",
       "      <td>78.048780</td>\n",
       "    </tr>\n",
       "    <tr>\n",
       "      <th>tallbuilding</th>\n",
       "      <td>76.056338</td>\n",
       "    </tr>\n",
       "  </tbody>\n",
       "</table>\n",
       "</div>"
      ],
      "text/plain": [
       "               Accuracy\n",
       "coast         61.643836\n",
       "highway       65.384615\n",
       "mountain      70.666667\n",
       "opencountry   78.048780\n",
       "tallbuilding  76.056338"
      ]
     },
     "metadata": {},
     "output_type": "display_data"
    },
    {
     "data": {
      "image/png": "[encoded data removed]",
      "text/plain": [
       "<Figure size 432x432 with 1 Axes>"
      ]
     },
     "metadata": {
      "needs_background": "light"
     },
     "output_type": "display_data"
    },
    {
     "name": "stdout",
     "output_type": "stream",
     "text": [
      "Training Accuracy: 88.3739837398374\n",
      "Dev Accuracy: 70.8215297450425\n"
     ]
    }
   ],
   "source": [
    "gmm_cl = GMM_vl_classifier()\n",
    "gmm_cl.compile(class_wise_gmm)\n",
    "gmm_cl.classify()\n",
    "train_acc = pd.DataFrame(gmm_cl.accuracy, [\"Accuracy\"]).T\n",
    "display(train_acc)\n",
    "train_acc = get_confusion_matrices(gmm_cl, title=\"Training Confusion Matrix\")\n",
    "\n",
    "gmm_cl.classify(dev=True)\n",
    "dev_acc = pd.DataFrame(gmm_cl.accuracy, [\"Accuracy\"]).T\n",
    "display(dev_acc)\n",
    "dev_acc = get_confusion_matrices(gmm_cl, title=\"Dev Confusion Matrix\")\n",
    "\n",
    "print(\"Training Accuracy:\", train_acc)\n",
    "print(\"Dev Accuracy:\", dev_acc)"
   ]
  },
  {
   "cell_type": "markdown",
   "metadata": {},
   "source": [
    "### Q = 14"
   ]
  },
  {
   "cell_type": "code",
   "execution_count": 13,
   "metadata": {},
   "outputs": [
    {
     "data": {
      "application/vnd.jupyter.widget-view+json": {
       "model_id": "2a7f2c284cf84050b15a4a627b305143",
       "version_major": 2,
       "version_minor": 0
      },
      "text/plain": [
       "HBox(children=(FloatProgress(value=0.0, max=5.0), HTML(value='')))"
      ]
     },
     "metadata": {},
     "output_type": "display_data"
    },
    {
     "name": "stdout",
     "output_type": "stream",
     "text": [
      "\n"
     ]
    }
   ],
   "source": [
    "q = 14\n",
    "classes = [\"coast\", \"highway\", \"mountain\", \"opencountry\", \"tallbuilding\"]\n",
    "for class_name in tqdm(classes):\n",
    "    gmm = GMM_vl(q=q, tol=1e-6)\n",
    "    gmm.fit(class_name=class_name, epochs=30, diag=True)\n",
    "    \n",
    "    fname = \"results/\" + class_name + \"_diag_q_\"+str(q)+\".pickle\"\n",
    "    fin = open(fname, \"wb\")\n",
    "    pickle.dump(gmm, fin)\n",
    "    fin.close()"
   ]
  },
  {
   "cell_type": "code",
   "execution_count": 14,
   "metadata": {},
   "outputs": [],
   "source": [
    "classes = [\"coast\", \"highway\", \"mountain\", \"opencountry\", \"tallbuilding\"]\n",
    "class_wise_gmm = {}\n",
    "for class_name in classes:\n",
    "    fname = \"results/\" + class_name + \"_diag_q_\" + str(q) + \".pickle\"\n",
    "    fout = open(fname, \"rb\")\n",
    "    gmm = pickle.load(fout)\n",
    "    fout.close()\n",
    "    \n",
    "    class_wise_gmm[class_name] = gmm"
   ]
  },
  {
   "cell_type": "code",
   "execution_count": 15,
   "metadata": {},
   "outputs": [
    {
     "data": {
      "text/html": [
       "<div>\n",
       "<style scoped>\n",
       "    .dataframe tbody tr th:only-of-type {\n",
       "        vertical-align: middle;\n",
       "    }\n",
       "\n",
       "    .dataframe tbody tr th {\n",
       "        vertical-align: top;\n",
       "    }\n",
       "\n",
       "    .dataframe thead th {\n",
       "        text-align: right;\n",
       "    }\n",
       "</style>\n",
       "<table border=\"1\" class=\"dataframe\">\n",
       "  <thead>\n",
       "    <tr style=\"text-align: right;\">\n",
       "      <th></th>\n",
       "      <th>Accuracy</th>\n",
       "    </tr>\n",
       "  </thead>\n",
       "  <tbody>\n",
       "    <tr>\n",
       "      <th>coast</th>\n",
       "      <td>99.203187</td>\n",
       "    </tr>\n",
       "    <tr>\n",
       "      <th>highway</th>\n",
       "      <td>100.000000</td>\n",
       "    </tr>\n",
       "    <tr>\n",
       "      <th>mountain</th>\n",
       "      <td>100.000000</td>\n",
       "    </tr>\n",
       "    <tr>\n",
       "      <th>opencountry</th>\n",
       "      <td>100.000000</td>\n",
       "    </tr>\n",
       "    <tr>\n",
       "      <th>tallbuilding</th>\n",
       "      <td>99.196787</td>\n",
       "    </tr>\n",
       "  </tbody>\n",
       "</table>\n",
       "</div>"
      ],
      "text/plain": [
       "                Accuracy\n",
       "coast          99.203187\n",
       "highway       100.000000\n",
       "mountain      100.000000\n",
       "opencountry   100.000000\n",
       "tallbuilding   99.196787"
      ]
     },
     "metadata": {},
     "output_type": "display_data"
    },
    {
     "data": {
      "image/png": "[encoded data removed]",
      "text/plain": [
       "<Figure size 432x432 with 1 Axes>"
      ]
     },
     "metadata": {
      "needs_background": "light"
     },
     "output_type": "display_data"
    },
    {
     "data": {
      "text/html": [
       "<div>\n",
       "<style scoped>\n",
       "    .dataframe tbody tr th:only-of-type {\n",
       "        vertical-align: middle;\n",
       "    }\n",
       "\n",
       "    .dataframe tbody tr th {\n",
       "        vertical-align: top;\n",
       "    }\n",
       "\n",
       "    .dataframe thead th {\n",
       "        text-align: right;\n",
       "    }\n",
       "</style>\n",
       "<table border=\"1\" class=\"dataframe\">\n",
       "  <thead>\n",
       "    <tr style=\"text-align: right;\">\n",
       "      <th></th>\n",
       "      <th>Accuracy</th>\n",
       "    </tr>\n",
       "  </thead>\n",
       "  <tbody>\n",
       "    <tr>\n",
       "      <th>coast</th>\n",
       "      <td>78.082192</td>\n",
       "    </tr>\n",
       "    <tr>\n",
       "      <th>highway</th>\n",
       "      <td>48.076923</td>\n",
       "    </tr>\n",
       "    <tr>\n",
       "      <th>mountain</th>\n",
       "      <td>66.666667</td>\n",
       "    </tr>\n",
       "    <tr>\n",
       "      <th>opencountry</th>\n",
       "      <td>74.390244</td>\n",
       "    </tr>\n",
       "    <tr>\n",
       "      <th>tallbuilding</th>\n",
       "      <td>87.323944</td>\n",
       "    </tr>\n",
       "  </tbody>\n",
       "</table>\n",
       "</div>"
      ],
      "text/plain": [
       "               Accuracy\n",
       "coast         78.082192\n",
       "highway       48.076923\n",
       "mountain      66.666667\n",
       "opencountry   74.390244\n",
       "tallbuilding  87.323944"
      ]
     },
     "metadata": {},
     "output_type": "display_data"
    },
    {
     "data": {
      "image/png": "[encoded data removed]",
      "text/plain": [
       "<Figure size 432x432 with 1 Axes>"
      ]
     },
     "metadata": {
      "needs_background": "light"
     },
     "output_type": "display_data"
    },
    {
     "name": "stdout",
     "output_type": "stream",
     "text": [
      "Training Accuracy: 99.67479674796748\n",
      "Dev Accuracy: 72.23796033994334\n"
     ]
    }
   ],
   "source": [
    "gmm_cl = GMM_vl_classifier()\n",
    "gmm_cl.compile(class_wise_gmm)\n",
    "gmm_cl.classify()\n",
    "train_acc = pd.DataFrame(gmm_cl.accuracy, [\"Accuracy\"]).T\n",
    "display(train_acc)\n",
    "train_acc = get_confusion_matrices(gmm_cl, title=\"Training Confusion Matrix\")\n",
    "\n",
    "gmm_cl.classify(dev=True)\n",
    "dev_acc = pd.DataFrame(gmm_cl.accuracy, [\"Accuracy\"]).T\n",
    "display(dev_acc)\n",
    "dev_acc = get_confusion_matrices(gmm_cl, title=\"Dev Confusion Matrix\")\n",
    "\n",
    "print(\"Training Accuracy:\", train_acc)\n",
    "print(\"Dev Accuracy:\", dev_acc)"
   ]
  },
  {
   "cell_type": "code",
   "execution_count": null,
   "metadata": {},
   "outputs": [],
   "source": []
  }
 ],
 "metadata": {
  "kernelspec": {
   "display_name": "Python 3",
   "language": "python",
   "name": "python3"
  },
  "language_info": {
   "codemirror_mode": {
    "name": "ipython",
    "version": 3
   },
   "file_extension": ".py",
   "mimetype": "text/x-python",
   "name": "python",
   "nbconvert_exporter": "python",
   "pygments_lexer": "ipython3",
   "version": "3.8.5"
  },
  "widgets": {
   "application/vnd.jupyter.widget-state+json": {
    "state": {},
    "version_major": 2,
    "version_minor": 0
   }
  }
 },
 "nbformat": 4,
 "nbformat_minor": 4
}
