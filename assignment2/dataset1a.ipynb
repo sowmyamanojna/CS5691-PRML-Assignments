{
 "cells": [
  {
   "cell_type": "code",
   "execution_count": 1,
   "metadata": {},
   "outputs": [],
   "source": [
    "import pandas as pd\n",
    "import numpy as np\n",
    "import matplotlib.pyplot as plt\n",
    "from collections import Counter\n",
    "%matplotlib inline"
   ]
  },
  {
   "cell_type": "markdown",
   "metadata": {},
   "source": [
    "#                                         Dataset 1a:"
   ]
  },
  {
   "cell_type": "markdown",
   "metadata": {},
   "source": [
    "### Importing the train, test and cross validation data sets"
   ]
  },
  {
   "cell_type": "code",
   "execution_count": 2,
   "metadata": {},
   "outputs": [],
   "source": [
    "col_names=[\"x1\",\"x2\",\"y\"]"
   ]
  },
  {
   "cell_type": "code",
   "execution_count": 3,
   "metadata": {},
   "outputs": [],
   "source": [
    "## Train data\n",
    "data1a=pd.read_csv(\"train.csv\",names=col_names)"
   ]
  },
  {
   "cell_type": "code",
   "execution_count": 4,
   "metadata": {},
   "outputs": [
    {
     "data": {
      "text/html": [
       "<div>\n",
       "<style scoped>\n",
       "    .dataframe tbody tr th:only-of-type {\n",
       "        vertical-align: middle;\n",
       "    }\n",
       "\n",
       "    .dataframe tbody tr th {\n",
       "        vertical-align: top;\n",
       "    }\n",
       "\n",
       "    .dataframe thead th {\n",
       "        text-align: right;\n",
       "    }\n",
       "</style>\n",
       "<table border=\"1\" class=\"dataframe\">\n",
       "  <thead>\n",
       "    <tr style=\"text-align: right;\">\n",
       "      <th></th>\n",
       "      <th>x1</th>\n",
       "      <th>x2</th>\n",
       "      <th>y</th>\n",
       "    </tr>\n",
       "  </thead>\n",
       "  <tbody>\n",
       "    <tr>\n",
       "      <th>0</th>\n",
       "      <td>-7.811425</td>\n",
       "      <td>1.910665</td>\n",
       "      <td>1.0</td>\n",
       "    </tr>\n",
       "    <tr>\n",
       "      <th>1</th>\n",
       "      <td>-0.856640</td>\n",
       "      <td>-9.639107</td>\n",
       "      <td>3.0</td>\n",
       "    </tr>\n",
       "    <tr>\n",
       "      <th>2</th>\n",
       "      <td>2.885077</td>\n",
       "      <td>4.785598</td>\n",
       "      <td>0.0</td>\n",
       "    </tr>\n",
       "    <tr>\n",
       "      <th>3</th>\n",
       "      <td>-1.405758</td>\n",
       "      <td>-7.364262</td>\n",
       "      <td>3.0</td>\n",
       "    </tr>\n",
       "    <tr>\n",
       "      <th>4</th>\n",
       "      <td>0.044472</td>\n",
       "      <td>-8.998423</td>\n",
       "      <td>3.0</td>\n",
       "    </tr>\n",
       "  </tbody>\n",
       "</table>\n",
       "</div>"
      ],
      "text/plain": [
       "         x1        x2    y\n",
       "0 -7.811425  1.910665  1.0\n",
       "1 -0.856640 -9.639107  3.0\n",
       "2  2.885077  4.785598  0.0\n",
       "3 -1.405758 -7.364262  3.0\n",
       "4  0.044472 -8.998423  3.0"
      ]
     },
     "execution_count": 4,
     "metadata": {},
     "output_type": "execute_result"
    }
   ],
   "source": [
    "data1a.head()"
   ]
  },
  {
   "cell_type": "code",
   "execution_count": 5,
   "metadata": {},
   "outputs": [],
   "source": [
    "## Splitting the columns of train data\n",
    "\n",
    "X1train=data1a[\"x1\"]\n",
    "X2train=data1a[\"x2\"]\n",
    "Ytrain=np.array(data1a[\"y\"])\n",
    "Xtrain=np.array(data1a.drop(\"y\",axis=1))"
   ]
  },
  {
   "cell_type": "code",
   "execution_count": 6,
   "metadata": {},
   "outputs": [
    {
     "data": {
      "text/plain": [
       "array([1., 3., 0., 2.])"
      ]
     },
     "execution_count": 6,
     "metadata": {},
     "output_type": "execute_result"
    }
   ],
   "source": [
    "## group labels \n",
    "data1a[\"y\"].unique()"
   ]
  },
  {
   "cell_type": "code",
   "execution_count": 7,
   "metadata": {},
   "outputs": [],
   "source": [
    "## Importing the test and cross-validation data\n",
    "data1a_dev=pd.read_csv(\"dev.csv\",names=col_names)"
   ]
  },
  {
   "cell_type": "code",
   "execution_count": 8,
   "metadata": {},
   "outputs": [],
   "source": [
    "## Function to split a given dataset into test and cross-validation\n",
    "\n",
    "def create_datasets(data,cv_size):\n",
    "    data.sample(frac=1).reset_index(drop=True)\n",
    "    data_cv=data[0:cv_size]\n",
    "    data_test=data[cv_size:]\n",
    "    return(data_cv,data_test)"
   ]
  },
  {
   "cell_type": "code",
   "execution_count": 9,
   "metadata": {},
   "outputs": [],
   "source": [
    "def euclidean(p1,p2):\n",
    "    d=np.linalg.norm(np.array(p1)-np.array(p2))\n",
    "    return d"
   ]
  },
  {
   "cell_type": "code",
   "execution_count": 10,
   "metadata": {},
   "outputs": [],
   "source": [
    "def accuracy(y_pred,y_actual):\n",
    "    true_count=0\n",
    "    for i in range(len(y_pred)):\n",
    "        if y_pred[i]==y_actual[i]:\n",
    "            true_count+=1;\n",
    "    return(true_count/len(y_pred))"
   ]
  },
  {
   "cell_type": "code",
   "execution_count": 11,
   "metadata": {},
   "outputs": [
    {
     "data": {
      "text/plain": [
       "(120, 3)"
      ]
     },
     "execution_count": 11,
     "metadata": {},
     "output_type": "execute_result"
    }
   ],
   "source": [
    "data1a_dev.shape"
   ]
  },
  {
   "cell_type": "code",
   "execution_count": 12,
   "metadata": {},
   "outputs": [],
   "source": [
    "## Splitting in the ratio 70:30 (cv:test)\n",
    "data1a_cv,data1a_test=create_datasets(data1a_dev,84)"
   ]
  },
  {
   "cell_type": "markdown",
   "metadata": {},
   "source": [
    "### Plotting the train data set"
   ]
  },
  {
   "cell_type": "code",
   "execution_count": 13,
   "metadata": {},
   "outputs": [
    {
     "data": {
      "image/png": "[encoded data removed]",
      "text/plain": [
       "<Figure size 432x288 with 1 Axes>"
      ]
     },
     "metadata": {
      "needs_background": "light"
     },
     "output_type": "display_data"
    }
   ],
   "source": [
    "X_cv=np.array(data1a_cv.drop(\"y\",axis=1))\n",
    "Y_cv=np.array(data1a_cv[\"y\"])\n",
    "X_test=np.array(data1a_test.drop(\"y\",axis=1))\n",
    "Y_test=np.array(data1a_test[\"y\"])\n",
    "\n",
    "plt.figure()\n",
    "plt.scatter(X1train[Ytrain==0],X2train[Ytrain==0],label=\"y=0\")\n",
    "plt.scatter(X1train[Ytrain==1],X2train[Ytrain==1],label=\"y=1\")\n",
    "plt.scatter(X1train[Ytrain==2],X2train[Ytrain==2],label=\"y=2\")\n",
    "plt.scatter(X1train[Ytrain==3],X2train[Ytrain==3],label=\"y=3\")\n",
    "plt.legend()\n",
    "plt.xlabel(\"X1\")\n",
    "plt.ylabel(\"X2\")\n",
    "plt.title(\"Scatter plot of data 1a\")\n",
    "plt.savefig(\"Scatter plot of data_1a.jpg\")\n",
    "plt.show()"
   ]
  },
  {
   "cell_type": "markdown",
   "metadata": {},
   "source": [
    "# K Nearest Neighbour Classifier for dataset 1a:"
   ]
  },
  {
   "cell_type": "code",
   "execution_count": 14,
   "metadata": {},
   "outputs": [],
   "source": [
    "def knn(x,y,test,k):\n",
    "    distances=[]\n",
    "    for i in range(len(x)):\n",
    "        d=euclidean(x[i],test)\n",
    "        l=(d,x[i],y[i])\n",
    "        distances.append(l)\n",
    "    distances.sort(key = lambda x:x[0])\n",
    "    count=Counter()\n",
    "    for i in distances[:k]:\n",
    "        count[i[2]]+=1\n",
    "    pred=count.most_common(1)[0][0]\n",
    "    return(distances[:k],pred)\n",
    "    "
   ]
  },
  {
   "cell_type": "markdown",
   "metadata": {},
   "source": [
    "### KNN on given cross-validation and test datasets:"
   ]
  },
  {
   "cell_type": "code",
   "execution_count": 15,
   "metadata": {},
   "outputs": [],
   "source": [
    "k_list=[1,7,15]\n",
    "Accuracy_cv=[]\n",
    "Accuracy_train=[]\n",
    "Accuracy_test=[]"
   ]
  },
  {
   "cell_type": "code",
   "execution_count": 17,
   "metadata": {},
   "outputs": [],
   "source": [
    "## iterating over k-values\n",
    "for i in k_list:\n",
    "    ycv_pred=[]\n",
    "    for j in X_cv:\n",
    "        ycv_pred.append(knn(Xtrain,Ytrain,j,i)[1])\n",
    "    ytest_pred=[]\n",
    "    for j in X_test:\n",
    "        ytest_pred.append(knn(Xtrain,Ytrain,j,i)[1])\n",
    "    ytrain_pred=[]\n",
    "    for j in Xtrain:\n",
    "        ytrain_pred.append(knn(Xtrain,Ytrain,j,i)[1])\n",
    "    Accuracy_cv.append(accuracy(Y_cv,ycv_pred))\n",
    "    Accuracy_test.append(accuracy(Y_test,ytest_pred))\n",
    "    Accuracy_train.append(accuracy(Ytrain,ytrain_pred))"
   ]
  },
  {
   "cell_type": "code",
   "execution_count": 18,
   "metadata": {},
   "outputs": [],
   "source": [
    "accuracy_table_knn=pd.DataFrame(list(zip(k_list,Accuracy_train,Accuracy_cv,Accuracy_test)),columns=[\"k-value\", \"Accuracy train\",\"Accuracy CV\",\"Accuracy test\"])"
   ]
  },
  {
   "cell_type": "code",
   "execution_count": 19,
   "metadata": {},
   "outputs": [
    {
     "data": {
      "text/html": [
       "<div>\n",
       "<style scoped>\n",
       "    .dataframe tbody tr th:only-of-type {\n",
       "        vertical-align: middle;\n",
       "    }\n",
       "\n",
       "    .dataframe tbody tr th {\n",
       "        vertical-align: top;\n",
       "    }\n",
       "\n",
       "    .dataframe thead th {\n",
       "        text-align: right;\n",
       "    }\n",
       "</style>\n",
       "<table border=\"1\" class=\"dataframe\">\n",
       "  <thead>\n",
       "    <tr style=\"text-align: right;\">\n",
       "      <th></th>\n",
       "      <th>k-value</th>\n",
       "      <th>Accuracy train</th>\n",
       "      <th>Accuracy CV</th>\n",
       "      <th>Accuracy test</th>\n",
       "    </tr>\n",
       "  </thead>\n",
       "  <tbody>\n",
       "    <tr>\n",
       "      <th>0</th>\n",
       "      <td>1</td>\n",
       "      <td>1.0</td>\n",
       "      <td>1.0</td>\n",
       "      <td>1.0</td>\n",
       "    </tr>\n",
       "    <tr>\n",
       "      <th>1</th>\n",
       "      <td>7</td>\n",
       "      <td>1.0</td>\n",
       "      <td>1.0</td>\n",
       "      <td>1.0</td>\n",
       "    </tr>\n",
       "    <tr>\n",
       "      <th>2</th>\n",
       "      <td>15</td>\n",
       "      <td>1.0</td>\n",
       "      <td>1.0</td>\n",
       "      <td>1.0</td>\n",
       "    </tr>\n",
       "  </tbody>\n",
       "</table>\n",
       "</div>"
      ],
      "text/plain": [
       "   k-value  Accuracy train  Accuracy CV  Accuracy test\n",
       "0        1             1.0          1.0            1.0\n",
       "1        7             1.0          1.0            1.0\n",
       "2       15             1.0          1.0            1.0"
      ]
     },
     "execution_count": 19,
     "metadata": {},
     "output_type": "execute_result"
    }
   ],
   "source": [
    "accuracy_table_knn"
   ]
  },
  {
   "cell_type": "code",
   "execution_count": 35,
   "metadata": {},
   "outputs": [
    {
     "data": {
      "text/plain": [
       "array([[0.03181672, 0.01238728],\n",
       "       [0.01238728, 0.02910215]])"
      ]
     },
     "execution_count": 35,
     "metadata": {},
     "output_type": "execute_result"
    }
   ],
   "source": [
    "np.linalg.inv(np.cov(Xtrain,rowvar=False))"
   ]
  },
  {
   "cell_type": "markdown",
   "metadata": {},
   "source": [
    "# Naive Bayes Classifier:"
   ]
  },
  {
   "cell_type": "code",
   "execution_count": 36,
   "metadata": {},
   "outputs": [],
   "source": [
    "def seperate_by_classval(data):\n",
    "    ## the target variable must be stored in a column named \"y\"\n",
    "    class_vals=list(data[\"y\"].unique())\n",
    "    seperated=dict()\n",
    "    features=data.drop('y',axis=1)\n",
    "    Y=np.array(data[\"y\"])\n",
    "    ## creates a key value corresponding to each class label\n",
    "    for i in class_vals:\n",
    "        seperated[i]=features[Y==i];\n",
    "    return(seperated)"
   ]
  },
  {
   "cell_type": "code",
   "execution_count": 103,
   "metadata": {},
   "outputs": [],
   "source": [
    "def priori(data):\n",
    "    seperated_data=seperate_by_classval(data)\n",
    "    probs=dict()\n",
    "    for i in seperated_data.keys():\n",
    "        probs[i]=len(seperated_data[i])/len(data);\n",
    "    return probs"
   ]
  },
  {
   "cell_type": "code",
   "execution_count": 37,
   "metadata": {},
   "outputs": [],
   "source": [
    "def mu_sigma(data):\n",
    "    seperated_data=seperate_by_classval(data)\n",
    "    mean=dict()\n",
    "    sigma={}\n",
    "    for i in list(seperated_data.keys()):\n",
    "        features=seperated_data[i]\n",
    "        mean[i]=[]\n",
    "        sigma[i]=[]\n",
    "        for j in range(seperated_data[i].shape[1]):\n",
    "            mean[i].append(np.mean(features.iloc[:,j]))\n",
    "            sigma[i].append(np.std(features.iloc[:,j]))\n",
    "    return(mean,sigma)  "
   ]
  },
  {
   "cell_type": "code",
   "execution_count": 117,
   "metadata": {},
   "outputs": [],
   "source": [
    "def gauss_val(x,cov_matrix,mean):\n",
    "    x=np.array(x)\n",
    "    A=(x-mean)\n",
    "    B=np.linalg.inv(cov_matrix)\n",
    "    C=np.transpose(A)\n",
    "    det=np.linalg.det(cov_matrix)\n",
    "    AB=A.dot(B)\n",
    "    m=AB.dot(C)\n",
    "    \n",
    "    exp_term=np.exp(-m/2)\n",
    "    d=2\n",
    "    return (exp_term/(2*np.pi*det**0.5))"
   ]
  },
  {
   "cell_type": "markdown",
   "metadata": {},
   "source": [
    "## Seperating the data according to class label:"
   ]
  },
  {
   "cell_type": "code",
   "execution_count": 107,
   "metadata": {},
   "outputs": [],
   "source": [
    "seperated_data=seperate_by_classval(data1a)"
   ]
  },
  {
   "cell_type": "code",
   "execution_count": 114,
   "metadata": {},
   "outputs": [],
   "source": [
    "### Labels: \n",
    "labels=list(data1a[\"y\"].unique())"
   ]
  },
  {
   "cell_type": "code",
   "execution_count": 133,
   "metadata": {},
   "outputs": [],
   "source": [
    "### Initiating the accuracy table\n",
    "accuracy_table_bayes=pd.DataFrame()\n",
    "accuracy_table_bayes[\"method\"]=[\"Ci=Cj=sigma**2*I\",\"Ci=Cj=C\",\"Ci!=Cj\"]"
   ]
  },
  {
   "cell_type": "code",
   "execution_count": 134,
   "metadata": {},
   "outputs": [],
   "source": [
    "accuracy_table_bayes[\"Train Accuracy\"]=[0,0,0]\n",
    "accuracy_table_bayes[\"CV accuracy\"]=[0,0,0]\n",
    "accuracy_table_bayes[\"Test Accuracy\"]=[0,0,0]"
   ]
  },
  {
   "cell_type": "markdown",
   "metadata": {},
   "source": [
    "### Case 1: Ci=Cj=sigma**2 * I"
   ]
  },
  {
   "cell_type": "code",
   "execution_count": 141,
   "metadata": {},
   "outputs": [],
   "source": [
    "sigma=mu_sigma(data1a)[1]"
   ]
  },
  {
   "cell_type": "code",
   "execution_count": 142,
   "metadata": {},
   "outputs": [
    {
     "data": {
      "text/plain": [
       "{1.0: [0.8529220437179768, 0.7215491105095201],\n",
       " 3.0: [0.8376269083469753, 0.7864905414985229],\n",
       " 0.0: [0.8200768047613736, 0.88353710497142],\n",
       " 2.0: [0.8736650746983485, 0.8171549339311917]}"
      ]
     },
     "execution_count": 142,
     "metadata": {},
     "output_type": "execute_result"
    }
   ],
   "source": [
    "sigma"
   ]
  },
  {
   "cell_type": "code",
   "execution_count": 143,
   "metadata": {},
   "outputs": [],
   "source": [
    "var=0\n",
    "for i in labels:\n",
    "    var+=sigma[i][0]**2+sigma[i][1]**2\n",
    "    \n",
    "var=var/(4*2)    "
   ]
  },
  {
   "cell_type": "code",
   "execution_count": 144,
   "metadata": {},
   "outputs": [],
   "source": [
    "def predictor1(x):\n",
    "    pyi_x={}\n",
    "    pyi=priori(data1a)\n",
    "    means=mu_sigma(data1a)[0]\n",
    "    for i in labels:\n",
    "        pyi_x[i]=pyi[i]*gauss_val(x,var*np.eye(2),means[i])\n",
    "    val=sum(pyi_x.values())\n",
    "    p=0\n",
    "    for i in labels:\n",
    "        pyi_x[i]/=val\n",
    "        if pyi_x[i]>p:\n",
    "            prediction=i\n",
    "            p=pyi_x[i]\n",
    "        \n",
    "    \n",
    "    return(pyi_x,prediction)"
   ]
  },
  {
   "cell_type": "code",
   "execution_count": 146,
   "metadata": {},
   "outputs": [
    {
     "data": {
      "text/plain": [
       "({1.0: 1.0,\n",
       "  3.0: 1.0339724783218814e-87,\n",
       "  0.0: 2.992831771063364e-54,\n",
       "  2.0: 8.318727151722445e-172},\n",
       " 1.0)"
      ]
     },
     "execution_count": 146,
     "metadata": {},
     "output_type": "execute_result"
    }
   ],
   "source": [
    "predictor1([-10,5])"
   ]
  },
  {
   "cell_type": "code",
   "execution_count": 147,
   "metadata": {},
   "outputs": [],
   "source": [
    "Y_nb1_cv=[]\n",
    "Y_nb1_test=[]\n",
    "Y_nb1_train=[]\n",
    "for i in range(len(X_cv)):\n",
    "    Y_nb1_cv.append(predictor1(X_cv[i])[1])\n",
    "for i in range(len(X_test)):\n",
    "    Y_nb1_test.append(predictor1(X_test[i])[1])\n",
    "for i in range(len(Xtrain)):\n",
    "    Y_nb1_train.append(predictor1(Xtrain[i])[1])\n",
    "    "
   ]
  },
  {
   "cell_type": "code",
   "execution_count": 148,
   "metadata": {},
   "outputs": [],
   "source": [
    "accuracy_table_bayes.iloc[0,1:]=[accuracy(Y_nb1_train,Ytrain),accuracy(Y_nb1_cv,Y_cv),accuracy(Y_nb1_test,Y_test)]"
   ]
  },
  {
   "cell_type": "markdown",
   "metadata": {},
   "source": [
    "### Case 2: Covariance matrix is same for all the classes:"
   ]
  },
  {
   "cell_type": "code",
   "execution_count": 152,
   "metadata": {},
   "outputs": [],
   "source": [
    "cov_matrix={}\n",
    "for i in labels:\n",
    "    cov_matrix[i]=np.cov(seperated_data[i],rowvar=False)  "
   ]
  },
  {
   "cell_type": "code",
   "execution_count": 153,
   "metadata": {},
   "outputs": [
    {
     "data": {
      "text/plain": [
       "{1.0: array([[0.73113167, 0.02258917],\n",
       "        [0.02258917, 0.52324937]]),\n",
       " 3.0: array([[0.70514456, 0.02777544],\n",
       "        [0.02777544, 0.62167575]]),\n",
       " 0.0: array([[ 0.67590549, -0.00538623],\n",
       "        [-0.00538623,  0.78456062]]),\n",
       " 2.0: array([[0.76712629, 0.00877556],\n",
       "        [0.00877556, 0.67109767]])}"
      ]
     },
     "execution_count": 153,
     "metadata": {},
     "output_type": "execute_result"
    }
   ],
   "source": [
    "cov_matrix"
   ]
  },
  {
   "cell_type": "code",
   "execution_count": 154,
   "metadata": {},
   "outputs": [],
   "source": [
    "C=np.zeros((2,2))\n",
    "for i in labels:\n",
    "    C+=cov_matrix[i]\n",
    "C/=4"
   ]
  },
  {
   "cell_type": "code",
   "execution_count": 155,
   "metadata": {},
   "outputs": [
    {
     "data": {
      "text/plain": [
       "array([[0.719827  , 0.01343848],\n",
       "       [0.01343848, 0.65014585]])"
      ]
     },
     "execution_count": 155,
     "metadata": {},
     "output_type": "execute_result"
    }
   ],
   "source": [
    "C"
   ]
  },
  {
   "cell_type": "code",
   "execution_count": 156,
   "metadata": {},
   "outputs": [],
   "source": [
    "def predictor2(x):\n",
    "    pyi_x={}\n",
    "    pyi=priori(data1a)\n",
    "    means=mu_sigma(data1a)[0]\n",
    "    for i in labels:\n",
    "        pyi_x[i]=pyi[i]*gauss_val(x,C,means[i])\n",
    "    val=sum(pyi_x.values())\n",
    "    p=0\n",
    "    for i in labels:\n",
    "        pyi_x[i]/=val\n",
    "        if pyi_x[i]>p:\n",
    "            prediction=i\n",
    "            p=pyi_x[i]\n",
    "        \n",
    "    \n",
    "    return(pyi_x,prediction)"
   ]
  },
  {
   "cell_type": "code",
   "execution_count": 157,
   "metadata": {},
   "outputs": [],
   "source": [
    "Y_nb2_cv=[]\n",
    "Y_nb2_test=[]\n",
    "Y_nb2_train=[]\n",
    "for i in range(len(X_cv)):\n",
    "    Y_nb2_cv.append(predictor2(X_cv[i])[1])\n",
    "for i in range(len(X_test)):\n",
    "    Y_nb2_test.append(predictor2(X_test[i])[1])\n",
    "for i in range(len(Xtrain)):\n",
    "    Y_nb2_train.append(predictor2(Xtrain[i])[1])\n",
    "    "
   ]
  },
  {
   "cell_type": "code",
   "execution_count": 158,
   "metadata": {},
   "outputs": [],
   "source": [
    "accuracy_table_bayes.iloc[1,1:]=[accuracy(Y_nb2_train,Ytrain),accuracy(Y_nb2_cv,Y_cv),accuracy(Y_nb2_test,Y_test)]"
   ]
  },
  {
   "cell_type": "markdown",
   "metadata": {},
   "source": [
    "###  Case 3: Covariance matrix is different for all the classes: "
   ]
  },
  {
   "cell_type": "code",
   "execution_count": 123,
   "metadata": {},
   "outputs": [],
   "source": [
    "def predictor3(x):\n",
    "    pyi_x={}\n",
    "    pyi=priori(data1a)\n",
    "    means=mu_sigma(data1a)[0]\n",
    "    for i in labels:\n",
    "        pyi_x[i]=pyi[i]*gauss_val(x,cov_matrix[i],means[i])\n",
    "    val=sum(pyi_x.values())\n",
    "    p=0\n",
    "    for i in labels:\n",
    "        pyi_x[i]/=val\n",
    "        if pyi_x[i]>p:\n",
    "            prediction=i\n",
    "            p=pyi_x[i]\n",
    "        \n",
    "    \n",
    "    return(pyi_x,prediction)\n",
    "        "
   ]
  },
  {
   "cell_type": "code",
   "execution_count": 125,
   "metadata": {},
   "outputs": [
    {
     "data": {
      "text/plain": [
       "({1.0: 8.882464799023835e-52,\n",
       "  3.0: 3.2747719897152475e-82,\n",
       "  0.0: 1.0,\n",
       "  2.0: 6.867533640103447e-70},\n",
       " 0.0)"
      ]
     },
     "execution_count": 125,
     "metadata": {},
     "output_type": "execute_result"
    }
   ],
   "source": [
    "predictor3([5,5])"
   ]
  },
  {
   "cell_type": "code",
   "execution_count": 130,
   "metadata": {},
   "outputs": [],
   "source": [
    "Y_nb3_cv=[]\n",
    "Y_nb3_test=[]\n",
    "Y_nb3_train=[]\n",
    "for i in range(len(X_cv)):\n",
    "    Y_nb3_cv.append(predictor3(X_cv[i])[1])\n",
    "for i in range(len(X_test)):\n",
    "    Y_nb3_test.append(predictor3(X_test[i])[1])\n",
    "for i in range(len(Xtrain)):\n",
    "    Y_nb3_train.append(predictor3(Xtrain[i])[1])\n",
    "    "
   ]
  },
  {
   "cell_type": "code",
   "execution_count": 137,
   "metadata": {},
   "outputs": [],
   "source": [
    "accuracy_table_bayes.iloc[2,1:]=[accuracy(Y_nb3_train,Ytrain),accuracy(Y_nb3_cv,Y_cv),accuracy(Y_nb3_test,Y_test)]"
   ]
  },
  {
   "cell_type": "code",
   "execution_count": 159,
   "metadata": {},
   "outputs": [
    {
     "data": {
      "text/html": [
       "<div>\n",
       "<style scoped>\n",
       "    .dataframe tbody tr th:only-of-type {\n",
       "        vertical-align: middle;\n",
       "    }\n",
       "\n",
       "    .dataframe tbody tr th {\n",
       "        vertical-align: top;\n",
       "    }\n",
       "\n",
       "    .dataframe thead th {\n",
       "        text-align: right;\n",
       "    }\n",
       "</style>\n",
       "<table border=\"1\" class=\"dataframe\">\n",
       "  <thead>\n",
       "    <tr style=\"text-align: right;\">\n",
       "      <th></th>\n",
       "      <th>method</th>\n",
       "      <th>Train Accuracy</th>\n",
       "      <th>CV accuracy</th>\n",
       "      <th>Test Accuracy</th>\n",
       "    </tr>\n",
       "  </thead>\n",
       "  <tbody>\n",
       "    <tr>\n",
       "      <th>0</th>\n",
       "      <td>Ci=Cj=sigma**2*I</td>\n",
       "      <td>1.0</td>\n",
       "      <td>1.0</td>\n",
       "      <td>1.0</td>\n",
       "    </tr>\n",
       "    <tr>\n",
       "      <th>1</th>\n",
       "      <td>Ci=Cj=C</td>\n",
       "      <td>1.0</td>\n",
       "      <td>1.0</td>\n",
       "      <td>1.0</td>\n",
       "    </tr>\n",
       "    <tr>\n",
       "      <th>2</th>\n",
       "      <td>Ci!=Cj</td>\n",
       "      <td>1.0</td>\n",
       "      <td>1.0</td>\n",
       "      <td>1.0</td>\n",
       "    </tr>\n",
       "  </tbody>\n",
       "</table>\n",
       "</div>"
      ],
      "text/plain": [
       "             method  Train Accuracy  CV accuracy  Test Accuracy\n",
       "0  Ci=Cj=sigma**2*I             1.0          1.0            1.0\n",
       "1           Ci=Cj=C             1.0          1.0            1.0\n",
       "2            Ci!=Cj             1.0          1.0            1.0"
      ]
     },
     "execution_count": 159,
     "metadata": {},
     "output_type": "execute_result"
    }
   ],
   "source": [
    "accuracy_table_bayes"
   ]
  },
  {
   "cell_type": "code",
   "execution_count": null,
   "metadata": {},
   "outputs": [],
   "source": []
  }
 ],
 "metadata": {
  "kernelspec": {
   "display_name": "Python 3",
   "language": "python",
   "name": "python3"
  },
  "language_info": {
   "codemirror_mode": {
    "name": "ipython",
    "version": 3
   },
   "file_extension": ".py",
   "mimetype": "text/x-python",
   "name": "python",
   "nbconvert_exporter": "python",
   "pygments_lexer": "ipython3",
   "version": "3.7.6"
  }
 },
 "nbformat": 4,
 "nbformat_minor": 4
}
